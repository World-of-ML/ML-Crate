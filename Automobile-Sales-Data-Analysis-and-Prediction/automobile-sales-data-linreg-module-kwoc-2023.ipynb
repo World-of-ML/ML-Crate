{
 "cells": [
  {
   "cell_type": "code",
   "execution_count": 1,
   "id": "4517f9a3",
   "metadata": {
    "_cell_guid": "b1076dfc-b9ad-4769-8c92-a6c4dae69d19",
    "_uuid": "8f2839f25d086af736a60e9eeb907d3b93b6e0e5",
    "execution": {
     "iopub.execute_input": "2024-01-09T17:26:42.574986Z",
     "iopub.status.busy": "2024-01-09T17:26:42.574599Z",
     "iopub.status.idle": "2024-01-09T17:26:43.498403Z",
     "shell.execute_reply": "2024-01-09T17:26:43.497012Z"
    },
    "papermill": {
     "duration": 0.935468,
     "end_time": "2024-01-09T17:26:43.501404",
     "exception": false,
     "start_time": "2024-01-09T17:26:42.565936",
     "status": "completed"
    },
    "tags": []
   },
   "outputs": [
    {
     "name": "stdout",
     "output_type": "stream",
     "text": [
      "/kaggle/input/auto-sales-data/Auto Sales data.csv\n"
     ]
    }
   ],
   "source": [
    "# This Python 3 environment comes with many helpful analytics libraries installed\n",
    "# It is defined by the kaggle/python Docker image: https://github.com/kaggle/docker-python\n",
    "# For example, here's several helpful packages to load\n",
    "\n",
    "import numpy as np # linear algebra\n",
    "import pandas as pd # data processing, CSV file I/O (e.g. pd.read_csv)\n",
    "\n",
    "# Input data files are available in the read-only \"../input/\" directory\n",
    "# For example, running this (by clicking run or pressing Shift+Enter) will list all files under the input directory\n",
    "\n",
    "import os\n",
    "for dirname, _, filenames in os.walk('/kaggle/input'):\n",
    "    for filename in filenames:\n",
    "        print(os.path.join(dirname, filename))\n",
    "\n",
    "# You can write up to 20GB to the current directory (/kaggle/working/) that gets preserved as output when you create a version using \"Save & Run All\" \n",
    "# You can also write temporary files to /kaggle/temp/, but they won't be saved outside of the current session"
   ]
  },
  {
   "cell_type": "code",
   "execution_count": 2,
   "id": "32e7d760",
   "metadata": {
    "execution": {
     "iopub.execute_input": "2024-01-09T17:26:43.518587Z",
     "iopub.status.busy": "2024-01-09T17:26:43.518016Z",
     "iopub.status.idle": "2024-01-09T17:26:45.221018Z",
     "shell.execute_reply": "2024-01-09T17:26:45.219774Z"
    },
    "papermill": {
     "duration": 1.714863,
     "end_time": "2024-01-09T17:26:45.223654",
     "exception": false,
     "start_time": "2024-01-09T17:26:43.508791",
     "status": "completed"
    },
    "tags": []
   },
   "outputs": [
    {
     "data": {
      "text/html": [
       "<style>#sk-container-id-1 {color: black;background-color: white;}#sk-container-id-1 pre{padding: 0;}#sk-container-id-1 div.sk-toggleable {background-color: white;}#sk-container-id-1 label.sk-toggleable__label {cursor: pointer;display: block;width: 100%;margin-bottom: 0;padding: 0.3em;box-sizing: border-box;text-align: center;}#sk-container-id-1 label.sk-toggleable__label-arrow:before {content: \"▸\";float: left;margin-right: 0.25em;color: #696969;}#sk-container-id-1 label.sk-toggleable__label-arrow:hover:before {color: black;}#sk-container-id-1 div.sk-estimator:hover label.sk-toggleable__label-arrow:before {color: black;}#sk-container-id-1 div.sk-toggleable__content {max-height: 0;max-width: 0;overflow: hidden;text-align: left;background-color: #f0f8ff;}#sk-container-id-1 div.sk-toggleable__content pre {margin: 0.2em;color: black;border-radius: 0.25em;background-color: #f0f8ff;}#sk-container-id-1 input.sk-toggleable__control:checked~div.sk-toggleable__content {max-height: 200px;max-width: 100%;overflow: auto;}#sk-container-id-1 input.sk-toggleable__control:checked~label.sk-toggleable__label-arrow:before {content: \"▾\";}#sk-container-id-1 div.sk-estimator input.sk-toggleable__control:checked~label.sk-toggleable__label {background-color: #d4ebff;}#sk-container-id-1 div.sk-label input.sk-toggleable__control:checked~label.sk-toggleable__label {background-color: #d4ebff;}#sk-container-id-1 input.sk-hidden--visually {border: 0;clip: rect(1px 1px 1px 1px);clip: rect(1px, 1px, 1px, 1px);height: 1px;margin: -1px;overflow: hidden;padding: 0;position: absolute;width: 1px;}#sk-container-id-1 div.sk-estimator {font-family: monospace;background-color: #f0f8ff;border: 1px dotted black;border-radius: 0.25em;box-sizing: border-box;margin-bottom: 0.5em;}#sk-container-id-1 div.sk-estimator:hover {background-color: #d4ebff;}#sk-container-id-1 div.sk-parallel-item::after {content: \"\";width: 100%;border-bottom: 1px solid gray;flex-grow: 1;}#sk-container-id-1 div.sk-label:hover label.sk-toggleable__label {background-color: #d4ebff;}#sk-container-id-1 div.sk-serial::before {content: \"\";position: absolute;border-left: 1px solid gray;box-sizing: border-box;top: 0;bottom: 0;left: 50%;z-index: 0;}#sk-container-id-1 div.sk-serial {display: flex;flex-direction: column;align-items: center;background-color: white;padding-right: 0.2em;padding-left: 0.2em;position: relative;}#sk-container-id-1 div.sk-item {position: relative;z-index: 1;}#sk-container-id-1 div.sk-parallel {display: flex;align-items: stretch;justify-content: center;background-color: white;position: relative;}#sk-container-id-1 div.sk-item::before, #sk-container-id-1 div.sk-parallel-item::before {content: \"\";position: absolute;border-left: 1px solid gray;box-sizing: border-box;top: 0;bottom: 0;left: 50%;z-index: -1;}#sk-container-id-1 div.sk-parallel-item {display: flex;flex-direction: column;z-index: 1;position: relative;background-color: white;}#sk-container-id-1 div.sk-parallel-item:first-child::after {align-self: flex-end;width: 50%;}#sk-container-id-1 div.sk-parallel-item:last-child::after {align-self: flex-start;width: 50%;}#sk-container-id-1 div.sk-parallel-item:only-child::after {width: 0;}#sk-container-id-1 div.sk-dashed-wrapped {border: 1px dashed gray;margin: 0 0.4em 0.5em 0.4em;box-sizing: border-box;padding-bottom: 0.4em;background-color: white;}#sk-container-id-1 div.sk-label label {font-family: monospace;font-weight: bold;display: inline-block;line-height: 1.2em;}#sk-container-id-1 div.sk-label-container {text-align: center;}#sk-container-id-1 div.sk-container {/* jupyter's `normalize.less` sets `[hidden] { display: none; }` but bootstrap.min.css set `[hidden] { display: none !important; }` so we also need the `!important` here to be able to override the default hidden behavior on the sphinx rendered scikit-learn.org. See: https://github.com/scikit-learn/scikit-learn/issues/21755 */display: inline-block !important;position: relative;}#sk-container-id-1 div.sk-text-repr-fallback {display: none;}</style><div id=\"sk-container-id-1\" class=\"sk-top-container\"><div class=\"sk-text-repr-fallback\"><pre>LinearRegression()</pre><b>In a Jupyter environment, please rerun this cell to show the HTML representation or trust the notebook. <br />On GitHub, the HTML representation is unable to render, please try loading this page with nbviewer.org.</b></div><div class=\"sk-container\" hidden><div class=\"sk-item\"><div class=\"sk-estimator sk-toggleable\"><input class=\"sk-toggleable__control sk-hidden--visually\" id=\"sk-estimator-id-1\" type=\"checkbox\" checked><label for=\"sk-estimator-id-1\" class=\"sk-toggleable__label sk-toggleable__label-arrow\">LinearRegression</label><div class=\"sk-toggleable__content\"><pre>LinearRegression()</pre></div></div></div></div></div>"
      ],
      "text/plain": [
       "LinearRegression()"
      ]
     },
     "execution_count": 2,
     "metadata": {},
     "output_type": "execute_result"
    }
   ],
   "source": [
    "# Importing necessary libraries\n",
    "import pandas as pd\n",
    "from sklearn.preprocessing import LabelEncoder\n",
    "from sklearn.model_selection import train_test_split\n",
    "from sklearn.linear_model import LinearRegression\n",
    "from sklearn.metrics import mean_absolute_error, mean_squared_error, r2_score\n",
    "from sklearn.preprocessing import StandardScaler\n",
    "\n",
    "# Creating a Linear Regression model\n",
    "lm = LinearRegression()\n",
    "lm"
   ]
  },
  {
   "cell_type": "code",
   "execution_count": 3,
   "id": "777cf4d9",
   "metadata": {
    "execution": {
     "iopub.execute_input": "2024-01-09T17:26:45.241316Z",
     "iopub.status.busy": "2024-01-09T17:26:45.240870Z",
     "iopub.status.idle": "2024-01-09T17:26:45.289652Z",
     "shell.execute_reply": "2024-01-09T17:26:45.288417Z"
    },
    "papermill": {
     "duration": 0.06087,
     "end_time": "2024-01-09T17:26:45.292425",
     "exception": false,
     "start_time": "2024-01-09T17:26:45.231555",
     "status": "completed"
    },
    "tags": []
   },
   "outputs": [],
   "source": [
    "# Loading the dataset\n",
    "df = pd.read_csv('/kaggle/input/auto-sales-data/Auto Sales data.csv')"
   ]
  },
  {
   "cell_type": "code",
   "execution_count": 4,
   "id": "00a315e3",
   "metadata": {
    "execution": {
     "iopub.execute_input": "2024-01-09T17:26:45.308361Z",
     "iopub.status.busy": "2024-01-09T17:26:45.307890Z",
     "iopub.status.idle": "2024-01-09T17:26:45.347725Z",
     "shell.execute_reply": "2024-01-09T17:26:45.346388Z"
    },
    "papermill": {
     "duration": 0.051399,
     "end_time": "2024-01-09T17:26:45.350904",
     "exception": false,
     "start_time": "2024-01-09T17:26:45.299505",
     "status": "completed"
    },
    "tags": []
   },
   "outputs": [
    {
     "data": {
      "text/html": [
       "<div>\n",
       "<style scoped>\n",
       "    .dataframe tbody tr th:only-of-type {\n",
       "        vertical-align: middle;\n",
       "    }\n",
       "\n",
       "    .dataframe tbody tr th {\n",
       "        vertical-align: top;\n",
       "    }\n",
       "\n",
       "    .dataframe thead th {\n",
       "        text-align: right;\n",
       "    }\n",
       "</style>\n",
       "<table border=\"1\" class=\"dataframe\">\n",
       "  <thead>\n",
       "    <tr style=\"text-align: right;\">\n",
       "      <th></th>\n",
       "      <th>QUANTITYORDERED</th>\n",
       "      <th>PRICEEACH</th>\n",
       "      <th>ORDERLINENUMBER</th>\n",
       "      <th>SALES</th>\n",
       "      <th>DAYS_SINCE_LASTORDER</th>\n",
       "      <th>STATUS</th>\n",
       "      <th>PRODUCTLINE</th>\n",
       "      <th>MSRP</th>\n",
       "      <th>PRODUCTCODE</th>\n",
       "      <th>CUSTOMERNAME</th>\n",
       "      <th>CITY</th>\n",
       "      <th>COUNTRY</th>\n",
       "      <th>DEALSIZE</th>\n",
       "    </tr>\n",
       "  </thead>\n",
       "  <tbody>\n",
       "    <tr>\n",
       "      <th>0</th>\n",
       "      <td>30</td>\n",
       "      <td>95.70</td>\n",
       "      <td>2</td>\n",
       "      <td>2871.00</td>\n",
       "      <td>828</td>\n",
       "      <td>Shipped</td>\n",
       "      <td>Motorcycles</td>\n",
       "      <td>95</td>\n",
       "      <td>S10_1678</td>\n",
       "      <td>Land of Toys Inc.</td>\n",
       "      <td>NYC</td>\n",
       "      <td>USA</td>\n",
       "      <td>Small</td>\n",
       "    </tr>\n",
       "    <tr>\n",
       "      <th>1</th>\n",
       "      <td>34</td>\n",
       "      <td>81.35</td>\n",
       "      <td>5</td>\n",
       "      <td>2765.90</td>\n",
       "      <td>757</td>\n",
       "      <td>Shipped</td>\n",
       "      <td>Motorcycles</td>\n",
       "      <td>95</td>\n",
       "      <td>S10_1678</td>\n",
       "      <td>Reims Collectables</td>\n",
       "      <td>Reims</td>\n",
       "      <td>France</td>\n",
       "      <td>Small</td>\n",
       "    </tr>\n",
       "    <tr>\n",
       "      <th>2</th>\n",
       "      <td>41</td>\n",
       "      <td>94.74</td>\n",
       "      <td>2</td>\n",
       "      <td>3884.34</td>\n",
       "      <td>703</td>\n",
       "      <td>Shipped</td>\n",
       "      <td>Motorcycles</td>\n",
       "      <td>95</td>\n",
       "      <td>S10_1678</td>\n",
       "      <td>Lyon Souveniers</td>\n",
       "      <td>Paris</td>\n",
       "      <td>France</td>\n",
       "      <td>Medium</td>\n",
       "    </tr>\n",
       "    <tr>\n",
       "      <th>3</th>\n",
       "      <td>45</td>\n",
       "      <td>83.26</td>\n",
       "      <td>6</td>\n",
       "      <td>3746.70</td>\n",
       "      <td>649</td>\n",
       "      <td>Shipped</td>\n",
       "      <td>Motorcycles</td>\n",
       "      <td>95</td>\n",
       "      <td>S10_1678</td>\n",
       "      <td>Toys4GrownUps.com</td>\n",
       "      <td>Pasadena</td>\n",
       "      <td>USA</td>\n",
       "      <td>Medium</td>\n",
       "    </tr>\n",
       "    <tr>\n",
       "      <th>4</th>\n",
       "      <td>36</td>\n",
       "      <td>96.66</td>\n",
       "      <td>1</td>\n",
       "      <td>3479.76</td>\n",
       "      <td>586</td>\n",
       "      <td>Shipped</td>\n",
       "      <td>Motorcycles</td>\n",
       "      <td>95</td>\n",
       "      <td>S10_1678</td>\n",
       "      <td>Technics Stores Inc.</td>\n",
       "      <td>Burlingame</td>\n",
       "      <td>USA</td>\n",
       "      <td>Medium</td>\n",
       "    </tr>\n",
       "  </tbody>\n",
       "</table>\n",
       "</div>"
      ],
      "text/plain": [
       "   QUANTITYORDERED  PRICEEACH  ORDERLINENUMBER    SALES  DAYS_SINCE_LASTORDER  \\\n",
       "0               30      95.70                2  2871.00                   828   \n",
       "1               34      81.35                5  2765.90                   757   \n",
       "2               41      94.74                2  3884.34                   703   \n",
       "3               45      83.26                6  3746.70                   649   \n",
       "4               36      96.66                1  3479.76                   586   \n",
       "\n",
       "    STATUS  PRODUCTLINE  MSRP PRODUCTCODE          CUSTOMERNAME        CITY  \\\n",
       "0  Shipped  Motorcycles    95    S10_1678     Land of Toys Inc.         NYC   \n",
       "1  Shipped  Motorcycles    95    S10_1678    Reims Collectables       Reims   \n",
       "2  Shipped  Motorcycles    95    S10_1678       Lyon Souveniers       Paris   \n",
       "3  Shipped  Motorcycles    95    S10_1678     Toys4GrownUps.com    Pasadena   \n",
       "4  Shipped  Motorcycles    95    S10_1678  Technics Stores Inc.  Burlingame   \n",
       "\n",
       "  COUNTRY DEALSIZE  \n",
       "0     USA    Small  \n",
       "1  France    Small  \n",
       "2  France   Medium  \n",
       "3     USA   Medium  \n",
       "4     USA   Medium  "
      ]
     },
     "execution_count": 4,
     "metadata": {},
     "output_type": "execute_result"
    }
   ],
   "source": [
    "df = df.drop(['ORDERDATE','POSTALCODE','CONTACTLASTNAME', 'CONTACTFIRSTNAME','ORDERNUMBER','PHONE', 'ADDRESSLINE1','POSTALCODE'],axis=1)\n",
    "df.head()"
   ]
  },
  {
   "cell_type": "code",
   "execution_count": 5,
   "id": "426fa7df",
   "metadata": {
    "execution": {
     "iopub.execute_input": "2024-01-09T17:26:45.368354Z",
     "iopub.status.busy": "2024-01-09T17:26:45.367945Z",
     "iopub.status.idle": "2024-01-09T17:26:45.391054Z",
     "shell.execute_reply": "2024-01-09T17:26:45.389897Z"
    },
    "papermill": {
     "duration": 0.034766,
     "end_time": "2024-01-09T17:26:45.393681",
     "exception": false,
     "start_time": "2024-01-09T17:26:45.358915",
     "status": "completed"
    },
    "tags": []
   },
   "outputs": [
    {
     "data": {
      "text/plain": [
       "QUANTITYORDERED           58\n",
       "PRICEEACH               1843\n",
       "ORDERLINENUMBER           18\n",
       "SALES                   2690\n",
       "DAYS_SINCE_LASTORDER    1832\n",
       "STATUS                     6\n",
       "PRODUCTLINE                7\n",
       "MSRP                      80\n",
       "PRODUCTCODE              109\n",
       "CUSTOMERNAME              89\n",
       "CITY                      71\n",
       "COUNTRY                   19\n",
       "DEALSIZE                   3\n",
       "dtype: int64"
      ]
     },
     "execution_count": 5,
     "metadata": {},
     "output_type": "execute_result"
    }
   ],
   "source": [
    "df.nunique()"
   ]
  },
  {
   "cell_type": "code",
   "execution_count": 6,
   "id": "b8be14e8",
   "metadata": {
    "execution": {
     "iopub.execute_input": "2024-01-09T17:26:45.411390Z",
     "iopub.status.busy": "2024-01-09T17:26:45.410266Z",
     "iopub.status.idle": "2024-01-09T17:26:45.434766Z",
     "shell.execute_reply": "2024-01-09T17:26:45.432984Z"
    },
    "papermill": {
     "duration": 0.036159,
     "end_time": "2024-01-09T17:26:45.437536",
     "exception": false,
     "start_time": "2024-01-09T17:26:45.401377",
     "status": "completed"
    },
    "tags": []
   },
   "outputs": [
    {
     "name": "stdout",
     "output_type": "stream",
     "text": [
      "<class 'pandas.core.frame.DataFrame'>\n",
      "RangeIndex: 2747 entries, 0 to 2746\n",
      "Data columns (total 13 columns):\n",
      " #   Column                Non-Null Count  Dtype  \n",
      "---  ------                --------------  -----  \n",
      " 0   QUANTITYORDERED       2747 non-null   int64  \n",
      " 1   PRICEEACH             2747 non-null   float64\n",
      " 2   ORDERLINENUMBER       2747 non-null   int64  \n",
      " 3   SALES                 2747 non-null   float64\n",
      " 4   DAYS_SINCE_LASTORDER  2747 non-null   int64  \n",
      " 5   STATUS                2747 non-null   object \n",
      " 6   PRODUCTLINE           2747 non-null   object \n",
      " 7   MSRP                  2747 non-null   int64  \n",
      " 8   PRODUCTCODE           2747 non-null   object \n",
      " 9   CUSTOMERNAME          2747 non-null   object \n",
      " 10  CITY                  2747 non-null   object \n",
      " 11  COUNTRY               2747 non-null   object \n",
      " 12  DEALSIZE              2747 non-null   object \n",
      "dtypes: float64(2), int64(4), object(7)\n",
      "memory usage: 279.1+ KB\n"
     ]
    }
   ],
   "source": [
    "df.info()"
   ]
  },
  {
   "cell_type": "code",
   "execution_count": 7,
   "id": "85826a23",
   "metadata": {
    "execution": {
     "iopub.execute_input": "2024-01-09T17:26:45.454843Z",
     "iopub.status.busy": "2024-01-09T17:26:45.454392Z",
     "iopub.status.idle": "2024-01-09T17:26:45.485230Z",
     "shell.execute_reply": "2024-01-09T17:26:45.484051Z"
    },
    "papermill": {
     "duration": 0.042346,
     "end_time": "2024-01-09T17:26:45.487708",
     "exception": false,
     "start_time": "2024-01-09T17:26:45.445362",
     "status": "completed"
    },
    "tags": []
   },
   "outputs": [
    {
     "data": {
      "text/html": [
       "<div>\n",
       "<style scoped>\n",
       "    .dataframe tbody tr th:only-of-type {\n",
       "        vertical-align: middle;\n",
       "    }\n",
       "\n",
       "    .dataframe tbody tr th {\n",
       "        vertical-align: top;\n",
       "    }\n",
       "\n",
       "    .dataframe thead th {\n",
       "        text-align: right;\n",
       "    }\n",
       "</style>\n",
       "<table border=\"1\" class=\"dataframe\">\n",
       "  <thead>\n",
       "    <tr style=\"text-align: right;\">\n",
       "      <th></th>\n",
       "      <th>QUANTITYORDERED</th>\n",
       "      <th>PRICEEACH</th>\n",
       "      <th>ORDERLINENUMBER</th>\n",
       "      <th>SALES</th>\n",
       "      <th>DAYS_SINCE_LASTORDER</th>\n",
       "      <th>STATUS</th>\n",
       "      <th>PRODUCTLINE</th>\n",
       "      <th>MSRP</th>\n",
       "      <th>PRODUCTCODE</th>\n",
       "      <th>CUSTOMERNAME</th>\n",
       "      <th>CITY</th>\n",
       "      <th>COUNTRY</th>\n",
       "      <th>DEALSIZE</th>\n",
       "    </tr>\n",
       "  </thead>\n",
       "  <tbody>\n",
       "    <tr>\n",
       "      <th>0</th>\n",
       "      <td>30</td>\n",
       "      <td>95.70</td>\n",
       "      <td>2</td>\n",
       "      <td>2871.00</td>\n",
       "      <td>828</td>\n",
       "      <td>5</td>\n",
       "      <td>1</td>\n",
       "      <td>95</td>\n",
       "      <td>0</td>\n",
       "      <td>44</td>\n",
       "      <td>41</td>\n",
       "      <td>18</td>\n",
       "      <td>2</td>\n",
       "    </tr>\n",
       "    <tr>\n",
       "      <th>1</th>\n",
       "      <td>34</td>\n",
       "      <td>81.35</td>\n",
       "      <td>5</td>\n",
       "      <td>2765.90</td>\n",
       "      <td>757</td>\n",
       "      <td>5</td>\n",
       "      <td>1</td>\n",
       "      <td>95</td>\n",
       "      <td>0</td>\n",
       "      <td>63</td>\n",
       "      <td>55</td>\n",
       "      <td>6</td>\n",
       "      <td>2</td>\n",
       "    </tr>\n",
       "    <tr>\n",
       "      <th>2</th>\n",
       "      <td>41</td>\n",
       "      <td>94.74</td>\n",
       "      <td>2</td>\n",
       "      <td>3884.34</td>\n",
       "      <td>703</td>\n",
       "      <td>5</td>\n",
       "      <td>1</td>\n",
       "      <td>95</td>\n",
       "      <td>0</td>\n",
       "      <td>45</td>\n",
       "      <td>51</td>\n",
       "      <td>6</td>\n",
       "      <td>1</td>\n",
       "    </tr>\n",
       "    <tr>\n",
       "      <th>3</th>\n",
       "      <td>45</td>\n",
       "      <td>83.26</td>\n",
       "      <td>6</td>\n",
       "      <td>3746.70</td>\n",
       "      <td>649</td>\n",
       "      <td>5</td>\n",
       "      <td>1</td>\n",
       "      <td>95</td>\n",
       "      <td>0</td>\n",
       "      <td>82</td>\n",
       "      <td>52</td>\n",
       "      <td>18</td>\n",
       "      <td>1</td>\n",
       "    </tr>\n",
       "    <tr>\n",
       "      <th>4</th>\n",
       "      <td>36</td>\n",
       "      <td>96.66</td>\n",
       "      <td>1</td>\n",
       "      <td>3479.76</td>\n",
       "      <td>586</td>\n",
       "      <td>5</td>\n",
       "      <td>1</td>\n",
       "      <td>95</td>\n",
       "      <td>0</td>\n",
       "      <td>76</td>\n",
       "      <td>12</td>\n",
       "      <td>18</td>\n",
       "      <td>1</td>\n",
       "    </tr>\n",
       "  </tbody>\n",
       "</table>\n",
       "</div>"
      ],
      "text/plain": [
       "   QUANTITYORDERED  PRICEEACH  ORDERLINENUMBER    SALES  DAYS_SINCE_LASTORDER  \\\n",
       "0               30      95.70                2  2871.00                   828   \n",
       "1               34      81.35                5  2765.90                   757   \n",
       "2               41      94.74                2  3884.34                   703   \n",
       "3               45      83.26                6  3746.70                   649   \n",
       "4               36      96.66                1  3479.76                   586   \n",
       "\n",
       "   STATUS  PRODUCTLINE  MSRP  PRODUCTCODE  CUSTOMERNAME  CITY  COUNTRY  \\\n",
       "0       5            1    95            0            44    41       18   \n",
       "1       5            1    95            0            63    55        6   \n",
       "2       5            1    95            0            45    51        6   \n",
       "3       5            1    95            0            82    52       18   \n",
       "4       5            1    95            0            76    12       18   \n",
       "\n",
       "   DEALSIZE  \n",
       "0         2  \n",
       "1         2  \n",
       "2         1  \n",
       "3         1  \n",
       "4         1  "
      ]
     },
     "execution_count": 7,
     "metadata": {},
     "output_type": "execute_result"
    }
   ],
   "source": [
    "label_encoder = LabelEncoder()\n",
    "\n",
    "df['STATUS'] = label_encoder.fit_transform(df['STATUS'])\n",
    "df['PRODUCTLINE'] = label_encoder.fit_transform(df['PRODUCTLINE'])\n",
    "df['PRODUCTCODE'] = label_encoder.fit_transform(df['PRODUCTCODE'])\n",
    "df['CUSTOMERNAME'] = label_encoder.fit_transform(df['CUSTOMERNAME'])\n",
    "df['CITY'] = label_encoder.fit_transform(df['CITY'])\n",
    "df['COUNTRY'] = label_encoder.fit_transform(df['COUNTRY'])\n",
    "df['DEALSIZE'] = label_encoder.fit_transform(df['DEALSIZE'])\n",
    "\n",
    "df.head()"
   ]
  },
  {
   "cell_type": "code",
   "execution_count": 8,
   "id": "0bd838d6",
   "metadata": {
    "execution": {
     "iopub.execute_input": "2024-01-09T17:26:45.506886Z",
     "iopub.status.busy": "2024-01-09T17:26:45.505681Z",
     "iopub.status.idle": "2024-01-09T17:26:45.513900Z",
     "shell.execute_reply": "2024-01-09T17:26:45.512667Z"
    },
    "papermill": {
     "duration": 0.020537,
     "end_time": "2024-01-09T17:26:45.516472",
     "exception": false,
     "start_time": "2024-01-09T17:26:45.495935",
     "status": "completed"
    },
    "tags": []
   },
   "outputs": [],
   "source": [
    "# 'SALES' is the target variable\n",
    "X = df.drop('SALES', axis=1)  # Features\n",
    "y = df['SALES']  # Target variable"
   ]
  },
  {
   "cell_type": "code",
   "execution_count": 9,
   "id": "1a686d55",
   "metadata": {
    "execution": {
     "iopub.execute_input": "2024-01-09T17:26:45.534853Z",
     "iopub.status.busy": "2024-01-09T17:26:45.534374Z",
     "iopub.status.idle": "2024-01-09T17:26:45.551551Z",
     "shell.execute_reply": "2024-01-09T17:26:45.550278Z"
    },
    "papermill": {
     "duration": 0.029468,
     "end_time": "2024-01-09T17:26:45.554254",
     "exception": false,
     "start_time": "2024-01-09T17:26:45.524786",
     "status": "completed"
    },
    "tags": []
   },
   "outputs": [
    {
     "data": {
      "text/html": [
       "<div>\n",
       "<style scoped>\n",
       "    .dataframe tbody tr th:only-of-type {\n",
       "        vertical-align: middle;\n",
       "    }\n",
       "\n",
       "    .dataframe tbody tr th {\n",
       "        vertical-align: top;\n",
       "    }\n",
       "\n",
       "    .dataframe thead th {\n",
       "        text-align: right;\n",
       "    }\n",
       "</style>\n",
       "<table border=\"1\" class=\"dataframe\">\n",
       "  <thead>\n",
       "    <tr style=\"text-align: right;\">\n",
       "      <th></th>\n",
       "      <th>QUANTITYORDERED</th>\n",
       "      <th>PRICEEACH</th>\n",
       "      <th>ORDERLINENUMBER</th>\n",
       "      <th>DAYS_SINCE_LASTORDER</th>\n",
       "      <th>STATUS</th>\n",
       "      <th>PRODUCTLINE</th>\n",
       "      <th>MSRP</th>\n",
       "      <th>PRODUCTCODE</th>\n",
       "      <th>CUSTOMERNAME</th>\n",
       "      <th>CITY</th>\n",
       "      <th>COUNTRY</th>\n",
       "      <th>DEALSIZE</th>\n",
       "    </tr>\n",
       "  </thead>\n",
       "  <tbody>\n",
       "    <tr>\n",
       "      <th>0</th>\n",
       "      <td>30</td>\n",
       "      <td>95.70</td>\n",
       "      <td>2</td>\n",
       "      <td>828</td>\n",
       "      <td>5</td>\n",
       "      <td>1</td>\n",
       "      <td>95</td>\n",
       "      <td>0</td>\n",
       "      <td>44</td>\n",
       "      <td>41</td>\n",
       "      <td>18</td>\n",
       "      <td>2</td>\n",
       "    </tr>\n",
       "    <tr>\n",
       "      <th>1</th>\n",
       "      <td>34</td>\n",
       "      <td>81.35</td>\n",
       "      <td>5</td>\n",
       "      <td>757</td>\n",
       "      <td>5</td>\n",
       "      <td>1</td>\n",
       "      <td>95</td>\n",
       "      <td>0</td>\n",
       "      <td>63</td>\n",
       "      <td>55</td>\n",
       "      <td>6</td>\n",
       "      <td>2</td>\n",
       "    </tr>\n",
       "    <tr>\n",
       "      <th>2</th>\n",
       "      <td>41</td>\n",
       "      <td>94.74</td>\n",
       "      <td>2</td>\n",
       "      <td>703</td>\n",
       "      <td>5</td>\n",
       "      <td>1</td>\n",
       "      <td>95</td>\n",
       "      <td>0</td>\n",
       "      <td>45</td>\n",
       "      <td>51</td>\n",
       "      <td>6</td>\n",
       "      <td>1</td>\n",
       "    </tr>\n",
       "    <tr>\n",
       "      <th>3</th>\n",
       "      <td>45</td>\n",
       "      <td>83.26</td>\n",
       "      <td>6</td>\n",
       "      <td>649</td>\n",
       "      <td>5</td>\n",
       "      <td>1</td>\n",
       "      <td>95</td>\n",
       "      <td>0</td>\n",
       "      <td>82</td>\n",
       "      <td>52</td>\n",
       "      <td>18</td>\n",
       "      <td>1</td>\n",
       "    </tr>\n",
       "    <tr>\n",
       "      <th>4</th>\n",
       "      <td>36</td>\n",
       "      <td>96.66</td>\n",
       "      <td>1</td>\n",
       "      <td>586</td>\n",
       "      <td>5</td>\n",
       "      <td>1</td>\n",
       "      <td>95</td>\n",
       "      <td>0</td>\n",
       "      <td>76</td>\n",
       "      <td>12</td>\n",
       "      <td>18</td>\n",
       "      <td>1</td>\n",
       "    </tr>\n",
       "  </tbody>\n",
       "</table>\n",
       "</div>"
      ],
      "text/plain": [
       "   QUANTITYORDERED  PRICEEACH  ORDERLINENUMBER  DAYS_SINCE_LASTORDER  STATUS  \\\n",
       "0               30      95.70                2                   828       5   \n",
       "1               34      81.35                5                   757       5   \n",
       "2               41      94.74                2                   703       5   \n",
       "3               45      83.26                6                   649       5   \n",
       "4               36      96.66                1                   586       5   \n",
       "\n",
       "   PRODUCTLINE  MSRP  PRODUCTCODE  CUSTOMERNAME  CITY  COUNTRY  DEALSIZE  \n",
       "0            1    95            0            44    41       18         2  \n",
       "1            1    95            0            63    55        6         2  \n",
       "2            1    95            0            45    51        6         1  \n",
       "3            1    95            0            82    52       18         1  \n",
       "4            1    95            0            76    12       18         1  "
      ]
     },
     "execution_count": 9,
     "metadata": {},
     "output_type": "execute_result"
    }
   ],
   "source": [
    "X.head()"
   ]
  },
  {
   "cell_type": "code",
   "execution_count": 10,
   "id": "bdfed57c",
   "metadata": {
    "execution": {
     "iopub.execute_input": "2024-01-09T17:26:45.574743Z",
     "iopub.status.busy": "2024-01-09T17:26:45.574279Z",
     "iopub.status.idle": "2024-01-09T17:26:45.585240Z",
     "shell.execute_reply": "2024-01-09T17:26:45.584071Z"
    },
    "papermill": {
     "duration": 0.024912,
     "end_time": "2024-01-09T17:26:45.588154",
     "exception": false,
     "start_time": "2024-01-09T17:26:45.563242",
     "status": "completed"
    },
    "tags": []
   },
   "outputs": [
    {
     "data": {
      "text/plain": [
       "QUANTITYORDERED           58\n",
       "PRICEEACH               1843\n",
       "ORDERLINENUMBER           18\n",
       "DAYS_SINCE_LASTORDER    1832\n",
       "STATUS                     6\n",
       "PRODUCTLINE                7\n",
       "MSRP                      80\n",
       "PRODUCTCODE              109\n",
       "CUSTOMERNAME              89\n",
       "CITY                      71\n",
       "COUNTRY                   19\n",
       "DEALSIZE                   3\n",
       "dtype: int64"
      ]
     },
     "execution_count": 10,
     "metadata": {},
     "output_type": "execute_result"
    }
   ],
   "source": [
    "X.nunique()"
   ]
  },
  {
   "cell_type": "code",
   "execution_count": 11,
   "id": "ce921b56",
   "metadata": {
    "execution": {
     "iopub.execute_input": "2024-01-09T17:26:45.607687Z",
     "iopub.status.busy": "2024-01-09T17:26:45.607246Z",
     "iopub.status.idle": "2024-01-09T17:26:45.622334Z",
     "shell.execute_reply": "2024-01-09T17:26:45.621047Z"
    },
    "papermill": {
     "duration": 0.02818,
     "end_time": "2024-01-09T17:26:45.625058",
     "exception": false,
     "start_time": "2024-01-09T17:26:45.596878",
     "status": "completed"
    },
    "tags": []
   },
   "outputs": [
    {
     "name": "stdout",
     "output_type": "stream",
     "text": [
      "<class 'pandas.core.frame.DataFrame'>\n",
      "RangeIndex: 2747 entries, 0 to 2746\n",
      "Data columns (total 12 columns):\n",
      " #   Column                Non-Null Count  Dtype  \n",
      "---  ------                --------------  -----  \n",
      " 0   QUANTITYORDERED       2747 non-null   int64  \n",
      " 1   PRICEEACH             2747 non-null   float64\n",
      " 2   ORDERLINENUMBER       2747 non-null   int64  \n",
      " 3   DAYS_SINCE_LASTORDER  2747 non-null   int64  \n",
      " 4   STATUS                2747 non-null   int64  \n",
      " 5   PRODUCTLINE           2747 non-null   int64  \n",
      " 6   MSRP                  2747 non-null   int64  \n",
      " 7   PRODUCTCODE           2747 non-null   int64  \n",
      " 8   CUSTOMERNAME          2747 non-null   int64  \n",
      " 9   CITY                  2747 non-null   int64  \n",
      " 10  COUNTRY               2747 non-null   int64  \n",
      " 11  DEALSIZE              2747 non-null   int64  \n",
      "dtypes: float64(1), int64(11)\n",
      "memory usage: 257.7 KB\n"
     ]
    }
   ],
   "source": [
    "X.info()"
   ]
  },
  {
   "cell_type": "code",
   "execution_count": 12,
   "id": "cdace79d",
   "metadata": {
    "execution": {
     "iopub.execute_input": "2024-01-09T17:26:45.644430Z",
     "iopub.status.busy": "2024-01-09T17:26:45.643985Z",
     "iopub.status.idle": "2024-01-09T17:26:45.653663Z",
     "shell.execute_reply": "2024-01-09T17:26:45.652750Z"
    },
    "papermill": {
     "duration": 0.022135,
     "end_time": "2024-01-09T17:26:45.656021",
     "exception": false,
     "start_time": "2024-01-09T17:26:45.633886",
     "status": "completed"
    },
    "tags": []
   },
   "outputs": [],
   "source": [
    "# Splitting the data into training and testing sets\n",
    "X_train, X_test, y_train, y_test = train_test_split(X, y, test_size=0.2, random_state=42)"
   ]
  },
  {
   "cell_type": "code",
   "execution_count": 13,
   "id": "404bcd44",
   "metadata": {
    "execution": {
     "iopub.execute_input": "2024-01-09T17:26:45.677225Z",
     "iopub.status.busy": "2024-01-09T17:26:45.676106Z",
     "iopub.status.idle": "2024-01-09T17:26:45.693094Z",
     "shell.execute_reply": "2024-01-09T17:26:45.691941Z"
    },
    "papermill": {
     "duration": 0.029784,
     "end_time": "2024-01-09T17:26:45.695567",
     "exception": false,
     "start_time": "2024-01-09T17:26:45.665783",
     "status": "completed"
    },
    "tags": []
   },
   "outputs": [
    {
     "data": {
      "text/html": [
       "<div>\n",
       "<style scoped>\n",
       "    .dataframe tbody tr th:only-of-type {\n",
       "        vertical-align: middle;\n",
       "    }\n",
       "\n",
       "    .dataframe tbody tr th {\n",
       "        vertical-align: top;\n",
       "    }\n",
       "\n",
       "    .dataframe thead th {\n",
       "        text-align: right;\n",
       "    }\n",
       "</style>\n",
       "<table border=\"1\" class=\"dataframe\">\n",
       "  <thead>\n",
       "    <tr style=\"text-align: right;\">\n",
       "      <th></th>\n",
       "      <th>QUANTITYORDERED</th>\n",
       "      <th>PRICEEACH</th>\n",
       "      <th>ORDERLINENUMBER</th>\n",
       "      <th>DAYS_SINCE_LASTORDER</th>\n",
       "      <th>STATUS</th>\n",
       "      <th>PRODUCTLINE</th>\n",
       "      <th>MSRP</th>\n",
       "      <th>PRODUCTCODE</th>\n",
       "      <th>CUSTOMERNAME</th>\n",
       "      <th>CITY</th>\n",
       "      <th>COUNTRY</th>\n",
       "      <th>DEALSIZE</th>\n",
       "    </tr>\n",
       "  </thead>\n",
       "  <tbody>\n",
       "    <tr>\n",
       "      <th>1559</th>\n",
       "      <td>23</td>\n",
       "      <td>145.01</td>\n",
       "      <td>10</td>\n",
       "      <td>1585</td>\n",
       "      <td>3</td>\n",
       "      <td>3</td>\n",
       "      <td>122</td>\n",
       "      <td>61</td>\n",
       "      <td>36</td>\n",
       "      <td>6</td>\n",
       "      <td>18</td>\n",
       "      <td>1</td>\n",
       "    </tr>\n",
       "    <tr>\n",
       "      <th>790</th>\n",
       "      <td>38</td>\n",
       "      <td>138.58</td>\n",
       "      <td>12</td>\n",
       "      <td>989</td>\n",
       "      <td>5</td>\n",
       "      <td>1</td>\n",
       "      <td>60</td>\n",
       "      <td>31</td>\n",
       "      <td>44</td>\n",
       "      <td>41</td>\n",
       "      <td>18</td>\n",
       "      <td>1</td>\n",
       "    </tr>\n",
       "    <tr>\n",
       "      <th>1770</th>\n",
       "      <td>40</td>\n",
       "      <td>94.71</td>\n",
       "      <td>2</td>\n",
       "      <td>2200</td>\n",
       "      <td>5</td>\n",
       "      <td>6</td>\n",
       "      <td>88</td>\n",
       "      <td>70</td>\n",
       "      <td>77</td>\n",
       "      <td>46</td>\n",
       "      <td>18</td>\n",
       "      <td>1</td>\n",
       "    </tr>\n",
       "    <tr>\n",
       "      <th>480</th>\n",
       "      <td>49</td>\n",
       "      <td>43.13</td>\n",
       "      <td>6</td>\n",
       "      <td>1166</td>\n",
       "      <td>5</td>\n",
       "      <td>6</td>\n",
       "      <td>53</td>\n",
       "      <td>19</td>\n",
       "      <td>72</td>\n",
       "      <td>15</td>\n",
       "      <td>0</td>\n",
       "      <td>2</td>\n",
       "    </tr>\n",
       "    <tr>\n",
       "      <th>2033</th>\n",
       "      <td>33</td>\n",
       "      <td>84.77</td>\n",
       "      <td>15</td>\n",
       "      <td>2679</td>\n",
       "      <td>5</td>\n",
       "      <td>2</td>\n",
       "      <td>72</td>\n",
       "      <td>81</td>\n",
       "      <td>82</td>\n",
       "      <td>52</td>\n",
       "      <td>18</td>\n",
       "      <td>2</td>\n",
       "    </tr>\n",
       "  </tbody>\n",
       "</table>\n",
       "</div>"
      ],
      "text/plain": [
       "      QUANTITYORDERED  PRICEEACH  ORDERLINENUMBER  DAYS_SINCE_LASTORDER  \\\n",
       "1559               23     145.01               10                  1585   \n",
       "790                38     138.58               12                   989   \n",
       "1770               40      94.71                2                  2200   \n",
       "480                49      43.13                6                  1166   \n",
       "2033               33      84.77               15                  2679   \n",
       "\n",
       "      STATUS  PRODUCTLINE  MSRP  PRODUCTCODE  CUSTOMERNAME  CITY  COUNTRY  \\\n",
       "1559       3            3   122           61            36     6       18   \n",
       "790        5            1    60           31            44    41       18   \n",
       "1770       5            6    88           70            77    46       18   \n",
       "480        5            6    53           19            72    15        0   \n",
       "2033       5            2    72           81            82    52       18   \n",
       "\n",
       "      DEALSIZE  \n",
       "1559         1  \n",
       "790          1  \n",
       "1770         1  \n",
       "480          2  \n",
       "2033         2  "
      ]
     },
     "execution_count": 13,
     "metadata": {},
     "output_type": "execute_result"
    }
   ],
   "source": [
    "X_train.head()"
   ]
  },
  {
   "cell_type": "code",
   "execution_count": 14,
   "id": "dbaf480c",
   "metadata": {
    "execution": {
     "iopub.execute_input": "2024-01-09T17:26:45.715987Z",
     "iopub.status.busy": "2024-01-09T17:26:45.715333Z",
     "iopub.status.idle": "2024-01-09T17:26:45.729335Z",
     "shell.execute_reply": "2024-01-09T17:26:45.728199Z"
    },
    "papermill": {
     "duration": 0.02748,
     "end_time": "2024-01-09T17:26:45.732170",
     "exception": false,
     "start_time": "2024-01-09T17:26:45.704690",
     "status": "completed"
    },
    "tags": []
   },
   "outputs": [],
   "source": [
    "# Standardizing of features\n",
    "scaler = StandardScaler()\n",
    "X_train_scaled = scaler.fit_transform(X_train)\n",
    "X_test_scaled = scaler.transform(X_test)"
   ]
  },
  {
   "cell_type": "code",
   "execution_count": 15,
   "id": "adcc0036",
   "metadata": {
    "execution": {
     "iopub.execute_input": "2024-01-09T17:26:45.752060Z",
     "iopub.status.busy": "2024-01-09T17:26:45.751594Z",
     "iopub.status.idle": "2024-01-09T17:26:45.790895Z",
     "shell.execute_reply": "2024-01-09T17:26:45.788941Z"
    },
    "papermill": {
     "duration": 0.055126,
     "end_time": "2024-01-09T17:26:45.796310",
     "exception": false,
     "start_time": "2024-01-09T17:26:45.741184",
     "status": "completed"
    },
    "tags": []
   },
   "outputs": [
    {
     "data": {
      "text/html": [
       "<style>#sk-container-id-2 {color: black;background-color: white;}#sk-container-id-2 pre{padding: 0;}#sk-container-id-2 div.sk-toggleable {background-color: white;}#sk-container-id-2 label.sk-toggleable__label {cursor: pointer;display: block;width: 100%;margin-bottom: 0;padding: 0.3em;box-sizing: border-box;text-align: center;}#sk-container-id-2 label.sk-toggleable__label-arrow:before {content: \"▸\";float: left;margin-right: 0.25em;color: #696969;}#sk-container-id-2 label.sk-toggleable__label-arrow:hover:before {color: black;}#sk-container-id-2 div.sk-estimator:hover label.sk-toggleable__label-arrow:before {color: black;}#sk-container-id-2 div.sk-toggleable__content {max-height: 0;max-width: 0;overflow: hidden;text-align: left;background-color: #f0f8ff;}#sk-container-id-2 div.sk-toggleable__content pre {margin: 0.2em;color: black;border-radius: 0.25em;background-color: #f0f8ff;}#sk-container-id-2 input.sk-toggleable__control:checked~div.sk-toggleable__content {max-height: 200px;max-width: 100%;overflow: auto;}#sk-container-id-2 input.sk-toggleable__control:checked~label.sk-toggleable__label-arrow:before {content: \"▾\";}#sk-container-id-2 div.sk-estimator input.sk-toggleable__control:checked~label.sk-toggleable__label {background-color: #d4ebff;}#sk-container-id-2 div.sk-label input.sk-toggleable__control:checked~label.sk-toggleable__label {background-color: #d4ebff;}#sk-container-id-2 input.sk-hidden--visually {border: 0;clip: rect(1px 1px 1px 1px);clip: rect(1px, 1px, 1px, 1px);height: 1px;margin: -1px;overflow: hidden;padding: 0;position: absolute;width: 1px;}#sk-container-id-2 div.sk-estimator {font-family: monospace;background-color: #f0f8ff;border: 1px dotted black;border-radius: 0.25em;box-sizing: border-box;margin-bottom: 0.5em;}#sk-container-id-2 div.sk-estimator:hover {background-color: #d4ebff;}#sk-container-id-2 div.sk-parallel-item::after {content: \"\";width: 100%;border-bottom: 1px solid gray;flex-grow: 1;}#sk-container-id-2 div.sk-label:hover label.sk-toggleable__label {background-color: #d4ebff;}#sk-container-id-2 div.sk-serial::before {content: \"\";position: absolute;border-left: 1px solid gray;box-sizing: border-box;top: 0;bottom: 0;left: 50%;z-index: 0;}#sk-container-id-2 div.sk-serial {display: flex;flex-direction: column;align-items: center;background-color: white;padding-right: 0.2em;padding-left: 0.2em;position: relative;}#sk-container-id-2 div.sk-item {position: relative;z-index: 1;}#sk-container-id-2 div.sk-parallel {display: flex;align-items: stretch;justify-content: center;background-color: white;position: relative;}#sk-container-id-2 div.sk-item::before, #sk-container-id-2 div.sk-parallel-item::before {content: \"\";position: absolute;border-left: 1px solid gray;box-sizing: border-box;top: 0;bottom: 0;left: 50%;z-index: -1;}#sk-container-id-2 div.sk-parallel-item {display: flex;flex-direction: column;z-index: 1;position: relative;background-color: white;}#sk-container-id-2 div.sk-parallel-item:first-child::after {align-self: flex-end;width: 50%;}#sk-container-id-2 div.sk-parallel-item:last-child::after {align-self: flex-start;width: 50%;}#sk-container-id-2 div.sk-parallel-item:only-child::after {width: 0;}#sk-container-id-2 div.sk-dashed-wrapped {border: 1px dashed gray;margin: 0 0.4em 0.5em 0.4em;box-sizing: border-box;padding-bottom: 0.4em;background-color: white;}#sk-container-id-2 div.sk-label label {font-family: monospace;font-weight: bold;display: inline-block;line-height: 1.2em;}#sk-container-id-2 div.sk-label-container {text-align: center;}#sk-container-id-2 div.sk-container {/* jupyter's `normalize.less` sets `[hidden] { display: none; }` but bootstrap.min.css set `[hidden] { display: none !important; }` so we also need the `!important` here to be able to override the default hidden behavior on the sphinx rendered scikit-learn.org. See: https://github.com/scikit-learn/scikit-learn/issues/21755 */display: inline-block !important;position: relative;}#sk-container-id-2 div.sk-text-repr-fallback {display: none;}</style><div id=\"sk-container-id-2\" class=\"sk-top-container\"><div class=\"sk-text-repr-fallback\"><pre>LinearRegression()</pre><b>In a Jupyter environment, please rerun this cell to show the HTML representation or trust the notebook. <br />On GitHub, the HTML representation is unable to render, please try loading this page with nbviewer.org.</b></div><div class=\"sk-container\" hidden><div class=\"sk-item\"><div class=\"sk-estimator sk-toggleable\"><input class=\"sk-toggleable__control sk-hidden--visually\" id=\"sk-estimator-id-2\" type=\"checkbox\" checked><label for=\"sk-estimator-id-2\" class=\"sk-toggleable__label sk-toggleable__label-arrow\">LinearRegression</label><div class=\"sk-toggleable__content\"><pre>LinearRegression()</pre></div></div></div></div></div>"
      ],
      "text/plain": [
       "LinearRegression()"
      ]
     },
     "execution_count": 15,
     "metadata": {},
     "output_type": "execute_result"
    }
   ],
   "source": [
    "# Training the model\n",
    "lm.fit(X_train_scaled, y_train)"
   ]
  },
  {
   "cell_type": "code",
   "execution_count": 16,
   "id": "d969670a",
   "metadata": {
    "execution": {
     "iopub.execute_input": "2024-01-09T17:26:45.840533Z",
     "iopub.status.busy": "2024-01-09T17:26:45.839111Z",
     "iopub.status.idle": "2024-01-09T17:26:45.866798Z",
     "shell.execute_reply": "2024-01-09T17:26:45.864777Z"
    },
    "papermill": {
     "duration": 0.056455,
     "end_time": "2024-01-09T17:26:45.872541",
     "exception": false,
     "start_time": "2024-01-09T17:26:45.816086",
     "status": "completed"
    },
    "tags": []
   },
   "outputs": [
    {
     "data": {
      "text/plain": [
       "array([2357.29753251, 1830.94617495, 2581.7778716 , 2308.61514123,\n",
       "       1914.98977822, 4354.72041117, 1956.78838805, 6885.18895894,\n",
       "       3391.06396618, 5983.08814744, 3745.2933092 , 2342.50596464,\n",
       "        773.64986087, 3317.04413668, 3378.47245844, 5319.90416449,\n",
       "       6330.8309736 , 2852.09245201, 6255.86347742, 2703.14687406,\n",
       "       6264.29452533, 2995.18328327, 2262.7914225 , 2730.59425498,\n",
       "       1748.17046659, 1547.759916  , 3354.70658871, 6123.74114427,\n",
       "       2771.43468756, 4755.27899005, 3434.22118837, 6196.54278212,\n",
       "       5340.49054115, 4513.2903271 , 4638.14307859, 3788.92760543,\n",
       "       5041.39972907, 5532.00071266, 2189.40654653, 1539.95825969,\n",
       "       1509.3001944 , 1146.93123616, 2689.74673305, 4428.71512122,\n",
       "       2678.25965476, 2319.07209961, 4403.75868411, 1814.02433528,\n",
       "       6893.41871285, 3440.38232024, 3407.85205571, 1638.06660477,\n",
       "       2087.69188877,  986.94937966, 5636.04129558, 2658.90468031,\n",
       "       6372.42222058, 5968.30174798, 1301.27268247, 1620.21433749,\n",
       "       3944.96936208, 6307.1696748 , 3861.98850428, 4312.97788762,\n",
       "       5888.46343968, 6758.16522557, 1171.62333739, 2988.67135147,\n",
       "       4088.01042184, 3363.91607837, 1275.91698438, 5837.35297546,\n",
       "       1960.50059847, 2440.42164232, 6286.99610991, 6164.69336717,\n",
       "       3714.49786584, 4456.12664706, 1685.15772157, 6092.44532914,\n",
       "       1851.32752631, 2927.50893118, 1665.97426334, 4874.65380919,\n",
       "       3123.77908658, 2586.88228677, 3785.62715925, 2124.4957543 ,\n",
       "       3281.57393477, 5366.49285867, 3775.05090912, 3020.64995147,\n",
       "       5397.86395088, 1972.6559884 , 5650.14018352, 3572.34677262,\n",
       "       2144.04913978, 1830.87982967, 5168.25413653, 4580.49357791,\n",
       "       7353.21886473, 4621.05292617, 4868.49753034, 2704.59433906,\n",
       "       2352.65009033, 3932.57121756, 1320.37877323, 4139.27137157,\n",
       "       2664.14747529, 7870.00963967, 2524.19997059, 2342.05590888,\n",
       "       6316.8558683 , 5582.45393101, 4375.71341693, 4695.0490398 ,\n",
       "       4911.89955212, 4070.65000965,  152.70372445,  514.78394884,\n",
       "         67.6449271 , 3569.25644725, 3018.89107403, 4586.44694855,\n",
       "       3638.44192757,  491.73240055,  529.2708278 , 3820.05401471,\n",
       "        307.65446845, 2820.9045588 , 2977.34437196, 1373.53021402,\n",
       "       3997.83783204, 4172.27806262, 3592.2622863 ,  810.94921521,\n",
       "       4207.97902563, 3676.7909421 , 4255.38073465, 1081.67327855,\n",
       "       3658.62452013, 4526.9705661 , 3496.91634092, 2949.93103457,\n",
       "       5249.63586135, 3652.21632226, 4066.1460426 , 5831.43907368,\n",
       "       2824.08205181, 5388.90993865, 3675.65799414, 1848.67470158,\n",
       "       1197.91949111, 2080.43006273, 1318.03262599, 3149.82874012,\n",
       "       1029.07056446, 5794.53428438, 5004.89088759, 4262.7180875 ,\n",
       "       2292.00663203, 2392.41871393, 2740.75159027, 3806.63211924,\n",
       "       5212.1875585 , 5315.05921235, 1017.69127705, 6906.86796378,\n",
       "       3771.35157635, 2846.800295  , 3743.94585223, 4935.66456879,\n",
       "       3582.71764382, 3423.45747114, 2275.18868635, 1045.56589583,\n",
       "       4919.05622675, 6061.14316105, 5579.1885424 , 3571.04236306,\n",
       "       4485.4366505 , 5003.96767666, 5104.09791182, 5659.02661158,\n",
       "       3309.38479188, 4861.98926418, 4427.01564431, 3662.47582759,\n",
       "       4857.20361537, 1851.92429132, 5284.22378082, 2854.87466108,\n",
       "       3825.71493359, 4436.08614864,  274.96657583, 1905.4784421 ,\n",
       "       5201.79680887,  296.49390602, 4030.07774246, 2665.46258768,\n",
       "       2006.00017816, 4686.54636003, 3055.82920261, 4762.14908281,\n",
       "       1951.88095022, 2176.80916175, 5842.33823812, 2988.11288322,\n",
       "       2118.07942106, 1516.99852996, 2799.4250289 , 4084.53247729,\n",
       "       6000.72742702, 7119.66907074, 2879.6021833 , 4347.12975924,\n",
       "       1294.781653  , 5470.16256636, 1898.11347162,  997.68151123,\n",
       "       2549.27335766, 3995.41918107, 6206.29834133, 1329.35326867,\n",
       "        367.34724488, 1863.83892402, 4214.6783355 , 2266.71229982,\n",
       "       4753.33561441, 2707.69414373, 2406.41856452, 6570.28170324,\n",
       "       1924.27280939, 1672.44510921, 3863.53869907, 8562.47246244,\n",
       "       1755.68828165, 3884.39091801, 3182.12386954,  963.57143562,\n",
       "       6777.49964662, 1608.51657957, 2679.6612588 , 2514.9370649 ,\n",
       "       3271.69481236, 5708.56529564, 6147.97495151, 3309.37190196,\n",
       "       5499.64360729, 2069.40027183, 3748.56189333, 3773.95660438,\n",
       "       2185.05259998, 4503.61280177, 5736.48921781,  944.90819957,\n",
       "       6907.7358795 , 2724.47342784, 3686.46265137, 3524.85271863,\n",
       "       5751.74840928, 4284.52955725,  180.3702031 , 6221.522519  ,\n",
       "       2899.54869646,  831.69142718, 5118.88007395, 5958.26774685,\n",
       "       4487.13179266, 2469.74597374, 5435.73394079, 4401.27152837,\n",
       "       2454.53082953, 4100.04938515, 1999.27922788, 4157.75875049,\n",
       "       1498.08244108, 5647.47722931,  895.9497359 , 3107.79127063,\n",
       "       1356.47588748, 3239.12040935, 3276.9791394 ,  493.3028605 ,\n",
       "       1758.10647614, 1258.92140289, 2777.81025598, 7458.75129044,\n",
       "       4869.04233733, 1760.72253624, 4826.27962384, 1585.37277621,\n",
       "       5766.08116071, 1715.91893302, 5281.0609831 , 5963.2018363 ,\n",
       "       3095.57722729, 1398.45501959, 4694.28337335, 4099.52334181,\n",
       "       2194.91679508, 3809.41688571, 3212.2390385 , 4646.89496694,\n",
       "       5174.7070962 , 4356.08731256, 4370.52614371, 4283.22392946,\n",
       "       2963.92217652, 5226.01973207, 1039.54296294, 3522.41175865,\n",
       "       1029.02331269, 4933.14278592, 5039.68255653, 3882.13519614,\n",
       "       -176.76019424, 5550.03798274, 1085.15594595, 5246.42049566,\n",
       "       2910.02338971, 1998.05854549,  577.73340863, 5140.06145745,\n",
       "       2058.99721934, 3317.62108952, 5511.16273585, 4020.44610955,\n",
       "       4176.25396226, 4469.53675141, 4738.24283856, 3142.80722605,\n",
       "       2550.94987987, 4273.88975053, 1109.48891085, 5020.5054325 ,\n",
       "       1857.23709869, 2201.11626862, 1401.6016104 , 2645.9773155 ,\n",
       "       3908.81952172, 1594.45889519, 3162.03289659, 2534.14658565,\n",
       "       5460.21863652, 2778.4398243 , 4897.21085095, 4284.68353793,\n",
       "       4653.87741984, 8586.01753131, 4515.82795303, 3953.38943889,\n",
       "       4736.09067119, 4238.18753439, 3000.35335416, 2501.55408802,\n",
       "        640.53406568, 2463.79538973, 4073.53768034, 5250.11348093,\n",
       "       2312.13485588, 3028.31892407, 2608.42850158, 3603.66864386,\n",
       "       4480.80016233, 2213.04916907, 5455.0631024 , 4400.69360299,\n",
       "       3459.83302692, 2597.04987564, 4045.65535191, 1827.3226541 ,\n",
       "       3828.08641487, 4841.31642946, 6075.9808382 , 5214.51799572,\n",
       "       3872.36010091, 3709.09599595, 6342.15168518, 1546.50967441,\n",
       "       5615.14900464, 3072.34881676, 2687.60513278, 1759.30173857,\n",
       "       3608.24912925, 1696.75336535, 3298.18404638, 5624.17838399,\n",
       "       3933.00993791, 4562.83998883, 3169.47680719, 3185.42373438,\n",
       "       3646.79262081, 2558.78691753, 3520.93720192, 3149.14100811,\n",
       "       3144.45671695, 1582.14679789, 6726.23740919, 5714.71014381,\n",
       "       4231.23657761, 1927.32717976, 1561.60604119, 4143.42887344,\n",
       "       4428.47605092, 2624.88400701, 1448.23051796, 3728.6614262 ,\n",
       "       4284.28129487, 2745.99562844, 3295.75540104, 2922.13263392,\n",
       "       2441.87941865, 4303.04140648, 1344.41991117, 2920.43434269,\n",
       "       4159.34986235, 2327.5903998 , 1936.36536498, 1284.23927302,\n",
       "       2713.67998437, 1819.76424196, 1241.64667982, 2543.01378086,\n",
       "       5240.62521587, 2748.10498027, 3555.31974152, 7019.98152655,\n",
       "       4819.16755006, 1822.88325041, 4406.95992787, 2211.6836679 ,\n",
       "       3185.44748443, 6060.83363301, 1424.93889006, 2751.14898512,\n",
       "       3468.47783382, 1323.89287204, 5627.9071582 , 3782.97850967,\n",
       "       4659.98250591, 3754.5223767 , 3395.9787809 , 9428.62109765,\n",
       "       5573.47856666,  246.3482982 , 1678.59289282, 3405.36156624,\n",
       "       2892.40293017, 2866.37684927, 2963.43710365, 4749.00804059,\n",
       "       2472.47718529, 2505.17194239, 4704.28597934, 6107.69453297,\n",
       "       3910.4681996 , 5271.74204594, 1171.28068755, 5162.19632896,\n",
       "       1760.96763112, 4264.61460826, 3278.64611244, 3703.27611202,\n",
       "       2810.27080202, 1749.32621096, 2290.54445665, 3850.72150027,\n",
       "        823.98560496, 1905.22072849, 4818.37399371, 1992.13512385,\n",
       "       5789.92115172, 2907.47689157, 4480.68890454,  743.64730291,\n",
       "       2495.70621732, 5559.661311  , 2624.18557644, 5753.93048717,\n",
       "       1780.84174722, 1752.39096769, 3142.0445366 , 4343.82522916,\n",
       "       8223.87656584, 1620.64505382, 1921.02242715, 5331.97588308,\n",
       "       -224.85514661, 2811.51139632, 4874.16986961, 5756.17900022,\n",
       "       5263.15183832, 4126.95705415, 2925.37092434, 2617.23406833,\n",
       "       4778.15483415, 5196.86976363, 2528.57552737, 2772.86994267,\n",
       "       4811.5318947 , 1441.37076293, 1429.47897657, 2813.65317678,\n",
       "        520.80189523,  188.74235934, 4590.33563087, 4426.92281143,\n",
       "       5779.95470002, 4374.40147874, 5969.99176449, 5705.95935598,\n",
       "       2846.55954885, 3692.41447434, 1828.85372982, 8313.43874791,\n",
       "       8911.13290803, 6859.39528956, 4466.76316513, 4215.52488273,\n",
       "       5694.89401253, 2109.92420766,  866.8823371 , 5567.56986838,\n",
       "       1277.05350379, 1910.93377893, 2465.3683053 , 2119.38191667,\n",
       "       3828.38204759, 2005.78469914, 5312.89487834, 2404.41977332,\n",
       "       3484.02506521, 5003.51359183, 4887.59891716, 2488.18332705,\n",
       "       3513.48692921, 4493.67934738, 4833.19602344, 3239.5871065 ,\n",
       "       3456.0266587 , 6870.40105104, 2214.79176646, 6711.45670857,\n",
       "        630.59840267, 1978.41592124, 1897.87155055,  839.9311901 ,\n",
       "       7825.50364622, 4077.20907652])"
      ]
     },
     "execution_count": 16,
     "metadata": {},
     "output_type": "execute_result"
    }
   ],
   "source": [
    "# Making predictions on the test set\n",
    "y_pred = lm.predict(X_test_scaled)\n",
    "y_pred\n",
    "\n",
    "#y_pred_new = abs(y_pred)"
   ]
  },
  {
   "cell_type": "code",
   "execution_count": 17,
   "id": "49009d18",
   "metadata": {
    "execution": {
     "iopub.execute_input": "2024-01-09T17:26:45.907996Z",
     "iopub.status.busy": "2024-01-09T17:26:45.907327Z",
     "iopub.status.idle": "2024-01-09T17:26:45.915029Z",
     "shell.execute_reply": "2024-01-09T17:26:45.914136Z"
    },
    "papermill": {
     "duration": 0.024315,
     "end_time": "2024-01-09T17:26:45.917291",
     "exception": false,
     "start_time": "2024-01-09T17:26:45.892976",
     "status": "completed"
    },
    "tags": []
   },
   "outputs": [
    {
     "name": "stdout",
     "output_type": "stream",
     "text": [
      "Mean Absolute Error: 288.76389281091616\n",
      "Mean Squared Error: 163614.01426198267\n",
      "R-squared: 0.9463268634133618\n"
     ]
    }
   ],
   "source": [
    "# Evaluating the model\n",
    "mae = mean_absolute_error(y_test, y_pred)\n",
    "mse = mean_squared_error(y_test, y_pred)\n",
    "r2 = r2_score(y_test, y_pred)\n",
    "\n",
    "print(f'Mean Absolute Error: {mae}')\n",
    "print(f'Mean Squared Error: {mse}')\n",
    "print(f'R-squared: {r2}')"
   ]
  },
  {
   "cell_type": "markdown",
   "id": "14a98a0b",
   "metadata": {
    "papermill": {
     "duration": 0.009376,
     "end_time": "2024-01-09T17:26:45.936363",
     "exception": false,
     "start_time": "2024-01-09T17:26:45.926987",
     "status": "completed"
    },
    "tags": []
   },
   "source": [
    "**Final Results**\n",
    "\n",
    "Mean Absolute Error: 288.76389281091616\n",
    "\n",
    "Mean Squared Error: 163614.01426198267\n",
    "\n",
    "R-squared: 0.9463268634133618"
   ]
  }
 ],
 "metadata": {
  "kaggle": {
   "accelerator": "none",
   "dataSources": [
    {
     "datasetId": 4021193,
     "sourceId": 6995678,
     "sourceType": "datasetVersion"
    }
   ],
   "dockerImageVersionId": 30615,
   "isGpuEnabled": false,
   "isInternetEnabled": true,
   "language": "python",
   "sourceType": "notebook"
  },
  "kernelspec": {
   "display_name": "Python 3",
   "language": "python",
   "name": "python3"
  },
  "language_info": {
   "codemirror_mode": {
    "name": "ipython",
    "version": 3
   },
   "file_extension": ".py",
   "mimetype": "text/x-python",
   "name": "python",
   "nbconvert_exporter": "python",
   "pygments_lexer": "ipython3",
   "version": "3.10.12"
  },
  "papermill": {
   "default_parameters": {},
   "duration": 8.047069,
   "end_time": "2024-01-09T17:26:46.668258",
   "environment_variables": {},
   "exception": null,
   "input_path": "__notebook__.ipynb",
   "output_path": "__notebook__.ipynb",
   "parameters": {},
   "start_time": "2024-01-09T17:26:38.621189",
   "version": "2.4.0"
  }
 },
 "nbformat": 4,
 "nbformat_minor": 5
}
