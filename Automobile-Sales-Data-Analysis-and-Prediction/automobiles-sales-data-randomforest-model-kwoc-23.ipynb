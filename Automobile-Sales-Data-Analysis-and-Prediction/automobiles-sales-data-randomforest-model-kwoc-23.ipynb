{
 "cells": [
  {
   "cell_type": "code",
   "execution_count": 1,
   "id": "a8c69b56",
   "metadata": {
    "_cell_guid": "b1076dfc-b9ad-4769-8c92-a6c4dae69d19",
    "_uuid": "8f2839f25d086af736a60e9eeb907d3b93b6e0e5",
    "execution": {
     "iopub.execute_input": "2024-01-09T17:51:30.731741Z",
     "iopub.status.busy": "2024-01-09T17:51:30.730929Z",
     "iopub.status.idle": "2024-01-09T17:51:31.153075Z",
     "shell.execute_reply": "2024-01-09T17:51:31.151862Z"
    },
    "papermill": {
     "duration": 0.434565,
     "end_time": "2024-01-09T17:51:31.157268",
     "exception": false,
     "start_time": "2024-01-09T17:51:30.722703",
     "status": "completed"
    },
    "tags": []
   },
   "outputs": [
    {
     "name": "stdout",
     "output_type": "stream",
     "text": [
      "/kaggle/input/auto-sales-data/Auto Sales data.csv\n"
     ]
    }
   ],
   "source": [
    "# This Python 3 environment comes with many helpful analytics libraries installed\n",
    "# It is defined by the kaggle/python Docker image: https://github.com/kaggle/docker-python\n",
    "# For example, here's several helpful packages to load\n",
    "\n",
    "import numpy as np # linear algebra\n",
    "import pandas as pd # data processing, CSV file I/O (e.g. pd.read_csv)\n",
    "\n",
    "# Input data files are available in the read-only \"../input/\" directory\n",
    "# For example, running this (by clicking run or pressing Shift+Enter) will list all files under the input directory\n",
    "\n",
    "import os\n",
    "for dirname, _, filenames in os.walk('/kaggle/input'):\n",
    "    for filename in filenames:\n",
    "        print(os.path.join(dirname, filename))\n",
    "\n",
    "# You can write up to 20GB to the current directory (/kaggle/working/) that gets preserved as output when you create a version using \"Save & Run All\" \n",
    "# You can also write temporary files to /kaggle/temp/, but they won't be saved outside of the current session"
   ]
  },
  {
   "cell_type": "code",
   "execution_count": 2,
   "id": "f97b1783",
   "metadata": {
    "execution": {
     "iopub.execute_input": "2024-01-09T17:51:31.174114Z",
     "iopub.status.busy": "2024-01-09T17:51:31.173483Z",
     "iopub.status.idle": "2024-01-09T17:51:32.774500Z",
     "shell.execute_reply": "2024-01-09T17:51:32.773157Z"
    },
    "papermill": {
     "duration": 1.612726,
     "end_time": "2024-01-09T17:51:32.777610",
     "exception": false,
     "start_time": "2024-01-09T17:51:31.164884",
     "status": "completed"
    },
    "tags": []
   },
   "outputs": [],
   "source": [
    "# Import necessary libraries\n",
    "import pandas as pd\n",
    "from sklearn.preprocessing import LabelEncoder\n",
    "from sklearn.model_selection import train_test_split\n",
    "from sklearn.ensemble import RandomForestRegressor\n",
    "from sklearn.metrics import mean_absolute_error, mean_squared_error, r2_score"
   ]
  },
  {
   "cell_type": "code",
   "execution_count": 3,
   "id": "0f80260e",
   "metadata": {
    "execution": {
     "iopub.execute_input": "2024-01-09T17:51:32.791428Z",
     "iopub.status.busy": "2024-01-09T17:51:32.791050Z",
     "iopub.status.idle": "2024-01-09T17:51:32.802003Z",
     "shell.execute_reply": "2024-01-09T17:51:32.801123Z"
    },
    "papermill": {
     "duration": 0.020078,
     "end_time": "2024-01-09T17:51:32.803963",
     "exception": false,
     "start_time": "2024-01-09T17:51:32.783885",
     "status": "completed"
    },
    "tags": []
   },
   "outputs": [
    {
     "data": {
      "text/html": [
       "<style>#sk-container-id-1 {color: black;background-color: white;}#sk-container-id-1 pre{padding: 0;}#sk-container-id-1 div.sk-toggleable {background-color: white;}#sk-container-id-1 label.sk-toggleable__label {cursor: pointer;display: block;width: 100%;margin-bottom: 0;padding: 0.3em;box-sizing: border-box;text-align: center;}#sk-container-id-1 label.sk-toggleable__label-arrow:before {content: \"▸\";float: left;margin-right: 0.25em;color: #696969;}#sk-container-id-1 label.sk-toggleable__label-arrow:hover:before {color: black;}#sk-container-id-1 div.sk-estimator:hover label.sk-toggleable__label-arrow:before {color: black;}#sk-container-id-1 div.sk-toggleable__content {max-height: 0;max-width: 0;overflow: hidden;text-align: left;background-color: #f0f8ff;}#sk-container-id-1 div.sk-toggleable__content pre {margin: 0.2em;color: black;border-radius: 0.25em;background-color: #f0f8ff;}#sk-container-id-1 input.sk-toggleable__control:checked~div.sk-toggleable__content {max-height: 200px;max-width: 100%;overflow: auto;}#sk-container-id-1 input.sk-toggleable__control:checked~label.sk-toggleable__label-arrow:before {content: \"▾\";}#sk-container-id-1 div.sk-estimator input.sk-toggleable__control:checked~label.sk-toggleable__label {background-color: #d4ebff;}#sk-container-id-1 div.sk-label input.sk-toggleable__control:checked~label.sk-toggleable__label {background-color: #d4ebff;}#sk-container-id-1 input.sk-hidden--visually {border: 0;clip: rect(1px 1px 1px 1px);clip: rect(1px, 1px, 1px, 1px);height: 1px;margin: -1px;overflow: hidden;padding: 0;position: absolute;width: 1px;}#sk-container-id-1 div.sk-estimator {font-family: monospace;background-color: #f0f8ff;border: 1px dotted black;border-radius: 0.25em;box-sizing: border-box;margin-bottom: 0.5em;}#sk-container-id-1 div.sk-estimator:hover {background-color: #d4ebff;}#sk-container-id-1 div.sk-parallel-item::after {content: \"\";width: 100%;border-bottom: 1px solid gray;flex-grow: 1;}#sk-container-id-1 div.sk-label:hover label.sk-toggleable__label {background-color: #d4ebff;}#sk-container-id-1 div.sk-serial::before {content: \"\";position: absolute;border-left: 1px solid gray;box-sizing: border-box;top: 0;bottom: 0;left: 50%;z-index: 0;}#sk-container-id-1 div.sk-serial {display: flex;flex-direction: column;align-items: center;background-color: white;padding-right: 0.2em;padding-left: 0.2em;position: relative;}#sk-container-id-1 div.sk-item {position: relative;z-index: 1;}#sk-container-id-1 div.sk-parallel {display: flex;align-items: stretch;justify-content: center;background-color: white;position: relative;}#sk-container-id-1 div.sk-item::before, #sk-container-id-1 div.sk-parallel-item::before {content: \"\";position: absolute;border-left: 1px solid gray;box-sizing: border-box;top: 0;bottom: 0;left: 50%;z-index: -1;}#sk-container-id-1 div.sk-parallel-item {display: flex;flex-direction: column;z-index: 1;position: relative;background-color: white;}#sk-container-id-1 div.sk-parallel-item:first-child::after {align-self: flex-end;width: 50%;}#sk-container-id-1 div.sk-parallel-item:last-child::after {align-self: flex-start;width: 50%;}#sk-container-id-1 div.sk-parallel-item:only-child::after {width: 0;}#sk-container-id-1 div.sk-dashed-wrapped {border: 1px dashed gray;margin: 0 0.4em 0.5em 0.4em;box-sizing: border-box;padding-bottom: 0.4em;background-color: white;}#sk-container-id-1 div.sk-label label {font-family: monospace;font-weight: bold;display: inline-block;line-height: 1.2em;}#sk-container-id-1 div.sk-label-container {text-align: center;}#sk-container-id-1 div.sk-container {/* jupyter's `normalize.less` sets `[hidden] { display: none; }` but bootstrap.min.css set `[hidden] { display: none !important; }` so we also need the `!important` here to be able to override the default hidden behavior on the sphinx rendered scikit-learn.org. See: https://github.com/scikit-learn/scikit-learn/issues/21755 */display: inline-block !important;position: relative;}#sk-container-id-1 div.sk-text-repr-fallback {display: none;}</style><div id=\"sk-container-id-1\" class=\"sk-top-container\"><div class=\"sk-text-repr-fallback\"><pre>RandomForestRegressor(random_state=42)</pre><b>In a Jupyter environment, please rerun this cell to show the HTML representation or trust the notebook. <br />On GitHub, the HTML representation is unable to render, please try loading this page with nbviewer.org.</b></div><div class=\"sk-container\" hidden><div class=\"sk-item\"><div class=\"sk-estimator sk-toggleable\"><input class=\"sk-toggleable__control sk-hidden--visually\" id=\"sk-estimator-id-1\" type=\"checkbox\" checked><label for=\"sk-estimator-id-1\" class=\"sk-toggleable__label sk-toggleable__label-arrow\">RandomForestRegressor</label><div class=\"sk-toggleable__content\"><pre>RandomForestRegressor(random_state=42)</pre></div></div></div></div></div>"
      ],
      "text/plain": [
       "RandomForestRegressor(random_state=42)"
      ]
     },
     "execution_count": 3,
     "metadata": {},
     "output_type": "execute_result"
    }
   ],
   "source": [
    "# Creating a Random Forest Regressor Model\n",
    "rf_model = RandomForestRegressor(n_estimators=100, random_state=42)\n",
    "rf_model"
   ]
  },
  {
   "cell_type": "code",
   "execution_count": 4,
   "id": "93a3cebc",
   "metadata": {
    "execution": {
     "iopub.execute_input": "2024-01-09T17:51:32.820372Z",
     "iopub.status.busy": "2024-01-09T17:51:32.819614Z",
     "iopub.status.idle": "2024-01-09T17:51:32.859975Z",
     "shell.execute_reply": "2024-01-09T17:51:32.858830Z"
    },
    "papermill": {
     "duration": 0.05241,
     "end_time": "2024-01-09T17:51:32.862993",
     "exception": false,
     "start_time": "2024-01-09T17:51:32.810583",
     "status": "completed"
    },
    "tags": []
   },
   "outputs": [],
   "source": [
    "df = pd.read_csv('/kaggle/input/auto-sales-data/Auto Sales data.csv')"
   ]
  },
  {
   "cell_type": "code",
   "execution_count": 5,
   "id": "878a7ec3",
   "metadata": {
    "execution": {
     "iopub.execute_input": "2024-01-09T17:51:32.878648Z",
     "iopub.status.busy": "2024-01-09T17:51:32.878104Z",
     "iopub.status.idle": "2024-01-09T17:51:32.913297Z",
     "shell.execute_reply": "2024-01-09T17:51:32.912088Z"
    },
    "papermill": {
     "duration": 0.046293,
     "end_time": "2024-01-09T17:51:32.915726",
     "exception": false,
     "start_time": "2024-01-09T17:51:32.869433",
     "status": "completed"
    },
    "tags": []
   },
   "outputs": [
    {
     "data": {
      "text/html": [
       "<div>\n",
       "<style scoped>\n",
       "    .dataframe tbody tr th:only-of-type {\n",
       "        vertical-align: middle;\n",
       "    }\n",
       "\n",
       "    .dataframe tbody tr th {\n",
       "        vertical-align: top;\n",
       "    }\n",
       "\n",
       "    .dataframe thead th {\n",
       "        text-align: right;\n",
       "    }\n",
       "</style>\n",
       "<table border=\"1\" class=\"dataframe\">\n",
       "  <thead>\n",
       "    <tr style=\"text-align: right;\">\n",
       "      <th></th>\n",
       "      <th>QUANTITYORDERED</th>\n",
       "      <th>PRICEEACH</th>\n",
       "      <th>ORDERLINENUMBER</th>\n",
       "      <th>SALES</th>\n",
       "      <th>DAYS_SINCE_LASTORDER</th>\n",
       "      <th>STATUS</th>\n",
       "      <th>PRODUCTLINE</th>\n",
       "      <th>MSRP</th>\n",
       "      <th>PRODUCTCODE</th>\n",
       "      <th>CUSTOMERNAME</th>\n",
       "      <th>CITY</th>\n",
       "      <th>COUNTRY</th>\n",
       "      <th>DEALSIZE</th>\n",
       "    </tr>\n",
       "  </thead>\n",
       "  <tbody>\n",
       "    <tr>\n",
       "      <th>0</th>\n",
       "      <td>30</td>\n",
       "      <td>95.70</td>\n",
       "      <td>2</td>\n",
       "      <td>2871.00</td>\n",
       "      <td>828</td>\n",
       "      <td>Shipped</td>\n",
       "      <td>Motorcycles</td>\n",
       "      <td>95</td>\n",
       "      <td>S10_1678</td>\n",
       "      <td>Land of Toys Inc.</td>\n",
       "      <td>NYC</td>\n",
       "      <td>USA</td>\n",
       "      <td>Small</td>\n",
       "    </tr>\n",
       "    <tr>\n",
       "      <th>1</th>\n",
       "      <td>34</td>\n",
       "      <td>81.35</td>\n",
       "      <td>5</td>\n",
       "      <td>2765.90</td>\n",
       "      <td>757</td>\n",
       "      <td>Shipped</td>\n",
       "      <td>Motorcycles</td>\n",
       "      <td>95</td>\n",
       "      <td>S10_1678</td>\n",
       "      <td>Reims Collectables</td>\n",
       "      <td>Reims</td>\n",
       "      <td>France</td>\n",
       "      <td>Small</td>\n",
       "    </tr>\n",
       "    <tr>\n",
       "      <th>2</th>\n",
       "      <td>41</td>\n",
       "      <td>94.74</td>\n",
       "      <td>2</td>\n",
       "      <td>3884.34</td>\n",
       "      <td>703</td>\n",
       "      <td>Shipped</td>\n",
       "      <td>Motorcycles</td>\n",
       "      <td>95</td>\n",
       "      <td>S10_1678</td>\n",
       "      <td>Lyon Souveniers</td>\n",
       "      <td>Paris</td>\n",
       "      <td>France</td>\n",
       "      <td>Medium</td>\n",
       "    </tr>\n",
       "    <tr>\n",
       "      <th>3</th>\n",
       "      <td>45</td>\n",
       "      <td>83.26</td>\n",
       "      <td>6</td>\n",
       "      <td>3746.70</td>\n",
       "      <td>649</td>\n",
       "      <td>Shipped</td>\n",
       "      <td>Motorcycles</td>\n",
       "      <td>95</td>\n",
       "      <td>S10_1678</td>\n",
       "      <td>Toys4GrownUps.com</td>\n",
       "      <td>Pasadena</td>\n",
       "      <td>USA</td>\n",
       "      <td>Medium</td>\n",
       "    </tr>\n",
       "    <tr>\n",
       "      <th>4</th>\n",
       "      <td>36</td>\n",
       "      <td>96.66</td>\n",
       "      <td>1</td>\n",
       "      <td>3479.76</td>\n",
       "      <td>586</td>\n",
       "      <td>Shipped</td>\n",
       "      <td>Motorcycles</td>\n",
       "      <td>95</td>\n",
       "      <td>S10_1678</td>\n",
       "      <td>Technics Stores Inc.</td>\n",
       "      <td>Burlingame</td>\n",
       "      <td>USA</td>\n",
       "      <td>Medium</td>\n",
       "    </tr>\n",
       "  </tbody>\n",
       "</table>\n",
       "</div>"
      ],
      "text/plain": [
       "   QUANTITYORDERED  PRICEEACH  ORDERLINENUMBER    SALES  DAYS_SINCE_LASTORDER  \\\n",
       "0               30      95.70                2  2871.00                   828   \n",
       "1               34      81.35                5  2765.90                   757   \n",
       "2               41      94.74                2  3884.34                   703   \n",
       "3               45      83.26                6  3746.70                   649   \n",
       "4               36      96.66                1  3479.76                   586   \n",
       "\n",
       "    STATUS  PRODUCTLINE  MSRP PRODUCTCODE          CUSTOMERNAME        CITY  \\\n",
       "0  Shipped  Motorcycles    95    S10_1678     Land of Toys Inc.         NYC   \n",
       "1  Shipped  Motorcycles    95    S10_1678    Reims Collectables       Reims   \n",
       "2  Shipped  Motorcycles    95    S10_1678       Lyon Souveniers       Paris   \n",
       "3  Shipped  Motorcycles    95    S10_1678     Toys4GrownUps.com    Pasadena   \n",
       "4  Shipped  Motorcycles    95    S10_1678  Technics Stores Inc.  Burlingame   \n",
       "\n",
       "  COUNTRY DEALSIZE  \n",
       "0     USA    Small  \n",
       "1  France    Small  \n",
       "2  France   Medium  \n",
       "3     USA   Medium  \n",
       "4     USA   Medium  "
      ]
     },
     "execution_count": 5,
     "metadata": {},
     "output_type": "execute_result"
    }
   ],
   "source": [
    "df = df.drop(['ORDERDATE','POSTALCODE','CONTACTLASTNAME', 'CONTACTFIRSTNAME','ORDERNUMBER','PHONE', 'ADDRESSLINE1','POSTALCODE'],axis=1)\n",
    "\n",
    "#df['ORDERDATE'] = pd.to_datetime(df['ORDERDATE'],yearfirst = True ) # changing the date time format to a suitable format\n",
    "\n",
    "df.head()"
   ]
  },
  {
   "cell_type": "code",
   "execution_count": 6,
   "id": "75d6090b",
   "metadata": {
    "execution": {
     "iopub.execute_input": "2024-01-09T17:51:32.930900Z",
     "iopub.status.busy": "2024-01-09T17:51:32.930461Z",
     "iopub.status.idle": "2024-01-09T17:51:32.946123Z",
     "shell.execute_reply": "2024-01-09T17:51:32.945299Z"
    },
    "papermill": {
     "duration": 0.025879,
     "end_time": "2024-01-09T17:51:32.948440",
     "exception": false,
     "start_time": "2024-01-09T17:51:32.922561",
     "status": "completed"
    },
    "tags": []
   },
   "outputs": [
    {
     "data": {
      "text/plain": [
       "QUANTITYORDERED           58\n",
       "PRICEEACH               1843\n",
       "ORDERLINENUMBER           18\n",
       "SALES                   2690\n",
       "DAYS_SINCE_LASTORDER    1832\n",
       "STATUS                     6\n",
       "PRODUCTLINE                7\n",
       "MSRP                      80\n",
       "PRODUCTCODE              109\n",
       "CUSTOMERNAME              89\n",
       "CITY                      71\n",
       "COUNTRY                   19\n",
       "DEALSIZE                   3\n",
       "dtype: int64"
      ]
     },
     "execution_count": 6,
     "metadata": {},
     "output_type": "execute_result"
    }
   ],
   "source": [
    "df.nunique()"
   ]
  },
  {
   "cell_type": "code",
   "execution_count": 7,
   "id": "cebd19fa",
   "metadata": {
    "execution": {
     "iopub.execute_input": "2024-01-09T17:51:32.964281Z",
     "iopub.status.busy": "2024-01-09T17:51:32.962995Z",
     "iopub.status.idle": "2024-01-09T17:51:32.984252Z",
     "shell.execute_reply": "2024-01-09T17:51:32.982800Z"
    },
    "papermill": {
     "duration": 0.031724,
     "end_time": "2024-01-09T17:51:32.986840",
     "exception": false,
     "start_time": "2024-01-09T17:51:32.955116",
     "status": "completed"
    },
    "tags": []
   },
   "outputs": [
    {
     "name": "stdout",
     "output_type": "stream",
     "text": [
      "<class 'pandas.core.frame.DataFrame'>\n",
      "RangeIndex: 2747 entries, 0 to 2746\n",
      "Data columns (total 13 columns):\n",
      " #   Column                Non-Null Count  Dtype  \n",
      "---  ------                --------------  -----  \n",
      " 0   QUANTITYORDERED       2747 non-null   int64  \n",
      " 1   PRICEEACH             2747 non-null   float64\n",
      " 2   ORDERLINENUMBER       2747 non-null   int64  \n",
      " 3   SALES                 2747 non-null   float64\n",
      " 4   DAYS_SINCE_LASTORDER  2747 non-null   int64  \n",
      " 5   STATUS                2747 non-null   object \n",
      " 6   PRODUCTLINE           2747 non-null   object \n",
      " 7   MSRP                  2747 non-null   int64  \n",
      " 8   PRODUCTCODE           2747 non-null   object \n",
      " 9   CUSTOMERNAME          2747 non-null   object \n",
      " 10  CITY                  2747 non-null   object \n",
      " 11  COUNTRY               2747 non-null   object \n",
      " 12  DEALSIZE              2747 non-null   object \n",
      "dtypes: float64(2), int64(4), object(7)\n",
      "memory usage: 279.1+ KB\n"
     ]
    }
   ],
   "source": [
    "df.info()"
   ]
  },
  {
   "cell_type": "code",
   "execution_count": 8,
   "id": "199aabca",
   "metadata": {
    "execution": {
     "iopub.execute_input": "2024-01-09T17:51:33.003816Z",
     "iopub.status.busy": "2024-01-09T17:51:33.003400Z",
     "iopub.status.idle": "2024-01-09T17:51:33.029636Z",
     "shell.execute_reply": "2024-01-09T17:51:33.028443Z"
    },
    "papermill": {
     "duration": 0.038524,
     "end_time": "2024-01-09T17:51:33.032222",
     "exception": false,
     "start_time": "2024-01-09T17:51:32.993698",
     "status": "completed"
    },
    "tags": []
   },
   "outputs": [
    {
     "data": {
      "text/html": [
       "<div>\n",
       "<style scoped>\n",
       "    .dataframe tbody tr th:only-of-type {\n",
       "        vertical-align: middle;\n",
       "    }\n",
       "\n",
       "    .dataframe tbody tr th {\n",
       "        vertical-align: top;\n",
       "    }\n",
       "\n",
       "    .dataframe thead th {\n",
       "        text-align: right;\n",
       "    }\n",
       "</style>\n",
       "<table border=\"1\" class=\"dataframe\">\n",
       "  <thead>\n",
       "    <tr style=\"text-align: right;\">\n",
       "      <th></th>\n",
       "      <th>QUANTITYORDERED</th>\n",
       "      <th>PRICEEACH</th>\n",
       "      <th>ORDERLINENUMBER</th>\n",
       "      <th>SALES</th>\n",
       "      <th>DAYS_SINCE_LASTORDER</th>\n",
       "      <th>STATUS</th>\n",
       "      <th>PRODUCTLINE</th>\n",
       "      <th>MSRP</th>\n",
       "      <th>PRODUCTCODE</th>\n",
       "      <th>CUSTOMERNAME</th>\n",
       "      <th>CITY</th>\n",
       "      <th>COUNTRY</th>\n",
       "      <th>DEALSIZE</th>\n",
       "    </tr>\n",
       "  </thead>\n",
       "  <tbody>\n",
       "    <tr>\n",
       "      <th>0</th>\n",
       "      <td>30</td>\n",
       "      <td>95.70</td>\n",
       "      <td>2</td>\n",
       "      <td>2871.00</td>\n",
       "      <td>828</td>\n",
       "      <td>5</td>\n",
       "      <td>1</td>\n",
       "      <td>95</td>\n",
       "      <td>0</td>\n",
       "      <td>44</td>\n",
       "      <td>41</td>\n",
       "      <td>18</td>\n",
       "      <td>2</td>\n",
       "    </tr>\n",
       "    <tr>\n",
       "      <th>1</th>\n",
       "      <td>34</td>\n",
       "      <td>81.35</td>\n",
       "      <td>5</td>\n",
       "      <td>2765.90</td>\n",
       "      <td>757</td>\n",
       "      <td>5</td>\n",
       "      <td>1</td>\n",
       "      <td>95</td>\n",
       "      <td>0</td>\n",
       "      <td>63</td>\n",
       "      <td>55</td>\n",
       "      <td>6</td>\n",
       "      <td>2</td>\n",
       "    </tr>\n",
       "    <tr>\n",
       "      <th>2</th>\n",
       "      <td>41</td>\n",
       "      <td>94.74</td>\n",
       "      <td>2</td>\n",
       "      <td>3884.34</td>\n",
       "      <td>703</td>\n",
       "      <td>5</td>\n",
       "      <td>1</td>\n",
       "      <td>95</td>\n",
       "      <td>0</td>\n",
       "      <td>45</td>\n",
       "      <td>51</td>\n",
       "      <td>6</td>\n",
       "      <td>1</td>\n",
       "    </tr>\n",
       "    <tr>\n",
       "      <th>3</th>\n",
       "      <td>45</td>\n",
       "      <td>83.26</td>\n",
       "      <td>6</td>\n",
       "      <td>3746.70</td>\n",
       "      <td>649</td>\n",
       "      <td>5</td>\n",
       "      <td>1</td>\n",
       "      <td>95</td>\n",
       "      <td>0</td>\n",
       "      <td>82</td>\n",
       "      <td>52</td>\n",
       "      <td>18</td>\n",
       "      <td>1</td>\n",
       "    </tr>\n",
       "    <tr>\n",
       "      <th>4</th>\n",
       "      <td>36</td>\n",
       "      <td>96.66</td>\n",
       "      <td>1</td>\n",
       "      <td>3479.76</td>\n",
       "      <td>586</td>\n",
       "      <td>5</td>\n",
       "      <td>1</td>\n",
       "      <td>95</td>\n",
       "      <td>0</td>\n",
       "      <td>76</td>\n",
       "      <td>12</td>\n",
       "      <td>18</td>\n",
       "      <td>1</td>\n",
       "    </tr>\n",
       "  </tbody>\n",
       "</table>\n",
       "</div>"
      ],
      "text/plain": [
       "   QUANTITYORDERED  PRICEEACH  ORDERLINENUMBER    SALES  DAYS_SINCE_LASTORDER  \\\n",
       "0               30      95.70                2  2871.00                   828   \n",
       "1               34      81.35                5  2765.90                   757   \n",
       "2               41      94.74                2  3884.34                   703   \n",
       "3               45      83.26                6  3746.70                   649   \n",
       "4               36      96.66                1  3479.76                   586   \n",
       "\n",
       "   STATUS  PRODUCTLINE  MSRP  PRODUCTCODE  CUSTOMERNAME  CITY  COUNTRY  \\\n",
       "0       5            1    95            0            44    41       18   \n",
       "1       5            1    95            0            63    55        6   \n",
       "2       5            1    95            0            45    51        6   \n",
       "3       5            1    95            0            82    52       18   \n",
       "4       5            1    95            0            76    12       18   \n",
       "\n",
       "   DEALSIZE  \n",
       "0         2  \n",
       "1         2  \n",
       "2         1  \n",
       "3         1  \n",
       "4         1  "
      ]
     },
     "execution_count": 8,
     "metadata": {},
     "output_type": "execute_result"
    }
   ],
   "source": [
    "label_encoder = LabelEncoder()\n",
    "\n",
    "df['STATUS'] = label_encoder.fit_transform(df['STATUS'])\n",
    "df['PRODUCTLINE'] = label_encoder.fit_transform(df['PRODUCTLINE'])\n",
    "df['PRODUCTCODE'] = label_encoder.fit_transform(df['PRODUCTCODE'])\n",
    "df['CUSTOMERNAME'] = label_encoder.fit_transform(df['CUSTOMERNAME'])\n",
    "df['CITY'] = label_encoder.fit_transform(df['CITY'])\n",
    "df['COUNTRY'] = label_encoder.fit_transform(df['COUNTRY'])\n",
    "df['DEALSIZE'] = label_encoder.fit_transform(df['DEALSIZE'])\n",
    "\n",
    "df.head()"
   ]
  },
  {
   "cell_type": "code",
   "execution_count": 9,
   "id": "443eaefc",
   "metadata": {
    "execution": {
     "iopub.execute_input": "2024-01-09T17:51:33.049013Z",
     "iopub.status.busy": "2024-01-09T17:51:33.048608Z",
     "iopub.status.idle": "2024-01-09T17:51:33.055192Z",
     "shell.execute_reply": "2024-01-09T17:51:33.054050Z"
    },
    "papermill": {
     "duration": 0.017775,
     "end_time": "2024-01-09T17:51:33.057486",
     "exception": false,
     "start_time": "2024-01-09T17:51:33.039711",
     "status": "completed"
    },
    "tags": []
   },
   "outputs": [],
   "source": [
    "# 'SALES' is the target variable\n",
    "X = df.drop('SALES', axis=1)  # Features\n",
    "y = df['SALES']  # Target variable"
   ]
  },
  {
   "cell_type": "code",
   "execution_count": 10,
   "id": "5bcb798a",
   "metadata": {
    "execution": {
     "iopub.execute_input": "2024-01-09T17:51:33.074422Z",
     "iopub.status.busy": "2024-01-09T17:51:33.073996Z",
     "iopub.status.idle": "2024-01-09T17:51:33.081807Z",
     "shell.execute_reply": "2024-01-09T17:51:33.080853Z"
    },
    "papermill": {
     "duration": 0.019432,
     "end_time": "2024-01-09T17:51:33.084367",
     "exception": false,
     "start_time": "2024-01-09T17:51:33.064935",
     "status": "completed"
    },
    "tags": []
   },
   "outputs": [],
   "source": [
    "# Splitting the data into training and testing sets\n",
    "X_train, X_test, y_train, y_test = train_test_split(X, y, test_size=0.2, random_state=42)"
   ]
  },
  {
   "cell_type": "code",
   "execution_count": 11,
   "id": "dceda142",
   "metadata": {
    "execution": {
     "iopub.execute_input": "2024-01-09T17:51:33.101148Z",
     "iopub.status.busy": "2024-01-09T17:51:33.100749Z",
     "iopub.status.idle": "2024-01-09T17:51:34.358488Z",
     "shell.execute_reply": "2024-01-09T17:51:34.357311Z"
    },
    "papermill": {
     "duration": 1.269479,
     "end_time": "2024-01-09T17:51:34.360836",
     "exception": false,
     "start_time": "2024-01-09T17:51:33.091357",
     "status": "completed"
    },
    "tags": []
   },
   "outputs": [
    {
     "data": {
      "text/html": [
       "<style>#sk-container-id-2 {color: black;background-color: white;}#sk-container-id-2 pre{padding: 0;}#sk-container-id-2 div.sk-toggleable {background-color: white;}#sk-container-id-2 label.sk-toggleable__label {cursor: pointer;display: block;width: 100%;margin-bottom: 0;padding: 0.3em;box-sizing: border-box;text-align: center;}#sk-container-id-2 label.sk-toggleable__label-arrow:before {content: \"▸\";float: left;margin-right: 0.25em;color: #696969;}#sk-container-id-2 label.sk-toggleable__label-arrow:hover:before {color: black;}#sk-container-id-2 div.sk-estimator:hover label.sk-toggleable__label-arrow:before {color: black;}#sk-container-id-2 div.sk-toggleable__content {max-height: 0;max-width: 0;overflow: hidden;text-align: left;background-color: #f0f8ff;}#sk-container-id-2 div.sk-toggleable__content pre {margin: 0.2em;color: black;border-radius: 0.25em;background-color: #f0f8ff;}#sk-container-id-2 input.sk-toggleable__control:checked~div.sk-toggleable__content {max-height: 200px;max-width: 100%;overflow: auto;}#sk-container-id-2 input.sk-toggleable__control:checked~label.sk-toggleable__label-arrow:before {content: \"▾\";}#sk-container-id-2 div.sk-estimator input.sk-toggleable__control:checked~label.sk-toggleable__label {background-color: #d4ebff;}#sk-container-id-2 div.sk-label input.sk-toggleable__control:checked~label.sk-toggleable__label {background-color: #d4ebff;}#sk-container-id-2 input.sk-hidden--visually {border: 0;clip: rect(1px 1px 1px 1px);clip: rect(1px, 1px, 1px, 1px);height: 1px;margin: -1px;overflow: hidden;padding: 0;position: absolute;width: 1px;}#sk-container-id-2 div.sk-estimator {font-family: monospace;background-color: #f0f8ff;border: 1px dotted black;border-radius: 0.25em;box-sizing: border-box;margin-bottom: 0.5em;}#sk-container-id-2 div.sk-estimator:hover {background-color: #d4ebff;}#sk-container-id-2 div.sk-parallel-item::after {content: \"\";width: 100%;border-bottom: 1px solid gray;flex-grow: 1;}#sk-container-id-2 div.sk-label:hover label.sk-toggleable__label {background-color: #d4ebff;}#sk-container-id-2 div.sk-serial::before {content: \"\";position: absolute;border-left: 1px solid gray;box-sizing: border-box;top: 0;bottom: 0;left: 50%;z-index: 0;}#sk-container-id-2 div.sk-serial {display: flex;flex-direction: column;align-items: center;background-color: white;padding-right: 0.2em;padding-left: 0.2em;position: relative;}#sk-container-id-2 div.sk-item {position: relative;z-index: 1;}#sk-container-id-2 div.sk-parallel {display: flex;align-items: stretch;justify-content: center;background-color: white;position: relative;}#sk-container-id-2 div.sk-item::before, #sk-container-id-2 div.sk-parallel-item::before {content: \"\";position: absolute;border-left: 1px solid gray;box-sizing: border-box;top: 0;bottom: 0;left: 50%;z-index: -1;}#sk-container-id-2 div.sk-parallel-item {display: flex;flex-direction: column;z-index: 1;position: relative;background-color: white;}#sk-container-id-2 div.sk-parallel-item:first-child::after {align-self: flex-end;width: 50%;}#sk-container-id-2 div.sk-parallel-item:last-child::after {align-self: flex-start;width: 50%;}#sk-container-id-2 div.sk-parallel-item:only-child::after {width: 0;}#sk-container-id-2 div.sk-dashed-wrapped {border: 1px dashed gray;margin: 0 0.4em 0.5em 0.4em;box-sizing: border-box;padding-bottom: 0.4em;background-color: white;}#sk-container-id-2 div.sk-label label {font-family: monospace;font-weight: bold;display: inline-block;line-height: 1.2em;}#sk-container-id-2 div.sk-label-container {text-align: center;}#sk-container-id-2 div.sk-container {/* jupyter's `normalize.less` sets `[hidden] { display: none; }` but bootstrap.min.css set `[hidden] { display: none !important; }` so we also need the `!important` here to be able to override the default hidden behavior on the sphinx rendered scikit-learn.org. See: https://github.com/scikit-learn/scikit-learn/issues/21755 */display: inline-block !important;position: relative;}#sk-container-id-2 div.sk-text-repr-fallback {display: none;}</style><div id=\"sk-container-id-2\" class=\"sk-top-container\"><div class=\"sk-text-repr-fallback\"><pre>RandomForestRegressor(random_state=42)</pre><b>In a Jupyter environment, please rerun this cell to show the HTML representation or trust the notebook. <br />On GitHub, the HTML representation is unable to render, please try loading this page with nbviewer.org.</b></div><div class=\"sk-container\" hidden><div class=\"sk-item\"><div class=\"sk-estimator sk-toggleable\"><input class=\"sk-toggleable__control sk-hidden--visually\" id=\"sk-estimator-id-2\" type=\"checkbox\" checked><label for=\"sk-estimator-id-2\" class=\"sk-toggleable__label sk-toggleable__label-arrow\">RandomForestRegressor</label><div class=\"sk-toggleable__content\"><pre>RandomForestRegressor(random_state=42)</pre></div></div></div></div></div>"
      ],
      "text/plain": [
       "RandomForestRegressor(random_state=42)"
      ]
     },
     "execution_count": 11,
     "metadata": {},
     "output_type": "execute_result"
    }
   ],
   "source": [
    "# Training the model\n",
    "rf_model.fit(X_train, y_train)"
   ]
  },
  {
   "cell_type": "code",
   "execution_count": 12,
   "id": "579cbecd",
   "metadata": {
    "execution": {
     "iopub.execute_input": "2024-01-09T17:51:34.377287Z",
     "iopub.status.busy": "2024-01-09T17:51:34.376464Z",
     "iopub.status.idle": "2024-01-09T17:51:34.406399Z",
     "shell.execute_reply": "2024-01-09T17:51:34.405255Z"
    },
    "papermill": {
     "duration": 0.040837,
     "end_time": "2024-01-09T17:51:34.408964",
     "exception": false,
     "start_time": "2024-01-09T17:51:34.368127",
     "status": "completed"
    },
    "tags": []
   },
   "outputs": [
    {
     "data": {
      "text/plain": [
       "array([ 2398.3337,  2010.2661,  2544.1323,  2482.1258,  1706.0424,\n",
       "        3990.3014,  2177.6186,  7729.3487,  3206.9595,  5985.8959,\n",
       "        3155.9774,  2225.5041,  1308.7294,  3303.3774,  3201.3601,\n",
       "        5642.1716,  6568.3367,  2859.8725,  6771.2117,  2341.7629,\n",
       "        6815.5982,  2465.6314,  2412.2423,  1768.5654,  1514.9656,\n",
       "        1245.6318,  3178.6614,  6501.5417,  2799.58  ,  4808.0787,\n",
       "        3214.3548,  5731.2542,  5517.9562,  4172.2864,  4625.961 ,\n",
       "        3577.2125,  5130.5928,  3716.4861,  2186.9797,  1867.0614,\n",
       "        1830.3003,  1240.5828,  2339.2115,  4449.1504,  2832.677 ,\n",
       "        2351.3359,  3829.1491,  1978.0111,  7592.7269,  3127.6349,\n",
       "        3257.0017,  1868.2464,  2201.3928,  1363.2772,  6029.4201,\n",
       "        2341.0308,  6600.5131,  6231.4333,  1631.3763,  1693.6582,\n",
       "        3895.4597,  6527.3612,  3475.7944,  4164.8367,  6034.9297,\n",
       "        7425.4305,  1534.0231,  2829.7143,  3987.3238,  2809.1194,\n",
       "        1627.8147,  6421.0542,  2155.1817,  1632.2048,  6585.3138,\n",
       "        6067.2697,  3556.4184,  4428.8671,  1913.7571,  5985.1306,\n",
       "        1728.2512,  2197.6555,  1401.1876,  5039.3789,  2783.4916,\n",
       "        2677.9485,  3443.6713,  2122.4101,  3185.3102,  5664.1503,\n",
       "        3447.3995,  2320.0548,  5670.0015,  2104.0453,  5922.8463,\n",
       "        3214.625 ,  2268.7248,  1979.4897,  5459.2448,  4184.6525,\n",
       "        7555.829 ,  4536.8869,  4429.0784,  2652.3735,  2439.1921,\n",
       "        3592.2429,  1687.1313,  3399.9593,  2793.7659,  8873.4571,\n",
       "        2418.3716,  2388.0534,  6476.0028,  5935.3644,  4360.7727,\n",
       "        4693.038 ,  3729.3026,  3985.6729,  1033.0679,  1089.1714,\n",
       "         829.6928,  3359.686 ,  2849.13  ,  4653.5565,  3201.5095,\n",
       "        1191.5185,  1056.3053,  3745.4898,  1076.6032,  2798.6537,\n",
       "        2871.9004,  1633.4074,  3929.6183,  3981.0829,  3466.5166,\n",
       "        1328.5339,  1900.41  ,  3166.4301,  3748.2759,  1484.3368,\n",
       "        3477.636 ,  3626.9569,  3453.4625,  2835.0802,  5421.592 ,\n",
       "        3592.4419,  3486.9096,  6271.2118,  2837.852 ,  5709.3961,\n",
       "        3332.3432,  1799.8163,  1463.395 ,  2246.6411,  1687.9758,\n",
       "        2771.2307,  1424.9018,  6131.8199,  5120.7667,  4193.8359,\n",
       "        2037.7881,  2532.4394,  2807.2455,  3218.5569,  5283.6321,\n",
       "        4406.6925,  1497.8523,  4807.1236,  3702.5993,  2841.6532,\n",
       "        3140.0499,  4144.3278,  3343.9165,  3239.2315,  2433.8071,\n",
       "        1489.1186,  4985.9784,  5484.5367,  5899.1419,  3278.5338,\n",
       "        4288.6928,  5106.0091,  5235.5167,  5768.4383,  3168.9124,\n",
       "        4842.0362,  4058.7397,  3211.0879,  4958.9306,  2039.2444,\n",
       "        5406.4555,  2656.936 ,  3164.0975,  4071.8698,   934.5462,\n",
       "        1932.0355,  4862.0547,   932.6792,  3730.9863,  2819.4748,\n",
       "        1450.5616,  4783.7997,  2758.2607,  4805.4035,  2145.3975,\n",
       "        2268.3439,  5489.0237,  2414.5749,  1853.5556,  1752.6445,\n",
       "        2390.8543,  4018.6098,  6387.8801,  8199.1069,  2415.5456,\n",
       "        4271.9041,  1309.6549,  5202.6258,  2013.7868,  1454.3165,\n",
       "        2634.6275,  3736.2943,  6603.8006,  1584.3623,   955.3532,\n",
       "        2102.3086,  4013.3666,  2363.6795,  4820.281 ,  2822.1328,\n",
       "        2592.3813,  4914.2225,  2117.9971,  1524.1842,  3540.3893,\n",
       "        8251.1303,  1975.3198,  3518.9986,  3262.4702,  1330.7321,\n",
       "        7677.2752,  1855.9428,  2810.0349,  2594.5093,  2725.9846,\n",
       "        6085.6845,  5756.7544,  3214.2975,  5689.6335,  2100.6422,\n",
       "        2565.7895,  3158.5236,  2205.3237,  4058.0497,  5939.8115,\n",
       "        1185.2644,  7608.9715,  2285.3471,  3507.8773,  3146.0302,\n",
       "        6072.7738,  4162.4969,   863.853 ,  6821.1915,  2736.4692,\n",
       "        1428.6053,  5252.7722,  6098.7148,  4409.6636,  2606.9486,\n",
       "        5709.9008,  4247.3784,  2484.535 ,  3970.952 ,  2177.5028,\n",
       "        4118.194 ,  1759.434 ,  5971.5942,  1382.0349,  2869.7466,\n",
       "        1674.525 ,  1536.9417,  3181.3171,  1142.7803,  1916.2009,\n",
       "        1634.5059,  2717.11  ,  7906.6643,  4878.2994,  2000.9184,\n",
       "        4808.9737,  1852.2601,  6071.3907,  1298.4925,  5427.9384,\n",
       "        5470.0216,  2843.12  ,  1701.8699,  4684.6408,  4104.5757,\n",
       "        2204.2802,  3538.5537,  3178.1077,  4671.4728,  5377.5062,\n",
       "        4203.6694,  3696.2084,  4221.557 ,  2872.237 ,  5358.5051,\n",
       "        1467.7411,  3247.8753,  1493.1151,  4912.0919,  4560.7617,\n",
       "        3271.2931,   675.8609,  5764.0289,  1554.8272,  5248.8744,\n",
       "        2837.1189,  1784.4507,   936.4678,  5306.288 ,  2123.6983,\n",
       "        3292.0903,  5749.1294,  3606.528 ,  3949.9666,  4120.5787,\n",
       "        4428.2569,  2697.0177,  2653.0384,  4164.9721,  1540.0286,\n",
       "        3891.431 ,  2009.5663,  1565.8603,  1707.5132,  2510.5757,\n",
       "        3648.3404,  1811.6847,  3280.7443,  2471.738 ,  5558.28  ,\n",
       "        2700.1387,  4326.6891,  3883.4109,  4479.7906,  7901.7992,\n",
       "        4512.9878,  3915.2755,  4718.943 ,  3890.2317,  2400.1644,\n",
       "        2667.9486,  1242.7687,  2528.3212,  3926.1806,  5378.7742,\n",
       "        2373.1151,  2362.0811,  2645.6034,  3341.5734,  4409.7636,\n",
       "        2358.3605,  5412.984 ,  4154.227 ,  3218.1473,  2329.2049,\n",
       "        3500.731 ,  1981.7677,  3481.1   ,  4903.19  ,  6253.1041,\n",
       "        5524.9209,  3576.8759,  3167.9239,  6546.3855,  1842.0358,\n",
       "        5990.9215,  2837.6422,  2792.2177,  1997.4411,  3517.4754,\n",
       "        1924.067 ,  3140.0252,  5896.1582,  3819.6911,  4517.3824,\n",
       "        3144.2119,  3129.7271,  3128.929 ,  2622.4622,  3183.7606,\n",
       "        3173.5234,  3114.5297,  1829.5927,  7363.1985,  6105.027 ,\n",
       "        4083.8916,  2187.9061,  1866.4076,  3710.8725,  3788.8093,\n",
       "        2485.2562,  1773.4875,  3576.9027,  4095.9398,  2792.9057,\n",
       "        3150.9489,  2736.4622,  2649.117 ,  3991.6419,  1687.486 ,\n",
       "        2812.7323,  3865.9686,  2502.3283,  2067.2985,  1377.9021,\n",
       "        2798.7725,  1661.8904,  1594.1922,  2447.5949,  5420.8195,\n",
       "        2782.1367,  3435.7634,  7960.2463,  4909.8772,  1979.4454,\n",
       "        3906.4849,  2347.1506,  2710.9995,  6481.0709,  1518.7524,\n",
       "        2816.5022,  3409.3208,  1646.7513,  6029.4482,  3613.7343,\n",
       "        4492.3455,  3664.2262,  3228.2074, 10384.9519,  5851.9744,\n",
       "        1010.1   ,  1866.593 ,  3310.559 ,  2809.2234,  2855.0891,\n",
       "        2706.9752,  4744.6133,  2626.9531,  2448.7363,  4648.6751,\n",
       "        6420.7035,  3590.6654,  5532.5415,  1323.0597,  5201.0348,\n",
       "        1756.1056,  3967.5168,  2880.4246,  3583.2467,  2901.5834,\n",
       "        2116.5493,  2416.1969,  3573.7029,  1384.5419,  2026.1578,\n",
       "        4898.1536,  2209.3556,  5909.7635,  2451.7631,  4440.9663,\n",
       "        1424.2032,  2253.7704,  4415.6517,  2730.1995,  6120.891 ,\n",
       "        2053.8908,  1782.8456,  3069.5153,  4280.2336,  8087.6472,\n",
       "        1709.7841,  2153.6697,  5513.0062,   703.3758,  2746.7661,\n",
       "        4663.8858,  5808.9145,  5512.6534,  3349.3438,  2472.6599,\n",
       "        2775.057 ,  4858.1181,  5392.6116,  2633.5428,  2892.1546,\n",
       "        4778.6084,  1759.9282,  1571.4139,  2862.8707,  1157.4977,\n",
       "        1018.1893,  4544.157 ,  4433.5772,  6152.516 ,  4321.8831,\n",
       "        6475.2565,  4999.6774,  2818.055 ,  3341.5959,  1488.1343,\n",
       "        9184.3174,  9532.6555,  7341.872 ,  4259.2507,  4161.559 ,\n",
       "        5995.5933,  1884.4398,  1067.9761,  5879.0024,  1563.8817,\n",
       "        2190.231 ,  2659.4782,  2233.5956,  3734.183 ,  2263.4503,\n",
       "        4511.0138,  2429.8413,  3327.6743,  5212.5792,  4127.6891,\n",
       "        2696.7094,  3368.2177,  4473.5791,  3863.3003,  3145.8634,\n",
       "        3273.3061,  7267.179 ,  2391.5526,  7431.7626,   980.1062,\n",
       "        1899.1087,  2124.5904,  1360.8846,  8750.4441,  3395.5263])"
      ]
     },
     "execution_count": 12,
     "metadata": {},
     "output_type": "execute_result"
    }
   ],
   "source": [
    "# Making predictions on the test set\n",
    "y_pred = rf_model.predict(X_test)\n",
    "y_pred"
   ]
  },
  {
   "cell_type": "code",
   "execution_count": 13,
   "id": "9f702d56",
   "metadata": {
    "execution": {
     "iopub.execute_input": "2024-01-09T17:51:34.425571Z",
     "iopub.status.busy": "2024-01-09T17:51:34.425162Z",
     "iopub.status.idle": "2024-01-09T17:51:34.434390Z",
     "shell.execute_reply": "2024-01-09T17:51:34.433076Z"
    },
    "papermill": {
     "duration": 0.020912,
     "end_time": "2024-01-09T17:51:34.437362",
     "exception": false,
     "start_time": "2024-01-09T17:51:34.416450",
     "status": "completed"
    },
    "tags": []
   },
   "outputs": [
    {
     "name": "stdout",
     "output_type": "stream",
     "text": [
      "Mean Absolute Error: 69.24167672727283\n",
      "Mean Squared Error: 20671.68980515293\n",
      "R-squared: 0.9932187078509546\n"
     ]
    }
   ],
   "source": [
    "# Evaluate the model\n",
    "mae = mean_absolute_error(y_test, y_pred)\n",
    "mse = mean_squared_error(y_test, y_pred)\n",
    "r2 = r2_score(y_test, y_pred)\n",
    "\n",
    "print(f'Mean Absolute Error: {mae}')\n",
    "print(f'Mean Squared Error: {mse}')\n",
    "print(f'R-squared: {r2}')"
   ]
  },
  {
   "cell_type": "markdown",
   "id": "af16614c",
   "metadata": {
    "papermill": {
     "duration": 0.007231,
     "end_time": "2024-01-09T17:51:34.452593",
     "exception": false,
     "start_time": "2024-01-09T17:51:34.445362",
     "status": "completed"
    },
    "tags": []
   },
   "source": [
    "**Hyperparameter Tuning**"
   ]
  },
  {
   "cell_type": "code",
   "execution_count": 14,
   "id": "7266ffbf",
   "metadata": {
    "execution": {
     "iopub.execute_input": "2024-01-09T17:51:34.469239Z",
     "iopub.status.busy": "2024-01-09T17:51:34.468862Z",
     "iopub.status.idle": "2024-01-09T17:51:34.473643Z",
     "shell.execute_reply": "2024-01-09T17:51:34.472439Z"
    },
    "papermill": {
     "duration": 0.015944,
     "end_time": "2024-01-09T17:51:34.475991",
     "exception": false,
     "start_time": "2024-01-09T17:51:34.460047",
     "status": "completed"
    },
    "tags": []
   },
   "outputs": [],
   "source": [
    "from sklearn.model_selection import RandomizedSearchCV\n",
    "from scipy.stats import randint"
   ]
  },
  {
   "cell_type": "code",
   "execution_count": 15,
   "id": "d3124cdb",
   "metadata": {
    "execution": {
     "iopub.execute_input": "2024-01-09T17:51:34.493128Z",
     "iopub.status.busy": "2024-01-09T17:51:34.492653Z",
     "iopub.status.idle": "2024-01-09T17:51:34.499423Z",
     "shell.execute_reply": "2024-01-09T17:51:34.498062Z"
    },
    "papermill": {
     "duration": 0.018054,
     "end_time": "2024-01-09T17:51:34.501860",
     "exception": false,
     "start_time": "2024-01-09T17:51:34.483806",
     "status": "completed"
    },
    "tags": []
   },
   "outputs": [],
   "source": [
    "# Defining hyperparameter grid for tuning\n",
    "param_dist = {\n",
    "    'n_estimators': randint(10, 100),\n",
    "    'max_depth': [None, 10, 20, 30],\n",
    "    'min_samples_split': [2, 5, 10],\n",
    "    'min_samples_leaf': [1, 2, 4]\n",
    "}"
   ]
  },
  {
   "cell_type": "code",
   "execution_count": 16,
   "id": "21ca6183",
   "metadata": {
    "execution": {
     "iopub.execute_input": "2024-01-09T17:51:34.519161Z",
     "iopub.status.busy": "2024-01-09T17:51:34.518798Z",
     "iopub.status.idle": "2024-01-09T17:51:34.530351Z",
     "shell.execute_reply": "2024-01-09T17:51:34.529157Z"
    },
    "papermill": {
     "duration": 0.022901,
     "end_time": "2024-01-09T17:51:34.532735",
     "exception": false,
     "start_time": "2024-01-09T17:51:34.509834",
     "status": "completed"
    },
    "tags": []
   },
   "outputs": [
    {
     "data": {
      "text/html": [
       "<style>#sk-container-id-3 {color: black;background-color: white;}#sk-container-id-3 pre{padding: 0;}#sk-container-id-3 div.sk-toggleable {background-color: white;}#sk-container-id-3 label.sk-toggleable__label {cursor: pointer;display: block;width: 100%;margin-bottom: 0;padding: 0.3em;box-sizing: border-box;text-align: center;}#sk-container-id-3 label.sk-toggleable__label-arrow:before {content: \"▸\";float: left;margin-right: 0.25em;color: #696969;}#sk-container-id-3 label.sk-toggleable__label-arrow:hover:before {color: black;}#sk-container-id-3 div.sk-estimator:hover label.sk-toggleable__label-arrow:before {color: black;}#sk-container-id-3 div.sk-toggleable__content {max-height: 0;max-width: 0;overflow: hidden;text-align: left;background-color: #f0f8ff;}#sk-container-id-3 div.sk-toggleable__content pre {margin: 0.2em;color: black;border-radius: 0.25em;background-color: #f0f8ff;}#sk-container-id-3 input.sk-toggleable__control:checked~div.sk-toggleable__content {max-height: 200px;max-width: 100%;overflow: auto;}#sk-container-id-3 input.sk-toggleable__control:checked~label.sk-toggleable__label-arrow:before {content: \"▾\";}#sk-container-id-3 div.sk-estimator input.sk-toggleable__control:checked~label.sk-toggleable__label {background-color: #d4ebff;}#sk-container-id-3 div.sk-label input.sk-toggleable__control:checked~label.sk-toggleable__label {background-color: #d4ebff;}#sk-container-id-3 input.sk-hidden--visually {border: 0;clip: rect(1px 1px 1px 1px);clip: rect(1px, 1px, 1px, 1px);height: 1px;margin: -1px;overflow: hidden;padding: 0;position: absolute;width: 1px;}#sk-container-id-3 div.sk-estimator {font-family: monospace;background-color: #f0f8ff;border: 1px dotted black;border-radius: 0.25em;box-sizing: border-box;margin-bottom: 0.5em;}#sk-container-id-3 div.sk-estimator:hover {background-color: #d4ebff;}#sk-container-id-3 div.sk-parallel-item::after {content: \"\";width: 100%;border-bottom: 1px solid gray;flex-grow: 1;}#sk-container-id-3 div.sk-label:hover label.sk-toggleable__label {background-color: #d4ebff;}#sk-container-id-3 div.sk-serial::before {content: \"\";position: absolute;border-left: 1px solid gray;box-sizing: border-box;top: 0;bottom: 0;left: 50%;z-index: 0;}#sk-container-id-3 div.sk-serial {display: flex;flex-direction: column;align-items: center;background-color: white;padding-right: 0.2em;padding-left: 0.2em;position: relative;}#sk-container-id-3 div.sk-item {position: relative;z-index: 1;}#sk-container-id-3 div.sk-parallel {display: flex;align-items: stretch;justify-content: center;background-color: white;position: relative;}#sk-container-id-3 div.sk-item::before, #sk-container-id-3 div.sk-parallel-item::before {content: \"\";position: absolute;border-left: 1px solid gray;box-sizing: border-box;top: 0;bottom: 0;left: 50%;z-index: -1;}#sk-container-id-3 div.sk-parallel-item {display: flex;flex-direction: column;z-index: 1;position: relative;background-color: white;}#sk-container-id-3 div.sk-parallel-item:first-child::after {align-self: flex-end;width: 50%;}#sk-container-id-3 div.sk-parallel-item:last-child::after {align-self: flex-start;width: 50%;}#sk-container-id-3 div.sk-parallel-item:only-child::after {width: 0;}#sk-container-id-3 div.sk-dashed-wrapped {border: 1px dashed gray;margin: 0 0.4em 0.5em 0.4em;box-sizing: border-box;padding-bottom: 0.4em;background-color: white;}#sk-container-id-3 div.sk-label label {font-family: monospace;font-weight: bold;display: inline-block;line-height: 1.2em;}#sk-container-id-3 div.sk-label-container {text-align: center;}#sk-container-id-3 div.sk-container {/* jupyter's `normalize.less` sets `[hidden] { display: none; }` but bootstrap.min.css set `[hidden] { display: none !important; }` so we also need the `!important` here to be able to override the default hidden behavior on the sphinx rendered scikit-learn.org. See: https://github.com/scikit-learn/scikit-learn/issues/21755 */display: inline-block !important;position: relative;}#sk-container-id-3 div.sk-text-repr-fallback {display: none;}</style><div id=\"sk-container-id-3\" class=\"sk-top-container\"><div class=\"sk-text-repr-fallback\"><pre>RandomizedSearchCV(cv=5, estimator=RandomForestRegressor(random_state=42),\n",
       "                   n_jobs=-1,\n",
       "                   param_distributions={&#x27;max_depth&#x27;: [None, 10, 20, 30],\n",
       "                                        &#x27;min_samples_leaf&#x27;: [1, 2, 4],\n",
       "                                        &#x27;min_samples_split&#x27;: [2, 5, 10],\n",
       "                                        &#x27;n_estimators&#x27;: &lt;scipy.stats._distn_infrastructure.rv_discrete_frozen object at 0x7aa6de471150&gt;},\n",
       "                   scoring=&#x27;neg_mean_squared_error&#x27;)</pre><b>In a Jupyter environment, please rerun this cell to show the HTML representation or trust the notebook. <br />On GitHub, the HTML representation is unable to render, please try loading this page with nbviewer.org.</b></div><div class=\"sk-container\" hidden><div class=\"sk-item sk-dashed-wrapped\"><div class=\"sk-label-container\"><div class=\"sk-label sk-toggleable\"><input class=\"sk-toggleable__control sk-hidden--visually\" id=\"sk-estimator-id-3\" type=\"checkbox\" ><label for=\"sk-estimator-id-3\" class=\"sk-toggleable__label sk-toggleable__label-arrow\">RandomizedSearchCV</label><div class=\"sk-toggleable__content\"><pre>RandomizedSearchCV(cv=5, estimator=RandomForestRegressor(random_state=42),\n",
       "                   n_jobs=-1,\n",
       "                   param_distributions={&#x27;max_depth&#x27;: [None, 10, 20, 30],\n",
       "                                        &#x27;min_samples_leaf&#x27;: [1, 2, 4],\n",
       "                                        &#x27;min_samples_split&#x27;: [2, 5, 10],\n",
       "                                        &#x27;n_estimators&#x27;: &lt;scipy.stats._distn_infrastructure.rv_discrete_frozen object at 0x7aa6de471150&gt;},\n",
       "                   scoring=&#x27;neg_mean_squared_error&#x27;)</pre></div></div></div><div class=\"sk-parallel\"><div class=\"sk-parallel-item\"><div class=\"sk-item\"><div class=\"sk-label-container\"><div class=\"sk-label sk-toggleable\"><input class=\"sk-toggleable__control sk-hidden--visually\" id=\"sk-estimator-id-4\" type=\"checkbox\" ><label for=\"sk-estimator-id-4\" class=\"sk-toggleable__label sk-toggleable__label-arrow\">estimator: RandomForestRegressor</label><div class=\"sk-toggleable__content\"><pre>RandomForestRegressor(random_state=42)</pre></div></div></div><div class=\"sk-serial\"><div class=\"sk-item\"><div class=\"sk-estimator sk-toggleable\"><input class=\"sk-toggleable__control sk-hidden--visually\" id=\"sk-estimator-id-5\" type=\"checkbox\" ><label for=\"sk-estimator-id-5\" class=\"sk-toggleable__label sk-toggleable__label-arrow\">RandomForestRegressor</label><div class=\"sk-toggleable__content\"><pre>RandomForestRegressor(random_state=42)</pre></div></div></div></div></div></div></div></div></div></div>"
      ],
      "text/plain": [
       "RandomizedSearchCV(cv=5, estimator=RandomForestRegressor(random_state=42),\n",
       "                   n_jobs=-1,\n",
       "                   param_distributions={'max_depth': [None, 10, 20, 30],\n",
       "                                        'min_samples_leaf': [1, 2, 4],\n",
       "                                        'min_samples_split': [2, 5, 10],\n",
       "                                        'n_estimators': <scipy.stats._distn_infrastructure.rv_discrete_frozen object at 0x7aa6de471150>},\n",
       "                   scoring='neg_mean_squared_error')"
      ]
     },
     "execution_count": 16,
     "metadata": {},
     "output_type": "execute_result"
    }
   ],
   "source": [
    "# Using Randomized Search to find the best hyperparameters\n",
    "random_search = RandomizedSearchCV(estimator=rf_model, param_distributions=param_dist, n_iter=10, cv=5, scoring='neg_mean_squared_error', n_jobs=-1)\n",
    "random_search"
   ]
  },
  {
   "cell_type": "code",
   "execution_count": 17,
   "id": "e4d5062b",
   "metadata": {
    "execution": {
     "iopub.execute_input": "2024-01-09T17:51:34.550921Z",
     "iopub.status.busy": "2024-01-09T17:51:34.550540Z",
     "iopub.status.idle": "2024-01-09T17:51:44.741186Z",
     "shell.execute_reply": "2024-01-09T17:51:44.739890Z"
    },
    "papermill": {
     "duration": 10.202685,
     "end_time": "2024-01-09T17:51:44.743616",
     "exception": false,
     "start_time": "2024-01-09T17:51:34.540931",
     "status": "completed"
    },
    "tags": []
   },
   "outputs": [
    {
     "data": {
      "text/html": [
       "<style>#sk-container-id-4 {color: black;background-color: white;}#sk-container-id-4 pre{padding: 0;}#sk-container-id-4 div.sk-toggleable {background-color: white;}#sk-container-id-4 label.sk-toggleable__label {cursor: pointer;display: block;width: 100%;margin-bottom: 0;padding: 0.3em;box-sizing: border-box;text-align: center;}#sk-container-id-4 label.sk-toggleable__label-arrow:before {content: \"▸\";float: left;margin-right: 0.25em;color: #696969;}#sk-container-id-4 label.sk-toggleable__label-arrow:hover:before {color: black;}#sk-container-id-4 div.sk-estimator:hover label.sk-toggleable__label-arrow:before {color: black;}#sk-container-id-4 div.sk-toggleable__content {max-height: 0;max-width: 0;overflow: hidden;text-align: left;background-color: #f0f8ff;}#sk-container-id-4 div.sk-toggleable__content pre {margin: 0.2em;color: black;border-radius: 0.25em;background-color: #f0f8ff;}#sk-container-id-4 input.sk-toggleable__control:checked~div.sk-toggleable__content {max-height: 200px;max-width: 100%;overflow: auto;}#sk-container-id-4 input.sk-toggleable__control:checked~label.sk-toggleable__label-arrow:before {content: \"▾\";}#sk-container-id-4 div.sk-estimator input.sk-toggleable__control:checked~label.sk-toggleable__label {background-color: #d4ebff;}#sk-container-id-4 div.sk-label input.sk-toggleable__control:checked~label.sk-toggleable__label {background-color: #d4ebff;}#sk-container-id-4 input.sk-hidden--visually {border: 0;clip: rect(1px 1px 1px 1px);clip: rect(1px, 1px, 1px, 1px);height: 1px;margin: -1px;overflow: hidden;padding: 0;position: absolute;width: 1px;}#sk-container-id-4 div.sk-estimator {font-family: monospace;background-color: #f0f8ff;border: 1px dotted black;border-radius: 0.25em;box-sizing: border-box;margin-bottom: 0.5em;}#sk-container-id-4 div.sk-estimator:hover {background-color: #d4ebff;}#sk-container-id-4 div.sk-parallel-item::after {content: \"\";width: 100%;border-bottom: 1px solid gray;flex-grow: 1;}#sk-container-id-4 div.sk-label:hover label.sk-toggleable__label {background-color: #d4ebff;}#sk-container-id-4 div.sk-serial::before {content: \"\";position: absolute;border-left: 1px solid gray;box-sizing: border-box;top: 0;bottom: 0;left: 50%;z-index: 0;}#sk-container-id-4 div.sk-serial {display: flex;flex-direction: column;align-items: center;background-color: white;padding-right: 0.2em;padding-left: 0.2em;position: relative;}#sk-container-id-4 div.sk-item {position: relative;z-index: 1;}#sk-container-id-4 div.sk-parallel {display: flex;align-items: stretch;justify-content: center;background-color: white;position: relative;}#sk-container-id-4 div.sk-item::before, #sk-container-id-4 div.sk-parallel-item::before {content: \"\";position: absolute;border-left: 1px solid gray;box-sizing: border-box;top: 0;bottom: 0;left: 50%;z-index: -1;}#sk-container-id-4 div.sk-parallel-item {display: flex;flex-direction: column;z-index: 1;position: relative;background-color: white;}#sk-container-id-4 div.sk-parallel-item:first-child::after {align-self: flex-end;width: 50%;}#sk-container-id-4 div.sk-parallel-item:last-child::after {align-self: flex-start;width: 50%;}#sk-container-id-4 div.sk-parallel-item:only-child::after {width: 0;}#sk-container-id-4 div.sk-dashed-wrapped {border: 1px dashed gray;margin: 0 0.4em 0.5em 0.4em;box-sizing: border-box;padding-bottom: 0.4em;background-color: white;}#sk-container-id-4 div.sk-label label {font-family: monospace;font-weight: bold;display: inline-block;line-height: 1.2em;}#sk-container-id-4 div.sk-label-container {text-align: center;}#sk-container-id-4 div.sk-container {/* jupyter's `normalize.less` sets `[hidden] { display: none; }` but bootstrap.min.css set `[hidden] { display: none !important; }` so we also need the `!important` here to be able to override the default hidden behavior on the sphinx rendered scikit-learn.org. See: https://github.com/scikit-learn/scikit-learn/issues/21755 */display: inline-block !important;position: relative;}#sk-container-id-4 div.sk-text-repr-fallback {display: none;}</style><div id=\"sk-container-id-4\" class=\"sk-top-container\"><div class=\"sk-text-repr-fallback\"><pre>RandomizedSearchCV(cv=5, estimator=RandomForestRegressor(random_state=42),\n",
       "                   n_jobs=-1,\n",
       "                   param_distributions={&#x27;max_depth&#x27;: [None, 10, 20, 30],\n",
       "                                        &#x27;min_samples_leaf&#x27;: [1, 2, 4],\n",
       "                                        &#x27;min_samples_split&#x27;: [2, 5, 10],\n",
       "                                        &#x27;n_estimators&#x27;: &lt;scipy.stats._distn_infrastructure.rv_discrete_frozen object at 0x7aa6de471150&gt;},\n",
       "                   scoring=&#x27;neg_mean_squared_error&#x27;)</pre><b>In a Jupyter environment, please rerun this cell to show the HTML representation or trust the notebook. <br />On GitHub, the HTML representation is unable to render, please try loading this page with nbviewer.org.</b></div><div class=\"sk-container\" hidden><div class=\"sk-item sk-dashed-wrapped\"><div class=\"sk-label-container\"><div class=\"sk-label sk-toggleable\"><input class=\"sk-toggleable__control sk-hidden--visually\" id=\"sk-estimator-id-6\" type=\"checkbox\" ><label for=\"sk-estimator-id-6\" class=\"sk-toggleable__label sk-toggleable__label-arrow\">RandomizedSearchCV</label><div class=\"sk-toggleable__content\"><pre>RandomizedSearchCV(cv=5, estimator=RandomForestRegressor(random_state=42),\n",
       "                   n_jobs=-1,\n",
       "                   param_distributions={&#x27;max_depth&#x27;: [None, 10, 20, 30],\n",
       "                                        &#x27;min_samples_leaf&#x27;: [1, 2, 4],\n",
       "                                        &#x27;min_samples_split&#x27;: [2, 5, 10],\n",
       "                                        &#x27;n_estimators&#x27;: &lt;scipy.stats._distn_infrastructure.rv_discrete_frozen object at 0x7aa6de471150&gt;},\n",
       "                   scoring=&#x27;neg_mean_squared_error&#x27;)</pre></div></div></div><div class=\"sk-parallel\"><div class=\"sk-parallel-item\"><div class=\"sk-item\"><div class=\"sk-label-container\"><div class=\"sk-label sk-toggleable\"><input class=\"sk-toggleable__control sk-hidden--visually\" id=\"sk-estimator-id-7\" type=\"checkbox\" ><label for=\"sk-estimator-id-7\" class=\"sk-toggleable__label sk-toggleable__label-arrow\">estimator: RandomForestRegressor</label><div class=\"sk-toggleable__content\"><pre>RandomForestRegressor(random_state=42)</pre></div></div></div><div class=\"sk-serial\"><div class=\"sk-item\"><div class=\"sk-estimator sk-toggleable\"><input class=\"sk-toggleable__control sk-hidden--visually\" id=\"sk-estimator-id-8\" type=\"checkbox\" ><label for=\"sk-estimator-id-8\" class=\"sk-toggleable__label sk-toggleable__label-arrow\">RandomForestRegressor</label><div class=\"sk-toggleable__content\"><pre>RandomForestRegressor(random_state=42)</pre></div></div></div></div></div></div></div></div></div></div>"
      ],
      "text/plain": [
       "RandomizedSearchCV(cv=5, estimator=RandomForestRegressor(random_state=42),\n",
       "                   n_jobs=-1,\n",
       "                   param_distributions={'max_depth': [None, 10, 20, 30],\n",
       "                                        'min_samples_leaf': [1, 2, 4],\n",
       "                                        'min_samples_split': [2, 5, 10],\n",
       "                                        'n_estimators': <scipy.stats._distn_infrastructure.rv_discrete_frozen object at 0x7aa6de471150>},\n",
       "                   scoring='neg_mean_squared_error')"
      ]
     },
     "execution_count": 17,
     "metadata": {},
     "output_type": "execute_result"
    }
   ],
   "source": [
    "# Fitting the grid search to the data\n",
    "random_search.fit(X_train, y_train)"
   ]
  },
  {
   "cell_type": "code",
   "execution_count": 18,
   "id": "044b3478",
   "metadata": {
    "execution": {
     "iopub.execute_input": "2024-01-09T17:51:44.762589Z",
     "iopub.status.busy": "2024-01-09T17:51:44.761360Z",
     "iopub.status.idle": "2024-01-09T17:51:44.768934Z",
     "shell.execute_reply": "2024-01-09T17:51:44.767874Z"
    },
    "papermill": {
     "duration": 0.019629,
     "end_time": "2024-01-09T17:51:44.771179",
     "exception": false,
     "start_time": "2024-01-09T17:51:44.751550",
     "status": "completed"
    },
    "tags": []
   },
   "outputs": [
    {
     "data": {
      "text/plain": [
       "{'max_depth': None,\n",
       " 'min_samples_leaf': 2,\n",
       " 'min_samples_split': 2,\n",
       " 'n_estimators': 73}"
      ]
     },
     "execution_count": 18,
     "metadata": {},
     "output_type": "execute_result"
    }
   ],
   "source": [
    "# Getting the best hyperparameters from the grid search\n",
    "best_params = random_search.best_params_\n",
    "\n",
    "best_params"
   ]
  },
  {
   "cell_type": "code",
   "execution_count": 19,
   "id": "7c81631b",
   "metadata": {
    "execution": {
     "iopub.execute_input": "2024-01-09T17:51:44.789170Z",
     "iopub.status.busy": "2024-01-09T17:51:44.788753Z",
     "iopub.status.idle": "2024-01-09T17:51:44.797333Z",
     "shell.execute_reply": "2024-01-09T17:51:44.796323Z"
    },
    "papermill": {
     "duration": 0.020652,
     "end_time": "2024-01-09T17:51:44.799974",
     "exception": false,
     "start_time": "2024-01-09T17:51:44.779322",
     "status": "completed"
    },
    "tags": []
   },
   "outputs": [
    {
     "data": {
      "text/html": [
       "<style>#sk-container-id-5 {color: black;background-color: white;}#sk-container-id-5 pre{padding: 0;}#sk-container-id-5 div.sk-toggleable {background-color: white;}#sk-container-id-5 label.sk-toggleable__label {cursor: pointer;display: block;width: 100%;margin-bottom: 0;padding: 0.3em;box-sizing: border-box;text-align: center;}#sk-container-id-5 label.sk-toggleable__label-arrow:before {content: \"▸\";float: left;margin-right: 0.25em;color: #696969;}#sk-container-id-5 label.sk-toggleable__label-arrow:hover:before {color: black;}#sk-container-id-5 div.sk-estimator:hover label.sk-toggleable__label-arrow:before {color: black;}#sk-container-id-5 div.sk-toggleable__content {max-height: 0;max-width: 0;overflow: hidden;text-align: left;background-color: #f0f8ff;}#sk-container-id-5 div.sk-toggleable__content pre {margin: 0.2em;color: black;border-radius: 0.25em;background-color: #f0f8ff;}#sk-container-id-5 input.sk-toggleable__control:checked~div.sk-toggleable__content {max-height: 200px;max-width: 100%;overflow: auto;}#sk-container-id-5 input.sk-toggleable__control:checked~label.sk-toggleable__label-arrow:before {content: \"▾\";}#sk-container-id-5 div.sk-estimator input.sk-toggleable__control:checked~label.sk-toggleable__label {background-color: #d4ebff;}#sk-container-id-5 div.sk-label input.sk-toggleable__control:checked~label.sk-toggleable__label {background-color: #d4ebff;}#sk-container-id-5 input.sk-hidden--visually {border: 0;clip: rect(1px 1px 1px 1px);clip: rect(1px, 1px, 1px, 1px);height: 1px;margin: -1px;overflow: hidden;padding: 0;position: absolute;width: 1px;}#sk-container-id-5 div.sk-estimator {font-family: monospace;background-color: #f0f8ff;border: 1px dotted black;border-radius: 0.25em;box-sizing: border-box;margin-bottom: 0.5em;}#sk-container-id-5 div.sk-estimator:hover {background-color: #d4ebff;}#sk-container-id-5 div.sk-parallel-item::after {content: \"\";width: 100%;border-bottom: 1px solid gray;flex-grow: 1;}#sk-container-id-5 div.sk-label:hover label.sk-toggleable__label {background-color: #d4ebff;}#sk-container-id-5 div.sk-serial::before {content: \"\";position: absolute;border-left: 1px solid gray;box-sizing: border-box;top: 0;bottom: 0;left: 50%;z-index: 0;}#sk-container-id-5 div.sk-serial {display: flex;flex-direction: column;align-items: center;background-color: white;padding-right: 0.2em;padding-left: 0.2em;position: relative;}#sk-container-id-5 div.sk-item {position: relative;z-index: 1;}#sk-container-id-5 div.sk-parallel {display: flex;align-items: stretch;justify-content: center;background-color: white;position: relative;}#sk-container-id-5 div.sk-item::before, #sk-container-id-5 div.sk-parallel-item::before {content: \"\";position: absolute;border-left: 1px solid gray;box-sizing: border-box;top: 0;bottom: 0;left: 50%;z-index: -1;}#sk-container-id-5 div.sk-parallel-item {display: flex;flex-direction: column;z-index: 1;position: relative;background-color: white;}#sk-container-id-5 div.sk-parallel-item:first-child::after {align-self: flex-end;width: 50%;}#sk-container-id-5 div.sk-parallel-item:last-child::after {align-self: flex-start;width: 50%;}#sk-container-id-5 div.sk-parallel-item:only-child::after {width: 0;}#sk-container-id-5 div.sk-dashed-wrapped {border: 1px dashed gray;margin: 0 0.4em 0.5em 0.4em;box-sizing: border-box;padding-bottom: 0.4em;background-color: white;}#sk-container-id-5 div.sk-label label {font-family: monospace;font-weight: bold;display: inline-block;line-height: 1.2em;}#sk-container-id-5 div.sk-label-container {text-align: center;}#sk-container-id-5 div.sk-container {/* jupyter's `normalize.less` sets `[hidden] { display: none; }` but bootstrap.min.css set `[hidden] { display: none !important; }` so we also need the `!important` here to be able to override the default hidden behavior on the sphinx rendered scikit-learn.org. See: https://github.com/scikit-learn/scikit-learn/issues/21755 */display: inline-block !important;position: relative;}#sk-container-id-5 div.sk-text-repr-fallback {display: none;}</style><div id=\"sk-container-id-5\" class=\"sk-top-container\"><div class=\"sk-text-repr-fallback\"><pre>RandomForestRegressor(min_samples_leaf=2, n_estimators=73)</pre><b>In a Jupyter environment, please rerun this cell to show the HTML representation or trust the notebook. <br />On GitHub, the HTML representation is unable to render, please try loading this page with nbviewer.org.</b></div><div class=\"sk-container\" hidden><div class=\"sk-item\"><div class=\"sk-estimator sk-toggleable\"><input class=\"sk-toggleable__control sk-hidden--visually\" id=\"sk-estimator-id-9\" type=\"checkbox\" checked><label for=\"sk-estimator-id-9\" class=\"sk-toggleable__label sk-toggleable__label-arrow\">RandomForestRegressor</label><div class=\"sk-toggleable__content\"><pre>RandomForestRegressor(min_samples_leaf=2, n_estimators=73)</pre></div></div></div></div></div>"
      ],
      "text/plain": [
       "RandomForestRegressor(min_samples_leaf=2, n_estimators=73)"
      ]
     },
     "execution_count": 19,
     "metadata": {},
     "output_type": "execute_result"
    }
   ],
   "source": [
    "# Creating a Random Forest Regressor model with the best hyperparameters\n",
    "best_rf_model = RandomForestRegressor(**best_params)\n",
    "\n",
    "best_rf_model"
   ]
  },
  {
   "cell_type": "code",
   "execution_count": 20,
   "id": "3d061985",
   "metadata": {
    "execution": {
     "iopub.execute_input": "2024-01-09T17:51:44.819046Z",
     "iopub.status.busy": "2024-01-09T17:51:44.818035Z",
     "iopub.status.idle": "2024-01-09T17:51:45.610319Z",
     "shell.execute_reply": "2024-01-09T17:51:45.609152Z"
    },
    "papermill": {
     "duration": 0.804373,
     "end_time": "2024-01-09T17:51:45.612697",
     "exception": false,
     "start_time": "2024-01-09T17:51:44.808324",
     "status": "completed"
    },
    "tags": []
   },
   "outputs": [
    {
     "data": {
      "text/html": [
       "<style>#sk-container-id-6 {color: black;background-color: white;}#sk-container-id-6 pre{padding: 0;}#sk-container-id-6 div.sk-toggleable {background-color: white;}#sk-container-id-6 label.sk-toggleable__label {cursor: pointer;display: block;width: 100%;margin-bottom: 0;padding: 0.3em;box-sizing: border-box;text-align: center;}#sk-container-id-6 label.sk-toggleable__label-arrow:before {content: \"▸\";float: left;margin-right: 0.25em;color: #696969;}#sk-container-id-6 label.sk-toggleable__label-arrow:hover:before {color: black;}#sk-container-id-6 div.sk-estimator:hover label.sk-toggleable__label-arrow:before {color: black;}#sk-container-id-6 div.sk-toggleable__content {max-height: 0;max-width: 0;overflow: hidden;text-align: left;background-color: #f0f8ff;}#sk-container-id-6 div.sk-toggleable__content pre {margin: 0.2em;color: black;border-radius: 0.25em;background-color: #f0f8ff;}#sk-container-id-6 input.sk-toggleable__control:checked~div.sk-toggleable__content {max-height: 200px;max-width: 100%;overflow: auto;}#sk-container-id-6 input.sk-toggleable__control:checked~label.sk-toggleable__label-arrow:before {content: \"▾\";}#sk-container-id-6 div.sk-estimator input.sk-toggleable__control:checked~label.sk-toggleable__label {background-color: #d4ebff;}#sk-container-id-6 div.sk-label input.sk-toggleable__control:checked~label.sk-toggleable__label {background-color: #d4ebff;}#sk-container-id-6 input.sk-hidden--visually {border: 0;clip: rect(1px 1px 1px 1px);clip: rect(1px, 1px, 1px, 1px);height: 1px;margin: -1px;overflow: hidden;padding: 0;position: absolute;width: 1px;}#sk-container-id-6 div.sk-estimator {font-family: monospace;background-color: #f0f8ff;border: 1px dotted black;border-radius: 0.25em;box-sizing: border-box;margin-bottom: 0.5em;}#sk-container-id-6 div.sk-estimator:hover {background-color: #d4ebff;}#sk-container-id-6 div.sk-parallel-item::after {content: \"\";width: 100%;border-bottom: 1px solid gray;flex-grow: 1;}#sk-container-id-6 div.sk-label:hover label.sk-toggleable__label {background-color: #d4ebff;}#sk-container-id-6 div.sk-serial::before {content: \"\";position: absolute;border-left: 1px solid gray;box-sizing: border-box;top: 0;bottom: 0;left: 50%;z-index: 0;}#sk-container-id-6 div.sk-serial {display: flex;flex-direction: column;align-items: center;background-color: white;padding-right: 0.2em;padding-left: 0.2em;position: relative;}#sk-container-id-6 div.sk-item {position: relative;z-index: 1;}#sk-container-id-6 div.sk-parallel {display: flex;align-items: stretch;justify-content: center;background-color: white;position: relative;}#sk-container-id-6 div.sk-item::before, #sk-container-id-6 div.sk-parallel-item::before {content: \"\";position: absolute;border-left: 1px solid gray;box-sizing: border-box;top: 0;bottom: 0;left: 50%;z-index: -1;}#sk-container-id-6 div.sk-parallel-item {display: flex;flex-direction: column;z-index: 1;position: relative;background-color: white;}#sk-container-id-6 div.sk-parallel-item:first-child::after {align-self: flex-end;width: 50%;}#sk-container-id-6 div.sk-parallel-item:last-child::after {align-self: flex-start;width: 50%;}#sk-container-id-6 div.sk-parallel-item:only-child::after {width: 0;}#sk-container-id-6 div.sk-dashed-wrapped {border: 1px dashed gray;margin: 0 0.4em 0.5em 0.4em;box-sizing: border-box;padding-bottom: 0.4em;background-color: white;}#sk-container-id-6 div.sk-label label {font-family: monospace;font-weight: bold;display: inline-block;line-height: 1.2em;}#sk-container-id-6 div.sk-label-container {text-align: center;}#sk-container-id-6 div.sk-container {/* jupyter's `normalize.less` sets `[hidden] { display: none; }` but bootstrap.min.css set `[hidden] { display: none !important; }` so we also need the `!important` here to be able to override the default hidden behavior on the sphinx rendered scikit-learn.org. See: https://github.com/scikit-learn/scikit-learn/issues/21755 */display: inline-block !important;position: relative;}#sk-container-id-6 div.sk-text-repr-fallback {display: none;}</style><div id=\"sk-container-id-6\" class=\"sk-top-container\"><div class=\"sk-text-repr-fallback\"><pre>RandomForestRegressor(min_samples_leaf=2, n_estimators=73)</pre><b>In a Jupyter environment, please rerun this cell to show the HTML representation or trust the notebook. <br />On GitHub, the HTML representation is unable to render, please try loading this page with nbviewer.org.</b></div><div class=\"sk-container\" hidden><div class=\"sk-item\"><div class=\"sk-estimator sk-toggleable\"><input class=\"sk-toggleable__control sk-hidden--visually\" id=\"sk-estimator-id-10\" type=\"checkbox\" checked><label for=\"sk-estimator-id-10\" class=\"sk-toggleable__label sk-toggleable__label-arrow\">RandomForestRegressor</label><div class=\"sk-toggleable__content\"><pre>RandomForestRegressor(min_samples_leaf=2, n_estimators=73)</pre></div></div></div></div></div>"
      ],
      "text/plain": [
       "RandomForestRegressor(min_samples_leaf=2, n_estimators=73)"
      ]
     },
     "execution_count": 20,
     "metadata": {},
     "output_type": "execute_result"
    }
   ],
   "source": [
    "# Training the model\n",
    "best_rf_model.fit(X_train, y_train)"
   ]
  },
  {
   "cell_type": "code",
   "execution_count": 21,
   "id": "79b32a7a",
   "metadata": {
    "execution": {
     "iopub.execute_input": "2024-01-09T17:51:45.633008Z",
     "iopub.status.busy": "2024-01-09T17:51:45.632336Z",
     "iopub.status.idle": "2024-01-09T17:51:45.647908Z",
     "shell.execute_reply": "2024-01-09T17:51:45.646631Z"
    },
    "papermill": {
     "duration": 0.028069,
     "end_time": "2024-01-09T17:51:45.650294",
     "exception": false,
     "start_time": "2024-01-09T17:51:45.622225",
     "status": "completed"
    },
    "tags": []
   },
   "outputs": [],
   "source": [
    "# Make predictions on the test set\n",
    "y_pred = best_rf_model.predict(X_test)\n",
    "\n",
    "#y_pred"
   ]
  },
  {
   "cell_type": "code",
   "execution_count": 22,
   "id": "922e7855",
   "metadata": {
    "execution": {
     "iopub.execute_input": "2024-01-09T17:51:45.669489Z",
     "iopub.status.busy": "2024-01-09T17:51:45.669071Z",
     "iopub.status.idle": "2024-01-09T17:51:45.678753Z",
     "shell.execute_reply": "2024-01-09T17:51:45.677648Z"
    },
    "papermill": {
     "duration": 0.022376,
     "end_time": "2024-01-09T17:51:45.681091",
     "exception": false,
     "start_time": "2024-01-09T17:51:45.658715",
     "status": "completed"
    },
    "tags": []
   },
   "outputs": [
    {
     "name": "stdout",
     "output_type": "stream",
     "text": [
      "Best Hyperparameters: {'max_depth': None, 'min_samples_leaf': 2, 'min_samples_split': 2, 'n_estimators': 73}\n",
      "Mean Absolute Error: 70.64978507631292\n",
      "Mean Squared Error: 21333.61237699632\n",
      "R-squared: 0.9930015659345449\n"
     ]
    }
   ],
   "source": [
    "# Evaluate the model\n",
    "mae = mean_absolute_error(y_test, y_pred)\n",
    "mse = mean_squared_error(y_test, y_pred)\n",
    "r2 = r2_score(y_test, y_pred)\n",
    "\n",
    "print(f'Best Hyperparameters: {best_params}')\n",
    "print(f'Mean Absolute Error: {mae}')\n",
    "print(f'Mean Squared Error: {mse}')\n",
    "print(f'R-squared: {r2}')"
   ]
  },
  {
   "cell_type": "markdown",
   "id": "39875ca4",
   "metadata": {
    "papermill": {
     "duration": 0.008175,
     "end_time": "2024-01-09T17:51:45.697848",
     "exception": false,
     "start_time": "2024-01-09T17:51:45.689673",
     "status": "completed"
    },
    "tags": []
   },
   "source": [
    "**Before Hyperparameter Tuning**\n",
    "\n",
    "Mean Absolute Error: 69.24167672727283\n",
    "\n",
    "Mean Squared Error: 20671.68980515293\n",
    "\n",
    "R-squared: 0.9932187078509546\n",
    "\n",
    "\n",
    "**After Hyperparameter Tuning**\n",
    "\n",
    "Best Hyperparameters: {'max_depth': None, 'min_samples_leaf': 2, 'min_samples_split': 2, 'n_estimators': 57}\n",
    "\n",
    "Mean Absolute Error: 67.91102291130366\n",
    "\n",
    "Mean Squared Error: 20985.857879513846\n",
    "\n",
    "R-squared: 0.9931156458605597"
   ]
  }
 ],
 "metadata": {
  "kaggle": {
   "accelerator": "none",
   "dataSources": [
    {
     "datasetId": 4021193,
     "sourceId": 6995678,
     "sourceType": "datasetVersion"
    }
   ],
   "dockerImageVersionId": 30626,
   "isGpuEnabled": false,
   "isInternetEnabled": true,
   "language": "python",
   "sourceType": "notebook"
  },
  "kernelspec": {
   "display_name": "Python 3",
   "language": "python",
   "name": "python3"
  },
  "language_info": {
   "codemirror_mode": {
    "name": "ipython",
    "version": 3
   },
   "file_extension": ".py",
   "mimetype": "text/x-python",
   "name": "python",
   "nbconvert_exporter": "python",
   "pygments_lexer": "ipython3",
   "version": "3.10.12"
  },
  "papermill": {
   "default_parameters": {},
   "duration": 20.76409,
   "end_time": "2024-01-09T17:51:48.326287",
   "environment_variables": {},
   "exception": null,
   "input_path": "__notebook__.ipynb",
   "output_path": "__notebook__.ipynb",
   "parameters": {},
   "start_time": "2024-01-09T17:51:27.562197",
   "version": "2.4.0"
  }
 },
 "nbformat": 4,
 "nbformat_minor": 5
}
