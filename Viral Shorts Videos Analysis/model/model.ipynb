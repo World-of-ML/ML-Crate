{
 "cells": [
  {
   "cell_type": "code",
   "execution_count": 16,
   "metadata": {},
   "outputs": [],
   "source": [
    "import pandas as pd\n",
    "import numpy as np"
   ]
  },
  {
   "cell_type": "code",
   "execution_count": 17,
   "metadata": {},
   "outputs": [],
   "source": [
    "data_set = pd.read_csv('../dataset/most_viewed_youtube_shorts.csv')"
   ]
  },
  {
   "cell_type": "code",
   "execution_count": 18,
   "metadata": {},
   "outputs": [
    {
     "data": {
      "text/html": [
       "<div>\n",
       "<style scoped>\n",
       "    .dataframe tbody tr th:only-of-type {\n",
       "        vertical-align: middle;\n",
       "    }\n",
       "\n",
       "    .dataframe tbody tr th {\n",
       "        vertical-align: top;\n",
       "    }\n",
       "\n",
       "    .dataframe thead th {\n",
       "        text-align: right;\n",
       "    }\n",
       "</style>\n",
       "<table border=\"1\" class=\"dataframe\">\n",
       "  <thead>\n",
       "    <tr style=\"text-align: right;\">\n",
       "      <th></th>\n",
       "      <th>title</th>\n",
       "      <th>published_at</th>\n",
       "      <th>duration</th>\n",
       "      <th>view_count</th>\n",
       "      <th>like_count</th>\n",
       "      <th>comment_count</th>\n",
       "    </tr>\n",
       "  </thead>\n",
       "  <tbody>\n",
       "    <tr>\n",
       "      <th>0</th>\n",
       "      <td>She Was \"One Minute\" Away From Disaster! #shorts</td>\n",
       "      <td>2023-02-11T16:39:01Z</td>\n",
       "      <td>PT59S</td>\n",
       "      <td>746717484</td>\n",
       "      <td>13068287.0</td>\n",
       "      <td>19863.0</td>\n",
       "    </tr>\n",
       "    <tr>\n",
       "      <th>1</th>\n",
       "      <td>I HAVE BANGS… #Shorts</td>\n",
       "      <td>2021-08-30T09:42:50Z</td>\n",
       "      <td>PT23S</td>\n",
       "      <td>555825641</td>\n",
       "      <td>16003237.0</td>\n",
       "      <td>NaN</td>\n",
       "    </tr>\n",
       "    <tr>\n",
       "      <th>2</th>\n",
       "      <td>funny vadieo subscribe for more vadieos #shorts</td>\n",
       "      <td>2023-05-25T08:00:01Z</td>\n",
       "      <td>PT28S</td>\n",
       "      <td>482962560</td>\n",
       "      <td>8355647.0</td>\n",
       "      <td>15416.0</td>\n",
       "    </tr>\n",
       "    <tr>\n",
       "      <th>3</th>\n",
       "      <td>She turned pregnant and he let her go! #shorts</td>\n",
       "      <td>2022-07-25T11:00:43Z</td>\n",
       "      <td>PT1M</td>\n",
       "      <td>415148935</td>\n",
       "      <td>3954689.0</td>\n",
       "      <td>3807.0</td>\n",
       "    </tr>\n",
       "    <tr>\n",
       "      <th>4</th>\n",
       "      <td>Tom&amp;Jerry.. Real End Twist 😆#shorts</td>\n",
       "      <td>2023-06-13T13:40:23Z</td>\n",
       "      <td>PT1M</td>\n",
       "      <td>395791994</td>\n",
       "      <td>6965246.0</td>\n",
       "      <td>NaN</td>\n",
       "    </tr>\n",
       "  </tbody>\n",
       "</table>\n",
       "</div>"
      ],
      "text/plain": [
       "                                              title          published_at  \\\n",
       "0  She Was \"One Minute\" Away From Disaster! #shorts  2023-02-11T16:39:01Z   \n",
       "1                             I HAVE BANGS… #Shorts  2021-08-30T09:42:50Z   \n",
       "2   funny vadieo subscribe for more vadieos #shorts  2023-05-25T08:00:01Z   \n",
       "3    She turned pregnant and he let her go! #shorts  2022-07-25T11:00:43Z   \n",
       "4               Tom&Jerry.. Real End Twist 😆#shorts  2023-06-13T13:40:23Z   \n",
       "\n",
       "  duration  view_count  like_count  comment_count  \n",
       "0    PT59S   746717484  13068287.0        19863.0  \n",
       "1    PT23S   555825641  16003237.0            NaN  \n",
       "2    PT28S   482962560   8355647.0        15416.0  \n",
       "3     PT1M   415148935   3954689.0         3807.0  \n",
       "4     PT1M   395791994   6965246.0            NaN  "
      ]
     },
     "execution_count": 18,
     "metadata": {},
     "output_type": "execute_result"
    }
   ],
   "source": [
    "data_set.head()"
   ]
  },
  {
   "cell_type": "markdown",
   "metadata": {},
   "source": [
    "# DATA CLEANING"
   ]
  },
  {
   "cell_type": "code",
   "execution_count": 19,
   "metadata": {},
   "outputs": [
    {
     "data": {
      "text/plain": [
       "title            65\n",
       "published_at     65\n",
       "duration         65\n",
       "view_count       65\n",
       "like_count       63\n",
       "comment_count    58\n",
       "dtype: int64"
      ]
     },
     "execution_count": 19,
     "metadata": {},
     "output_type": "execute_result"
    }
   ],
   "source": [
    "#Dupilcate Rows  \n",
    "data_set[data_set['title'].duplicated(keep=False)].count()"
   ]
  },
  {
   "cell_type": "code",
   "execution_count": 20,
   "metadata": {},
   "outputs": [
    {
     "data": {
      "text/html": [
       "<div>\n",
       "<style scoped>\n",
       "    .dataframe tbody tr th:only-of-type {\n",
       "        vertical-align: middle;\n",
       "    }\n",
       "\n",
       "    .dataframe tbody tr th {\n",
       "        vertical-align: top;\n",
       "    }\n",
       "\n",
       "    .dataframe thead th {\n",
       "        text-align: right;\n",
       "    }\n",
       "</style>\n",
       "<table border=\"1\" class=\"dataframe\">\n",
       "  <thead>\n",
       "    <tr style=\"text-align: right;\">\n",
       "      <th></th>\n",
       "      <th>title</th>\n",
       "      <th>published_at</th>\n",
       "      <th>duration</th>\n",
       "      <th>view_count</th>\n",
       "      <th>like_count</th>\n",
       "      <th>comment_count</th>\n",
       "    </tr>\n",
       "  </thead>\n",
       "  <tbody>\n",
       "    <tr>\n",
       "      <th>0</th>\n",
       "      <td>She Was \"One Minute\" Away From Disaster! #shorts</td>\n",
       "      <td>2023-02-11T16:39:01Z</td>\n",
       "      <td>PT59S</td>\n",
       "      <td>746717484</td>\n",
       "      <td>13068287.0</td>\n",
       "      <td>19863.0</td>\n",
       "    </tr>\n",
       "    <tr>\n",
       "      <th>1</th>\n",
       "      <td>I HAVE BANGS… #Shorts</td>\n",
       "      <td>2021-08-30T09:42:50Z</td>\n",
       "      <td>PT23S</td>\n",
       "      <td>555825641</td>\n",
       "      <td>16003237.0</td>\n",
       "      <td>NaN</td>\n",
       "    </tr>\n",
       "    <tr>\n",
       "      <th>2</th>\n",
       "      <td>funny vadieo subscribe for more vadieos #shorts</td>\n",
       "      <td>2023-05-25T08:00:01Z</td>\n",
       "      <td>PT28S</td>\n",
       "      <td>482962560</td>\n",
       "      <td>8355647.0</td>\n",
       "      <td>15416.0</td>\n",
       "    </tr>\n",
       "    <tr>\n",
       "      <th>3</th>\n",
       "      <td>She turned pregnant and he let her go! #shorts</td>\n",
       "      <td>2022-07-25T11:00:43Z</td>\n",
       "      <td>PT1M</td>\n",
       "      <td>415148935</td>\n",
       "      <td>3954689.0</td>\n",
       "      <td>3807.0</td>\n",
       "    </tr>\n",
       "    <tr>\n",
       "      <th>4</th>\n",
       "      <td>Tom&amp;Jerry.. Real End Twist 😆#shorts</td>\n",
       "      <td>2023-06-13T13:40:23Z</td>\n",
       "      <td>PT1M</td>\n",
       "      <td>395791994</td>\n",
       "      <td>6965246.0</td>\n",
       "      <td>NaN</td>\n",
       "    </tr>\n",
       "    <tr>\n",
       "      <th>...</th>\n",
       "      <td>...</td>\n",
       "      <td>...</td>\n",
       "      <td>...</td>\n",
       "      <td>...</td>\n",
       "      <td>...</td>\n",
       "      <td>...</td>\n",
       "    </tr>\n",
       "    <tr>\n",
       "      <th>595</th>\n",
       "      <td>Sweet love story ❤️ #love #shorts #couplegoals...</td>\n",
       "      <td>2023-12-29T13:37:48Z</td>\n",
       "      <td>PT59S</td>\n",
       "      <td>339585</td>\n",
       "      <td>27195.0</td>\n",
       "      <td>73.0</td>\n",
       "    </tr>\n",
       "    <tr>\n",
       "      <th>596</th>\n",
       "      <td>Test an Verlobten😂 #funny #shorts</td>\n",
       "      <td>2024-01-05T16:15:35Z</td>\n",
       "      <td>PT1M1S</td>\n",
       "      <td>294921</td>\n",
       "      <td>23560.0</td>\n",
       "      <td>83.0</td>\n",
       "    </tr>\n",
       "    <tr>\n",
       "      <th>597</th>\n",
       "      <td>TESTE PARA SABER SE VOCÊ É ALIENÍGENA… 😰🛸👽 #sh...</td>\n",
       "      <td>2023-12-31T15:33:55Z</td>\n",
       "      <td>PT59S</td>\n",
       "      <td>297353</td>\n",
       "      <td>34489.0</td>\n",
       "      <td>731.0</td>\n",
       "    </tr>\n",
       "    <tr>\n",
       "      <th>598</th>\n",
       "      <td>Biasanya kebalikan malah🗿#shorts</td>\n",
       "      <td>2024-01-04T08:00:34Z</td>\n",
       "      <td>PT1M1S</td>\n",
       "      <td>289290</td>\n",
       "      <td>19309.0</td>\n",
       "      <td>239.0</td>\n",
       "    </tr>\n",
       "    <tr>\n",
       "      <th>599</th>\n",
       "      <td>Tried Trending *KOREAN PANCAKE*🔥Korean Vegetab...</td>\n",
       "      <td>2024-01-04T13:00:24Z</td>\n",
       "      <td>PT57S</td>\n",
       "      <td>287413</td>\n",
       "      <td>21410.0</td>\n",
       "      <td>124.0</td>\n",
       "    </tr>\n",
       "  </tbody>\n",
       "</table>\n",
       "<p>571 rows × 6 columns</p>\n",
       "</div>"
      ],
      "text/plain": [
       "                                                 title          published_at  \\\n",
       "0     She Was \"One Minute\" Away From Disaster! #shorts  2023-02-11T16:39:01Z   \n",
       "1                                I HAVE BANGS… #Shorts  2021-08-30T09:42:50Z   \n",
       "2      funny vadieo subscribe for more vadieos #shorts  2023-05-25T08:00:01Z   \n",
       "3       She turned pregnant and he let her go! #shorts  2022-07-25T11:00:43Z   \n",
       "4                  Tom&Jerry.. Real End Twist 😆#shorts  2023-06-13T13:40:23Z   \n",
       "..                                                 ...                   ...   \n",
       "595  Sweet love story ❤️ #love #shorts #couplegoals...  2023-12-29T13:37:48Z   \n",
       "596                  Test an Verlobten😂 #funny #shorts  2024-01-05T16:15:35Z   \n",
       "597  TESTE PARA SABER SE VOCÊ É ALIENÍGENA… 😰🛸👽 #sh...  2023-12-31T15:33:55Z   \n",
       "598                   Biasanya kebalikan malah🗿#shorts  2024-01-04T08:00:34Z   \n",
       "599  Tried Trending *KOREAN PANCAKE*🔥Korean Vegetab...  2024-01-04T13:00:24Z   \n",
       "\n",
       "    duration  view_count  like_count  comment_count  \n",
       "0      PT59S   746717484  13068287.0        19863.0  \n",
       "1      PT23S   555825641  16003237.0            NaN  \n",
       "2      PT28S   482962560   8355647.0        15416.0  \n",
       "3       PT1M   415148935   3954689.0         3807.0  \n",
       "4       PT1M   395791994   6965246.0            NaN  \n",
       "..       ...         ...         ...            ...  \n",
       "595    PT59S      339585     27195.0           73.0  \n",
       "596   PT1M1S      294921     23560.0           83.0  \n",
       "597    PT59S      297353     34489.0          731.0  \n",
       "598   PT1M1S      289290     19309.0          239.0  \n",
       "599    PT57S      287413     21410.0          124.0  \n",
       "\n",
       "[571 rows x 6 columns]"
      ]
     },
     "execution_count": 20,
     "metadata": {},
     "output_type": "execute_result"
    }
   ],
   "source": [
    "data_set.drop_duplicates(keep='first')"
   ]
  },
  {
   "cell_type": "code",
   "execution_count": 21,
   "metadata": {},
   "outputs": [
    {
     "name": "stdout",
     "output_type": "stream",
     "text": [
      "views: 0  like_count: 28  comment_count: 28\n"
     ]
    }
   ],
   "source": [
    "# NULL ROWS FOR PARTICULAR COLUMNS\n",
    "print(\"views:\",data_set['view_count'].isnull().sum(),\" like_count:\",data_set['like_count'].isnull().sum(),\" comment_count:\",data_set['comment_count'].isnull().sum())"
   ]
  },
  {
   "cell_type": "code",
   "execution_count": 22,
   "metadata": {},
   "outputs": [],
   "source": [
    "#Dropping rows having null values\n",
    "data_set.dropna(inplace=True)"
   ]
  },
  {
   "cell_type": "code",
   "execution_count": 23,
   "metadata": {},
   "outputs": [
    {
     "data": {
      "text/plain": [
       "(544, 6)"
      ]
     },
     "execution_count": 23,
     "metadata": {},
     "output_type": "execute_result"
    }
   ],
   "source": [
    "data_set.shape"
   ]
  },
  {
   "cell_type": "markdown",
   "metadata": {},
   "source": [
    "# EXPLORATORY DATA ANALYSIS"
   ]
  },
  {
   "cell_type": "code",
   "execution_count": 24,
   "metadata": {},
   "outputs": [],
   "source": [
    "data_set = data_set[[\"title\",\"view_count\",\"like_count\",\"comment_count\",\"duration\"]]"
   ]
  }
 ],
 "metadata": {
  "kernelspec": {
   "display_name": "Python 3",
   "language": "python",
   "name": "python3"
  },
  "language_info": {
   "codemirror_mode": {
    "name": "ipython",
    "version": 3
   },
   "file_extension": ".py",
   "mimetype": "text/x-python",
   "name": "python",
   "nbconvert_exporter": "python",
   "pygments_lexer": "ipython3",
   "version": "3.8.10"
  }
 },
 "nbformat": 4,
 "nbformat_minor": 2
}
