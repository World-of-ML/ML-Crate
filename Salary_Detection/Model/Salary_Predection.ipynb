{
 "nbformat": 4,
 "nbformat_minor": 0,
 "metadata": {
  "colab": {
   "provenance": []
  },
  "kernelspec": {
   "name": "python3",
   "display_name": "Python 3 (ipykernel)",
   "language": "python"
  },
  "language_info": {
   "name": "python"
  }
 },
 "cells": [
  {
   "cell_type": "markdown",
   "source": [
    "# IMPORTING LIBRARIES"
   ],
   "metadata": {
    "id": "2yAH-xid8QED"
   }
  },
  {
   "cell_type": "code",
   "metadata": {
    "id": "N2BPunhs0npC",
    "ExecuteTime": {
     "end_time": "2024-06-10T17:27:46.157655Z",
     "start_time": "2024-06-10T17:27:46.153268Z"
    }
   },
   "source": [
    "import pandas as pd\n",
    "import matplotlib.pyplot as plt\n",
    "import seaborn as sns\n",
    "from sklearn.model_selection import train_test_split\n",
    "from sklearn.pipeline import Pipeline\n",
    "from sklearn.compose import ColumnTransformer\n",
    "from sklearn.preprocessing import StandardScaler, OneHotEncoder\n",
    "from sklearn.linear_model import LinearRegression\n",
    "from sklearn.tree import DecisionTreeRegressor\n",
    "from sklearn.ensemble import RandomForestRegressor, GradientBoostingRegressor\n",
    "from sklearn.metrics import mean_absolute_error, mean_squared_error, r2_score"
   ],
   "outputs": [],
   "execution_count": 8
  },
  {
   "cell_type": "code",
   "source": [
    "df = pd.read_csv('Salary Prediction of Data Professions.csv')\n",
    "df.head()"
   ],
   "metadata": {
    "colab": {
     "base_uri": "https://localhost:8080/",
     "height": 400
    },
    "id": "5bNoAw5x6ruW",
    "outputId": "04c8524d-0667-41e4-db24-73296dab984b",
    "ExecuteTime": {
     "end_time": "2024-06-10T17:27:46.346172Z",
     "start_time": "2024-06-10T17:27:46.318925Z"
    }
   },
   "outputs": [
    {
     "data": {
      "text/plain": [
       "  FIRST NAME   LAST NAME SEX         DOJ CURRENT DATE DESIGNATION   AGE  \\\n",
       "0     TOMASA       ARMEN   F   5-18-2014   01-07-2016     Analyst  21.0   \n",
       "1      ANNIE         NaN   F         NaN   01-07-2016   Associate   NaN   \n",
       "2      OLIVE        ANCY   F   7-28-2014   01-07-2016     Analyst  21.0   \n",
       "3     CHERRY     AQUILAR   F  04-03-2013   01-07-2016     Analyst  22.0   \n",
       "4       LEON  ABOULAHOUD   M  11-20-2014   01-07-2016     Analyst   NaN   \n",
       "\n",
       "   SALARY        UNIT  LEAVES USED  LEAVES REMAINING  RATINGS  PAST EXP  \n",
       "0   44570     Finance         24.0               6.0      2.0         0  \n",
       "1   89207         Web          NaN              13.0      NaN         7  \n",
       "2   40955     Finance         23.0               7.0      3.0         0  \n",
       "3   45550          IT         22.0               8.0      3.0         0  \n",
       "4   43161  Operations         27.0               3.0      NaN         3  "
      ],
      "text/html": [
       "<div>\n",
       "<style scoped>\n",
       "    .dataframe tbody tr th:only-of-type {\n",
       "        vertical-align: middle;\n",
       "    }\n",
       "\n",
       "    .dataframe tbody tr th {\n",
       "        vertical-align: top;\n",
       "    }\n",
       "\n",
       "    .dataframe thead th {\n",
       "        text-align: right;\n",
       "    }\n",
       "</style>\n",
       "<table border=\"1\" class=\"dataframe\">\n",
       "  <thead>\n",
       "    <tr style=\"text-align: right;\">\n",
       "      <th></th>\n",
       "      <th>FIRST NAME</th>\n",
       "      <th>LAST NAME</th>\n",
       "      <th>SEX</th>\n",
       "      <th>DOJ</th>\n",
       "      <th>CURRENT DATE</th>\n",
       "      <th>DESIGNATION</th>\n",
       "      <th>AGE</th>\n",
       "      <th>SALARY</th>\n",
       "      <th>UNIT</th>\n",
       "      <th>LEAVES USED</th>\n",
       "      <th>LEAVES REMAINING</th>\n",
       "      <th>RATINGS</th>\n",
       "      <th>PAST EXP</th>\n",
       "    </tr>\n",
       "  </thead>\n",
       "  <tbody>\n",
       "    <tr>\n",
       "      <th>0</th>\n",
       "      <td>TOMASA</td>\n",
       "      <td>ARMEN</td>\n",
       "      <td>F</td>\n",
       "      <td>5-18-2014</td>\n",
       "      <td>01-07-2016</td>\n",
       "      <td>Analyst</td>\n",
       "      <td>21.0</td>\n",
       "      <td>44570</td>\n",
       "      <td>Finance</td>\n",
       "      <td>24.0</td>\n",
       "      <td>6.0</td>\n",
       "      <td>2.0</td>\n",
       "      <td>0</td>\n",
       "    </tr>\n",
       "    <tr>\n",
       "      <th>1</th>\n",
       "      <td>ANNIE</td>\n",
       "      <td>NaN</td>\n",
       "      <td>F</td>\n",
       "      <td>NaN</td>\n",
       "      <td>01-07-2016</td>\n",
       "      <td>Associate</td>\n",
       "      <td>NaN</td>\n",
       "      <td>89207</td>\n",
       "      <td>Web</td>\n",
       "      <td>NaN</td>\n",
       "      <td>13.0</td>\n",
       "      <td>NaN</td>\n",
       "      <td>7</td>\n",
       "    </tr>\n",
       "    <tr>\n",
       "      <th>2</th>\n",
       "      <td>OLIVE</td>\n",
       "      <td>ANCY</td>\n",
       "      <td>F</td>\n",
       "      <td>7-28-2014</td>\n",
       "      <td>01-07-2016</td>\n",
       "      <td>Analyst</td>\n",
       "      <td>21.0</td>\n",
       "      <td>40955</td>\n",
       "      <td>Finance</td>\n",
       "      <td>23.0</td>\n",
       "      <td>7.0</td>\n",
       "      <td>3.0</td>\n",
       "      <td>0</td>\n",
       "    </tr>\n",
       "    <tr>\n",
       "      <th>3</th>\n",
       "      <td>CHERRY</td>\n",
       "      <td>AQUILAR</td>\n",
       "      <td>F</td>\n",
       "      <td>04-03-2013</td>\n",
       "      <td>01-07-2016</td>\n",
       "      <td>Analyst</td>\n",
       "      <td>22.0</td>\n",
       "      <td>45550</td>\n",
       "      <td>IT</td>\n",
       "      <td>22.0</td>\n",
       "      <td>8.0</td>\n",
       "      <td>3.0</td>\n",
       "      <td>0</td>\n",
       "    </tr>\n",
       "    <tr>\n",
       "      <th>4</th>\n",
       "      <td>LEON</td>\n",
       "      <td>ABOULAHOUD</td>\n",
       "      <td>M</td>\n",
       "      <td>11-20-2014</td>\n",
       "      <td>01-07-2016</td>\n",
       "      <td>Analyst</td>\n",
       "      <td>NaN</td>\n",
       "      <td>43161</td>\n",
       "      <td>Operations</td>\n",
       "      <td>27.0</td>\n",
       "      <td>3.0</td>\n",
       "      <td>NaN</td>\n",
       "      <td>3</td>\n",
       "    </tr>\n",
       "  </tbody>\n",
       "</table>\n",
       "</div>"
      ]
     },
     "execution_count": 9,
     "metadata": {},
     "output_type": "execute_result"
    }
   ],
   "execution_count": 9
  },
  {
   "metadata": {
    "ExecuteTime": {
     "end_time": "2024-06-10T17:27:46.368881Z",
     "start_time": "2024-06-10T17:27:46.358289Z"
    }
   },
   "cell_type": "code",
   "source": "df.info()",
   "outputs": [
    {
     "name": "stdout",
     "output_type": "stream",
     "text": [
      "<class 'pandas.core.frame.DataFrame'>\n",
      "RangeIndex: 2639 entries, 0 to 2638\n",
      "Data columns (total 13 columns):\n",
      " #   Column            Non-Null Count  Dtype  \n",
      "---  ------            --------------  -----  \n",
      " 0   FIRST NAME        2639 non-null   object \n",
      " 1   LAST NAME         2637 non-null   object \n",
      " 2   SEX               2639 non-null   object \n",
      " 3   DOJ               2638 non-null   object \n",
      " 4   CURRENT DATE      2639 non-null   object \n",
      " 5   DESIGNATION       2639 non-null   object \n",
      " 6   AGE               2636 non-null   float64\n",
      " 7   SALARY            2639 non-null   int64  \n",
      " 8   UNIT              2639 non-null   object \n",
      " 9   LEAVES USED       2636 non-null   float64\n",
      " 10  LEAVES REMAINING  2637 non-null   float64\n",
      " 11  RATINGS           2637 non-null   float64\n",
      " 12  PAST EXP          2639 non-null   int64  \n",
      "dtypes: float64(4), int64(2), object(7)\n",
      "memory usage: 268.2+ KB\n"
     ]
    }
   ],
   "execution_count": 10
  },
  {
   "cell_type": "code",
   "source": [
    "# Drop irrelevant columns\n",
    "df.drop(['FIRST NAME', 'LAST NAME', 'SEX', 'LEAVES USED', 'LEAVES REMAINING'], axis=1, inplace=True)\n"
   ],
   "metadata": {
    "id": "UBZQ77VkRgID",
    "ExecuteTime": {
     "end_time": "2024-06-10T17:27:46.432653Z",
     "start_time": "2024-06-10T17:27:46.428332Z"
    }
   },
   "outputs": [],
   "execution_count": 11
  },
  {
   "cell_type": "code",
   "source": [
    "df.isnull().sum()"
   ],
   "metadata": {
    "colab": {
     "base_uri": "https://localhost:8080/"
    },
    "id": "ecS9kiYLRxM1",
    "outputId": "fade93d8-0c2a-4908-918f-355657f82f88",
    "ExecuteTime": {
     "end_time": "2024-06-10T17:27:46.464106Z",
     "start_time": "2024-06-10T17:27:46.458289Z"
    }
   },
   "outputs": [
    {
     "data": {
      "text/plain": [
       "DOJ             1\n",
       "CURRENT DATE    0\n",
       "DESIGNATION     0\n",
       "AGE             3\n",
       "SALARY          0\n",
       "UNIT            0\n",
       "RATINGS         2\n",
       "PAST EXP        0\n",
       "dtype: int64"
      ]
     },
     "execution_count": 12,
     "metadata": {},
     "output_type": "execute_result"
    }
   ],
   "execution_count": 12
  },
  {
   "cell_type": "markdown",
   "source": [
    "# Exploratory Data Analysis (EDA)"
   ],
   "metadata": {
    "id": "rsjE1TrQ8hyd"
   }
  },
  {
   "cell_type": "code",
   "source": "df.describe()",
   "metadata": {
    "colab": {
     "base_uri": "https://localhost:8080/"
    },
    "id": "twZ-f3oq6uRL",
    "outputId": "4d132f60-c769-40d6-f3e8-96d6f8da937d",
    "ExecuteTime": {
     "end_time": "2024-06-10T17:27:46.528287Z",
     "start_time": "2024-06-10T17:27:46.514089Z"
    }
   },
   "outputs": [
    {
     "data": {
      "text/plain": [
       "               AGE         SALARY      RATINGS     PAST EXP\n",
       "count  2636.000000    2639.000000  2637.000000  2639.000000\n",
       "mean     24.756449   58136.678287     3.486159     1.566881\n",
       "std       3.908228   36876.956944     1.114933     2.728416\n",
       "min      21.000000   40001.000000     2.000000     0.000000\n",
       "25%      22.000000   43418.000000     2.000000     0.000000\n",
       "50%      24.000000   46781.000000     3.000000     1.000000\n",
       "75%      25.000000   51401.500000     4.000000     2.000000\n",
       "max      45.000000  388112.000000     5.000000    23.000000"
      ],
      "text/html": [
       "<div>\n",
       "<style scoped>\n",
       "    .dataframe tbody tr th:only-of-type {\n",
       "        vertical-align: middle;\n",
       "    }\n",
       "\n",
       "    .dataframe tbody tr th {\n",
       "        vertical-align: top;\n",
       "    }\n",
       "\n",
       "    .dataframe thead th {\n",
       "        text-align: right;\n",
       "    }\n",
       "</style>\n",
       "<table border=\"1\" class=\"dataframe\">\n",
       "  <thead>\n",
       "    <tr style=\"text-align: right;\">\n",
       "      <th></th>\n",
       "      <th>AGE</th>\n",
       "      <th>SALARY</th>\n",
       "      <th>RATINGS</th>\n",
       "      <th>PAST EXP</th>\n",
       "    </tr>\n",
       "  </thead>\n",
       "  <tbody>\n",
       "    <tr>\n",
       "      <th>count</th>\n",
       "      <td>2636.000000</td>\n",
       "      <td>2639.000000</td>\n",
       "      <td>2637.000000</td>\n",
       "      <td>2639.000000</td>\n",
       "    </tr>\n",
       "    <tr>\n",
       "      <th>mean</th>\n",
       "      <td>24.756449</td>\n",
       "      <td>58136.678287</td>\n",
       "      <td>3.486159</td>\n",
       "      <td>1.566881</td>\n",
       "    </tr>\n",
       "    <tr>\n",
       "      <th>std</th>\n",
       "      <td>3.908228</td>\n",
       "      <td>36876.956944</td>\n",
       "      <td>1.114933</td>\n",
       "      <td>2.728416</td>\n",
       "    </tr>\n",
       "    <tr>\n",
       "      <th>min</th>\n",
       "      <td>21.000000</td>\n",
       "      <td>40001.000000</td>\n",
       "      <td>2.000000</td>\n",
       "      <td>0.000000</td>\n",
       "    </tr>\n",
       "    <tr>\n",
       "      <th>25%</th>\n",
       "      <td>22.000000</td>\n",
       "      <td>43418.000000</td>\n",
       "      <td>2.000000</td>\n",
       "      <td>0.000000</td>\n",
       "    </tr>\n",
       "    <tr>\n",
       "      <th>50%</th>\n",
       "      <td>24.000000</td>\n",
       "      <td>46781.000000</td>\n",
       "      <td>3.000000</td>\n",
       "      <td>1.000000</td>\n",
       "    </tr>\n",
       "    <tr>\n",
       "      <th>75%</th>\n",
       "      <td>25.000000</td>\n",
       "      <td>51401.500000</td>\n",
       "      <td>4.000000</td>\n",
       "      <td>2.000000</td>\n",
       "    </tr>\n",
       "    <tr>\n",
       "      <th>max</th>\n",
       "      <td>45.000000</td>\n",
       "      <td>388112.000000</td>\n",
       "      <td>5.000000</td>\n",
       "      <td>23.000000</td>\n",
       "    </tr>\n",
       "  </tbody>\n",
       "</table>\n",
       "</div>"
      ]
     },
     "execution_count": 13,
     "metadata": {},
     "output_type": "execute_result"
    }
   ],
   "execution_count": 13
  },
  {
   "cell_type": "markdown",
   "source": [
    "# Distribution of salary"
   ],
   "metadata": {
    "id": "FLoehPAl8mfZ"
   }
  },
  {
   "cell_type": "markdown",
   "source": [
    "# Correlation heatmap"
   ],
   "metadata": {
    "id": "JLCmg8TL8qMb"
   }
  },
  {
   "cell_type": "code",
   "source": [
    "numerical_df = df.select_dtypes(include=['number'])\n",
    "\n",
    "plt.figure(figsize=(12, 8))\n",
    "sns.heatmap(numerical_df.corr(), annot=True, cmap='coolwarm')\n",
    "plt.title('Correlation Heatmap')\n",
    "plt.show()"
   ],
   "metadata": {
    "colab": {
     "base_uri": "https://localhost:8080/",
     "height": 699
    },
    "id": "yPaYV-yJ6xFa",
    "outputId": "d7159bc7-5873-44d7-f64b-b073cdf009cd",
    "ExecuteTime": {
     "end_time": "2024-06-10T17:27:46.887359Z",
     "start_time": "2024-06-10T17:27:46.603722Z"
    }
   },
   "outputs": [
    {
     "data": {
      "text/plain": [
       "<Figure size 1200x800 with 2 Axes>"
      ],
      "image/png": "[encoded data removed]"
     },
     "metadata": {},
     "output_type": "display_data"
    }
   ],
   "execution_count": 14
  },
  {
   "cell_type": "code",
   "source": [
    "# Distribution of Salary\n",
    "plt.figure(figsize=(10, 6))\n",
    "sns.histplot(df['SALARY'], kde=True)\n",
    "plt.title('Distribution of Salary')\n",
    "plt.show()\n"
   ],
   "metadata": {
    "colab": {
     "base_uri": "https://localhost:8080/",
     "height": 564
    },
    "id": "2-mb-trvOujK",
    "outputId": "5bc92c48-1465-4b04-c534-9c3cdafa3c98",
    "ExecuteTime": {
     "end_time": "2024-06-10T17:27:47.454955Z",
     "start_time": "2024-06-10T17:27:46.890199Z"
    }
   },
   "outputs": [
    {
     "data": {
      "text/plain": [
       "<Figure size 1000x600 with 1 Axes>"
      ],
      "image/png": "[encoded data removed]"
     },
     "metadata": {},
     "output_type": "display_data"
    }
   ],
   "execution_count": 15
  },
  {
   "cell_type": "code",
   "source": [
    "\n",
    "# Scatter plot of Salary vs. Age\n",
    "plt.figure(figsize=(10, 6))\n",
    "# Verify the column name 'AGE' exists in your DataFrame. If not, replace it with the correct name\n",
    "sns.scatterplot(x='AGE', y='SALARY', data=df)  # Pass the DataFrame to the 'data' parameter\n",
    "plt.title('Salary vs. Age')\n",
    "plt.show()\n"
   ],
   "metadata": {
    "colab": {
     "base_uri": "https://localhost:8080/",
     "height": 564
    },
    "id": "HLlGjzleParg",
    "outputId": "ef8fbca3-0143-414f-bfce-05151bdfa085",
    "ExecuteTime": {
     "end_time": "2024-06-10T17:27:47.700413Z",
     "start_time": "2024-06-10T17:27:47.456459Z"
    }
   },
   "outputs": [
    {
     "data": {
      "text/plain": [
       "<Figure size 1000x600 with 1 Axes>"
      ],
      "image/png": "[encoded data removed]"
     },
     "metadata": {},
     "output_type": "display_data"
    }
   ],
   "execution_count": 16
  },
  {
   "cell_type": "code",
   "source": [
    "\n",
    "# Box plot of Salary by Designation\n",
    "plt.figure(figsize=(12, 8))\n",
    "sns.boxplot(x='DESIGNATION', y='SALARY', data=df) # Pass the DataFrame to the 'data' parameter\n",
    "plt.title('Salary by Designation')\n",
    "plt.xticks(rotation=45)\n",
    "plt.show()"
   ],
   "metadata": {
    "colab": {
     "base_uri": "https://localhost:8080/",
     "height": 701
    },
    "id": "E0z2_HGSPctb",
    "outputId": "11a61787-a664-4460-90e4-e88e1036d08f",
    "ExecuteTime": {
     "end_time": "2024-06-10T17:27:47.923769Z",
     "start_time": "2024-06-10T17:27:47.702677Z"
    }
   },
   "outputs": [
    {
     "data": {
      "text/plain": [
       "<Figure size 1200x800 with 1 Axes>"
      ],
      "image/png": "[encoded data removed]"
     },
     "metadata": {},
     "output_type": "display_data"
    }
   ],
   "execution_count": 17
  },
  {
   "cell_type": "markdown",
   "source": [
    "# Feature Engineering"
   ],
   "metadata": {
    "id": "IsPOn0EU8w-v"
   }
  },
  {
   "metadata": {},
   "cell_type": "code",
   "outputs": [],
   "execution_count": null,
   "source": [
    "# Create new features from existing ones (e.g., experience squared).\n",
    "df['EXP_SQUARED'] = df['PAST EXP'] ** 2"
   ]
  },
  {
   "cell_type": "markdown",
   "source": [
    "# Handling Missing Values"
   ],
   "metadata": {
    "id": "I85aQO2tVuJ5"
   }
  },
  {
   "cell_type": "code",
   "source": [
    "# Drop rows with missing DOJ values\n",
    "df.dropna(subset=['DOJ'], inplace=True)\n",
    "\n",
    "# Replace missing Ratings with the median or a specific value if 0 doesn't make sense\n",
    "df['RATINGS'].fillna(0, inplace=True)\n",
    "\n",
    "# Replace missing Age with mean\n",
    "df['AGE'].fillna(df['AGE'].mean(), inplace=True)\n"
   ],
   "metadata": {
    "id": "_fYvkUHB8zO8",
    "ExecuteTime": {
     "end_time": "2024-06-10T17:27:47.930905Z",
     "start_time": "2024-06-10T17:27:47.924851Z"
    }
   },
   "outputs": [
    {
     "name": "stderr",
     "output_type": "stream",
     "text": [
      "/tmp/ipykernel_9933/3627917815.py:5: FutureWarning: A value is trying to be set on a copy of a DataFrame or Series through chained assignment using an inplace method.\n",
      "The behavior will change in pandas 3.0. This inplace method will never work because the intermediate object on which we are setting values always behaves as a copy.\n",
      "\n",
      "For example, when doing 'df[col].method(value, inplace=True)', try using 'df.method({col: value}, inplace=True)' or df[col] = df[col].method(value) instead, to perform the operation inplace on the original object.\n",
      "\n",
      "\n",
      "  df['RATINGS'].fillna(0, inplace=True)\n",
      "/tmp/ipykernel_9933/3627917815.py:8: FutureWarning: A value is trying to be set on a copy of a DataFrame or Series through chained assignment using an inplace method.\n",
      "The behavior will change in pandas 3.0. This inplace method will never work because the intermediate object on which we are setting values always behaves as a copy.\n",
      "\n",
      "For example, when doing 'df[col].method(value, inplace=True)', try using 'df.method({col: value}, inplace=True)' or df[col] = df[col].method(value) instead, to perform the operation inplace on the original object.\n",
      "\n",
      "\n",
      "  df['AGE'].fillna(df['AGE'].mean(), inplace=True)\n"
     ]
    }
   ],
   "execution_count": 18
  },
  {
   "cell_type": "markdown",
   "source": [
    "# Handle Date Columns and Calculate Tenure:"
   ],
   "metadata": {
    "id": "lABd4IUaXJp0"
   }
  },
  {
   "cell_type": "code",
   "source": [
    "# Convert date columns to datetime\n",
    "df['DOJ'] = pd.to_datetime(df['DOJ'])\n",
    "df['CURRENT DATE'] = pd.to_datetime(df['CURRENT DATE'])\n",
    "\n",
    "# Calculate tenure in years\n",
    "df['TENURE'] = (df['CURRENT DATE'] - df['DOJ']).dt.days / 365.25\n",
    "\n",
    "# Drop original date columns\n",
    "df.drop(['DOJ', 'CURRENT DATE'], axis=1, inplace=True)\n"
   ],
   "metadata": {
    "id": "kI4PYFxhXJS0",
    "ExecuteTime": {
     "end_time": "2024-06-10T17:27:47.947008Z",
     "start_time": "2024-06-10T17:27:47.931902Z"
    }
   },
   "outputs": [],
   "execution_count": 19
  },
  {
   "cell_type": "markdown",
   "source": [
    "#  Encode categorical variables"
   ],
   "metadata": {
    "id": "-uIN6fIlQdeO"
   }
  },
  {
   "cell_type": "code",
   "source": [
    "# One-hot encode 'UNIT' and 'DESIGNATION' separately\n",
    "df = pd.get_dummies(df, columns=['UNIT', 'DESIGNATION'], drop_first=True)\n"
   ],
   "metadata": {
    "id": "16tjI1vM61Fy",
    "ExecuteTime": {
     "end_time": "2024-06-10T17:27:47.953215Z",
     "start_time": "2024-06-10T17:27:47.948051Z"
    }
   },
   "outputs": [],
   "execution_count": 20
  },
  {
   "cell_type": "code",
   "source": [
    "df.isnull().sum()"
   ],
   "metadata": {
    "colab": {
     "base_uri": "https://localhost:8080/"
    },
    "id": "nf3h360dVlIo",
    "outputId": "320bf3fa-12cf-4c51-efcd-fc7e5e275787",
    "ExecuteTime": {
     "end_time": "2024-06-10T17:27:47.959662Z",
     "start_time": "2024-06-10T17:27:47.954478Z"
    }
   },
   "outputs": [
    {
     "data": {
      "text/plain": [
       "AGE                           0\n",
       "SALARY                        0\n",
       "RATINGS                       0\n",
       "PAST EXP                      0\n",
       "TENURE                        0\n",
       "UNIT_IT                       0\n",
       "UNIT_Management               0\n",
       "UNIT_Marketing                0\n",
       "UNIT_Operations               0\n",
       "UNIT_Web                      0\n",
       "DESIGNATION_Associate         0\n",
       "DESIGNATION_Director          0\n",
       "DESIGNATION_Manager           0\n",
       "DESIGNATION_Senior Analyst    0\n",
       "DESIGNATION_Senior Manager    0\n",
       "dtype: int64"
      ]
     },
     "execution_count": 21,
     "metadata": {},
     "output_type": "execute_result"
    }
   ],
   "execution_count": 21
  },
  {
   "cell_type": "markdown",
   "source": [
    "# Train-test split data"
   ],
   "metadata": {
    "id": "hrT7888d9O2A"
   }
  },
  {
   "cell_type": "code",
   "source": [
    "# Define features and target\n",
    "X = df.drop('SALARY', axis=1)\n",
    "y = df['SALARY']"
   ],
   "metadata": {
    "id": "1-umYq0p9M_Z",
    "ExecuteTime": {
     "end_time": "2024-06-10T17:27:47.965052Z",
     "start_time": "2024-06-10T17:27:47.961572Z"
    }
   },
   "outputs": [],
   "execution_count": 22
  },
  {
   "cell_type": "code",
   "source": [
    "# Split the data\n",
    "X_train, X_test, y_train, y_test = train_test_split(X, y, test_size=0.2, random_state=42)\n"
   ],
   "metadata": {
    "id": "ByNiPRUm9Qew",
    "ExecuteTime": {
     "end_time": "2024-06-10T17:27:47.971839Z",
     "start_time": "2024-06-10T17:27:47.966244Z"
    }
   },
   "outputs": [],
   "execution_count": 23
  },
  {
   "cell_type": "markdown",
   "source": [
    "# Feature scaling"
   ],
   "metadata": {
    "id": "p5HZEqsW9bCr"
   }
  },
  {
   "cell_type": "code",
   "source": [
    "# Initialize the scaler\n",
    "scaler = StandardScaler()\n",
    "\n",
    "# Fit and transform the training data\n",
    "X_train_scaled = scaler.fit_transform(X_train)\n",
    "\n",
    "# Transform the test data\n",
    "X_test_scaled = scaler.transform(X_test)\n"
   ],
   "metadata": {
    "id": "a-_9jaVv9UD_",
    "ExecuteTime": {
     "end_time": "2024-06-10T17:27:47.984180Z",
     "start_time": "2024-06-10T17:27:47.973063Z"
    }
   },
   "outputs": [],
   "execution_count": 24
  },
  {
   "cell_type": "markdown",
   "source": [
    "# Machine Learning Model Development and Evaluation"
   ],
   "metadata": {
    "id": "VJ8Wk40r9h3y"
   }
  },
  {
   "cell_type": "code",
   "source": [
    "models = {\n",
    "    'Linear Regression': LinearRegression(),\n",
    "    'Decision Tree': DecisionTreeRegressor(),\n",
    "    'Random Forest': RandomForestRegressor(),\n",
    "    'Gradient Boosting': GradientBoostingRegressor(),\n",
    "}\n"
   ],
   "metadata": {
    "id": "lqSYGXPo93dH",
    "ExecuteTime": {
     "end_time": "2024-06-10T17:27:47.988986Z",
     "start_time": "2024-06-10T17:27:47.985701Z"
    }
   },
   "outputs": [],
   "execution_count": 25
  },
  {
   "cell_type": "code",
   "source": [
    "predictions = {}\n",
    "for name, model in models.items():\n",
    "    model.fit(X_train_scaled, y_train)\n",
    "    predictions[name] = model.predict(X_test_scaled)"
   ],
   "metadata": {
    "id": "RwdIqeqTXsFI",
    "ExecuteTime": {
     "end_time": "2024-06-10T17:27:48.717833Z",
     "start_time": "2024-06-10T17:27:47.990221Z"
    }
   },
   "outputs": [],
   "execution_count": 26
  },
  {
   "cell_type": "markdown",
   "source": [
    "# Evaluate model performance"
   ],
   "metadata": {
    "id": "nGPZPXTRYKPu"
   }
  },
  {
   "cell_type": "code",
   "source": [
    "def evaluate_model(name, y_test, y_pred):\n",
    "    print(f\"Model: {name}\")\n",
    "    print(f\"Mean Absolute Error (MAE): {mean_absolute_error(y_test, y_pred):.2f}\")\n",
    "    print(f\"Mean Squared Error (MSE): {mean_squared_error(y_test, y_pred):.2f}\")\n",
    "    print(f\"Root Mean Squared Error (RMSE): {mean_squared_error(y_test, y_pred, squared=False):.2f}\")\n",
    "    print(f\"R-squared (R2): {r2_score(y_test, y_pred):.2f}\")\n",
    "    print(\"-\" * 30)"
   ],
   "metadata": {
    "id": "lgbnWUv1YHwk",
    "ExecuteTime": {
     "end_time": "2024-06-10T17:27:48.723432Z",
     "start_time": "2024-06-10T17:27:48.719106Z"
    }
   },
   "outputs": [],
   "execution_count": 27
  },
  {
   "cell_type": "code",
   "source": [
    "for name, y_pred in predictions.items():\n",
    "    evaluate_model(name, y_test, y_pred)"
   ],
   "metadata": {
    "colab": {
     "base_uri": "https://localhost:8080/"
    },
    "id": "NtSMRSJSYO2O",
    "outputId": "c67f40df-663b-41c9-b458-6af584f2db01",
    "ExecuteTime": {
     "end_time": "2024-06-10T17:27:48.733928Z",
     "start_time": "2024-06-10T17:27:48.725147Z"
    }
   },
   "outputs": [
    {
     "name": "stdout",
     "output_type": "stream",
     "text": [
      "Model: Linear Regression\n",
      "Mean Absolute Error (MAE): 4296.89\n",
      "Mean Squared Error (MSE): 63352402.34\n",
      "Root Mean Squared Error (RMSE): 7959.42\n",
      "R-squared (R2): 0.96\n",
      "------------------------------\n",
      "Model: Decision Tree\n",
      "Mean Absolute Error (MAE): 4802.52\n",
      "Mean Squared Error (MSE): 102634324.52\n",
      "Root Mean Squared Error (RMSE): 10130.86\n",
      "R-squared (R2): 0.93\n",
      "------------------------------\n",
      "Model: Random Forest\n",
      "Mean Absolute Error (MAE): 4336.54\n",
      "Mean Squared Error (MSE): 77463484.18\n",
      "Root Mean Squared Error (RMSE): 8801.33\n",
      "R-squared (R2): 0.95\n",
      "------------------------------\n",
      "Model: Gradient Boosting\n",
      "Mean Absolute Error (MAE): 4544.06\n",
      "Mean Squared Error (MSE): 83784569.34\n",
      "Root Mean Squared Error (RMSE): 9153.39\n",
      "R-squared (R2): 0.94\n",
      "------------------------------\n"
     ]
    }
   ],
   "execution_count": 28
  },
  {
   "cell_type": "code",
   "source": [
    "best_model_name = 'Linear Regression'\n"
   ],
   "metadata": {
    "id": "EgqW5Sx5gU0M",
    "ExecuteTime": {
     "end_time": "2024-06-10T17:27:48.737635Z",
     "start_time": "2024-06-10T17:27:48.735107Z"
    }
   },
   "outputs": [],
   "execution_count": 29
  },
  {
   "cell_type": "code",
   "source": [
    "best_model = models[best_model_name]\n"
   ],
   "metadata": {
    "id": "_B0a7I6AgQ6c",
    "ExecuteTime": {
     "end_time": "2024-06-10T17:27:48.741719Z",
     "start_time": "2024-06-10T17:27:48.739088Z"
    }
   },
   "outputs": [],
   "execution_count": 30
  },
  {
   "metadata": {
    "ExecuteTime": {
     "end_time": "2024-06-10T18:53:48.768356Z",
     "start_time": "2024-06-10T18:53:48.753874Z"
    }
   },
   "cell_type": "code",
   "source": [
    "import plotly.graph_objects as go\n",
    "\n",
    "\n",
    "predictions = best_model.predict(X_test_scaled)\n",
    "\n",
    "# Create a scatter plot\n",
    "fig = go.Figure(data=go.Scatter(x=y_test, y=predictions, mode='markers'))\n",
    "\n",
    "# Add a line for perfect correlation\n",
    "fig.add_trace(go.Scatter(x=y_test, y=y_test,\n",
    "                    mode='lines',\n",
    "                    name='Perfect Correlation'))\n",
    "\n",
    "# Update layout\n",
    "fig.update_layout(title='Actual vs. Predicted',\n",
    "                   xaxis_title='Actual',\n",
    "                   yaxis_title='Predicted')\n",
    "\n",
    "fig.show()"
   ],
   "outputs": [
    {
     "data": {
      "application/vnd.plotly.v1+json": {
       "data": [
        {
         "mode": "markers",
         "x": [
          42672,
          49660,
          96276,
          44054,
          46822,
          43481,
          41925,
          47597,
          40846,
          42822,
          46076,
          68996,
          49235,
          61742,
          73397,
          42140,
          47945,
          61647,
          45485,
          46118,
          73190,
          41728,
          48587,
          48776,
          49577,
          42819,
          44359,
          49644,
          59246,
          41277,
          40690,
          49903,
          41227,
          45555,
          45761,
          45836,
          44028,
          121962,
          42303,
          63882,
          45927,
          49634,
          46471,
          40395,
          45125,
          42624,
          49095,
          43162,
          44148,
          96378,
          46942,
          48356,
          43210,
          41748,
          52792,
          45022,
          44888,
          47890,
          42052,
          49253,
          41551,
          46326,
          68245,
          184143,
          42797,
          51566,
          44223,
          46386,
          43605,
          199577,
          50044,
          46781,
          111599,
          46074,
          44512,
          50809,
          47250,
          48462,
          43418,
          68319,
          49822,
          47649,
          47248,
          193319,
          41386,
          53390,
          43540,
          49831,
          47178,
          49052,
          129334,
          40414,
          46261,
          41729,
          46507,
          49315,
          45277,
          48074,
          40669,
          41760,
          49913,
          40567,
          47691,
          143778,
          41008,
          46127,
          50813,
          42553,
          97684,
          47769,
          48082,
          67796,
          49609,
          45179,
          43721,
          53535,
          48775,
          47961,
          48689,
          52704,
          52760,
          43569,
          41951,
          45992,
          48309,
          82514,
          129017,
          124154,
          42210,
          213987,
          40886,
          42910,
          42384,
          170971,
          44100,
          43949,
          41863,
          44207,
          41466,
          190850,
          177412,
          65880,
          47289,
          41785,
          41109,
          46693,
          43621,
          42289,
          46062,
          52406,
          42121,
          197246,
          40142,
          41734,
          68446,
          94345,
          49666,
          49974,
          41846,
          49530,
          70154,
          88400,
          49522,
          45230,
          40343,
          43776,
          47859,
          41124,
          92453,
          46127,
          48082,
          69306,
          46999,
          49537,
          48171,
          87324,
          48938,
          44181,
          43592,
          69643,
          43924,
          44002,
          45342,
          181470,
          44787,
          49470,
          43292,
          60125,
          56028,
          154120,
          51747,
          48948,
          45589,
          56772,
          43677,
          41786,
          43483,
          44125,
          45998,
          44892,
          41284,
          103289,
          45450,
          49928,
          41193,
          43124,
          49081,
          41468,
          41869,
          44069,
          179845,
          41380,
          48070,
          43688,
          47881,
          48476,
          60394,
          51817,
          45319,
          43951,
          178590,
          40246,
          46043,
          63290,
          47674,
          42096,
          41610,
          45525,
          42250,
          42327,
          42723,
          45482,
          41071,
          49318,
          46157,
          45002,
          46514,
          43429,
          43910,
          41853,
          61956,
          40113,
          44730,
          46105,
          62307,
          49444,
          191793,
          46469,
          142291,
          49618,
          43875,
          49453,
          43783,
          41619,
          41819,
          128265,
          69231,
          41416,
          40219,
          47847,
          225412,
          141477,
          47755,
          43873,
          52370,
          40600,
          48067,
          140916,
          42125,
          44014,
          45774,
          41284,
          46580,
          50368,
          40929,
          40060,
          43285,
          48660,
          43063,
          49949,
          44551,
          41452,
          45364,
          42637,
          40431,
          49654,
          58566,
          41147,
          44762,
          43495,
          49894,
          48877,
          41845,
          49976,
          45784,
          66244,
          47148,
          48180,
          41514,
          114239,
          42737,
          47598,
          47764,
          68067,
          44412,
          49878,
          44676,
          45875,
          43726,
          58736,
          49559,
          41386,
          294564,
          43319,
          47982,
          44371,
          46907,
          49873,
          42897,
          46791,
          48287,
          45450,
          41929,
          324783,
          43952,
          45100,
          43339,
          41546,
          47667,
          49048,
          46071,
          48546,
          40567,
          129107,
          48030,
          46779,
          41454,
          44988,
          47080,
          42055,
          47893,
          67014,
          68290,
          40384,
          48263,
          41516,
          41819,
          92460,
          128068,
          42760,
          66339,
          46170,
          55949,
          48939,
          42388,
          47668,
          40261,
          40238,
          44555,
          45754,
          40403,
          42992,
          60712,
          46990,
          42667,
          71673,
          41608,
          49633,
          65316,
          44372,
          189435,
          40318,
          99311,
          44524,
          48529,
          83066,
          43481,
          42148,
          44506,
          52567,
          52355,
          43310,
          49624,
          52678,
          45062,
          45704,
          60853,
          43064,
          89965,
          44103,
          47334,
          48751,
          49611,
          81901,
          42527,
          177587,
          59398,
          93854,
          48393,
          48869,
          48268,
          40727,
          51930,
          72237,
          48923,
          45344,
          47068,
          96198,
          40085,
          40718,
          44888,
          40702,
          49470,
          46808,
          63959,
          52324,
          44025,
          47903,
          41921,
          49265,
          190626,
          49206,
          47658,
          48939,
          49892,
          45704,
          42455,
          42136,
          42925,
          69316,
          44610,
          43415,
          48242,
          49670,
          43363,
          41159,
          144332,
          47061,
          99505,
          41865,
          42469,
          43144,
          42375,
          68505,
          51640,
          47376,
          40524,
          49085,
          41694,
          47401,
          69643,
          42086,
          43030,
          45025,
          44744,
          42195,
          47343,
          42722,
          47979,
          59877,
          42828,
          48730,
          67582,
          45977,
          43352,
          45278,
          68604,
          57497,
          66540,
          56291,
          41120,
          40927,
          49689,
          48458,
          81191,
          43835,
          40065,
          47297,
          43307,
          45108,
          44214,
          53988,
          48602,
          49686,
          375647,
          45374,
          41657,
          45316,
          43132,
          50343,
          45815,
          42811,
          48042,
          94321,
          144095,
          43833,
          47846,
          51509,
          49908,
          47892,
          48225,
          43539,
          55885,
          46064,
          96909,
          46823,
          44015,
          44182,
          41679,
          46820,
          313938,
          40820,
          44993,
          43615,
          96757,
          43353,
          48447,
          48363,
          49734,
          46572,
          46349,
          49322,
          49380,
          80173,
          60465,
          135210,
          61046,
          45675
         ],
         "y": [
          45090.20348315225,
          45067.5457913878,
          87046.29974307091,
          44822.09571145933,
          45839.37731043743,
          44544.695845627175,
          44914.68772853473,
          45082.34145374415,
          44955.85739236658,
          45327.37106742504,
          44830.37541575836,
          60635.728799914155,
          44969.93579353808,
          59796.847161404265,
          86730.14773525631,
          45207.09410201647,
          45504.88485523746,
          60073.595359076644,
          44629.32239560719,
          44510.11202495007,
          87847.3191263029,
          44928.25859239997,
          44955.32415213172,
          45260.60119369218,
          44839.12480723746,
          44749.29475960017,
          44789.80494509134,
          45447.16497372698,
          59888.13913338074,
          45348.861003655344,
          45678.910252171336,
          44681.250900120336,
          44811.65495302669,
          45229.01562101359,
          44699.427449855255,
          45222.691356458046,
          44595.50850169143,
          125025.05562079068,
          45049.56328281159,
          60375.55067649683,
          45321.54007251833,
          45570.72683608437,
          44729.02299916264,
          45342.5540710427,
          45086.472192769055,
          45025.04557916723,
          45446.47673325528,
          45343.87585082473,
          45209.602162048956,
          87441.82822120834,
          45652.301228849756,
          45361.403097446826,
          45254.44730630981,
          44189.44261739975,
          60283.15671528531,
          45393.19820586038,
          45649.20017923252,
          44744.49901584677,
          44351.867729789345,
          45161.81085773983,
          45226.26896464802,
          44940.69347033596,
          60345.483862649424,
          176542.08244432526,
          45544.4052640836,
          59995.493865971745,
          45653.73538971306,
          44847.80681422974,
          45133.01435069284,
          177258.06419649074,
          59880.16997919786,
          45321.02271640753,
          124506.25230531428,
          44947.40207968939,
          44975.84348287142,
          60002.12292076306,
          45379.90646578498,
          45252.597042054185,
          44810.867209480646,
          59962.67718864209,
          45507.99518552061,
          45186.592094734304,
          45187.76272224749,
          177338.31681795948,
          44885.83616695832,
          59479.40024633541,
          44667.93760350735,
          44715.353884333184,
          45239.29742432022,
          44256.082948113,
          125598.5226218018,
          45387.244152371815,
          44733.44856359306,
          44097.93250931724,
          45164.652941968976,
          45075.691558067956,
          44562.273971325325,
          45076.48429011881,
          45423.05827868766,
          45261.212406167935,
          45565.20648801233,
          44994.20417723612,
          44877.58679628892,
          124938.77222814813,
          45199.62312791844,
          44941.949652310155,
          60547.80836717267,
          45045.751076765286,
          87072.61393250163,
          44470.297561324944,
          44774.35870180791,
          59173.734585699385,
          44659.31834719931,
          44704.393805385116,
          45047.02830473114,
          60190.196207093286,
          45021.07644022347,
          45506.94836591861,
          45024.14465853879,
          60140.64712599853,
          59928.25594403508,
          45440.55141015373,
          45149.59489864288,
          45036.865593273615,
          45076.73837766996,
          87422.65537627824,
          125188.00554913259,
          124683.58401332269,
          44299.30452243333,
          285327.8518363319,
          44672.13216231015,
          45125.865797240585,
          44085.924930216686,
          177832.3855148447,
          45042.15553298179,
          45564.33996682621,
          44321.13864624461,
          45008.635123962384,
          44194.9982330082,
          177385.35197057927,
          177381.32420900595,
          59745.492101146956,
          44828.6927851594,
          45031.44281561529,
          45447.69118651395,
          44727.116987647736,
          45610.07871184037,
          45219.216885298956,
          45408.45451493988,
          60227.049468615776,
          44652.84678553438,
          177178.37550913583,
          44709.25399456597,
          44870.487131625414,
          59792.20717491658,
          86915.73700762296,
          44074.014921529844,
          45418.895095226995,
          45044.14050515327,
          45410.35271149112,
          86657.98793028473,
          86707.07890096758,
          45510.227394424954,
          45013.60778565221,
          45413.855495220174,
          45669.99768911248,
          44719.855074096595,
          45047.46682050695,
          86822.64598100758,
          45829.69377890472,
          45331.377317988256,
          60044.5079254435,
          45128.843281088244,
          44896.728295150795,
          45292.96329297642,
          87766.64921202665,
          45631.73363224511,
          45039.299529033204,
          45379.06386256956,
          59745.440616321794,
          45206.32313354261,
          44607.128739530686,
          45512.46686990761,
          177923.87474694013,
          44792.31840173641,
          45315.664859364755,
          45131.02199595133,
          60012.262601839786,
          59537.34772159445,
          177038.4720316003,
          60244.10203847441,
          44690.163912740245,
          44276.33618383421,
          60928.12461491573,
          44916.19292862993,
          45339.783621555114,
          44929.64813875219,
          45432.7890937095,
          44723.68850763829,
          45205.48353040445,
          44716.742602432205,
          124750.42631745123,
          44857.36122186108,
          45087.31179590721,
          45159.13259389694,
          44605.39797523193,
          45401.36484852763,
          45343.923137672056,
          44867.6874566623,
          44509.33734242745,
          177369.90600586252,
          44734.44577682097,
          45423.89573591747,
          44941.67519570401,
          45262.9331189186,
          45314.502835580824,
          59668.80640906646,
          59159.490323774,
          44877.47159210699,
          44738.44920428353,
          176117.95119129008,
          44504.03104676532,
          44950.43832875702,
          60875.61056437276,
          45619.53183500923,
          45055.98675675712,
          45107.000599067906,
          44676.22938344278,
          45099.526591471615,
          45130.98488433186,
          45135.330512116765,
          45114.63290066265,
          44516.14595238923,
          45403.65641991571,
          45249.80524474964,
          45152.98524366398,
          45423.22076635872,
          45314.8245756761,
          45216.239392965945,
          45399.451507739504,
          60428.971294377625,
          45062.84437582924,
          45253.371724576806,
          45223.5427334073,
          60626.77198350624,
          44585.0620648054,
          176036.6653681135,
          45305.478782388804,
          124904.42148817111,
          44850.03224967136,
          45218.40972659657,
          44483.61231993759,
          45218.652452738446,
          45153.06333622645,
          45562.222962103784,
          124901.23276350019,
          60788.570270711534,
          44670.58778912793,
          45263.87865405812,
          45412.60006463234,
          285953.23825083964,
          124112.60200865092,
          45144.282930567235,
          44061.41094062108,
          59907.28738827499,
          44665.76384951231,
          44711.076177241084,
          125946.66170541737,
          44637.38376717876,
          45343.58539942664,
          44634.1429148584,
          44585.44940606671,
          44528.75296679625,
          60116.23165995158,
          44973.62979532519,
          45483.91882075271,
          44940.39796773816,
          44617.58695358601,
          45313.831757047454,
          45270.91357146885,
          45021.74195213969,
          45309.16602814355,
          45266.7803395544,
          44848.93746267154,
          44347.5410135869,
          45139.39582333841,
          59943.69394605244,
          45214.476951499746,
          45346.57263938394,
          45533.624803000916,
          45621.210323955835,
          44982.46355185008,
          45383.66467421614,
          45540.1941132251,
          45247.26610305937,
          60228.326503318414,
          44788.02713608688,
          45724.07085232498,
          45396.228127668146,
          124807.61315358689,
          45151.67553951836,
          45629.060753171245,
          44620.00173897973,
          59804.90804568856,
          44656.6374701453,
          44774.89407855306,
          45244.76377477711,
          45189.312087292725,
          45231.66298017533,
          60431.958534334924,
          44714.80657667616,
          44546.570664816434,
          286120.13482511207,
          45327.001359931935,
          44947.449124395105,
          45466.22742353325,
          45162.42177477713,
          44624.83123336894,
          45059.186771310066,
          45479.51223059966,
          45221.86706756134,
          44975.76354622591,
          44645.27649137849,
          285541.43559941486,
          45099.88701468495,
          45742.54570915909,
          44863.78712600125,
          45494.943106344814,
          45366.00158956664,
          45401.34721475942,
          44986.89393512514,
          44507.27151221953,
          45471.58510695762,
          125395.50922800036,
          44885.28633802596,
          45045.030391857814,
          44975.05163841048,
          45018.18796009511,
          45068.21686992117,
          45412.59774510557,
          45413.03536993327,
          59584.57082599747,
          59941.37945284566,
          44864.75725117661,
          45388.81299526831,
          45590.32430751364,
          44600.70087098589,
          87815.89348659903,
          125185.35925453738,
          45177.082658037376,
          59643.237722210295,
          44544.277992590716,
          60851.396249470126,
          44955.81209730501,
          44730.733011154094,
          45321.9422561912,
          44914.6459998192,
          45163.4930607352,
          45022.15894312191,
          45647.76833789598,
          44280.485447575425,
          45559.224121953805,
          59942.32840020862,
          45445.698336683905,
          45471.79603747022,
          87204.418628379,
          45256.11003145393,
          45113.85821814003,
          59978.28836280313,
          45198.1912865819,
          177596.41846411114,
          45003.69725797909,
          86678.43054333916,
          44205.22603869967,
          44435.194662274036,
          86566.86136437394,
          44851.792545229204,
          45119.36464649261,
          44447.13604630301,
          60162.582092885226,
          59970.362807301484,
          44916.819753814234,
          44685.186561012706,
          60319.91933940307,
          44704.33004830213,
          44683.31976382651,
          59474.41277397802,
          44722.211503405306,
          87431.50265183992,
          45153.08028944416,
          45494.69645873475,
          45034.50426046789,
          45348.89365345353,
          86051.86184782872,
          45499.47367777182,
          178082.7134262076,
          60200.92284417924,
          87586.08749839842,
          45218.79706785788,
          44457.70946454026,
          45004.71626858501,
          44899.037145184935,
          58749.104501269714,
          87288.78837097848,
          45208.31012341554,
          45206.76007781981,
          45179.67560046573,
          87223.74885240941,
          45088.926255186394,
          45005.86096042604,
          45166.27005073039,
          45270.46345550036,
          44548.89471238429,
          45017.46911927068,
          60408.74682078743,
          60206.09483257514,
          45444.973764109265,
          45508.29068811842,
          44998.3385099882,
          44834.02317576886,
          176722.06801336407,
          45489.39120478512,
          45019.99435308506,
          44691.33940668256,
          44623.506420088655,
          45114.103437171434,
          45128.04772257854,
          44833.16953258967,
          45160.82408117206,
          60853.15265736079,
          45008.56631567968,
          45163.445777246074,
          45193.135896889915,
          45305.03023456072,
          45146.095357132705,
          44056.87433561855,
          124496.1562856137,
          44680.47621759772,
          87364.0305956471,
          44787.35177362211,
          44989.12041227927,
          44703.572999547716,
          45430.12382819512,
          60147.08612290613,
          59934.22134503233,
          45615.741150398295,
          45586.72906555546,
          44731.154165746135,
          45258.29195679189,
          45305.25781982392,
          59745.440616321794,
          44444.825918454604,
          44322.36383160186,
          44824.47376000053,
          44552.28321332234,
          45774.57982966576,
          45213.072742182674,
          45731.19760839922,
          44946.17561047801,
          60508.70081949997,
          44782.458459454996,
          44962.82953507014,
          59304.321546662955,
          44613.82874515485,
          45030.28079183137,
          45424.68433815953,
          59584.81291110949,
          60684.93877386853,
          59787.150390702605,
          59642.11010726676,
          45202.238964035336,
          44467.120858993585,
          44962.593943341424,
          44928.97194803423,
          87254.41720457545,
          44937.39496397836,
          44650.7654641084,
          44414.16371053195,
          44416.92342792095,
          45348.364189962325,
          45030.970221718286,
          60603.42001769456,
          45743.05057412908,
          44838.835036389864,
          285440.2623406983,
          45436.6129033067,
          44496.11873043263,
          44721.29294900866,
          44631.7195472327,
          60410.37891383482,
          44423.41065894948,
          45137.752130098335,
          44490.08548354395,
          87446.2016546311,
          125315.77881528811,
          45101.13111766454,
          45370.090096302134,
          60092.860665849716,
          45019.46518806096,
          44806.65002840482,
          44616.51566762795,
          44990.49453010834,
          60134.48446152413,
          44839.46456318433,
          86821.76621493288,
          45282.92115056941,
          44222.26905419724,
          44718.05120574019,
          44960.589316342084,
          45040.025650252435,
          285936.95461210853,
          45556.80018444547,
          44703.47525098847,
          44987.49295467157,
          87776.2905197553,
          45127.5157661978,
          44760.62736914198,
          44881.75250438313,
          45066.93427708673,
          45312.22839102887,
          45406.44988794053,
          45048.013237215855,
          44780.52175314845,
          87337.20602864203,
          60010.868598193396,
          125734.50905424198,
          59865.540974104595,
          45625.148830802864
         ],
         "type": "scatter"
        },
        {
         "mode": "lines",
         "name": "Perfect Correlation",
         "x": [
          42672,
          49660,
          96276,
          44054,
          46822,
          43481,
          41925,
          47597,
          40846,
          42822,
          46076,
          68996,
          49235,
          61742,
          73397,
          42140,
          47945,
          61647,
          45485,
          46118,
          73190,
          41728,
          48587,
          48776,
          49577,
          42819,
          44359,
          49644,
          59246,
          41277,
          40690,
          49903,
          41227,
          45555,
          45761,
          45836,
          44028,
          121962,
          42303,
          63882,
          45927,
          49634,
          46471,
          40395,
          45125,
          42624,
          49095,
          43162,
          44148,
          96378,
          46942,
          48356,
          43210,
          41748,
          52792,
          45022,
          44888,
          47890,
          42052,
          49253,
          41551,
          46326,
          68245,
          184143,
          42797,
          51566,
          44223,
          46386,
          43605,
          199577,
          50044,
          46781,
          111599,
          46074,
          44512,
          50809,
          47250,
          48462,
          43418,
          68319,
          49822,
          47649,
          47248,
          193319,
          41386,
          53390,
          43540,
          49831,
          47178,
          49052,
          129334,
          40414,
          46261,
          41729,
          46507,
          49315,
          45277,
          48074,
          40669,
          41760,
          49913,
          40567,
          47691,
          143778,
          41008,
          46127,
          50813,
          42553,
          97684,
          47769,
          48082,
          67796,
          49609,
          45179,
          43721,
          53535,
          48775,
          47961,
          48689,
          52704,
          52760,
          43569,
          41951,
          45992,
          48309,
          82514,
          129017,
          124154,
          42210,
          213987,
          40886,
          42910,
          42384,
          170971,
          44100,
          43949,
          41863,
          44207,
          41466,
          190850,
          177412,
          65880,
          47289,
          41785,
          41109,
          46693,
          43621,
          42289,
          46062,
          52406,
          42121,
          197246,
          40142,
          41734,
          68446,
          94345,
          49666,
          49974,
          41846,
          49530,
          70154,
          88400,
          49522,
          45230,
          40343,
          43776,
          47859,
          41124,
          92453,
          46127,
          48082,
          69306,
          46999,
          49537,
          48171,
          87324,
          48938,
          44181,
          43592,
          69643,
          43924,
          44002,
          45342,
          181470,
          44787,
          49470,
          43292,
          60125,
          56028,
          154120,
          51747,
          48948,
          45589,
          56772,
          43677,
          41786,
          43483,
          44125,
          45998,
          44892,
          41284,
          103289,
          45450,
          49928,
          41193,
          43124,
          49081,
          41468,
          41869,
          44069,
          179845,
          41380,
          48070,
          43688,
          47881,
          48476,
          60394,
          51817,
          45319,
          43951,
          178590,
          40246,
          46043,
          63290,
          47674,
          42096,
          41610,
          45525,
          42250,
          42327,
          42723,
          45482,
          41071,
          49318,
          46157,
          45002,
          46514,
          43429,
          43910,
          41853,
          61956,
          40113,
          44730,
          46105,
          62307,
          49444,
          191793,
          46469,
          142291,
          49618,
          43875,
          49453,
          43783,
          41619,
          41819,
          128265,
          69231,
          41416,
          40219,
          47847,
          225412,
          141477,
          47755,
          43873,
          52370,
          40600,
          48067,
          140916,
          42125,
          44014,
          45774,
          41284,
          46580,
          50368,
          40929,
          40060,
          43285,
          48660,
          43063,
          49949,
          44551,
          41452,
          45364,
          42637,
          40431,
          49654,
          58566,
          41147,
          44762,
          43495,
          49894,
          48877,
          41845,
          49976,
          45784,
          66244,
          47148,
          48180,
          41514,
          114239,
          42737,
          47598,
          47764,
          68067,
          44412,
          49878,
          44676,
          45875,
          43726,
          58736,
          49559,
          41386,
          294564,
          43319,
          47982,
          44371,
          46907,
          49873,
          42897,
          46791,
          48287,
          45450,
          41929,
          324783,
          43952,
          45100,
          43339,
          41546,
          47667,
          49048,
          46071,
          48546,
          40567,
          129107,
          48030,
          46779,
          41454,
          44988,
          47080,
          42055,
          47893,
          67014,
          68290,
          40384,
          48263,
          41516,
          41819,
          92460,
          128068,
          42760,
          66339,
          46170,
          55949,
          48939,
          42388,
          47668,
          40261,
          40238,
          44555,
          45754,
          40403,
          42992,
          60712,
          46990,
          42667,
          71673,
          41608,
          49633,
          65316,
          44372,
          189435,
          40318,
          99311,
          44524,
          48529,
          83066,
          43481,
          42148,
          44506,
          52567,
          52355,
          43310,
          49624,
          52678,
          45062,
          45704,
          60853,
          43064,
          89965,
          44103,
          47334,
          48751,
          49611,
          81901,
          42527,
          177587,
          59398,
          93854,
          48393,
          48869,
          48268,
          40727,
          51930,
          72237,
          48923,
          45344,
          47068,
          96198,
          40085,
          40718,
          44888,
          40702,
          49470,
          46808,
          63959,
          52324,
          44025,
          47903,
          41921,
          49265,
          190626,
          49206,
          47658,
          48939,
          49892,
          45704,
          42455,
          42136,
          42925,
          69316,
          44610,
          43415,
          48242,
          49670,
          43363,
          41159,
          144332,
          47061,
          99505,
          41865,
          42469,
          43144,
          42375,
          68505,
          51640,
          47376,
          40524,
          49085,
          41694,
          47401,
          69643,
          42086,
          43030,
          45025,
          44744,
          42195,
          47343,
          42722,
          47979,
          59877,
          42828,
          48730,
          67582,
          45977,
          43352,
          45278,
          68604,
          57497,
          66540,
          56291,
          41120,
          40927,
          49689,
          48458,
          81191,
          43835,
          40065,
          47297,
          43307,
          45108,
          44214,
          53988,
          48602,
          49686,
          375647,
          45374,
          41657,
          45316,
          43132,
          50343,
          45815,
          42811,
          48042,
          94321,
          144095,
          43833,
          47846,
          51509,
          49908,
          47892,
          48225,
          43539,
          55885,
          46064,
          96909,
          46823,
          44015,
          44182,
          41679,
          46820,
          313938,
          40820,
          44993,
          43615,
          96757,
          43353,
          48447,
          48363,
          49734,
          46572,
          46349,
          49322,
          49380,
          80173,
          60465,
          135210,
          61046,
          45675
         ],
         "y": [
          42672,
          49660,
          96276,
          44054,
          46822,
          43481,
          41925,
          47597,
          40846,
          42822,
          46076,
          68996,
          49235,
          61742,
          73397,
          42140,
          47945,
          61647,
          45485,
          46118,
          73190,
          41728,
          48587,
          48776,
          49577,
          42819,
          44359,
          49644,
          59246,
          41277,
          40690,
          49903,
          41227,
          45555,
          45761,
          45836,
          44028,
          121962,
          42303,
          63882,
          45927,
          49634,
          46471,
          40395,
          45125,
          42624,
          49095,
          43162,
          44148,
          96378,
          46942,
          48356,
          43210,
          41748,
          52792,
          45022,
          44888,
          47890,
          42052,
          49253,
          41551,
          46326,
          68245,
          184143,
          42797,
          51566,
          44223,
          46386,
          43605,
          199577,
          50044,
          46781,
          111599,
          46074,
          44512,
          50809,
          47250,
          48462,
          43418,
          68319,
          49822,
          47649,
          47248,
          193319,
          41386,
          53390,
          43540,
          49831,
          47178,
          49052,
          129334,
          40414,
          46261,
          41729,
          46507,
          49315,
          45277,
          48074,
          40669,
          41760,
          49913,
          40567,
          47691,
          143778,
          41008,
          46127,
          50813,
          42553,
          97684,
          47769,
          48082,
          67796,
          49609,
          45179,
          43721,
          53535,
          48775,
          47961,
          48689,
          52704,
          52760,
          43569,
          41951,
          45992,
          48309,
          82514,
          129017,
          124154,
          42210,
          213987,
          40886,
          42910,
          42384,
          170971,
          44100,
          43949,
          41863,
          44207,
          41466,
          190850,
          177412,
          65880,
          47289,
          41785,
          41109,
          46693,
          43621,
          42289,
          46062,
          52406,
          42121,
          197246,
          40142,
          41734,
          68446,
          94345,
          49666,
          49974,
          41846,
          49530,
          70154,
          88400,
          49522,
          45230,
          40343,
          43776,
          47859,
          41124,
          92453,
          46127,
          48082,
          69306,
          46999,
          49537,
          48171,
          87324,
          48938,
          44181,
          43592,
          69643,
          43924,
          44002,
          45342,
          181470,
          44787,
          49470,
          43292,
          60125,
          56028,
          154120,
          51747,
          48948,
          45589,
          56772,
          43677,
          41786,
          43483,
          44125,
          45998,
          44892,
          41284,
          103289,
          45450,
          49928,
          41193,
          43124,
          49081,
          41468,
          41869,
          44069,
          179845,
          41380,
          48070,
          43688,
          47881,
          48476,
          60394,
          51817,
          45319,
          43951,
          178590,
          40246,
          46043,
          63290,
          47674,
          42096,
          41610,
          45525,
          42250,
          42327,
          42723,
          45482,
          41071,
          49318,
          46157,
          45002,
          46514,
          43429,
          43910,
          41853,
          61956,
          40113,
          44730,
          46105,
          62307,
          49444,
          191793,
          46469,
          142291,
          49618,
          43875,
          49453,
          43783,
          41619,
          41819,
          128265,
          69231,
          41416,
          40219,
          47847,
          225412,
          141477,
          47755,
          43873,
          52370,
          40600,
          48067,
          140916,
          42125,
          44014,
          45774,
          41284,
          46580,
          50368,
          40929,
          40060,
          43285,
          48660,
          43063,
          49949,
          44551,
          41452,
          45364,
          42637,
          40431,
          49654,
          58566,
          41147,
          44762,
          43495,
          49894,
          48877,
          41845,
          49976,
          45784,
          66244,
          47148,
          48180,
          41514,
          114239,
          42737,
          47598,
          47764,
          68067,
          44412,
          49878,
          44676,
          45875,
          43726,
          58736,
          49559,
          41386,
          294564,
          43319,
          47982,
          44371,
          46907,
          49873,
          42897,
          46791,
          48287,
          45450,
          41929,
          324783,
          43952,
          45100,
          43339,
          41546,
          47667,
          49048,
          46071,
          48546,
          40567,
          129107,
          48030,
          46779,
          41454,
          44988,
          47080,
          42055,
          47893,
          67014,
          68290,
          40384,
          48263,
          41516,
          41819,
          92460,
          128068,
          42760,
          66339,
          46170,
          55949,
          48939,
          42388,
          47668,
          40261,
          40238,
          44555,
          45754,
          40403,
          42992,
          60712,
          46990,
          42667,
          71673,
          41608,
          49633,
          65316,
          44372,
          189435,
          40318,
          99311,
          44524,
          48529,
          83066,
          43481,
          42148,
          44506,
          52567,
          52355,
          43310,
          49624,
          52678,
          45062,
          45704,
          60853,
          43064,
          89965,
          44103,
          47334,
          48751,
          49611,
          81901,
          42527,
          177587,
          59398,
          93854,
          48393,
          48869,
          48268,
          40727,
          51930,
          72237,
          48923,
          45344,
          47068,
          96198,
          40085,
          40718,
          44888,
          40702,
          49470,
          46808,
          63959,
          52324,
          44025,
          47903,
          41921,
          49265,
          190626,
          49206,
          47658,
          48939,
          49892,
          45704,
          42455,
          42136,
          42925,
          69316,
          44610,
          43415,
          48242,
          49670,
          43363,
          41159,
          144332,
          47061,
          99505,
          41865,
          42469,
          43144,
          42375,
          68505,
          51640,
          47376,
          40524,
          49085,
          41694,
          47401,
          69643,
          42086,
          43030,
          45025,
          44744,
          42195,
          47343,
          42722,
          47979,
          59877,
          42828,
          48730,
          67582,
          45977,
          43352,
          45278,
          68604,
          57497,
          66540,
          56291,
          41120,
          40927,
          49689,
          48458,
          81191,
          43835,
          40065,
          47297,
          43307,
          45108,
          44214,
          53988,
          48602,
          49686,
          375647,
          45374,
          41657,
          45316,
          43132,
          50343,
          45815,
          42811,
          48042,
          94321,
          144095,
          43833,
          47846,
          51509,
          49908,
          47892,
          48225,
          43539,
          55885,
          46064,
          96909,
          46823,
          44015,
          44182,
          41679,
          46820,
          313938,
          40820,
          44993,
          43615,
          96757,
          43353,
          48447,
          48363,
          49734,
          46572,
          46349,
          49322,
          49380,
          80173,
          60465,
          135210,
          61046,
          45675
         ],
         "type": "scatter"
        }
       ],
       "layout": {
        "template": {
         "data": {
          "histogram2dcontour": [
           {
            "type": "histogram2dcontour",
            "colorbar": {
             "outlinewidth": 0,
             "ticks": ""
            },
            "colorscale": [
             [
              0.0,
              "#0d0887"
             ],
             [
              0.1111111111111111,
              "#46039f"
             ],
             [
              0.2222222222222222,
              "#7201a8"
             ],
             [
              0.3333333333333333,
              "#9c179e"
             ],
             [
              0.4444444444444444,
              "#bd3786"
             ],
             [
              0.5555555555555556,
              "#d8576b"
             ],
             [
              0.6666666666666666,
              "#ed7953"
             ],
             [
              0.7777777777777778,
              "#fb9f3a"
             ],
             [
              0.8888888888888888,
              "#fdca26"
             ],
             [
              1.0,
              "#f0f921"
             ]
            ]
           }
          ],
          "choropleth": [
           {
            "type": "choropleth",
            "colorbar": {
             "outlinewidth": 0,
             "ticks": ""
            }
           }
          ],
          "histogram2d": [
           {
            "type": "histogram2d",
            "colorbar": {
             "outlinewidth": 0,
             "ticks": ""
            },
            "colorscale": [
             [
              0.0,
              "#0d0887"
             ],
             [
              0.1111111111111111,
              "#46039f"
             ],
             [
              0.2222222222222222,
              "#7201a8"
             ],
             [
              0.3333333333333333,
              "#9c179e"
             ],
             [
              0.4444444444444444,
              "#bd3786"
             ],
             [
              0.5555555555555556,
              "#d8576b"
             ],
             [
              0.6666666666666666,
              "#ed7953"
             ],
             [
              0.7777777777777778,
              "#fb9f3a"
             ],
             [
              0.8888888888888888,
              "#fdca26"
             ],
             [
              1.0,
              "#f0f921"
             ]
            ]
           }
          ],
          "heatmap": [
           {
            "type": "heatmap",
            "colorbar": {
             "outlinewidth": 0,
             "ticks": ""
            },
            "colorscale": [
             [
              0.0,
              "#0d0887"
             ],
             [
              0.1111111111111111,
              "#46039f"
             ],
             [
              0.2222222222222222,
              "#7201a8"
             ],
             [
              0.3333333333333333,
              "#9c179e"
             ],
             [
              0.4444444444444444,
              "#bd3786"
             ],
             [
              0.5555555555555556,
              "#d8576b"
             ],
             [
              0.6666666666666666,
              "#ed7953"
             ],
             [
              0.7777777777777778,
              "#fb9f3a"
             ],
             [
              0.8888888888888888,
              "#fdca26"
             ],
             [
              1.0,
              "#f0f921"
             ]
            ]
           }
          ],
          "heatmapgl": [
           {
            "type": "heatmapgl",
            "colorbar": {
             "outlinewidth": 0,
             "ticks": ""
            },
            "colorscale": [
             [
              0.0,
              "#0d0887"
             ],
             [
              0.1111111111111111,
              "#46039f"
             ],
             [
              0.2222222222222222,
              "#7201a8"
             ],
             [
              0.3333333333333333,
              "#9c179e"
             ],
             [
              0.4444444444444444,
              "#bd3786"
             ],
             [
              0.5555555555555556,
              "#d8576b"
             ],
             [
              0.6666666666666666,
              "#ed7953"
             ],
             [
              0.7777777777777778,
              "#fb9f3a"
             ],
             [
              0.8888888888888888,
              "#fdca26"
             ],
             [
              1.0,
              "#f0f921"
             ]
            ]
           }
          ],
          "contourcarpet": [
           {
            "type": "contourcarpet",
            "colorbar": {
             "outlinewidth": 0,
             "ticks": ""
            }
           }
          ],
          "contour": [
           {
            "type": "contour",
            "colorbar": {
             "outlinewidth": 0,
             "ticks": ""
            },
            "colorscale": [
             [
              0.0,
              "#0d0887"
             ],
             [
              0.1111111111111111,
              "#46039f"
             ],
             [
              0.2222222222222222,
              "#7201a8"
             ],
             [
              0.3333333333333333,
              "#9c179e"
             ],
             [
              0.4444444444444444,
              "#bd3786"
             ],
             [
              0.5555555555555556,
              "#d8576b"
             ],
             [
              0.6666666666666666,
              "#ed7953"
             ],
             [
              0.7777777777777778,
              "#fb9f3a"
             ],
             [
              0.8888888888888888,
              "#fdca26"
             ],
             [
              1.0,
              "#f0f921"
             ]
            ]
           }
          ],
          "surface": [
           {
            "type": "surface",
            "colorbar": {
             "outlinewidth": 0,
             "ticks": ""
            },
            "colorscale": [
             [
              0.0,
              "#0d0887"
             ],
             [
              0.1111111111111111,
              "#46039f"
             ],
             [
              0.2222222222222222,
              "#7201a8"
             ],
             [
              0.3333333333333333,
              "#9c179e"
             ],
             [
              0.4444444444444444,
              "#bd3786"
             ],
             [
              0.5555555555555556,
              "#d8576b"
             ],
             [
              0.6666666666666666,
              "#ed7953"
             ],
             [
              0.7777777777777778,
              "#fb9f3a"
             ],
             [
              0.8888888888888888,
              "#fdca26"
             ],
             [
              1.0,
              "#f0f921"
             ]
            ]
           }
          ],
          "mesh3d": [
           {
            "type": "mesh3d",
            "colorbar": {
             "outlinewidth": 0,
             "ticks": ""
            }
           }
          ],
          "scatter": [
           {
            "fillpattern": {
             "fillmode": "overlay",
             "size": 10,
             "solidity": 0.2
            },
            "type": "scatter"
           }
          ],
          "parcoords": [
           {
            "type": "parcoords",
            "line": {
             "colorbar": {
              "outlinewidth": 0,
              "ticks": ""
             }
            }
           }
          ],
          "scatterpolargl": [
           {
            "type": "scatterpolargl",
            "marker": {
             "colorbar": {
              "outlinewidth": 0,
              "ticks": ""
             }
            }
           }
          ],
          "bar": [
           {
            "error_x": {
             "color": "#2a3f5f"
            },
            "error_y": {
             "color": "#2a3f5f"
            },
            "marker": {
             "line": {
              "color": "#E5ECF6",
              "width": 0.5
             },
             "pattern": {
              "fillmode": "overlay",
              "size": 10,
              "solidity": 0.2
             }
            },
            "type": "bar"
           }
          ],
          "scattergeo": [
           {
            "type": "scattergeo",
            "marker": {
             "colorbar": {
              "outlinewidth": 0,
              "ticks": ""
             }
            }
           }
          ],
          "scatterpolar": [
           {
            "type": "scatterpolar",
            "marker": {
             "colorbar": {
              "outlinewidth": 0,
              "ticks": ""
             }
            }
           }
          ],
          "histogram": [
           {
            "marker": {
             "pattern": {
              "fillmode": "overlay",
              "size": 10,
              "solidity": 0.2
             }
            },
            "type": "histogram"
           }
          ],
          "scattergl": [
           {
            "type": "scattergl",
            "marker": {
             "colorbar": {
              "outlinewidth": 0,
              "ticks": ""
             }
            }
           }
          ],
          "scatter3d": [
           {
            "type": "scatter3d",
            "line": {
             "colorbar": {
              "outlinewidth": 0,
              "ticks": ""
             }
            },
            "marker": {
             "colorbar": {
              "outlinewidth": 0,
              "ticks": ""
             }
            }
           }
          ],
          "scattermapbox": [
           {
            "type": "scattermapbox",
            "marker": {
             "colorbar": {
              "outlinewidth": 0,
              "ticks": ""
             }
            }
           }
          ],
          "scatterternary": [
           {
            "type": "scatterternary",
            "marker": {
             "colorbar": {
              "outlinewidth": 0,
              "ticks": ""
             }
            }
           }
          ],
          "scattercarpet": [
           {
            "type": "scattercarpet",
            "marker": {
             "colorbar": {
              "outlinewidth": 0,
              "ticks": ""
             }
            }
           }
          ],
          "carpet": [
           {
            "aaxis": {
             "endlinecolor": "#2a3f5f",
             "gridcolor": "white",
             "linecolor": "white",
             "minorgridcolor": "white",
             "startlinecolor": "#2a3f5f"
            },
            "baxis": {
             "endlinecolor": "#2a3f5f",
             "gridcolor": "white",
             "linecolor": "white",
             "minorgridcolor": "white",
             "startlinecolor": "#2a3f5f"
            },
            "type": "carpet"
           }
          ],
          "table": [
           {
            "cells": {
             "fill": {
              "color": "#EBF0F8"
             },
             "line": {
              "color": "white"
             }
            },
            "header": {
             "fill": {
              "color": "#C8D4E3"
             },
             "line": {
              "color": "white"
             }
            },
            "type": "table"
           }
          ],
          "barpolar": [
           {
            "marker": {
             "line": {
              "color": "#E5ECF6",
              "width": 0.5
             },
             "pattern": {
              "fillmode": "overlay",
              "size": 10,
              "solidity": 0.2
             }
            },
            "type": "barpolar"
           }
          ],
          "pie": [
           {
            "automargin": true,
            "type": "pie"
           }
          ]
         },
         "layout": {
          "autotypenumbers": "strict",
          "colorway": [
           "#636efa",
           "#EF553B",
           "#00cc96",
           "#ab63fa",
           "#FFA15A",
           "#19d3f3",
           "#FF6692",
           "#B6E880",
           "#FF97FF",
           "#FECB52"
          ],
          "font": {
           "color": "#2a3f5f"
          },
          "hovermode": "closest",
          "hoverlabel": {
           "align": "left"
          },
          "paper_bgcolor": "white",
          "plot_bgcolor": "#E5ECF6",
          "polar": {
           "bgcolor": "#E5ECF6",
           "angularaxis": {
            "gridcolor": "white",
            "linecolor": "white",
            "ticks": ""
           },
           "radialaxis": {
            "gridcolor": "white",
            "linecolor": "white",
            "ticks": ""
           }
          },
          "ternary": {
           "bgcolor": "#E5ECF6",
           "aaxis": {
            "gridcolor": "white",
            "linecolor": "white",
            "ticks": ""
           },
           "baxis": {
            "gridcolor": "white",
            "linecolor": "white",
            "ticks": ""
           },
           "caxis": {
            "gridcolor": "white",
            "linecolor": "white",
            "ticks": ""
           }
          },
          "coloraxis": {
           "colorbar": {
            "outlinewidth": 0,
            "ticks": ""
           }
          },
          "colorscale": {
           "sequential": [
            [
             0.0,
             "#0d0887"
            ],
            [
             0.1111111111111111,
             "#46039f"
            ],
            [
             0.2222222222222222,
             "#7201a8"
            ],
            [
             0.3333333333333333,
             "#9c179e"
            ],
            [
             0.4444444444444444,
             "#bd3786"
            ],
            [
             0.5555555555555556,
             "#d8576b"
            ],
            [
             0.6666666666666666,
             "#ed7953"
            ],
            [
             0.7777777777777778,
             "#fb9f3a"
            ],
            [
             0.8888888888888888,
             "#fdca26"
            ],
            [
             1.0,
             "#f0f921"
            ]
           ],
           "sequentialminus": [
            [
             0.0,
             "#0d0887"
            ],
            [
             0.1111111111111111,
             "#46039f"
            ],
            [
             0.2222222222222222,
             "#7201a8"
            ],
            [
             0.3333333333333333,
             "#9c179e"
            ],
            [
             0.4444444444444444,
             "#bd3786"
            ],
            [
             0.5555555555555556,
             "#d8576b"
            ],
            [
             0.6666666666666666,
             "#ed7953"
            ],
            [
             0.7777777777777778,
             "#fb9f3a"
            ],
            [
             0.8888888888888888,
             "#fdca26"
            ],
            [
             1.0,
             "#f0f921"
            ]
           ],
           "diverging": [
            [
             0,
             "#8e0152"
            ],
            [
             0.1,
             "#c51b7d"
            ],
            [
             0.2,
             "#de77ae"
            ],
            [
             0.3,
             "#f1b6da"
            ],
            [
             0.4,
             "#fde0ef"
            ],
            [
             0.5,
             "#f7f7f7"
            ],
            [
             0.6,
             "#e6f5d0"
            ],
            [
             0.7,
             "#b8e186"
            ],
            [
             0.8,
             "#7fbc41"
            ],
            [
             0.9,
             "#4d9221"
            ],
            [
             1,
             "#276419"
            ]
           ]
          },
          "xaxis": {
           "gridcolor": "white",
           "linecolor": "white",
           "ticks": "",
           "title": {
            "standoff": 15
           },
           "zerolinecolor": "white",
           "automargin": true,
           "zerolinewidth": 2
          },
          "yaxis": {
           "gridcolor": "white",
           "linecolor": "white",
           "ticks": "",
           "title": {
            "standoff": 15
           },
           "zerolinecolor": "white",
           "automargin": true,
           "zerolinewidth": 2
          },
          "scene": {
           "xaxis": {
            "backgroundcolor": "#E5ECF6",
            "gridcolor": "white",
            "linecolor": "white",
            "showbackground": true,
            "ticks": "",
            "zerolinecolor": "white",
            "gridwidth": 2
           },
           "yaxis": {
            "backgroundcolor": "#E5ECF6",
            "gridcolor": "white",
            "linecolor": "white",
            "showbackground": true,
            "ticks": "",
            "zerolinecolor": "white",
            "gridwidth": 2
           },
           "zaxis": {
            "backgroundcolor": "#E5ECF6",
            "gridcolor": "white",
            "linecolor": "white",
            "showbackground": true,
            "ticks": "",
            "zerolinecolor": "white",
            "gridwidth": 2
           }
          },
          "shapedefaults": {
           "line": {
            "color": "#2a3f5f"
           }
          },
          "annotationdefaults": {
           "arrowcolor": "#2a3f5f",
           "arrowhead": 0,
           "arrowwidth": 1
          },
          "geo": {
           "bgcolor": "white",
           "landcolor": "#E5ECF6",
           "subunitcolor": "white",
           "showland": true,
           "showlakes": true,
           "lakecolor": "white"
          },
          "title": {
           "x": 0.05
          },
          "mapbox": {
           "style": "light"
          }
         }
        },
        "title": {
         "text": "Actual vs. Predicted"
        },
        "xaxis": {
         "title": {
          "text": "Actual"
         }
        },
        "yaxis": {
         "title": {
          "text": "Predicted"
         }
        }
       },
       "config": {
        "plotlyServerURL": "https://plot.ly"
       }
      },
      "text/html": [
       "<div>                            <div id=\"79d78402-15f8-46b7-9ba5-9459f8e46534\" class=\"plotly-graph-div\" style=\"height:525px; width:100%;\"></div>            <script type=\"text/javascript\">                require([\"plotly\"], function(Plotly) {                    window.PLOTLYENV=window.PLOTLYENV || {};                                    if (document.getElementById(\"79d78402-15f8-46b7-9ba5-9459f8e46534\")) {                    Plotly.newPlot(                        \"79d78402-15f8-46b7-9ba5-9459f8e46534\",                        [{\"mode\":\"markers\",\"x\":[42672,49660,96276,44054,46822,43481,41925,47597,40846,42822,46076,68996,49235,61742,73397,42140,47945,61647,45485,46118,73190,41728,48587,48776,49577,42819,44359,49644,59246,41277,40690,49903,41227,45555,45761,45836,44028,121962,42303,63882,45927,49634,46471,40395,45125,42624,49095,43162,44148,96378,46942,48356,43210,41748,52792,45022,44888,47890,42052,49253,41551,46326,68245,184143,42797,51566,44223,46386,43605,199577,50044,46781,111599,46074,44512,50809,47250,48462,43418,68319,49822,47649,47248,193319,41386,53390,43540,49831,47178,49052,129334,40414,46261,41729,46507,49315,45277,48074,40669,41760,49913,40567,47691,143778,41008,46127,50813,42553,97684,47769,48082,67796,49609,45179,43721,53535,48775,47961,48689,52704,52760,43569,41951,45992,48309,82514,129017,124154,42210,213987,40886,42910,42384,170971,44100,43949,41863,44207,41466,190850,177412,65880,47289,41785,41109,46693,43621,42289,46062,52406,42121,197246,40142,41734,68446,94345,49666,49974,41846,49530,70154,88400,49522,45230,40343,43776,47859,41124,92453,46127,48082,69306,46999,49537,48171,87324,48938,44181,43592,69643,43924,44002,45342,181470,44787,49470,43292,60125,56028,154120,51747,48948,45589,56772,43677,41786,43483,44125,45998,44892,41284,103289,45450,49928,41193,43124,49081,41468,41869,44069,179845,41380,48070,43688,47881,48476,60394,51817,45319,43951,178590,40246,46043,63290,47674,42096,41610,45525,42250,42327,42723,45482,41071,49318,46157,45002,46514,43429,43910,41853,61956,40113,44730,46105,62307,49444,191793,46469,142291,49618,43875,49453,43783,41619,41819,128265,69231,41416,40219,47847,225412,141477,47755,43873,52370,40600,48067,140916,42125,44014,45774,41284,46580,50368,40929,40060,43285,48660,43063,49949,44551,41452,45364,42637,40431,49654,58566,41147,44762,43495,49894,48877,41845,49976,45784,66244,47148,48180,41514,114239,42737,47598,47764,68067,44412,49878,44676,45875,43726,58736,49559,41386,294564,43319,47982,44371,46907,49873,42897,46791,48287,45450,41929,324783,43952,45100,43339,41546,47667,49048,46071,48546,40567,129107,48030,46779,41454,44988,47080,42055,47893,67014,68290,40384,48263,41516,41819,92460,128068,42760,66339,46170,55949,48939,42388,47668,40261,40238,44555,45754,40403,42992,60712,46990,42667,71673,41608,49633,65316,44372,189435,40318,99311,44524,48529,83066,43481,42148,44506,52567,52355,43310,49624,52678,45062,45704,60853,43064,89965,44103,47334,48751,49611,81901,42527,177587,59398,93854,48393,48869,48268,40727,51930,72237,48923,45344,47068,96198,40085,40718,44888,40702,49470,46808,63959,52324,44025,47903,41921,49265,190626,49206,47658,48939,49892,45704,42455,42136,42925,69316,44610,43415,48242,49670,43363,41159,144332,47061,99505,41865,42469,43144,42375,68505,51640,47376,40524,49085,41694,47401,69643,42086,43030,45025,44744,42195,47343,42722,47979,59877,42828,48730,67582,45977,43352,45278,68604,57497,66540,56291,41120,40927,49689,48458,81191,43835,40065,47297,43307,45108,44214,53988,48602,49686,375647,45374,41657,45316,43132,50343,45815,42811,48042,94321,144095,43833,47846,51509,49908,47892,48225,43539,55885,46064,96909,46823,44015,44182,41679,46820,313938,40820,44993,43615,96757,43353,48447,48363,49734,46572,46349,49322,49380,80173,60465,135210,61046,45675],\"y\":[45090.20348315225,45067.5457913878,87046.29974307091,44822.09571145933,45839.37731043743,44544.695845627175,44914.68772853473,45082.34145374415,44955.85739236658,45327.37106742504,44830.37541575836,60635.728799914155,44969.93579353808,59796.847161404265,86730.14773525631,45207.09410201647,45504.88485523746,60073.595359076644,44629.32239560719,44510.11202495007,87847.3191263029,44928.25859239997,44955.32415213172,45260.60119369218,44839.12480723746,44749.29475960017,44789.80494509134,45447.16497372698,59888.13913338074,45348.861003655344,45678.910252171336,44681.250900120336,44811.65495302669,45229.01562101359,44699.427449855255,45222.691356458046,44595.50850169143,125025.05562079068,45049.56328281159,60375.55067649683,45321.54007251833,45570.72683608437,44729.02299916264,45342.5540710427,45086.472192769055,45025.04557916723,45446.47673325528,45343.87585082473,45209.602162048956,87441.82822120834,45652.301228849756,45361.403097446826,45254.44730630981,44189.44261739975,60283.15671528531,45393.19820586038,45649.20017923252,44744.49901584677,44351.867729789345,45161.81085773983,45226.26896464802,44940.69347033596,60345.483862649424,176542.08244432526,45544.4052640836,59995.493865971745,45653.73538971306,44847.80681422974,45133.01435069284,177258.06419649074,59880.16997919786,45321.02271640753,124506.25230531428,44947.40207968939,44975.84348287142,60002.12292076306,45379.90646578498,45252.597042054185,44810.867209480646,59962.67718864209,45507.99518552061,45186.592094734304,45187.76272224749,177338.31681795948,44885.83616695832,59479.40024633541,44667.93760350735,44715.353884333184,45239.29742432022,44256.082948113,125598.5226218018,45387.244152371815,44733.44856359306,44097.93250931724,45164.652941968976,45075.691558067956,44562.273971325325,45076.48429011881,45423.05827868766,45261.212406167935,45565.20648801233,44994.20417723612,44877.58679628892,124938.77222814813,45199.62312791844,44941.949652310155,60547.80836717267,45045.751076765286,87072.61393250163,44470.297561324944,44774.35870180791,59173.734585699385,44659.31834719931,44704.393805385116,45047.02830473114,60190.196207093286,45021.07644022347,45506.94836591861,45024.14465853879,60140.64712599853,59928.25594403508,45440.55141015373,45149.59489864288,45036.865593273615,45076.73837766996,87422.65537627824,125188.00554913259,124683.58401332269,44299.30452243333,285327.8518363319,44672.13216231015,45125.865797240585,44085.924930216686,177832.3855148447,45042.15553298179,45564.33996682621,44321.13864624461,45008.635123962384,44194.9982330082,177385.35197057927,177381.32420900595,59745.492101146956,44828.6927851594,45031.44281561529,45447.69118651395,44727.116987647736,45610.07871184037,45219.216885298956,45408.45451493988,60227.049468615776,44652.84678553438,177178.37550913583,44709.25399456597,44870.487131625414,59792.20717491658,86915.73700762296,44074.014921529844,45418.895095226995,45044.14050515327,45410.35271149112,86657.98793028473,86707.07890096758,45510.227394424954,45013.60778565221,45413.855495220174,45669.99768911248,44719.855074096595,45047.46682050695,86822.64598100758,45829.69377890472,45331.377317988256,60044.5079254435,45128.843281088244,44896.728295150795,45292.96329297642,87766.64921202665,45631.73363224511,45039.299529033204,45379.06386256956,59745.440616321794,45206.32313354261,44607.128739530686,45512.46686990761,177923.87474694013,44792.31840173641,45315.664859364755,45131.02199595133,60012.262601839786,59537.34772159445,177038.4720316003,60244.10203847441,44690.163912740245,44276.33618383421,60928.12461491573,44916.19292862993,45339.783621555114,44929.64813875219,45432.7890937095,44723.68850763829,45205.48353040445,44716.742602432205,124750.42631745123,44857.36122186108,45087.31179590721,45159.13259389694,44605.39797523193,45401.36484852763,45343.923137672056,44867.6874566623,44509.33734242745,177369.90600586252,44734.44577682097,45423.89573591747,44941.67519570401,45262.9331189186,45314.502835580824,59668.80640906646,59159.490323774,44877.47159210699,44738.44920428353,176117.95119129008,44504.03104676532,44950.43832875702,60875.61056437276,45619.53183500923,45055.98675675712,45107.000599067906,44676.22938344278,45099.526591471615,45130.98488433186,45135.330512116765,45114.63290066265,44516.14595238923,45403.65641991571,45249.80524474964,45152.98524366398,45423.22076635872,45314.8245756761,45216.239392965945,45399.451507739504,60428.971294377625,45062.84437582924,45253.371724576806,45223.5427334073,60626.77198350624,44585.0620648054,176036.6653681135,45305.478782388804,124904.42148817111,44850.03224967136,45218.40972659657,44483.61231993759,45218.652452738446,45153.06333622645,45562.222962103784,124901.23276350019,60788.570270711534,44670.58778912793,45263.87865405812,45412.60006463234,285953.23825083964,124112.60200865092,45144.282930567235,44061.41094062108,59907.28738827499,44665.76384951231,44711.076177241084,125946.66170541737,44637.38376717876,45343.58539942664,44634.1429148584,44585.44940606671,44528.75296679625,60116.23165995158,44973.62979532519,45483.91882075271,44940.39796773816,44617.58695358601,45313.831757047454,45270.91357146885,45021.74195213969,45309.16602814355,45266.7803395544,44848.93746267154,44347.5410135869,45139.39582333841,59943.69394605244,45214.476951499746,45346.57263938394,45533.624803000916,45621.210323955835,44982.46355185008,45383.66467421614,45540.1941132251,45247.26610305937,60228.326503318414,44788.02713608688,45724.07085232498,45396.228127668146,124807.61315358689,45151.67553951836,45629.060753171245,44620.00173897973,59804.90804568856,44656.6374701453,44774.89407855306,45244.76377477711,45189.312087292725,45231.66298017533,60431.958534334924,44714.80657667616,44546.570664816434,286120.13482511207,45327.001359931935,44947.449124395105,45466.22742353325,45162.42177477713,44624.83123336894,45059.186771310066,45479.51223059966,45221.86706756134,44975.76354622591,44645.27649137849,285541.43559941486,45099.88701468495,45742.54570915909,44863.78712600125,45494.943106344814,45366.00158956664,45401.34721475942,44986.89393512514,44507.27151221953,45471.58510695762,125395.50922800036,44885.28633802596,45045.030391857814,44975.05163841048,45018.18796009511,45068.21686992117,45412.59774510557,45413.03536993327,59584.57082599747,59941.37945284566,44864.75725117661,45388.81299526831,45590.32430751364,44600.70087098589,87815.89348659903,125185.35925453738,45177.082658037376,59643.237722210295,44544.277992590716,60851.396249470126,44955.81209730501,44730.733011154094,45321.9422561912,44914.6459998192,45163.4930607352,45022.15894312191,45647.76833789598,44280.485447575425,45559.224121953805,59942.32840020862,45445.698336683905,45471.79603747022,87204.418628379,45256.11003145393,45113.85821814003,59978.28836280313,45198.1912865819,177596.41846411114,45003.69725797909,86678.43054333916,44205.22603869967,44435.194662274036,86566.86136437394,44851.792545229204,45119.36464649261,44447.13604630301,60162.582092885226,59970.362807301484,44916.819753814234,44685.186561012706,60319.91933940307,44704.33004830213,44683.31976382651,59474.41277397802,44722.211503405306,87431.50265183992,45153.08028944416,45494.69645873475,45034.50426046789,45348.89365345353,86051.86184782872,45499.47367777182,178082.7134262076,60200.92284417924,87586.08749839842,45218.79706785788,44457.70946454026,45004.71626858501,44899.037145184935,58749.104501269714,87288.78837097848,45208.31012341554,45206.76007781981,45179.67560046573,87223.74885240941,45088.926255186394,45005.86096042604,45166.27005073039,45270.46345550036,44548.89471238429,45017.46911927068,60408.74682078743,60206.09483257514,45444.973764109265,45508.29068811842,44998.3385099882,44834.02317576886,176722.06801336407,45489.39120478512,45019.99435308506,44691.33940668256,44623.506420088655,45114.103437171434,45128.04772257854,44833.16953258967,45160.82408117206,60853.15265736079,45008.56631567968,45163.445777246074,45193.135896889915,45305.03023456072,45146.095357132705,44056.87433561855,124496.1562856137,44680.47621759772,87364.0305956471,44787.35177362211,44989.12041227927,44703.572999547716,45430.12382819512,60147.08612290613,59934.22134503233,45615.741150398295,45586.72906555546,44731.154165746135,45258.29195679189,45305.25781982392,59745.440616321794,44444.825918454604,44322.36383160186,44824.47376000053,44552.28321332234,45774.57982966576,45213.072742182674,45731.19760839922,44946.17561047801,60508.70081949997,44782.458459454996,44962.82953507014,59304.321546662955,44613.82874515485,45030.28079183137,45424.68433815953,59584.81291110949,60684.93877386853,59787.150390702605,59642.11010726676,45202.238964035336,44467.120858993585,44962.593943341424,44928.97194803423,87254.41720457545,44937.39496397836,44650.7654641084,44414.16371053195,44416.92342792095,45348.364189962325,45030.970221718286,60603.42001769456,45743.05057412908,44838.835036389864,285440.2623406983,45436.6129033067,44496.11873043263,44721.29294900866,44631.7195472327,60410.37891383482,44423.41065894948,45137.752130098335,44490.08548354395,87446.2016546311,125315.77881528811,45101.13111766454,45370.090096302134,60092.860665849716,45019.46518806096,44806.65002840482,44616.51566762795,44990.49453010834,60134.48446152413,44839.46456318433,86821.76621493288,45282.92115056941,44222.26905419724,44718.05120574019,44960.589316342084,45040.025650252435,285936.95461210853,45556.80018444547,44703.47525098847,44987.49295467157,87776.2905197553,45127.5157661978,44760.62736914198,44881.75250438313,45066.93427708673,45312.22839102887,45406.44988794053,45048.013237215855,44780.52175314845,87337.20602864203,60010.868598193396,125734.50905424198,59865.540974104595,45625.148830802864],\"type\":\"scatter\"},{\"mode\":\"lines\",\"name\":\"Perfect Correlation\",\"x\":[42672,49660,96276,44054,46822,43481,41925,47597,40846,42822,46076,68996,49235,61742,73397,42140,47945,61647,45485,46118,73190,41728,48587,48776,49577,42819,44359,49644,59246,41277,40690,49903,41227,45555,45761,45836,44028,121962,42303,63882,45927,49634,46471,40395,45125,42624,49095,43162,44148,96378,46942,48356,43210,41748,52792,45022,44888,47890,42052,49253,41551,46326,68245,184143,42797,51566,44223,46386,43605,199577,50044,46781,111599,46074,44512,50809,47250,48462,43418,68319,49822,47649,47248,193319,41386,53390,43540,49831,47178,49052,129334,40414,46261,41729,46507,49315,45277,48074,40669,41760,49913,40567,47691,143778,41008,46127,50813,42553,97684,47769,48082,67796,49609,45179,43721,53535,48775,47961,48689,52704,52760,43569,41951,45992,48309,82514,129017,124154,42210,213987,40886,42910,42384,170971,44100,43949,41863,44207,41466,190850,177412,65880,47289,41785,41109,46693,43621,42289,46062,52406,42121,197246,40142,41734,68446,94345,49666,49974,41846,49530,70154,88400,49522,45230,40343,43776,47859,41124,92453,46127,48082,69306,46999,49537,48171,87324,48938,44181,43592,69643,43924,44002,45342,181470,44787,49470,43292,60125,56028,154120,51747,48948,45589,56772,43677,41786,43483,44125,45998,44892,41284,103289,45450,49928,41193,43124,49081,41468,41869,44069,179845,41380,48070,43688,47881,48476,60394,51817,45319,43951,178590,40246,46043,63290,47674,42096,41610,45525,42250,42327,42723,45482,41071,49318,46157,45002,46514,43429,43910,41853,61956,40113,44730,46105,62307,49444,191793,46469,142291,49618,43875,49453,43783,41619,41819,128265,69231,41416,40219,47847,225412,141477,47755,43873,52370,40600,48067,140916,42125,44014,45774,41284,46580,50368,40929,40060,43285,48660,43063,49949,44551,41452,45364,42637,40431,49654,58566,41147,44762,43495,49894,48877,41845,49976,45784,66244,47148,48180,41514,114239,42737,47598,47764,68067,44412,49878,44676,45875,43726,58736,49559,41386,294564,43319,47982,44371,46907,49873,42897,46791,48287,45450,41929,324783,43952,45100,43339,41546,47667,49048,46071,48546,40567,129107,48030,46779,41454,44988,47080,42055,47893,67014,68290,40384,48263,41516,41819,92460,128068,42760,66339,46170,55949,48939,42388,47668,40261,40238,44555,45754,40403,42992,60712,46990,42667,71673,41608,49633,65316,44372,189435,40318,99311,44524,48529,83066,43481,42148,44506,52567,52355,43310,49624,52678,45062,45704,60853,43064,89965,44103,47334,48751,49611,81901,42527,177587,59398,93854,48393,48869,48268,40727,51930,72237,48923,45344,47068,96198,40085,40718,44888,40702,49470,46808,63959,52324,44025,47903,41921,49265,190626,49206,47658,48939,49892,45704,42455,42136,42925,69316,44610,43415,48242,49670,43363,41159,144332,47061,99505,41865,42469,43144,42375,68505,51640,47376,40524,49085,41694,47401,69643,42086,43030,45025,44744,42195,47343,42722,47979,59877,42828,48730,67582,45977,43352,45278,68604,57497,66540,56291,41120,40927,49689,48458,81191,43835,40065,47297,43307,45108,44214,53988,48602,49686,375647,45374,41657,45316,43132,50343,45815,42811,48042,94321,144095,43833,47846,51509,49908,47892,48225,43539,55885,46064,96909,46823,44015,44182,41679,46820,313938,40820,44993,43615,96757,43353,48447,48363,49734,46572,46349,49322,49380,80173,60465,135210,61046,45675],\"y\":[42672,49660,96276,44054,46822,43481,41925,47597,40846,42822,46076,68996,49235,61742,73397,42140,47945,61647,45485,46118,73190,41728,48587,48776,49577,42819,44359,49644,59246,41277,40690,49903,41227,45555,45761,45836,44028,121962,42303,63882,45927,49634,46471,40395,45125,42624,49095,43162,44148,96378,46942,48356,43210,41748,52792,45022,44888,47890,42052,49253,41551,46326,68245,184143,42797,51566,44223,46386,43605,199577,50044,46781,111599,46074,44512,50809,47250,48462,43418,68319,49822,47649,47248,193319,41386,53390,43540,49831,47178,49052,129334,40414,46261,41729,46507,49315,45277,48074,40669,41760,49913,40567,47691,143778,41008,46127,50813,42553,97684,47769,48082,67796,49609,45179,43721,53535,48775,47961,48689,52704,52760,43569,41951,45992,48309,82514,129017,124154,42210,213987,40886,42910,42384,170971,44100,43949,41863,44207,41466,190850,177412,65880,47289,41785,41109,46693,43621,42289,46062,52406,42121,197246,40142,41734,68446,94345,49666,49974,41846,49530,70154,88400,49522,45230,40343,43776,47859,41124,92453,46127,48082,69306,46999,49537,48171,87324,48938,44181,43592,69643,43924,44002,45342,181470,44787,49470,43292,60125,56028,154120,51747,48948,45589,56772,43677,41786,43483,44125,45998,44892,41284,103289,45450,49928,41193,43124,49081,41468,41869,44069,179845,41380,48070,43688,47881,48476,60394,51817,45319,43951,178590,40246,46043,63290,47674,42096,41610,45525,42250,42327,42723,45482,41071,49318,46157,45002,46514,43429,43910,41853,61956,40113,44730,46105,62307,49444,191793,46469,142291,49618,43875,49453,43783,41619,41819,128265,69231,41416,40219,47847,225412,141477,47755,43873,52370,40600,48067,140916,42125,44014,45774,41284,46580,50368,40929,40060,43285,48660,43063,49949,44551,41452,45364,42637,40431,49654,58566,41147,44762,43495,49894,48877,41845,49976,45784,66244,47148,48180,41514,114239,42737,47598,47764,68067,44412,49878,44676,45875,43726,58736,49559,41386,294564,43319,47982,44371,46907,49873,42897,46791,48287,45450,41929,324783,43952,45100,43339,41546,47667,49048,46071,48546,40567,129107,48030,46779,41454,44988,47080,42055,47893,67014,68290,40384,48263,41516,41819,92460,128068,42760,66339,46170,55949,48939,42388,47668,40261,40238,44555,45754,40403,42992,60712,46990,42667,71673,41608,49633,65316,44372,189435,40318,99311,44524,48529,83066,43481,42148,44506,52567,52355,43310,49624,52678,45062,45704,60853,43064,89965,44103,47334,48751,49611,81901,42527,177587,59398,93854,48393,48869,48268,40727,51930,72237,48923,45344,47068,96198,40085,40718,44888,40702,49470,46808,63959,52324,44025,47903,41921,49265,190626,49206,47658,48939,49892,45704,42455,42136,42925,69316,44610,43415,48242,49670,43363,41159,144332,47061,99505,41865,42469,43144,42375,68505,51640,47376,40524,49085,41694,47401,69643,42086,43030,45025,44744,42195,47343,42722,47979,59877,42828,48730,67582,45977,43352,45278,68604,57497,66540,56291,41120,40927,49689,48458,81191,43835,40065,47297,43307,45108,44214,53988,48602,49686,375647,45374,41657,45316,43132,50343,45815,42811,48042,94321,144095,43833,47846,51509,49908,47892,48225,43539,55885,46064,96909,46823,44015,44182,41679,46820,313938,40820,44993,43615,96757,43353,48447,48363,49734,46572,46349,49322,49380,80173,60465,135210,61046,45675],\"type\":\"scatter\"}],                        {\"template\":{\"data\":{\"histogram2dcontour\":[{\"type\":\"histogram2dcontour\",\"colorbar\":{\"outlinewidth\":0,\"ticks\":\"\"},\"colorscale\":[[0.0,\"#0d0887\"],[0.1111111111111111,\"#46039f\"],[0.2222222222222222,\"#7201a8\"],[0.3333333333333333,\"#9c179e\"],[0.4444444444444444,\"#bd3786\"],[0.5555555555555556,\"#d8576b\"],[0.6666666666666666,\"#ed7953\"],[0.7777777777777778,\"#fb9f3a\"],[0.8888888888888888,\"#fdca26\"],[1.0,\"#f0f921\"]]}],\"choropleth\":[{\"type\":\"choropleth\",\"colorbar\":{\"outlinewidth\":0,\"ticks\":\"\"}}],\"histogram2d\":[{\"type\":\"histogram2d\",\"colorbar\":{\"outlinewidth\":0,\"ticks\":\"\"},\"colorscale\":[[0.0,\"#0d0887\"],[0.1111111111111111,\"#46039f\"],[0.2222222222222222,\"#7201a8\"],[0.3333333333333333,\"#9c179e\"],[0.4444444444444444,\"#bd3786\"],[0.5555555555555556,\"#d8576b\"],[0.6666666666666666,\"#ed7953\"],[0.7777777777777778,\"#fb9f3a\"],[0.8888888888888888,\"#fdca26\"],[1.0,\"#f0f921\"]]}],\"heatmap\":[{\"type\":\"heatmap\",\"colorbar\":{\"outlinewidth\":0,\"ticks\":\"\"},\"colorscale\":[[0.0,\"#0d0887\"],[0.1111111111111111,\"#46039f\"],[0.2222222222222222,\"#7201a8\"],[0.3333333333333333,\"#9c179e\"],[0.4444444444444444,\"#bd3786\"],[0.5555555555555556,\"#d8576b\"],[0.6666666666666666,\"#ed7953\"],[0.7777777777777778,\"#fb9f3a\"],[0.8888888888888888,\"#fdca26\"],[1.0,\"#f0f921\"]]}],\"heatmapgl\":[{\"type\":\"heatmapgl\",\"colorbar\":{\"outlinewidth\":0,\"ticks\":\"\"},\"colorscale\":[[0.0,\"#0d0887\"],[0.1111111111111111,\"#46039f\"],[0.2222222222222222,\"#7201a8\"],[0.3333333333333333,\"#9c179e\"],[0.4444444444444444,\"#bd3786\"],[0.5555555555555556,\"#d8576b\"],[0.6666666666666666,\"#ed7953\"],[0.7777777777777778,\"#fb9f3a\"],[0.8888888888888888,\"#fdca26\"],[1.0,\"#f0f921\"]]}],\"contourcarpet\":[{\"type\":\"contourcarpet\",\"colorbar\":{\"outlinewidth\":0,\"ticks\":\"\"}}],\"contour\":[{\"type\":\"contour\",\"colorbar\":{\"outlinewidth\":0,\"ticks\":\"\"},\"colorscale\":[[0.0,\"#0d0887\"],[0.1111111111111111,\"#46039f\"],[0.2222222222222222,\"#7201a8\"],[0.3333333333333333,\"#9c179e\"],[0.4444444444444444,\"#bd3786\"],[0.5555555555555556,\"#d8576b\"],[0.6666666666666666,\"#ed7953\"],[0.7777777777777778,\"#fb9f3a\"],[0.8888888888888888,\"#fdca26\"],[1.0,\"#f0f921\"]]}],\"surface\":[{\"type\":\"surface\",\"colorbar\":{\"outlinewidth\":0,\"ticks\":\"\"},\"colorscale\":[[0.0,\"#0d0887\"],[0.1111111111111111,\"#46039f\"],[0.2222222222222222,\"#7201a8\"],[0.3333333333333333,\"#9c179e\"],[0.4444444444444444,\"#bd3786\"],[0.5555555555555556,\"#d8576b\"],[0.6666666666666666,\"#ed7953\"],[0.7777777777777778,\"#fb9f3a\"],[0.8888888888888888,\"#fdca26\"],[1.0,\"#f0f921\"]]}],\"mesh3d\":[{\"type\":\"mesh3d\",\"colorbar\":{\"outlinewidth\":0,\"ticks\":\"\"}}],\"scatter\":[{\"fillpattern\":{\"fillmode\":\"overlay\",\"size\":10,\"solidity\":0.2},\"type\":\"scatter\"}],\"parcoords\":[{\"type\":\"parcoords\",\"line\":{\"colorbar\":{\"outlinewidth\":0,\"ticks\":\"\"}}}],\"scatterpolargl\":[{\"type\":\"scatterpolargl\",\"marker\":{\"colorbar\":{\"outlinewidth\":0,\"ticks\":\"\"}}}],\"bar\":[{\"error_x\":{\"color\":\"#2a3f5f\"},\"error_y\":{\"color\":\"#2a3f5f\"},\"marker\":{\"line\":{\"color\":\"#E5ECF6\",\"width\":0.5},\"pattern\":{\"fillmode\":\"overlay\",\"size\":10,\"solidity\":0.2}},\"type\":\"bar\"}],\"scattergeo\":[{\"type\":\"scattergeo\",\"marker\":{\"colorbar\":{\"outlinewidth\":0,\"ticks\":\"\"}}}],\"scatterpolar\":[{\"type\":\"scatterpolar\",\"marker\":{\"colorbar\":{\"outlinewidth\":0,\"ticks\":\"\"}}}],\"histogram\":[{\"marker\":{\"pattern\":{\"fillmode\":\"overlay\",\"size\":10,\"solidity\":0.2}},\"type\":\"histogram\"}],\"scattergl\":[{\"type\":\"scattergl\",\"marker\":{\"colorbar\":{\"outlinewidth\":0,\"ticks\":\"\"}}}],\"scatter3d\":[{\"type\":\"scatter3d\",\"line\":{\"colorbar\":{\"outlinewidth\":0,\"ticks\":\"\"}},\"marker\":{\"colorbar\":{\"outlinewidth\":0,\"ticks\":\"\"}}}],\"scattermapbox\":[{\"type\":\"scattermapbox\",\"marker\":{\"colorbar\":{\"outlinewidth\":0,\"ticks\":\"\"}}}],\"scatterternary\":[{\"type\":\"scatterternary\",\"marker\":{\"colorbar\":{\"outlinewidth\":0,\"ticks\":\"\"}}}],\"scattercarpet\":[{\"type\":\"scattercarpet\",\"marker\":{\"colorbar\":{\"outlinewidth\":0,\"ticks\":\"\"}}}],\"carpet\":[{\"aaxis\":{\"endlinecolor\":\"#2a3f5f\",\"gridcolor\":\"white\",\"linecolor\":\"white\",\"minorgridcolor\":\"white\",\"startlinecolor\":\"#2a3f5f\"},\"baxis\":{\"endlinecolor\":\"#2a3f5f\",\"gridcolor\":\"white\",\"linecolor\":\"white\",\"minorgridcolor\":\"white\",\"startlinecolor\":\"#2a3f5f\"},\"type\":\"carpet\"}],\"table\":[{\"cells\":{\"fill\":{\"color\":\"#EBF0F8\"},\"line\":{\"color\":\"white\"}},\"header\":{\"fill\":{\"color\":\"#C8D4E3\"},\"line\":{\"color\":\"white\"}},\"type\":\"table\"}],\"barpolar\":[{\"marker\":{\"line\":{\"color\":\"#E5ECF6\",\"width\":0.5},\"pattern\":{\"fillmode\":\"overlay\",\"size\":10,\"solidity\":0.2}},\"type\":\"barpolar\"}],\"pie\":[{\"automargin\":true,\"type\":\"pie\"}]},\"layout\":{\"autotypenumbers\":\"strict\",\"colorway\":[\"#636efa\",\"#EF553B\",\"#00cc96\",\"#ab63fa\",\"#FFA15A\",\"#19d3f3\",\"#FF6692\",\"#B6E880\",\"#FF97FF\",\"#FECB52\"],\"font\":{\"color\":\"#2a3f5f\"},\"hovermode\":\"closest\",\"hoverlabel\":{\"align\":\"left\"},\"paper_bgcolor\":\"white\",\"plot_bgcolor\":\"#E5ECF6\",\"polar\":{\"bgcolor\":\"#E5ECF6\",\"angularaxis\":{\"gridcolor\":\"white\",\"linecolor\":\"white\",\"ticks\":\"\"},\"radialaxis\":{\"gridcolor\":\"white\",\"linecolor\":\"white\",\"ticks\":\"\"}},\"ternary\":{\"bgcolor\":\"#E5ECF6\",\"aaxis\":{\"gridcolor\":\"white\",\"linecolor\":\"white\",\"ticks\":\"\"},\"baxis\":{\"gridcolor\":\"white\",\"linecolor\":\"white\",\"ticks\":\"\"},\"caxis\":{\"gridcolor\":\"white\",\"linecolor\":\"white\",\"ticks\":\"\"}},\"coloraxis\":{\"colorbar\":{\"outlinewidth\":0,\"ticks\":\"\"}},\"colorscale\":{\"sequential\":[[0.0,\"#0d0887\"],[0.1111111111111111,\"#46039f\"],[0.2222222222222222,\"#7201a8\"],[0.3333333333333333,\"#9c179e\"],[0.4444444444444444,\"#bd3786\"],[0.5555555555555556,\"#d8576b\"],[0.6666666666666666,\"#ed7953\"],[0.7777777777777778,\"#fb9f3a\"],[0.8888888888888888,\"#fdca26\"],[1.0,\"#f0f921\"]],\"sequentialminus\":[[0.0,\"#0d0887\"],[0.1111111111111111,\"#46039f\"],[0.2222222222222222,\"#7201a8\"],[0.3333333333333333,\"#9c179e\"],[0.4444444444444444,\"#bd3786\"],[0.5555555555555556,\"#d8576b\"],[0.6666666666666666,\"#ed7953\"],[0.7777777777777778,\"#fb9f3a\"],[0.8888888888888888,\"#fdca26\"],[1.0,\"#f0f921\"]],\"diverging\":[[0,\"#8e0152\"],[0.1,\"#c51b7d\"],[0.2,\"#de77ae\"],[0.3,\"#f1b6da\"],[0.4,\"#fde0ef\"],[0.5,\"#f7f7f7\"],[0.6,\"#e6f5d0\"],[0.7,\"#b8e186\"],[0.8,\"#7fbc41\"],[0.9,\"#4d9221\"],[1,\"#276419\"]]},\"xaxis\":{\"gridcolor\":\"white\",\"linecolor\":\"white\",\"ticks\":\"\",\"title\":{\"standoff\":15},\"zerolinecolor\":\"white\",\"automargin\":true,\"zerolinewidth\":2},\"yaxis\":{\"gridcolor\":\"white\",\"linecolor\":\"white\",\"ticks\":\"\",\"title\":{\"standoff\":15},\"zerolinecolor\":\"white\",\"automargin\":true,\"zerolinewidth\":2},\"scene\":{\"xaxis\":{\"backgroundcolor\":\"#E5ECF6\",\"gridcolor\":\"white\",\"linecolor\":\"white\",\"showbackground\":true,\"ticks\":\"\",\"zerolinecolor\":\"white\",\"gridwidth\":2},\"yaxis\":{\"backgroundcolor\":\"#E5ECF6\",\"gridcolor\":\"white\",\"linecolor\":\"white\",\"showbackground\":true,\"ticks\":\"\",\"zerolinecolor\":\"white\",\"gridwidth\":2},\"zaxis\":{\"backgroundcolor\":\"#E5ECF6\",\"gridcolor\":\"white\",\"linecolor\":\"white\",\"showbackground\":true,\"ticks\":\"\",\"zerolinecolor\":\"white\",\"gridwidth\":2}},\"shapedefaults\":{\"line\":{\"color\":\"#2a3f5f\"}},\"annotationdefaults\":{\"arrowcolor\":\"#2a3f5f\",\"arrowhead\":0,\"arrowwidth\":1},\"geo\":{\"bgcolor\":\"white\",\"landcolor\":\"#E5ECF6\",\"subunitcolor\":\"white\",\"showland\":true,\"showlakes\":true,\"lakecolor\":\"white\"},\"title\":{\"x\":0.05},\"mapbox\":{\"style\":\"light\"}}},\"title\":{\"text\":\"Actual vs. Predicted\"},\"xaxis\":{\"title\":{\"text\":\"Actual\"}},\"yaxis\":{\"title\":{\"text\":\"Predicted\"}}},                        {\"responsive\": true}                    ).then(function(){\n",
       "                            \n",
       "var gd = document.getElementById('79d78402-15f8-46b7-9ba5-9459f8e46534');\n",
       "var x = new MutationObserver(function (mutations, observer) {{\n",
       "        var display = window.getComputedStyle(gd).display;\n",
       "        if (!display || display === 'none') {{\n",
       "            console.log([gd, 'removed!']);\n",
       "            Plotly.purge(gd);\n",
       "            observer.disconnect();\n",
       "        }}\n",
       "}});\n",
       "\n",
       "// Listen for the removal of the full notebook cells\n",
       "var notebookContainer = gd.closest('#notebook-container');\n",
       "if (notebookContainer) {{\n",
       "    x.observe(notebookContainer, {childList: true});\n",
       "}}\n",
       "\n",
       "// Listen for the clearing of the current output cell\n",
       "var outputEl = gd.closest('.output');\n",
       "if (outputEl) {{\n",
       "    x.observe(outputEl, {childList: true});\n",
       "}}\n",
       "\n",
       "                        })                };                });            </script>        </div>"
      ]
     },
     "metadata": {},
     "output_type": "display_data"
    }
   ],
   "execution_count": 39
  },
  {
   "cell_type": "code",
   "source": [
    "import joblib\n",
    "joblib.dump(best_model, 'best_salary_model.sav')"
   ],
   "metadata": {
    "colab": {
     "base_uri": "https://localhost:8080/"
    },
    "id": "zN0FD8gFgReB",
    "outputId": "85a986dc-1686-4d95-9d03-8d351836c7a3"
   },
   "outputs": [],
   "execution_count": null
  },
  {
   "metadata": {},
   "cell_type": "markdown",
   "source": "# ML PIPELINE"
  },
  {
   "cell_type": "markdown",
   "source": [
    "# Define preprocessing for numeric columns (scale them)"
   ],
   "metadata": {
    "id": "eeyXzw4Eg91U"
   }
  },
  {
   "cell_type": "code",
   "source": [
    "numeric_features = ['AGE', 'PAST EXP', 'TENURE', 'RATINGS']\n",
    "numeric_transformer = StandardScaler()"
   ],
   "metadata": {
    "id": "YEuoBYOQgmGO",
    "ExecuteTime": {
     "end_time": "2024-06-09T05:48:14.527394Z",
     "start_time": "2024-06-09T05:48:14.524636Z"
    }
   },
   "outputs": [],
   "execution_count": 24
  },
  {
   "cell_type": "markdown",
   "source": [
    "# Define preprocessing for categorical features (one-hot encode them)"
   ],
   "metadata": {
    "id": "djYUEu7whB9w"
   }
  },
  {
   "cell_type": "code",
   "source": [
    "categorical_features = df.select_dtypes(include=['object']).columns.tolist()\n",
    "categorical_transformer = OneHotEncoder(handle_unknown='ignore')"
   ],
   "metadata": {
    "id": "DnvXGPa6g_3Y",
    "ExecuteTime": {
     "end_time": "2024-06-09T05:48:14.532146Z",
     "start_time": "2024-06-09T05:48:14.528592Z"
    }
   },
   "outputs": [],
   "execution_count": 25
  },
  {
   "cell_type": "code",
   "source": [
    "# Combine preprocessing steps\n",
    "preprocessor = ColumnTransformer(\n",
    "    transformers=[\n",
    "        ('num', numeric_transformer, numeric_features),\n",
    "        ('cat', categorical_transformer, categorical_features)\n",
    "    ])\n"
   ],
   "metadata": {
    "id": "oOkw6If5hDiF",
    "ExecuteTime": {
     "end_time": "2024-06-09T05:48:14.536124Z",
     "start_time": "2024-06-09T05:48:14.533500Z"
    }
   },
   "outputs": [],
   "execution_count": 26
  },
  {
   "cell_type": "code",
   "source": [
    "# Create a pipeline that first preprocesses the data and then applies the Linear Regression model\n",
    "pipeline = Pipeline(steps=[\n",
    "    ('preprocessor', preprocessor),\n",
    "    ('model', LinearRegression())\n",
    "])\n"
   ],
   "metadata": {
    "id": "AplDRcDehF-I",
    "ExecuteTime": {
     "end_time": "2024-06-09T05:48:14.539620Z",
     "start_time": "2024-06-09T05:48:14.537070Z"
    }
   },
   "outputs": [],
   "execution_count": 27
  },
  {
   "cell_type": "code",
   "source": [
    "# Split the data again (repeating this step to include the preprocessor in the pipeline)\n",
    "X = df.drop('SALARY', axis=1)\n",
    "y = df['SALARY']\n",
    "X_train, X_test, y_train, y_test = train_test_split(X, y, test_size=0.2, random_state=42)\n"
   ],
   "metadata": {
    "id": "yOjW6URghHZP",
    "ExecuteTime": {
     "end_time": "2024-06-09T05:48:14.545309Z",
     "start_time": "2024-06-09T05:48:14.540390Z"
    }
   },
   "outputs": [],
   "execution_count": 28
  },
  {
   "cell_type": "code",
   "source": [
    "# Train the pipeline\n",
    "pipeline.fit(X_train, y_train)"
   ],
   "metadata": {
    "colab": {
     "base_uri": "https://localhost:8080/",
     "height": 192
    },
    "id": "MGZdHmgIhI7f",
    "outputId": "c583707e-3978-4159-db00-3a9319ffd10b",
    "ExecuteTime": {
     "end_time": "2024-06-09T05:48:14.571331Z",
     "start_time": "2024-06-09T05:48:14.546466Z"
    }
   },
   "outputs": [
    {
     "data": {
      "text/plain": [
       "Pipeline(steps=[('preprocessor',\n",
       "                 ColumnTransformer(transformers=[('num', StandardScaler(),\n",
       "                                                  ['AGE', 'PAST EXP', 'TENURE',\n",
       "                                                   'RATINGS']),\n",
       "                                                 ('cat',\n",
       "                                                  OneHotEncoder(handle_unknown='ignore'),\n",
       "                                                  [])])),\n",
       "                ('model', LinearRegression())])"
      ],
      "text/html": [
       "<style>#sk-container-id-1 {color: black;background-color: white;}#sk-container-id-1 pre{padding: 0;}#sk-container-id-1 div.sk-toggleable {background-color: white;}#sk-container-id-1 label.sk-toggleable__label {cursor: pointer;display: block;width: 100%;margin-bottom: 0;padding: 0.3em;box-sizing: border-box;text-align: center;}#sk-container-id-1 label.sk-toggleable__label-arrow:before {content: \"▸\";float: left;margin-right: 0.25em;color: #696969;}#sk-container-id-1 label.sk-toggleable__label-arrow:hover:before {color: black;}#sk-container-id-1 div.sk-estimator:hover label.sk-toggleable__label-arrow:before {color: black;}#sk-container-id-1 div.sk-toggleable__content {max-height: 0;max-width: 0;overflow: hidden;text-align: left;background-color: #f0f8ff;}#sk-container-id-1 div.sk-toggleable__content pre {margin: 0.2em;color: black;border-radius: 0.25em;background-color: #f0f8ff;}#sk-container-id-1 input.sk-toggleable__control:checked~div.sk-toggleable__content {max-height: 200px;max-width: 100%;overflow: auto;}#sk-container-id-1 input.sk-toggleable__control:checked~label.sk-toggleable__label-arrow:before {content: \"▾\";}#sk-container-id-1 div.sk-estimator input.sk-toggleable__control:checked~label.sk-toggleable__label {background-color: #d4ebff;}#sk-container-id-1 div.sk-label input.sk-toggleable__control:checked~label.sk-toggleable__label {background-color: #d4ebff;}#sk-container-id-1 input.sk-hidden--visually {border: 0;clip: rect(1px 1px 1px 1px);clip: rect(1px, 1px, 1px, 1px);height: 1px;margin: -1px;overflow: hidden;padding: 0;position: absolute;width: 1px;}#sk-container-id-1 div.sk-estimator {font-family: monospace;background-color: #f0f8ff;border: 1px dotted black;border-radius: 0.25em;box-sizing: border-box;margin-bottom: 0.5em;}#sk-container-id-1 div.sk-estimator:hover {background-color: #d4ebff;}#sk-container-id-1 div.sk-parallel-item::after {content: \"\";width: 100%;border-bottom: 1px solid gray;flex-grow: 1;}#sk-container-id-1 div.sk-label:hover label.sk-toggleable__label {background-color: #d4ebff;}#sk-container-id-1 div.sk-serial::before {content: \"\";position: absolute;border-left: 1px solid gray;box-sizing: border-box;top: 0;bottom: 0;left: 50%;z-index: 0;}#sk-container-id-1 div.sk-serial {display: flex;flex-direction: column;align-items: center;background-color: white;padding-right: 0.2em;padding-left: 0.2em;position: relative;}#sk-container-id-1 div.sk-item {position: relative;z-index: 1;}#sk-container-id-1 div.sk-parallel {display: flex;align-items: stretch;justify-content: center;background-color: white;position: relative;}#sk-container-id-1 div.sk-item::before, #sk-container-id-1 div.sk-parallel-item::before {content: \"\";position: absolute;border-left: 1px solid gray;box-sizing: border-box;top: 0;bottom: 0;left: 50%;z-index: -1;}#sk-container-id-1 div.sk-parallel-item {display: flex;flex-direction: column;z-index: 1;position: relative;background-color: white;}#sk-container-id-1 div.sk-parallel-item:first-child::after {align-self: flex-end;width: 50%;}#sk-container-id-1 div.sk-parallel-item:last-child::after {align-self: flex-start;width: 50%;}#sk-container-id-1 div.sk-parallel-item:only-child::after {width: 0;}#sk-container-id-1 div.sk-dashed-wrapped {border: 1px dashed gray;margin: 0 0.4em 0.5em 0.4em;box-sizing: border-box;padding-bottom: 0.4em;background-color: white;}#sk-container-id-1 div.sk-label label {font-family: monospace;font-weight: bold;display: inline-block;line-height: 1.2em;}#sk-container-id-1 div.sk-label-container {text-align: center;}#sk-container-id-1 div.sk-container {/* jupyter's `normalize.less` sets `[hidden] { display: none; }` but bootstrap.min.css set `[hidden] { display: none !important; }` so we also need the `!important` here to be able to override the default hidden behavior on the sphinx rendered scikit-learn.org. See: https://github.com/scikit-learn/scikit-learn/issues/21755 */display: inline-block !important;position: relative;}#sk-container-id-1 div.sk-text-repr-fallback {display: none;}</style><div id=\"sk-container-id-1\" class=\"sk-top-container\"><div class=\"sk-text-repr-fallback\"><pre>Pipeline(steps=[(&#x27;preprocessor&#x27;,\n",
       "                 ColumnTransformer(transformers=[(&#x27;num&#x27;, StandardScaler(),\n",
       "                                                  [&#x27;AGE&#x27;, &#x27;PAST EXP&#x27;, &#x27;TENURE&#x27;,\n",
       "                                                   &#x27;RATINGS&#x27;]),\n",
       "                                                 (&#x27;cat&#x27;,\n",
       "                                                  OneHotEncoder(handle_unknown=&#x27;ignore&#x27;),\n",
       "                                                  [])])),\n",
       "                (&#x27;model&#x27;, LinearRegression())])</pre><b>In a Jupyter environment, please rerun this cell to show the HTML representation or trust the notebook. <br />On GitHub, the HTML representation is unable to render, please try loading this page with nbviewer.org.</b></div><div class=\"sk-container\" hidden><div class=\"sk-item sk-dashed-wrapped\"><div class=\"sk-label-container\"><div class=\"sk-label sk-toggleable\"><input class=\"sk-toggleable__control sk-hidden--visually\" id=\"sk-estimator-id-1\" type=\"checkbox\" ><label for=\"sk-estimator-id-1\" class=\"sk-toggleable__label sk-toggleable__label-arrow\">Pipeline</label><div class=\"sk-toggleable__content\"><pre>Pipeline(steps=[(&#x27;preprocessor&#x27;,\n",
       "                 ColumnTransformer(transformers=[(&#x27;num&#x27;, StandardScaler(),\n",
       "                                                  [&#x27;AGE&#x27;, &#x27;PAST EXP&#x27;, &#x27;TENURE&#x27;,\n",
       "                                                   &#x27;RATINGS&#x27;]),\n",
       "                                                 (&#x27;cat&#x27;,\n",
       "                                                  OneHotEncoder(handle_unknown=&#x27;ignore&#x27;),\n",
       "                                                  [])])),\n",
       "                (&#x27;model&#x27;, LinearRegression())])</pre></div></div></div><div class=\"sk-serial\"><div class=\"sk-item sk-dashed-wrapped\"><div class=\"sk-label-container\"><div class=\"sk-label sk-toggleable\"><input class=\"sk-toggleable__control sk-hidden--visually\" id=\"sk-estimator-id-2\" type=\"checkbox\" ><label for=\"sk-estimator-id-2\" class=\"sk-toggleable__label sk-toggleable__label-arrow\">preprocessor: ColumnTransformer</label><div class=\"sk-toggleable__content\"><pre>ColumnTransformer(transformers=[(&#x27;num&#x27;, StandardScaler(),\n",
       "                                 [&#x27;AGE&#x27;, &#x27;PAST EXP&#x27;, &#x27;TENURE&#x27;, &#x27;RATINGS&#x27;]),\n",
       "                                (&#x27;cat&#x27;, OneHotEncoder(handle_unknown=&#x27;ignore&#x27;),\n",
       "                                 [])])</pre></div></div></div><div class=\"sk-parallel\"><div class=\"sk-parallel-item\"><div class=\"sk-item\"><div class=\"sk-label-container\"><div class=\"sk-label sk-toggleable\"><input class=\"sk-toggleable__control sk-hidden--visually\" id=\"sk-estimator-id-3\" type=\"checkbox\" ><label for=\"sk-estimator-id-3\" class=\"sk-toggleable__label sk-toggleable__label-arrow\">num</label><div class=\"sk-toggleable__content\"><pre>[&#x27;AGE&#x27;, &#x27;PAST EXP&#x27;, &#x27;TENURE&#x27;, &#x27;RATINGS&#x27;]</pre></div></div></div><div class=\"sk-serial\"><div class=\"sk-item\"><div class=\"sk-estimator sk-toggleable\"><input class=\"sk-toggleable__control sk-hidden--visually\" id=\"sk-estimator-id-4\" type=\"checkbox\" ><label for=\"sk-estimator-id-4\" class=\"sk-toggleable__label sk-toggleable__label-arrow\">StandardScaler</label><div class=\"sk-toggleable__content\"><pre>StandardScaler()</pre></div></div></div></div></div></div><div class=\"sk-parallel-item\"><div class=\"sk-item\"><div class=\"sk-label-container\"><div class=\"sk-label sk-toggleable\"><input class=\"sk-toggleable__control sk-hidden--visually\" id=\"sk-estimator-id-5\" type=\"checkbox\" ><label for=\"sk-estimator-id-5\" class=\"sk-toggleable__label sk-toggleable__label-arrow\">cat</label><div class=\"sk-toggleable__content\"><pre>[]</pre></div></div></div><div class=\"sk-serial\"><div class=\"sk-item\"><div class=\"sk-estimator sk-toggleable\"><input class=\"sk-toggleable__control sk-hidden--visually\" id=\"sk-estimator-id-6\" type=\"checkbox\" ><label for=\"sk-estimator-id-6\" class=\"sk-toggleable__label sk-toggleable__label-arrow\">OneHotEncoder</label><div class=\"sk-toggleable__content\"><pre>OneHotEncoder(handle_unknown=&#x27;ignore&#x27;)</pre></div></div></div></div></div></div></div></div><div class=\"sk-item\"><div class=\"sk-estimator sk-toggleable\"><input class=\"sk-toggleable__control sk-hidden--visually\" id=\"sk-estimator-id-7\" type=\"checkbox\" ><label for=\"sk-estimator-id-7\" class=\"sk-toggleable__label sk-toggleable__label-arrow\">LinearRegression</label><div class=\"sk-toggleable__content\"><pre>LinearRegression()</pre></div></div></div></div></div></div></div>"
      ]
     },
     "execution_count": 29,
     "metadata": {},
     "output_type": "execute_result"
    }
   ],
   "execution_count": 29
  },
  {
   "cell_type": "code",
   "source": [
    "# Save the pipeline\n",
    "joblib.dump(pipeline, 'salary_prediction_pipeline_lr.pkl')"
   ],
   "metadata": {
    "colab": {
     "base_uri": "https://localhost:8080/"
    },
    "id": "XKV-b5aBhLNM",
    "outputId": "f897579b-a771-4b3f-edde-6d2421f28c19"
   },
   "outputs": [],
   "execution_count": null
  },
  {
   "cell_type": "code",
   "source": [
    "#evaluate the pipeline\n",
    "# Load the pipeline\n",
    "pipeline = joblib.load('salary_prediction_pipeline_lr.pkl')\n",
    "\n",
    "# Make predictions on the test set\n",
    "y_pred = pipeline.predict(X_test)\n",
    "\n",
    "# Evaluate the model\n",
    "print(\"Evaluation metrics for the pipeline:\")\n",
    "print(f\"Mean Absolute Error (MAE): {mean_absolute_error(y_test, y_pred):.2f}\")\n",
    "print(f\"Mean Squared Error (MSE): {mean_squared_error(y_test, y_pred):.2f}\")\n",
    "print(f\"Root Mean Squared Error (RMSE): {mean_squared_error(y_test, y_pred, squared=False):.2f}\")\n",
    "print(f\"R-squared (R2): {r2_score(y_test, y_pred):.2f}\")\n"
   ],
   "metadata": {
    "id": "Zqwvu08KhNjR"
   },
   "execution_count": null,
   "outputs": []
  }
 ]
}
