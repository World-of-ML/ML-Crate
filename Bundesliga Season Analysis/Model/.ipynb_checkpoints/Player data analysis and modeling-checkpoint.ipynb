{
 "cells": [
  {
   "cell_type": "markdown",
   "id": "58fbd3a8",
   "metadata": {},
   "source": [
    "## Importing libraries"
   ]
  },
  {
   "cell_type": "code",
   "execution_count": 1,
   "id": "74155945",
   "metadata": {},
   "outputs": [],
   "source": [
    "import pandas as pd \n",
    "import numpy as np \n",
    "import matplotlib.pyplot as plt\n",
    "import seaborn as sns"
   ]
  },
  {
   "cell_type": "markdown",
   "id": "103bcc1c",
   "metadata": {},
   "source": [
    "# Loading Data"
   ]
  },
  {
   "cell_type": "code",
   "execution_count": 2,
   "id": "a751200d",
   "metadata": {},
   "outputs": [],
   "source": [
    "bundesliga_23_24_player = pd.read_csv('../Dataset/Bundesliga_2023-2024_player_data.csv')\n",
    "bundesliga_22_23_player = pd.read_csv('../Dataset/Bundesliga_2022-2023_player_data.csv')\n",
    "bundesliga_21_22_player = pd.read_csv('../Dataset/Bundesliga_2021-2022_player_data.csv')"
   ]
  },
  {
   "cell_type": "code",
   "execution_count": 3,
   "id": "7acf0ba1",
   "metadata": {},
   "outputs": [
    {
     "name": "stdout",
     "output_type": "stream",
     "text": [
      "shape of 2023/2024 data (1988, 54)\n",
      "shape of 2022/2023 data (9481, 54)\n",
      "shape of 2021/2022 data (9368, 54)\n"
     ]
    }
   ],
   "source": [
    "print(\"shape of 2023/2024 data\" , bundesliga_23_24_player.shape)\n",
    "print(\"shape of 2022/2023 data\" , bundesliga_22_23_player.shape)\n",
    "print(\"shape of 2021/2022 data\" , bundesliga_21_22_player.shape)"
   ]
  },
  {
   "cell_type": "code",
   "execution_count": 4,
   "id": "0aa652ef",
   "metadata": {},
   "outputs": [
    {
     "data": {
      "text/html": [
       "<div>\n",
       "<style scoped>\n",
       "    .dataframe tbody tr th:only-of-type {\n",
       "        vertical-align: middle;\n",
       "    }\n",
       "\n",
       "    .dataframe tbody tr th {\n",
       "        vertical-align: top;\n",
       "    }\n",
       "\n",
       "    .dataframe thead th {\n",
       "        text-align: right;\n",
       "    }\n",
       "</style>\n",
       "<table border=\"1\" class=\"dataframe\">\n",
       "  <thead>\n",
       "    <tr style=\"text-align: right;\">\n",
       "      <th></th>\n",
       "      <th>index</th>\n",
       "      <th>Player</th>\n",
       "      <th>#</th>\n",
       "      <th>Nation</th>\n",
       "      <th>Pos</th>\n",
       "      <th>Age</th>\n",
       "      <th>Min</th>\n",
       "      <th>Gls</th>\n",
       "      <th>Ast</th>\n",
       "      <th>PK</th>\n",
       "      <th>...</th>\n",
       "      <th>Att_y.2</th>\n",
       "      <th>Launch%.1</th>\n",
       "      <th>AvgLen.1</th>\n",
       "      <th>Opp</th>\n",
       "      <th>Stp</th>\n",
       "      <th>Stp%</th>\n",
       "      <th>#OPA</th>\n",
       "      <th>AvgDist</th>\n",
       "      <th>home</th>\n",
       "      <th>game_id</th>\n",
       "    </tr>\n",
       "  </thead>\n",
       "  <tbody>\n",
       "    <tr>\n",
       "      <th>0</th>\n",
       "      <td>0</td>\n",
       "      <td>Marvin Ducksch</td>\n",
       "      <td>7.0</td>\n",
       "      <td>de GER</td>\n",
       "      <td>FW</td>\n",
       "      <td>29-164</td>\n",
       "      <td>90</td>\n",
       "      <td>0</td>\n",
       "      <td>0</td>\n",
       "      <td>0</td>\n",
       "      <td>...</td>\n",
       "      <td>NaN</td>\n",
       "      <td>NaN</td>\n",
       "      <td>NaN</td>\n",
       "      <td>NaN</td>\n",
       "      <td>NaN</td>\n",
       "      <td>NaN</td>\n",
       "      <td>NaN</td>\n",
       "      <td>NaN</td>\n",
       "      <td>1</td>\n",
       "      <td>0</td>\n",
       "    </tr>\n",
       "    <tr>\n",
       "      <th>1</th>\n",
       "      <td>1</td>\n",
       "      <td>Niclas Füllkrug</td>\n",
       "      <td>11.0</td>\n",
       "      <td>de GER</td>\n",
       "      <td>FW</td>\n",
       "      <td>30-190</td>\n",
       "      <td>90</td>\n",
       "      <td>0</td>\n",
       "      <td>0</td>\n",
       "      <td>0</td>\n",
       "      <td>...</td>\n",
       "      <td>NaN</td>\n",
       "      <td>NaN</td>\n",
       "      <td>NaN</td>\n",
       "      <td>NaN</td>\n",
       "      <td>NaN</td>\n",
       "      <td>NaN</td>\n",
       "      <td>NaN</td>\n",
       "      <td>NaN</td>\n",
       "      <td>1</td>\n",
       "      <td>0</td>\n",
       "    </tr>\n",
       "    <tr>\n",
       "      <th>2</th>\n",
       "      <td>2</td>\n",
       "      <td>Anthony Jung</td>\n",
       "      <td>3.0</td>\n",
       "      <td>de GER</td>\n",
       "      <td>LW</td>\n",
       "      <td>31-288</td>\n",
       "      <td>78</td>\n",
       "      <td>0</td>\n",
       "      <td>0</td>\n",
       "      <td>0</td>\n",
       "      <td>...</td>\n",
       "      <td>NaN</td>\n",
       "      <td>NaN</td>\n",
       "      <td>NaN</td>\n",
       "      <td>NaN</td>\n",
       "      <td>NaN</td>\n",
       "      <td>NaN</td>\n",
       "      <td>NaN</td>\n",
       "      <td>NaN</td>\n",
       "      <td>1</td>\n",
       "      <td>0</td>\n",
       "    </tr>\n",
       "    <tr>\n",
       "      <th>3</th>\n",
       "      <td>3</td>\n",
       "      <td>Leon Opitz</td>\n",
       "      <td>35.0</td>\n",
       "      <td>de GER</td>\n",
       "      <td>LW</td>\n",
       "      <td>18-129</td>\n",
       "      <td>12</td>\n",
       "      <td>0</td>\n",
       "      <td>0</td>\n",
       "      <td>0</td>\n",
       "      <td>...</td>\n",
       "      <td>NaN</td>\n",
       "      <td>NaN</td>\n",
       "      <td>NaN</td>\n",
       "      <td>NaN</td>\n",
       "      <td>NaN</td>\n",
       "      <td>NaN</td>\n",
       "      <td>NaN</td>\n",
       "      <td>NaN</td>\n",
       "      <td>1</td>\n",
       "      <td>0</td>\n",
       "    </tr>\n",
       "    <tr>\n",
       "      <th>4</th>\n",
       "      <td>4</td>\n",
       "      <td>Mitchell Weiser</td>\n",
       "      <td>8.0</td>\n",
       "      <td>de GER</td>\n",
       "      <td>RW</td>\n",
       "      <td>29-119</td>\n",
       "      <td>58</td>\n",
       "      <td>0</td>\n",
       "      <td>0</td>\n",
       "      <td>0</td>\n",
       "      <td>...</td>\n",
       "      <td>NaN</td>\n",
       "      <td>NaN</td>\n",
       "      <td>NaN</td>\n",
       "      <td>NaN</td>\n",
       "      <td>NaN</td>\n",
       "      <td>NaN</td>\n",
       "      <td>NaN</td>\n",
       "      <td>NaN</td>\n",
       "      <td>1</td>\n",
       "      <td>0</td>\n",
       "    </tr>\n",
       "  </tbody>\n",
       "</table>\n",
       "<p>5 rows × 54 columns</p>\n",
       "</div>"
      ],
      "text/plain": [
       "   index           Player     #  Nation Pos     Age  Min  Gls  Ast  PK  ...   \n",
       "0      0   Marvin Ducksch   7.0  de GER  FW  29-164   90    0    0   0  ...  \\\n",
       "1      1  Niclas Füllkrug  11.0  de GER  FW  30-190   90    0    0   0  ...   \n",
       "2      2     Anthony Jung   3.0  de GER  LW  31-288   78    0    0   0  ...   \n",
       "3      3       Leon Opitz  35.0  de GER  LW  18-129   12    0    0   0  ...   \n",
       "4      4  Mitchell Weiser   8.0  de GER  RW  29-119   58    0    0   0  ...   \n",
       "\n",
       "   Att_y.2  Launch%.1  AvgLen.1  Opp  Stp  Stp%  #OPA  AvgDist  home  game_id  \n",
       "0      NaN        NaN       NaN  NaN  NaN   NaN   NaN      NaN     1        0  \n",
       "1      NaN        NaN       NaN  NaN  NaN   NaN   NaN      NaN     1        0  \n",
       "2      NaN        NaN       NaN  NaN  NaN   NaN   NaN      NaN     1        0  \n",
       "3      NaN        NaN       NaN  NaN  NaN   NaN   NaN      NaN     1        0  \n",
       "4      NaN        NaN       NaN  NaN  NaN   NaN   NaN      NaN     1        0  \n",
       "\n",
       "[5 rows x 54 columns]"
      ]
     },
     "execution_count": 4,
     "metadata": {},
     "output_type": "execute_result"
    }
   ],
   "source": [
    "bundesliga_23_24_player.head()"
   ]
  },
  {
   "cell_type": "code",
   "execution_count": 5,
   "id": "b327664b",
   "metadata": {},
   "outputs": [
    {
     "data": {
      "text/html": [
       "<div>\n",
       "<style scoped>\n",
       "    .dataframe tbody tr th:only-of-type {\n",
       "        vertical-align: middle;\n",
       "    }\n",
       "\n",
       "    .dataframe tbody tr th {\n",
       "        vertical-align: top;\n",
       "    }\n",
       "\n",
       "    .dataframe thead th {\n",
       "        text-align: right;\n",
       "    }\n",
       "</style>\n",
       "<table border=\"1\" class=\"dataframe\">\n",
       "  <thead>\n",
       "    <tr style=\"text-align: right;\">\n",
       "      <th></th>\n",
       "      <th>index</th>\n",
       "      <th>Player</th>\n",
       "      <th>#</th>\n",
       "      <th>Nation</th>\n",
       "      <th>Pos</th>\n",
       "      <th>Age</th>\n",
       "      <th>Min</th>\n",
       "      <th>Gls</th>\n",
       "      <th>Ast</th>\n",
       "      <th>PK</th>\n",
       "      <th>...</th>\n",
       "      <th>Att_y.2</th>\n",
       "      <th>Launch%.1</th>\n",
       "      <th>AvgLen.1</th>\n",
       "      <th>Opp</th>\n",
       "      <th>Stp</th>\n",
       "      <th>Stp%</th>\n",
       "      <th>#OPA</th>\n",
       "      <th>AvgDist</th>\n",
       "      <th>home</th>\n",
       "      <th>game_id</th>\n",
       "    </tr>\n",
       "  </thead>\n",
       "  <tbody>\n",
       "    <tr>\n",
       "      <th>0</th>\n",
       "      <td>0</td>\n",
       "      <td>Rafael Borré</td>\n",
       "      <td>19.0</td>\n",
       "      <td>co COL</td>\n",
       "      <td>FW</td>\n",
       "      <td>26-324</td>\n",
       "      <td>45</td>\n",
       "      <td>0.0</td>\n",
       "      <td>0.0</td>\n",
       "      <td>0.0</td>\n",
       "      <td>...</td>\n",
       "      <td>NaN</td>\n",
       "      <td>NaN</td>\n",
       "      <td>NaN</td>\n",
       "      <td>NaN</td>\n",
       "      <td>NaN</td>\n",
       "      <td>NaN</td>\n",
       "      <td>NaN</td>\n",
       "      <td>NaN</td>\n",
       "      <td>1</td>\n",
       "      <td>0</td>\n",
       "    </tr>\n",
       "    <tr>\n",
       "      <th>1</th>\n",
       "      <td>1</td>\n",
       "      <td>Randal Kolo Muani</td>\n",
       "      <td>9.0</td>\n",
       "      <td>fr FRA</td>\n",
       "      <td>FW</td>\n",
       "      <td>23-243</td>\n",
       "      <td>45</td>\n",
       "      <td>1.0</td>\n",
       "      <td>0.0</td>\n",
       "      <td>0.0</td>\n",
       "      <td>...</td>\n",
       "      <td>NaN</td>\n",
       "      <td>NaN</td>\n",
       "      <td>NaN</td>\n",
       "      <td>NaN</td>\n",
       "      <td>NaN</td>\n",
       "      <td>NaN</td>\n",
       "      <td>NaN</td>\n",
       "      <td>NaN</td>\n",
       "      <td>1</td>\n",
       "      <td>0</td>\n",
       "    </tr>\n",
       "    <tr>\n",
       "      <th>2</th>\n",
       "      <td>2</td>\n",
       "      <td>Mario Götze</td>\n",
       "      <td>27.0</td>\n",
       "      <td>de GER</td>\n",
       "      <td>RM,AM</td>\n",
       "      <td>30-063</td>\n",
       "      <td>90</td>\n",
       "      <td>0.0</td>\n",
       "      <td>0.0</td>\n",
       "      <td>0.0</td>\n",
       "      <td>...</td>\n",
       "      <td>NaN</td>\n",
       "      <td>NaN</td>\n",
       "      <td>NaN</td>\n",
       "      <td>NaN</td>\n",
       "      <td>NaN</td>\n",
       "      <td>NaN</td>\n",
       "      <td>NaN</td>\n",
       "      <td>NaN</td>\n",
       "      <td>1</td>\n",
       "      <td>0</td>\n",
       "    </tr>\n",
       "    <tr>\n",
       "      <th>3</th>\n",
       "      <td>3</td>\n",
       "      <td>Jesper Lindstrøm</td>\n",
       "      <td>29.0</td>\n",
       "      <td>dk DEN</td>\n",
       "      <td>AM</td>\n",
       "      <td>22-157</td>\n",
       "      <td>45</td>\n",
       "      <td>0.0</td>\n",
       "      <td>0.0</td>\n",
       "      <td>0.0</td>\n",
       "      <td>...</td>\n",
       "      <td>NaN</td>\n",
       "      <td>NaN</td>\n",
       "      <td>NaN</td>\n",
       "      <td>NaN</td>\n",
       "      <td>NaN</td>\n",
       "      <td>NaN</td>\n",
       "      <td>NaN</td>\n",
       "      <td>NaN</td>\n",
       "      <td>1</td>\n",
       "      <td>0</td>\n",
       "    </tr>\n",
       "    <tr>\n",
       "      <th>4</th>\n",
       "      <td>4</td>\n",
       "      <td>Christopher Lenz</td>\n",
       "      <td>25.0</td>\n",
       "      <td>de GER</td>\n",
       "      <td>LB</td>\n",
       "      <td>27-317</td>\n",
       "      <td>45</td>\n",
       "      <td>0.0</td>\n",
       "      <td>0.0</td>\n",
       "      <td>0.0</td>\n",
       "      <td>...</td>\n",
       "      <td>NaN</td>\n",
       "      <td>NaN</td>\n",
       "      <td>NaN</td>\n",
       "      <td>NaN</td>\n",
       "      <td>NaN</td>\n",
       "      <td>NaN</td>\n",
       "      <td>NaN</td>\n",
       "      <td>NaN</td>\n",
       "      <td>1</td>\n",
       "      <td>0</td>\n",
       "    </tr>\n",
       "  </tbody>\n",
       "</table>\n",
       "<p>5 rows × 54 columns</p>\n",
       "</div>"
      ],
      "text/plain": [
       "   index             Player     #  Nation    Pos     Age  Min  Gls  Ast   PK   \n",
       "0      0       Rafael Borré  19.0  co COL     FW  26-324   45  0.0  0.0  0.0  \\\n",
       "1      1  Randal Kolo Muani   9.0  fr FRA     FW  23-243   45  1.0  0.0  0.0   \n",
       "2      2        Mario Götze  27.0  de GER  RM,AM  30-063   90  0.0  0.0  0.0   \n",
       "3      3   Jesper Lindstrøm  29.0  dk DEN     AM  22-157   45  0.0  0.0  0.0   \n",
       "4      4   Christopher Lenz  25.0  de GER     LB  27-317   45  0.0  0.0  0.0   \n",
       "\n",
       "   ...  Att_y.2  Launch%.1  AvgLen.1  Opp  Stp  Stp%  #OPA  AvgDist  home   \n",
       "0  ...      NaN        NaN       NaN  NaN  NaN   NaN   NaN      NaN     1  \\\n",
       "1  ...      NaN        NaN       NaN  NaN  NaN   NaN   NaN      NaN     1   \n",
       "2  ...      NaN        NaN       NaN  NaN  NaN   NaN   NaN      NaN     1   \n",
       "3  ...      NaN        NaN       NaN  NaN  NaN   NaN   NaN      NaN     1   \n",
       "4  ...      NaN        NaN       NaN  NaN  NaN   NaN   NaN      NaN     1   \n",
       "\n",
       "   game_id  \n",
       "0        0  \n",
       "1        0  \n",
       "2        0  \n",
       "3        0  \n",
       "4        0  \n",
       "\n",
       "[5 rows x 54 columns]"
      ]
     },
     "execution_count": 5,
     "metadata": {},
     "output_type": "execute_result"
    }
   ],
   "source": [
    "bundesliga_22_23_player.head()"
   ]
  },
  {
   "cell_type": "code",
   "execution_count": 6,
   "id": "e6a59f6d",
   "metadata": {},
   "outputs": [
    {
     "data": {
      "text/html": [
       "<div>\n",
       "<style scoped>\n",
       "    .dataframe tbody tr th:only-of-type {\n",
       "        vertical-align: middle;\n",
       "    }\n",
       "\n",
       "    .dataframe tbody tr th {\n",
       "        vertical-align: top;\n",
       "    }\n",
       "\n",
       "    .dataframe thead th {\n",
       "        text-align: right;\n",
       "    }\n",
       "</style>\n",
       "<table border=\"1\" class=\"dataframe\">\n",
       "  <thead>\n",
       "    <tr style=\"text-align: right;\">\n",
       "      <th></th>\n",
       "      <th>index</th>\n",
       "      <th>Player</th>\n",
       "      <th>#</th>\n",
       "      <th>Nation</th>\n",
       "      <th>Pos</th>\n",
       "      <th>Age</th>\n",
       "      <th>Min</th>\n",
       "      <th>Gls</th>\n",
       "      <th>Ast</th>\n",
       "      <th>PK</th>\n",
       "      <th>...</th>\n",
       "      <th>Att_y.2</th>\n",
       "      <th>Launch%.1</th>\n",
       "      <th>AvgLen.1</th>\n",
       "      <th>Opp</th>\n",
       "      <th>Stp</th>\n",
       "      <th>Stp%</th>\n",
       "      <th>#OPA</th>\n",
       "      <th>AvgDist</th>\n",
       "      <th>home</th>\n",
       "      <th>game_id</th>\n",
       "    </tr>\n",
       "  </thead>\n",
       "  <tbody>\n",
       "    <tr>\n",
       "      <th>0</th>\n",
       "      <td>0</td>\n",
       "      <td>Alassane Pléa</td>\n",
       "      <td>14.0</td>\n",
       "      <td>fr FRA</td>\n",
       "      <td>FW</td>\n",
       "      <td>28-156</td>\n",
       "      <td>63</td>\n",
       "      <td>1</td>\n",
       "      <td>0</td>\n",
       "      <td>0</td>\n",
       "      <td>...</td>\n",
       "      <td>NaN</td>\n",
       "      <td>NaN</td>\n",
       "      <td>NaN</td>\n",
       "      <td>NaN</td>\n",
       "      <td>NaN</td>\n",
       "      <td>NaN</td>\n",
       "      <td>NaN</td>\n",
       "      <td>NaN</td>\n",
       "      <td>1</td>\n",
       "      <td>0</td>\n",
       "    </tr>\n",
       "    <tr>\n",
       "      <th>1</th>\n",
       "      <td>1</td>\n",
       "      <td>Marcus Thuram</td>\n",
       "      <td>10.0</td>\n",
       "      <td>fr FRA</td>\n",
       "      <td>FW</td>\n",
       "      <td>24-007</td>\n",
       "      <td>27</td>\n",
       "      <td>0</td>\n",
       "      <td>0</td>\n",
       "      <td>0</td>\n",
       "      <td>...</td>\n",
       "      <td>NaN</td>\n",
       "      <td>NaN</td>\n",
       "      <td>NaN</td>\n",
       "      <td>NaN</td>\n",
       "      <td>NaN</td>\n",
       "      <td>NaN</td>\n",
       "      <td>NaN</td>\n",
       "      <td>NaN</td>\n",
       "      <td>1</td>\n",
       "      <td>0</td>\n",
       "    </tr>\n",
       "    <tr>\n",
       "      <th>2</th>\n",
       "      <td>2</td>\n",
       "      <td>Hannes Wolf</td>\n",
       "      <td>11.0</td>\n",
       "      <td>at AUT</td>\n",
       "      <td>LW</td>\n",
       "      <td>22-119</td>\n",
       "      <td>71</td>\n",
       "      <td>0</td>\n",
       "      <td>0</td>\n",
       "      <td>0</td>\n",
       "      <td>...</td>\n",
       "      <td>NaN</td>\n",
       "      <td>NaN</td>\n",
       "      <td>NaN</td>\n",
       "      <td>NaN</td>\n",
       "      <td>NaN</td>\n",
       "      <td>NaN</td>\n",
       "      <td>NaN</td>\n",
       "      <td>NaN</td>\n",
       "      <td>1</td>\n",
       "      <td>0</td>\n",
       "    </tr>\n",
       "    <tr>\n",
       "      <th>3</th>\n",
       "      <td>3</td>\n",
       "      <td>Keanan Bennetts</td>\n",
       "      <td>37.0</td>\n",
       "      <td>eng ENG</td>\n",
       "      <td>LW</td>\n",
       "      <td>22-157</td>\n",
       "      <td>19</td>\n",
       "      <td>0</td>\n",
       "      <td>0</td>\n",
       "      <td>0</td>\n",
       "      <td>...</td>\n",
       "      <td>NaN</td>\n",
       "      <td>NaN</td>\n",
       "      <td>NaN</td>\n",
       "      <td>NaN</td>\n",
       "      <td>NaN</td>\n",
       "      <td>NaN</td>\n",
       "      <td>NaN</td>\n",
       "      <td>NaN</td>\n",
       "      <td>1</td>\n",
       "      <td>0</td>\n",
       "    </tr>\n",
       "    <tr>\n",
       "      <th>4</th>\n",
       "      <td>4</td>\n",
       "      <td>Patrick Herrmann</td>\n",
       "      <td>7.0</td>\n",
       "      <td>de GER</td>\n",
       "      <td>RW</td>\n",
       "      <td>30-182</td>\n",
       "      <td>63</td>\n",
       "      <td>0</td>\n",
       "      <td>0</td>\n",
       "      <td>0</td>\n",
       "      <td>...</td>\n",
       "      <td>NaN</td>\n",
       "      <td>NaN</td>\n",
       "      <td>NaN</td>\n",
       "      <td>NaN</td>\n",
       "      <td>NaN</td>\n",
       "      <td>NaN</td>\n",
       "      <td>NaN</td>\n",
       "      <td>NaN</td>\n",
       "      <td>1</td>\n",
       "      <td>0</td>\n",
       "    </tr>\n",
       "  </tbody>\n",
       "</table>\n",
       "<p>5 rows × 54 columns</p>\n",
       "</div>"
      ],
      "text/plain": [
       "   index            Player     #   Nation Pos     Age  Min  Gls  Ast  PK  ...   \n",
       "0      0     Alassane Pléa  14.0   fr FRA  FW  28-156   63    1    0   0  ...  \\\n",
       "1      1     Marcus Thuram  10.0   fr FRA  FW  24-007   27    0    0   0  ...   \n",
       "2      2       Hannes Wolf  11.0   at AUT  LW  22-119   71    0    0   0  ...   \n",
       "3      3   Keanan Bennetts  37.0  eng ENG  LW  22-157   19    0    0   0  ...   \n",
       "4      4  Patrick Herrmann   7.0   de GER  RW  30-182   63    0    0   0  ...   \n",
       "\n",
       "   Att_y.2  Launch%.1  AvgLen.1  Opp  Stp  Stp%  #OPA  AvgDist  home  game_id  \n",
       "0      NaN        NaN       NaN  NaN  NaN   NaN   NaN      NaN     1        0  \n",
       "1      NaN        NaN       NaN  NaN  NaN   NaN   NaN      NaN     1        0  \n",
       "2      NaN        NaN       NaN  NaN  NaN   NaN   NaN      NaN     1        0  \n",
       "3      NaN        NaN       NaN  NaN  NaN   NaN   NaN      NaN     1        0  \n",
       "4      NaN        NaN       NaN  NaN  NaN   NaN   NaN      NaN     1        0  \n",
       "\n",
       "[5 rows x 54 columns]"
      ]
     },
     "execution_count": 6,
     "metadata": {},
     "output_type": "execute_result"
    }
   ],
   "source": [
    "bundesliga_21_22_player.head()"
   ]
  },
  {
   "cell_type": "markdown",
   "id": "bebd6a6c",
   "metadata": {},
   "source": [
    "The index column in each dataframe is of no use since the dataframe itself has an index so we will drop it from each dataframe"
   ]
  },
  {
   "cell_type": "code",
   "execution_count": 7,
   "id": "2f306a1c",
   "metadata": {},
   "outputs": [],
   "source": [
    "bundesliga_23_24_player.drop(columns = ['index'] , inplace = True)\n",
    "bundesliga_22_23_player.drop(columns = ['index'] , inplace = True)\n",
    "bundesliga_21_22_player.drop(columns = ['index'] , inplace = True)"
   ]
  },
  {
   "cell_type": "markdown",
   "id": "f9246d85",
   "metadata": {},
   "source": [
    "## Feature Engineering"
   ]
  },
  {
   "cell_type": "markdown",
   "id": "78cc1235",
   "metadata": {},
   "source": [
    "## Season"
   ]
  },
  {
   "cell_type": "markdown",
   "id": "09a52a85",
   "metadata": {},
   "source": [
    "Adding a feature to each table to indicate the season at which the game was played"
   ]
  },
  {
   "cell_type": "code",
   "execution_count": 8,
   "id": "c5f07650",
   "metadata": {},
   "outputs": [],
   "source": [
    "bundesliga_23_24_player['season'] = '2023-2024'\n",
    "bundesliga_22_23_player['season'] = '2022-2023'\n",
    "bundesliga_21_22_player['season'] = '2021-2022'"
   ]
  },
  {
   "cell_type": "markdown",
   "id": "a3525e5b",
   "metadata": {},
   "source": [
    "## Team"
   ]
  },
  {
   "cell_type": "markdown",
   "id": "4a2d426f",
   "metadata": {},
   "source": [
    "Adding a feature to indicate the team each player plays for. We will make use of teams data to add this feature"
   ]
  },
  {
   "cell_type": "code",
   "execution_count": 9,
   "id": "f5e90676",
   "metadata": {},
   "outputs": [],
   "source": [
    "bundesliga_23_24 = pd.read_csv('../Dataset/Bundesliga_2023-2024.csv')\n",
    "bundesliga_22_23 = pd.read_csv('../Dataset/Bundesliga_2022-2023.csv')\n",
    "bundesliga_21_22 = pd.read_csv('../Dataset/Bundesliga_2021-2022.csv')"
   ]
  },
  {
   "cell_type": "markdown",
   "id": "c0bed366",
   "metadata": {},
   "source": [
    "teams and players dataframes have a common column called `game_id`, we will use that column to merge players and teams dataframes for each season"
   ]
  },
  {
   "cell_type": "code",
   "execution_count": 10,
   "id": "6bb67ec2",
   "metadata": {},
   "outputs": [],
   "source": [
    "player_team_df_23_24 = bundesliga_23_24_player.merge(bundesliga_23_24 , on = 'game_id' , how = 'inner')\n",
    "player_team_df_22_23 = bundesliga_22_23_player.merge(bundesliga_22_23 , on = 'game_id' , how = 'inner')\n",
    "player_team_df_21_22 = bundesliga_21_22_player.merge(bundesliga_21_22 , on = 'game_id' , how = 'inner')"
   ]
  },
  {
   "cell_type": "markdown",
   "id": "6d7e3a85",
   "metadata": {},
   "source": [
    "selecting player's name and whether his team played at home from player data and selecting the home and away team names from teams data. we want this information just one time for each player to know the name of the team so we will drop duplicate rows"
   ]
  },
  {
   "cell_type": "code",
   "execution_count": 11,
   "id": "af1ba0fa",
   "metadata": {},
   "outputs": [],
   "source": [
    "player_team_df_23_24 = player_team_df_23_24[['Player', 'home' , 'Home' , 'Away']].drop_duplicates(subset = 'Player')\n",
    "player_team_df_22_23 = player_team_df_22_23[['Player', 'home' , 'Home' , 'Away']].drop_duplicates(subset = 'Player')\n",
    "player_team_df_21_22 = player_team_df_21_22[['Player', 'home' , 'Home' , 'Away']].drop_duplicates(subset = 'Player')"
   ]
  },
  {
   "cell_type": "markdown",
   "id": "7d8ab954",
   "metadata": {},
   "source": [
    "Getting each player's team name"
   ]
  },
  {
   "cell_type": "code",
   "execution_count": 12,
   "id": "d1451802",
   "metadata": {},
   "outputs": [],
   "source": [
    "def get_player_team(row):\n",
    "    return row['Home'] if row['home'] == 1 else row['Away']\n",
    "\n",
    "player_team_df_23_24['Team'] = player_team_df_23_24.apply(get_player_team , axis = 1).values\n",
    "player_team_df_22_23['Team'] = player_team_df_22_23.apply(get_player_team , axis = 1).values\n",
    "player_team_df_21_22['Team'] = player_team_df_21_22.apply(get_player_team , axis = 1).values"
   ]
  },
  {
   "cell_type": "markdown",
   "id": "8dd51cb9",
   "metadata": {},
   "source": [
    "Adding the team name to players dataframes, the function `add_team_col` takes as input the players dataframe for a given season along with the joined dataframe of players and teams data for the same season, then it creates a new column for the team name and loops through each row in players dataframe taking the player's name and using it to get the team name from the joined players and teams dataframe"
   ]
  },
  {
   "cell_type": "code",
   "execution_count": 13,
   "id": "61f1bac2",
   "metadata": {},
   "outputs": [],
   "source": [
    "def add_team_col(player , player_team):\n",
    "    player['Team'] = np.nan\n",
    "    for index , row in player.iterrows():\n",
    "        player.at[index , 'Team'] = (player_team.loc[player_team['Player'] == row['Player'] , 'Team'].values[0])"
   ]
  },
  {
   "cell_type": "code",
   "execution_count": 14,
   "id": "29c8bbed",
   "metadata": {},
   "outputs": [],
   "source": [
    "add_team_col(bundesliga_23_24_player , player_team_df_23_24)\n",
    "add_team_col(bundesliga_22_23_player , player_team_df_22_23)\n",
    "add_team_col(bundesliga_21_22_player , player_team_df_21_22)"
   ]
  },
  {
   "cell_type": "code",
   "execution_count": 15,
   "id": "d4d95ab4",
   "metadata": {},
   "outputs": [
    {
     "data": {
      "text/html": [
       "<div>\n",
       "<style scoped>\n",
       "    .dataframe tbody tr th:only-of-type {\n",
       "        vertical-align: middle;\n",
       "    }\n",
       "\n",
       "    .dataframe tbody tr th {\n",
       "        vertical-align: top;\n",
       "    }\n",
       "\n",
       "    .dataframe thead th {\n",
       "        text-align: right;\n",
       "    }\n",
       "</style>\n",
       "<table border=\"1\" class=\"dataframe\">\n",
       "  <thead>\n",
       "    <tr style=\"text-align: right;\">\n",
       "      <th></th>\n",
       "      <th>Player</th>\n",
       "      <th>#</th>\n",
       "      <th>Nation</th>\n",
       "      <th>Pos</th>\n",
       "      <th>Age</th>\n",
       "      <th>Min</th>\n",
       "      <th>Gls</th>\n",
       "      <th>Ast</th>\n",
       "      <th>PK</th>\n",
       "      <th>PKatt</th>\n",
       "      <th>...</th>\n",
       "      <th>AvgLen.1</th>\n",
       "      <th>Opp</th>\n",
       "      <th>Stp</th>\n",
       "      <th>Stp%</th>\n",
       "      <th>#OPA</th>\n",
       "      <th>AvgDist</th>\n",
       "      <th>home</th>\n",
       "      <th>game_id</th>\n",
       "      <th>season</th>\n",
       "      <th>Team</th>\n",
       "    </tr>\n",
       "  </thead>\n",
       "  <tbody>\n",
       "    <tr>\n",
       "      <th>0</th>\n",
       "      <td>Marvin Ducksch</td>\n",
       "      <td>7.0</td>\n",
       "      <td>de GER</td>\n",
       "      <td>FW</td>\n",
       "      <td>29-164</td>\n",
       "      <td>90</td>\n",
       "      <td>0</td>\n",
       "      <td>0</td>\n",
       "      <td>0</td>\n",
       "      <td>0</td>\n",
       "      <td>...</td>\n",
       "      <td>NaN</td>\n",
       "      <td>NaN</td>\n",
       "      <td>NaN</td>\n",
       "      <td>NaN</td>\n",
       "      <td>NaN</td>\n",
       "      <td>NaN</td>\n",
       "      <td>1</td>\n",
       "      <td>0</td>\n",
       "      <td>2023-2024</td>\n",
       "      <td>Werder Bremen</td>\n",
       "    </tr>\n",
       "    <tr>\n",
       "      <th>1</th>\n",
       "      <td>Niclas Füllkrug</td>\n",
       "      <td>11.0</td>\n",
       "      <td>de GER</td>\n",
       "      <td>FW</td>\n",
       "      <td>30-190</td>\n",
       "      <td>90</td>\n",
       "      <td>0</td>\n",
       "      <td>0</td>\n",
       "      <td>0</td>\n",
       "      <td>0</td>\n",
       "      <td>...</td>\n",
       "      <td>NaN</td>\n",
       "      <td>NaN</td>\n",
       "      <td>NaN</td>\n",
       "      <td>NaN</td>\n",
       "      <td>NaN</td>\n",
       "      <td>NaN</td>\n",
       "      <td>1</td>\n",
       "      <td>0</td>\n",
       "      <td>2023-2024</td>\n",
       "      <td>Werder Bremen</td>\n",
       "    </tr>\n",
       "    <tr>\n",
       "      <th>2</th>\n",
       "      <td>Anthony Jung</td>\n",
       "      <td>3.0</td>\n",
       "      <td>de GER</td>\n",
       "      <td>LW</td>\n",
       "      <td>31-288</td>\n",
       "      <td>78</td>\n",
       "      <td>0</td>\n",
       "      <td>0</td>\n",
       "      <td>0</td>\n",
       "      <td>0</td>\n",
       "      <td>...</td>\n",
       "      <td>NaN</td>\n",
       "      <td>NaN</td>\n",
       "      <td>NaN</td>\n",
       "      <td>NaN</td>\n",
       "      <td>NaN</td>\n",
       "      <td>NaN</td>\n",
       "      <td>1</td>\n",
       "      <td>0</td>\n",
       "      <td>2023-2024</td>\n",
       "      <td>Werder Bremen</td>\n",
       "    </tr>\n",
       "    <tr>\n",
       "      <th>3</th>\n",
       "      <td>Leon Opitz</td>\n",
       "      <td>35.0</td>\n",
       "      <td>de GER</td>\n",
       "      <td>LW</td>\n",
       "      <td>18-129</td>\n",
       "      <td>12</td>\n",
       "      <td>0</td>\n",
       "      <td>0</td>\n",
       "      <td>0</td>\n",
       "      <td>0</td>\n",
       "      <td>...</td>\n",
       "      <td>NaN</td>\n",
       "      <td>NaN</td>\n",
       "      <td>NaN</td>\n",
       "      <td>NaN</td>\n",
       "      <td>NaN</td>\n",
       "      <td>NaN</td>\n",
       "      <td>1</td>\n",
       "      <td>0</td>\n",
       "      <td>2023-2024</td>\n",
       "      <td>Werder Bremen</td>\n",
       "    </tr>\n",
       "    <tr>\n",
       "      <th>4</th>\n",
       "      <td>Mitchell Weiser</td>\n",
       "      <td>8.0</td>\n",
       "      <td>de GER</td>\n",
       "      <td>RW</td>\n",
       "      <td>29-119</td>\n",
       "      <td>58</td>\n",
       "      <td>0</td>\n",
       "      <td>0</td>\n",
       "      <td>0</td>\n",
       "      <td>0</td>\n",
       "      <td>...</td>\n",
       "      <td>NaN</td>\n",
       "      <td>NaN</td>\n",
       "      <td>NaN</td>\n",
       "      <td>NaN</td>\n",
       "      <td>NaN</td>\n",
       "      <td>NaN</td>\n",
       "      <td>1</td>\n",
       "      <td>0</td>\n",
       "      <td>2023-2024</td>\n",
       "      <td>Werder Bremen</td>\n",
       "    </tr>\n",
       "  </tbody>\n",
       "</table>\n",
       "<p>5 rows × 55 columns</p>\n",
       "</div>"
      ],
      "text/plain": [
       "            Player     #  Nation Pos     Age  Min  Gls  Ast  PK  PKatt  ...   \n",
       "0   Marvin Ducksch   7.0  de GER  FW  29-164   90    0    0   0      0  ...  \\\n",
       "1  Niclas Füllkrug  11.0  de GER  FW  30-190   90    0    0   0      0  ...   \n",
       "2     Anthony Jung   3.0  de GER  LW  31-288   78    0    0   0      0  ...   \n",
       "3       Leon Opitz  35.0  de GER  LW  18-129   12    0    0   0      0  ...   \n",
       "4  Mitchell Weiser   8.0  de GER  RW  29-119   58    0    0   0      0  ...   \n",
       "\n",
       "   AvgLen.1  Opp  Stp  Stp%  #OPA  AvgDist  home  game_id     season   \n",
       "0       NaN  NaN  NaN   NaN   NaN      NaN     1        0  2023-2024  \\\n",
       "1       NaN  NaN  NaN   NaN   NaN      NaN     1        0  2023-2024   \n",
       "2       NaN  NaN  NaN   NaN   NaN      NaN     1        0  2023-2024   \n",
       "3       NaN  NaN  NaN   NaN   NaN      NaN     1        0  2023-2024   \n",
       "4       NaN  NaN  NaN   NaN   NaN      NaN     1        0  2023-2024   \n",
       "\n",
       "            Team  \n",
       "0  Werder Bremen  \n",
       "1  Werder Bremen  \n",
       "2  Werder Bremen  \n",
       "3  Werder Bremen  \n",
       "4  Werder Bremen  \n",
       "\n",
       "[5 rows x 55 columns]"
      ]
     },
     "execution_count": 15,
     "metadata": {},
     "output_type": "execute_result"
    }
   ],
   "source": [
    "bundesliga_23_24_player.head()"
   ]
  },
  {
   "cell_type": "markdown",
   "id": "7e167fb0",
   "metadata": {},
   "source": [
    "Merging the 3 seasons data into one dataframe"
   ]
  },
  {
   "cell_type": "code",
   "execution_count": null,
   "id": "562a3133",
   "metadata": {},
   "outputs": [],
   "source": [
    "player_df = pd.concat([bundesliga_23_24_player , bundesliga_22_23_player , bundesliga_21_22_player],ignore_index = True)\n",
    "player_df.head()"
   ]
  },
  {
   "cell_type": "markdown",
   "id": "d93f95fe",
   "metadata": {},
   "source": [
    "# Data Cleaning"
   ]
  },
  {
   "cell_type": "code",
   "execution_count": null,
   "id": "c72448b7",
   "metadata": {},
   "outputs": [],
   "source": [
    "player_df.info()"
   ]
  },
  {
   "cell_type": "markdown",
   "id": "073810a4",
   "metadata": {},
   "source": [
    "## Handling missing values"
   ]
  },
  {
   "cell_type": "markdown",
   "id": "714796df",
   "metadata": {},
   "source": [
    "The columns `SoTA`, `GA`, `Saves`, `Save%`, `PSxG`, `Cmp_y`, `Att_y`, `Cmp%_y`, `Att_y.1`, `Thr`, `Launch%`, `AvgLen`, `Att_y.2`, `Launch%.1`, `AvgLen.1`, `Opp`, `Stp`, `Stp%`, `#OPA`, `AvgDist` have extremely high null values count so we will drop them"
   ]
  },
  {
   "cell_type": "code",
   "execution_count": null,
   "id": "feda0e58",
   "metadata": {},
   "outputs": [],
   "source": [
    "player_df.drop(columns = ['SoTA', 'GA', 'Saves', 'Save%',\n",
    "       'PSxG', 'Cmp_y', 'Att_y', 'Cmp%_y', 'Att_y.1', 'Thr', 'Launch%',\n",
    "       'AvgLen', 'Att_y.2', 'Launch%.1', 'AvgLen.1', 'Opp', 'Stp', 'Stp%',\n",
    "       '#OPA', 'AvgDist'], axis = 1 , inplace = True)"
   ]
  },
  {
   "cell_type": "code",
   "execution_count": null,
   "id": "36c060a6",
   "metadata": {},
   "outputs": [],
   "source": [
    "player_df.isna().sum()"
   ]
  },
  {
   "cell_type": "code",
   "execution_count": null,
   "id": "47452056",
   "metadata": {},
   "outputs": [],
   "source": [
    "player_df[player_df['#'].isna()]"
   ]
  },
  {
   "cell_type": "markdown",
   "id": "b493b014",
   "metadata": {},
   "source": [
    "We will drop this row since it doesn't include any useful information"
   ]
  },
  {
   "cell_type": "code",
   "execution_count": null,
   "id": "2d9ad8e8",
   "metadata": {},
   "outputs": [],
   "source": [
    "player_df.drop(player_df[player_df['#'].isna()].index , inplace = True)"
   ]
  },
  {
   "cell_type": "markdown",
   "id": "8bc9be53",
   "metadata": {},
   "source": [
    "The columns Age, Touches, Tkl, Blocks,xG, npxG, xAG, SCA, GCA, Cmp_x, Att_x all have the same number of missing values so we will inspect them to see if there's some pattern for this data loss"
   ]
  },
  {
   "cell_type": "code",
   "execution_count": null,
   "id": "b11db78a",
   "metadata": {},
   "outputs": [],
   "source": [
    "player_df[(player_df['Age'].isna()) & (player_df['Touches'].isna()) & (player_df['Tkl'].isna()) & \n",
    "          (player_df['Blocks'].isna()) & (player_df['xG'].isna()) & (player_df['npxG'].isna()) & \n",
    "          (player_df['xAG'].isna()) & (player_df['SCA'].isna()) & (player_df['GCA'].isna()) & \n",
    "          (player_df['Cmp_x'].isna()) & (player_df['Att_x'].isna()) ]"
   ]
  },
  {
   "cell_type": "markdown",
   "id": "9df641b3",
   "metadata": {},
   "source": [
    "All the missing values for these columns correspond to the same player so we will remove all rows associated with that player"
   ]
  },
  {
   "cell_type": "code",
   "execution_count": null,
   "id": "e925fb05",
   "metadata": {},
   "outputs": [],
   "source": [
    "player_df.drop(player_df[player_df['Player'] == \"Omar Marmoush\"].index, inplace=True)"
   ]
  },
  {
   "cell_type": "markdown",
   "id": "964fe873",
   "metadata": {},
   "source": [
    "Checking the null values for the column `Cmp%_x` and see if that has anything to do with related features such as `Att_x` , `Cmp_x`"
   ]
  },
  {
   "cell_type": "code",
   "execution_count": null,
   "id": "90a84377",
   "metadata": {},
   "outputs": [],
   "source": [
    "player_df.loc[player_df['Cmp%_x'].isna() , [\"Cmp_x\" , \"Att_x\" , 'Cmp%_x']]"
   ]
  },
  {
   "cell_type": "markdown",
   "id": "98fe1676",
   "metadata": {},
   "source": [
    "It looks like `Cmp%_x` is null when `Att_x` is zero which makes sense becaue when attempted passes are zero completed passes are of course zero so when trying to compute completed passes percentage we will be dividing zero by zero which is undefined"
   ]
  },
  {
   "cell_type": "markdown",
   "id": "45214202",
   "metadata": {},
   "source": [
    "## Converting Age to numeric values"
   ]
  },
  {
   "cell_type": "code",
   "execution_count": null,
   "id": "a50c48fd",
   "metadata": {},
   "outputs": [],
   "source": [
    "player_df['Age'].value_counts()"
   ]
  },
  {
   "cell_type": "code",
   "execution_count": null,
   "id": "78d6d03d",
   "metadata": {},
   "outputs": [],
   "source": [
    "player_df['Age'] = pd.to_numeric(player_df['Age'].str.split(\"-\" , expand = True)[0] , errors = \"coerce\")\n",
    "player_df['Age'].value_counts()"
   ]
  },
  {
   "cell_type": "code",
   "execution_count": null,
   "id": "72ed9e02",
   "metadata": {},
   "outputs": [],
   "source": [
    "player_df['Age'].isna().sum()"
   ]
  },
  {
   "cell_type": "markdown",
   "id": "97a00bc0",
   "metadata": {},
   "source": [
    "## Handling muliple values in the position column"
   ]
  },
  {
   "cell_type": "markdown",
   "id": "9869f083",
   "metadata": {},
   "source": [
    "for some rows the position column has multiple values for matches in which the player played in more than positions. "
   ]
  },
  {
   "cell_type": "code",
   "execution_count": null,
   "id": "72249be9",
   "metadata": {},
   "outputs": [],
   "source": [
    "player_df['Pos'].value_counts()"
   ]
  },
  {
   "cell_type": "markdown",
   "id": "d71e7449",
   "metadata": {},
   "source": [
    "We will handle that case by replacing the columns with multiple values with thme most common position, and if the most common position itself was multiple positions we will take the first one"
   ]
  },
  {
   "cell_type": "code",
   "execution_count": null,
   "id": "475b2809",
   "metadata": {},
   "outputs": [],
   "source": [
    "# getting the most common position for each player \n",
    "# if the most common position has multiple values we take the first one\n",
    "most_common_pos =  player_df.groupby('Player')['Pos'].apply(lambda x: x.mode().iloc[0]).str.split(\",\" , expand = True)[0]\n",
    "player_df['Pos'] = player_df.apply(lambda row: most_common_pos[row['Player']] , axis = 1).values"
   ]
  },
  {
   "cell_type": "markdown",
   "id": "8182c314",
   "metadata": {},
   "source": [
    "# Data Analysis"
   ]
  },
  {
   "cell_type": "markdown",
   "id": "1f7a64a7",
   "metadata": {},
   "source": [
    "## Age"
   ]
  },
  {
   "cell_type": "markdown",
   "id": "3f8256e3",
   "metadata": {},
   "source": [
    "### Age Distribution"
   ]
  },
  {
   "cell_type": "code",
   "execution_count": null,
   "id": "a22b7000",
   "metadata": {},
   "outputs": [],
   "source": [
    "latest_age_per_player = player_df.groupby('Player')['Age'].max()\n",
    "plt.figure(figsize = (8,6))\n",
    "sns.boxplot(latest_age_per_player)\n",
    "plt.title(\"Age distribution in the Bundesliga\")\n",
    "plt.ylabel(\"age\")\n",
    "plt.show()"
   ]
  },
  {
   "cell_type": "markdown",
   "id": "397113ba",
   "metadata": {},
   "source": [
    "Most of the player are between 20 and 30 which is normal for football player but we have some younger players below 20 and some older players in their late 30s. Let's figure out the youngest and oldest players in the Bundesliga for this period"
   ]
  },
  {
   "cell_type": "code",
   "execution_count": null,
   "id": "adf65d4c",
   "metadata": {},
   "outputs": [],
   "source": [
    "# youngest 5 players\n",
    "latest_age_per_player.sort_values().head(5)"
   ]
  },
  {
   "cell_type": "code",
   "execution_count": null,
   "id": "9b2e3016",
   "metadata": {},
   "outputs": [],
   "source": [
    "latest_age_per_player.sort_values(ascending = False).head(5)"
   ]
  },
  {
   "cell_type": "markdown",
   "id": "0a9bf288",
   "metadata": {},
   "source": [
    "## Minutes Played"
   ]
  },
  {
   "cell_type": "code",
   "execution_count": null,
   "id": "ae87e372",
   "metadata": {},
   "outputs": [],
   "source": [
    "mins_df = player_df.groupby('Player').agg({'Min': 'mean' , 'Pos': 'first'})"
   ]
  },
  {
   "cell_type": "markdown",
   "id": "aa244c18",
   "metadata": {},
   "source": [
    "### Players with highest average minutes played and their positions"
   ]
  },
  {
   "cell_type": "code",
   "execution_count": null,
   "id": "43a407ea",
   "metadata": {},
   "outputs": [],
   "source": [
    "mins_df.sort_values(by = 'Min',ascending = False).head(50)"
   ]
  },
  {
   "cell_type": "markdown",
   "id": "1d2be252",
   "metadata": {},
   "source": [
    "Most of the players with highes average minutes played are goalkeepers which makes sense because goalkeepers rarely get benched, \n",
    "we can inspect this more by looking at the average minutes played for each positions"
   ]
  },
  {
   "cell_type": "code",
   "execution_count": null,
   "id": "cd65f917",
   "metadata": {},
   "outputs": [],
   "source": [
    "mins_per_pos = player_df.groupby('Pos')['Min'].mean().reset_index()\n",
    "mins_per_pos"
   ]
  },
  {
   "cell_type": "markdown",
   "id": "0dccec80",
   "metadata": {},
   "source": [
    "Visualizing the result"
   ]
  },
  {
   "cell_type": "code",
   "execution_count": null,
   "id": "4bdf9fcf",
   "metadata": {},
   "outputs": [],
   "source": [
    "plt.figure(figsize = (8,6))\n",
    "sns.barplot(mins_per_pos.sort_values(by = 'Min' , ascending = False) , x = 'Pos' , y = 'Min')\n",
    "plt.title('Average minutes played for each position')\n",
    "plt.xlabel('Position')\n",
    "plt.ylabel('Average minutes Played')\n",
    "plt.show()"
   ]
  },
  {
   "cell_type": "markdown",
   "id": "fcac7eee",
   "metadata": {},
   "source": [
    "### Average minutes played vs age "
   ]
  },
  {
   "cell_type": "code",
   "execution_count": null,
   "id": "e192ace2",
   "metadata": {},
   "outputs": [],
   "source": [
    "mins_age_df = player_df.groupby('Player').agg({'Min': 'mean' , 'Age': 'first'})"
   ]
  },
  {
   "cell_type": "code",
   "execution_count": null,
   "id": "c4a2ed7c",
   "metadata": {},
   "outputs": [],
   "source": [
    "plt.figure(figsize = (8 , 6))\n",
    "sns.scatterplot(mins_age_df , x = 'Age' , y = 'Min')\n",
    "plt.title(\"Age vs Average minutes played\")\n",
    "plt.xlabel(\"Age\")\n",
    "plt.ylabel(\"Average minutes\")\n",
    "plt.show()"
   ]
  },
  {
   "cell_type": "markdown",
   "id": "33e7add4",
   "metadata": {},
   "source": [
    "The graph doesn't show a specific pattern about the relation between player's age and average playing minutes, we can verify this by calculating the correlation"
   ]
  },
  {
   "cell_type": "code",
   "execution_count": null,
   "id": "93eb372b",
   "metadata": {},
   "outputs": [],
   "source": [
    "player_df['Age'].corr(player_df['Min'])"
   ]
  },
  {
   "cell_type": "markdown",
   "id": "bb9de5de",
   "metadata": {},
   "source": [
    "## Goals and Assists"
   ]
  },
  {
   "cell_type": "markdown",
   "id": "d525b22b",
   "metadata": {},
   "source": [
    "Frequency of goals scored by a given player every match"
   ]
  },
  {
   "cell_type": "code",
   "execution_count": null,
   "id": "b8b45124",
   "metadata": {
    "scrolled": false
   },
   "outputs": [],
   "source": [
    "plt.figure(figsize = (8,6))\n",
    "sns.countplot(data = player_df , x = 'Gls')\n",
    "plt.title(\"Frequency of goals scored\")\n",
    "plt.xlabel(\"Number of goals\")\n",
    "plt.ylabel(\"count\")\n",
    "plt.show()"
   ]
  },
  {
   "cell_type": "markdown",
   "id": "8f094730",
   "metadata": {},
   "source": [
    "### Top scorers "
   ]
  },
  {
   "cell_type": "markdown",
   "id": "b20d24f6",
   "metadata": {},
   "source": [
    "#### Top scorers for 2021-2022 season"
   ]
  },
  {
   "cell_type": "code",
   "execution_count": null,
   "id": "35f4b59a",
   "metadata": {},
   "outputs": [],
   "source": [
    "player_df[player_df['season'] == '2021-2022'].groupby('Player').agg({'Pos': 'first','Team': 'first','Age':'first','Gls': 'sum' \n",
    "                                                                     , 'xG': 'sum' , 'npxG': 'sum'}).reset_index().sort_values(by = 'Gls' , \n",
    "                                                                    ascending = False).head(10)"
   ]
  },
  {
   "cell_type": "markdown",
   "id": "dc72feac",
   "metadata": {},
   "source": [
    "#### Top scorers for 2022-2023 season"
   ]
  },
  {
   "cell_type": "code",
   "execution_count": null,
   "id": "a08aaaa9",
   "metadata": {},
   "outputs": [],
   "source": [
    "player_df[player_df['season'] == '2022-2023'].groupby('Player').agg({'Pos': 'first','Team': 'first','Age':'first','Gls': 'sum' , 'xG': 'sum' \n",
    "    , 'npxG': 'sum' , }).reset_index().sort_values(by = 'Gls' , ascending = False).head(10)"
   ]
  },
  {
   "cell_type": "markdown",
   "id": "5ed98b38",
   "metadata": {},
   "source": [
    "The number of goals for the top scorers decreased a lot in 2022-2023, for example Christopher Nkunku scored 20 goals in 2021-2022 season and came 4th but he needed only 16 to become the top scorer of 2022-2023 season "
   ]
  },
  {
   "cell_type": "markdown",
   "id": "176feb08",
   "metadata": {},
   "source": [
    "#### Top scorers for 2023-2024 season so far"
   ]
  },
  {
   "cell_type": "code",
   "execution_count": null,
   "id": "a0e5f8e1",
   "metadata": {},
   "outputs": [],
   "source": [
    "player_df[player_df['season'] == '2023-2024'].groupby('Player').agg({'Pos': 'first','Team': 'first','Age':'first','Gls': 'sum' , 'xG': 'sum' \n",
    "    , 'npxG': 'sum' , 'Team': 'first'}).reset_index().sort_values(\n",
    "    by = 'Gls' , ascending = False).head(10)"
   ]
  },
  {
   "cell_type": "markdown",
   "id": "09cf0f1c",
   "metadata": {},
   "source": [
    "After few rounds of 2023-2024 season, Serhou Guirassy is already 3 goals away from the previous season's top scorer and he scored 13 goals from 7.3 expected goals which is really impressive. "
   ]
  },
  {
   "cell_type": "markdown",
   "id": "e58b55ed",
   "metadata": {},
   "source": [
    "#### shot success rate"
   ]
  },
  {
   "cell_type": "markdown",
   "id": "e3d35ee9",
   "metadata": {},
   "source": [
    "Measuring the ratio between goals scored and shots attempted"
   ]
  },
  {
   "cell_type": "code",
   "execution_count": null,
   "id": "57433195",
   "metadata": {},
   "outputs": [],
   "source": [
    "sh_df = player_df.groupby('Player').agg({'Pos':'first','Team': 'first','Age':'first','Gls': 'sum' , 'Sh': 'sum'}).reset_index()\n",
    "sh_df['success rate'] = np.where(sh_df['Sh'] > 0, sh_df['Gls'] / sh_df['Sh'], np.nan)\n",
    "sh_df.sort_values(by = ['Gls','success rate'] , ascending = False).head(10)"
   ]
  },
  {
   "cell_type": "markdown",
   "id": "5ae94836",
   "metadata": {},
   "source": [
    "### Top Assisters"
   ]
  },
  {
   "cell_type": "markdown",
   "id": "b9a07897",
   "metadata": {},
   "source": [
    "#### Top assisters 2021-2022 season"
   ]
  },
  {
   "cell_type": "code",
   "execution_count": null,
   "id": "c754f14d",
   "metadata": {},
   "outputs": [],
   "source": [
    "player_df[player_df['season'] == '2021-2022'].groupby('Player').agg({'Pos':'first','Team': 'first','Age':'first','Ast': 'sum','xAG':'sum' , \n",
    "    'Team': 'first'}).reset_index().sort_values(by = 'Ast' , ascending = False).head(10)"
   ]
  },
  {
   "cell_type": "markdown",
   "id": "0189edd1",
   "metadata": {},
   "source": [
    "#### Top assisters 2022-2023 season"
   ]
  },
  {
   "cell_type": "code",
   "execution_count": null,
   "id": "c19b3f54",
   "metadata": {},
   "outputs": [],
   "source": [
    "player_df[player_df['season'] == '2022-2023'].groupby('Player').agg({'Pos':'first','Team': 'first','Age':'first','Ast': 'sum','xAG':'sum' , \n",
    "    'Team': 'first'}).reset_index().sort_values(\n",
    "    by = 'Ast' , ascending = False).head(10)"
   ]
  },
  {
   "cell_type": "markdown",
   "id": "33dbe990",
   "metadata": {},
   "source": [
    "#### Top assisters 2023-2024 so far"
   ]
  },
  {
   "cell_type": "code",
   "execution_count": null,
   "id": "e1f6191e",
   "metadata": {},
   "outputs": [],
   "source": [
    "player_df[player_df['season'] == '2023-2024'].groupby('Player').agg({'Pos':'first','Team': 'first','Age':'first','Ast': 'sum','xAG':'sum' , \n",
    "    'Team': 'first'}).reset_index().sort_values(by = 'Ast' , ascending = False).head(10)"
   ]
  },
  {
   "cell_type": "markdown",
   "id": "6ae65642",
   "metadata": {},
   "source": [
    "## Shot-creating actions"
   ]
  },
  {
   "cell_type": "markdown",
   "id": "2c7d14dd",
   "metadata": {},
   "source": [
    "#### 2021-2022 season"
   ]
  },
  {
   "cell_type": "code",
   "execution_count": null,
   "id": "94d4acde",
   "metadata": {},
   "outputs": [],
   "source": [
    "player_df[player_df['season'] == '2021-2022'].groupby('Player').agg({'Pos':'first','Team': 'first','Age':'first','SCA': 'sum','Team': 'first'}).reset_index().sort_values(\n",
    "    by = 'SCA' , ascending = False).head(10)"
   ]
  },
  {
   "cell_type": "markdown",
   "id": "8b010ced",
   "metadata": {},
   "source": [
    "#### 2022-2023 season"
   ]
  },
  {
   "cell_type": "code",
   "execution_count": null,
   "id": "3ea4acea",
   "metadata": {},
   "outputs": [],
   "source": [
    "player_df[player_df['season'] == '2022-2023'].groupby('Player').agg({'Pos':'first','Team': 'first','Age':'first','SCA': 'sum','Team': 'first'}).reset_index().sort_values(\n",
    "    by = 'SCA' , ascending = False).head(10)"
   ]
  },
  {
   "cell_type": "markdown",
   "id": "61dc2967",
   "metadata": {},
   "source": [
    "#### 2023-2024 season so far"
   ]
  },
  {
   "cell_type": "code",
   "execution_count": null,
   "id": "4414dc62",
   "metadata": {},
   "outputs": [],
   "source": [
    "player_df[player_df['season'] == '2023-2024'].groupby('Player').agg({'Pos':'first','Team': 'first','Age':'first','SCA': 'sum','Team': 'first'}).reset_index().sort_values(\n",
    "    by = 'SCA' , ascending = False).head(10)"
   ]
  },
  {
   "cell_type": "markdown",
   "id": "469aafa2",
   "metadata": {},
   "source": [
    "## Goal-creating actions"
   ]
  },
  {
   "cell_type": "markdown",
   "id": "e4181448",
   "metadata": {},
   "source": [
    "#### 2021-2022 season"
   ]
  },
  {
   "cell_type": "code",
   "execution_count": null,
   "id": "a7f3a191",
   "metadata": {},
   "outputs": [],
   "source": [
    "player_df[player_df['season'] == '2021-2022'].groupby('Player').agg({'Pos':'first','Team': 'first','Age':'first','GCA': 'sum'}).reset_index().sort_values(\n",
    "    by = 'GCA' , ascending = False).head(10)"
   ]
  },
  {
   "cell_type": "markdown",
   "id": "f1eea468",
   "metadata": {},
   "source": [
    "#### 2022-2023 season"
   ]
  },
  {
   "cell_type": "code",
   "execution_count": null,
   "id": "80ad1416",
   "metadata": {},
   "outputs": [],
   "source": [
    "player_df[player_df['season'] == '2022-2023'].groupby('Player').agg({'Pos':'first','Team': 'first','Age':'first','GCA': 'sum'}).reset_index().sort_values(\n",
    "    by = 'GCA' , ascending = False).head(10)"
   ]
  },
  {
   "cell_type": "markdown",
   "id": "658c9e16",
   "metadata": {},
   "source": [
    "#### 2023-2024 season so far"
   ]
  },
  {
   "cell_type": "code",
   "execution_count": null,
   "id": "2abef1e2",
   "metadata": {},
   "outputs": [],
   "source": [
    "player_df[player_df['season'] == '2023-2024'].groupby('Player').agg({'Pos':'first','Team': 'first','Age':'first','GCA': 'sum'}).reset_index().sort_values(\n",
    "    by = 'GCA' , ascending = False).head(10)"
   ]
  },
  {
   "cell_type": "markdown",
   "id": "cb02c7cd",
   "metadata": {},
   "source": [
    "## Penalties"
   ]
  },
  {
   "cell_type": "code",
   "execution_count": null,
   "id": "c4154f6f",
   "metadata": {},
   "outputs": [],
   "source": [
    "pen_df = player_df.groupby('Player').agg({'PK': 'sum','Team': 'first','Age':'first' , 'PKatt': 'sum'}).reset_index()\n",
    "pen_df['success rate'] = np.where(pen_df['PKatt'] > 0, pen_df['PK'] / pen_df['PKatt'], np.nan)\n",
    "pen_df.sort_values(by = ['PK','success rate'] , ascending = False).head(10)"
   ]
  },
  {
   "cell_type": "markdown",
   "id": "4c4d3890",
   "metadata": {},
   "source": [
    "## Defensive stats"
   ]
  },
  {
   "cell_type": "markdown",
   "id": "2fce4552",
   "metadata": {},
   "source": [
    "### Tackles"
   ]
  },
  {
   "cell_type": "markdown",
   "id": "9bad8e80",
   "metadata": {},
   "source": [
    "#### 2021-2022 season"
   ]
  },
  {
   "cell_type": "code",
   "execution_count": null,
   "id": "f890cd2c",
   "metadata": {},
   "outputs": [],
   "source": [
    "player_df[player_df['season'] == '2021-2022'].groupby('Player').agg({'Pos':'first','Team': 'first','Age':'first','Tkl': 'sum'}).reset_index().sort_values(\n",
    "    by = 'Tkl' , ascending = False).head(10)"
   ]
  },
  {
   "cell_type": "markdown",
   "id": "5a380264",
   "metadata": {},
   "source": [
    "#### 2022-2023 season"
   ]
  },
  {
   "cell_type": "code",
   "execution_count": null,
   "id": "3e1d4fdb",
   "metadata": {},
   "outputs": [],
   "source": [
    "player_df[player_df['season'] == '2022-2023'].groupby('Player').agg({'Pos':'first','Team': 'first','Age':'first','Tkl': 'sum'}).reset_index().sort_values(\n",
    "    by = 'Tkl' , ascending = False).head(10)\n"
   ]
  },
  {
   "cell_type": "markdown",
   "id": "7c14d04e",
   "metadata": {},
   "source": [
    "#### 2023-2024 season so far"
   ]
  },
  {
   "cell_type": "code",
   "execution_count": null,
   "id": "a9f112b6",
   "metadata": {},
   "outputs": [],
   "source": [
    "player_df[player_df['season'] == '2023-2024'].groupby('Player').agg({'Pos':'first','Team': 'first','Age':'first','Tkl': 'sum'}).reset_index().sort_values(\n",
    "    by = 'Tkl' , ascending = False).head(10)"
   ]
  },
  {
   "cell_type": "markdown",
   "id": "e3daeb65",
   "metadata": {},
   "source": [
    "### Interceptions"
   ]
  },
  {
   "cell_type": "markdown",
   "id": "7dd89b2b",
   "metadata": {},
   "source": [
    "#### 2021-2022 season"
   ]
  },
  {
   "cell_type": "code",
   "execution_count": null,
   "id": "fa832fff",
   "metadata": {},
   "outputs": [],
   "source": [
    "player_df[player_df['season'] == '2021-2022'].groupby('Player').agg({'Pos':'first','Team': 'first','Age':'first','Int': 'sum'}).reset_index().sort_values(\n",
    "    by = 'Int' , ascending = False).head(10)"
   ]
  },
  {
   "cell_type": "markdown",
   "id": "43ff8df8",
   "metadata": {},
   "source": [
    "#### 2022-2023 season"
   ]
  },
  {
   "cell_type": "code",
   "execution_count": null,
   "id": "4a8cbf78",
   "metadata": {},
   "outputs": [],
   "source": [
    "player_df[player_df['season'] == '2022-2023'].groupby('Player').agg({'Pos':'first','Team': 'first','Age':'first','Int': 'sum'}).reset_index().sort_values(\n",
    "    by = 'Int' , ascending = False).head(10)"
   ]
  },
  {
   "cell_type": "markdown",
   "id": "ba2fceb3",
   "metadata": {},
   "source": [
    "#### 2023-2024 season so far"
   ]
  },
  {
   "cell_type": "code",
   "execution_count": null,
   "id": "c408b3b9",
   "metadata": {},
   "outputs": [],
   "source": [
    "player_df[player_df['season'] == '2023-2024'].groupby('Player').agg({'Pos':'first','Team': 'first','Age':'first','Int': 'sum'}).reset_index().sort_values(\n",
    "    by = 'Int' , ascending = False).head(10)"
   ]
  },
  {
   "cell_type": "markdown",
   "id": "f0a21555",
   "metadata": {},
   "source": [
    "### Blocks"
   ]
  },
  {
   "cell_type": "markdown",
   "id": "a9eb7f89",
   "metadata": {},
   "source": [
    "#### 2021-2022 season"
   ]
  },
  {
   "cell_type": "code",
   "execution_count": null,
   "id": "90453ea7",
   "metadata": {},
   "outputs": [],
   "source": [
    "player_df[player_df['season'] == '2021-2022'].groupby('Player').agg({'Pos':'first','Team': 'first','Age':'first','Blocks': 'sum'}).reset_index().sort_values(\n",
    "    by = 'Blocks' , ascending = False).head(10)"
   ]
  },
  {
   "cell_type": "markdown",
   "id": "35e6cf58",
   "metadata": {},
   "source": [
    "#### 2022-2023 season"
   ]
  },
  {
   "cell_type": "code",
   "execution_count": null,
   "id": "89df42cf",
   "metadata": {},
   "outputs": [],
   "source": [
    "player_df[player_df['season'] == '2022-2023'].groupby('Player').agg({'Pos':'first','Team': 'first','Age':'first','Blocks': 'sum'}).reset_index().sort_values(\n",
    "    by = 'Blocks' , ascending = False).head(10)"
   ]
  },
  {
   "cell_type": "markdown",
   "id": "bcff6127",
   "metadata": {},
   "source": [
    "#### 2023-2024 season"
   ]
  },
  {
   "cell_type": "code",
   "execution_count": null,
   "id": "35e57ac3",
   "metadata": {},
   "outputs": [],
   "source": [
    "player_df[player_df['season'] == '2023-2024'].groupby('Player').agg({'Pos':'first','Team': 'first','Age':'first','Blocks': 'sum'}).reset_index().sort_values(\n",
    "    by = 'Blocks' , ascending = False).head(10)"
   ]
  },
  {
   "cell_type": "markdown",
   "id": "38287710",
   "metadata": {},
   "source": [
    "## Cards"
   ]
  },
  {
   "cell_type": "markdown",
   "id": "87e9dae1",
   "metadata": {},
   "source": [
    "Players with most yellow cards"
   ]
  },
  {
   "cell_type": "code",
   "execution_count": null,
   "id": "3f5a3735",
   "metadata": {},
   "outputs": [],
   "source": [
    "yellow_cards = player_df.groupby('Player').agg({'Pos': 'first' ,'Team': 'first','Age':'first' , 'CrdY': 'sum' , 'Min': 'mean'}).reset_index()\n",
    "yellow_cards.sort_values(by = ['CrdY' , 'Min'], ascending = [False , True]).head(10)"
   ]
  },
  {
   "cell_type": "markdown",
   "id": "35d3e6e1",
   "metadata": {},
   "source": [
    "Players with most red cards"
   ]
  },
  {
   "cell_type": "code",
   "execution_count": null,
   "id": "298b640c",
   "metadata": {},
   "outputs": [],
   "source": [
    "red_cards = player_df.groupby('Player').agg({'Pos': 'first' , 'Team': 'first','Age':'first' , 'CrdR': 'sum' , 'Min': 'mean'}).reset_index()\n",
    "red_cards.sort_values(by = ['CrdR' , 'Min'], ascending = [False , True]).head(10)"
   ]
  },
  {
   "cell_type": "markdown",
   "id": "4d67fd44",
   "metadata": {},
   "source": [
    "## Carries"
   ]
  },
  {
   "cell_type": "markdown",
   "id": "9484db59",
   "metadata": {},
   "source": [
    "Players with most carries and their progressive carry rate"
   ]
  },
  {
   "cell_type": "code",
   "execution_count": null,
   "id": "cc3077e5",
   "metadata": {},
   "outputs": [],
   "source": [
    "carries_df = player_df.groupby('Player').agg({'Pos': 'first' , 'Team': 'first','Age':'first' , 'Carries': 'sum' , 'PrgC': 'sum'}).reset_index()\n",
    "carries_df['Progressive carry rate'] = carries_df['PrgC'] / carries_df['Carries']\n",
    "carries_df.sort_values(by =['PrgC' ,'Progressive carry rate'] , ascending = False).head(10)"
   ]
  },
  {
   "cell_type": "markdown",
   "id": "933f9388",
   "metadata": {},
   "source": [
    "## Passes"
   ]
  },
  {
   "cell_type": "markdown",
   "id": "298eed43",
   "metadata": {},
   "source": [
    "The data available for passes completed and passes attempted is available for home matches only since we dropped the data for away matches because it had very high null count"
   ]
  },
  {
   "cell_type": "code",
   "execution_count": null,
   "id": "1a50204b",
   "metadata": {},
   "outputs": [],
   "source": [
    "pass_df = player_df.groupby('Player').agg({'Pos': 'first' , 'Team': 'first','Age':'first' , 'Min': 'sum' , 'Cmp_x': 'sum' , 'Att_x': 'sum'}).reset_index()\n",
    "pass_df['successful passes rate'] = pass_df['Cmp_x'] / pass_df['Att_x']\n",
    "pass_df.sort_values(by =['Cmp_x' ,'successful passes rate'] , ascending = False).head(10)"
   ]
  },
  {
   "cell_type": "markdown",
   "id": "2b0d5a18",
   "metadata": {},
   "source": [
    "### Progressive Passes"
   ]
  },
  {
   "cell_type": "code",
   "execution_count": null,
   "id": "bea67845",
   "metadata": {},
   "outputs": [],
   "source": [
    "progressive_passes_df = player_df.groupby('Player').agg({'Pos': 'first' , 'Team': 'first','Age':'first' , 'PrgP': 'sum' , 'Min': 'sum'}).reset_index()\n",
    "progressive_passes_df.sort_values(by = 'PrgP' , ascending = False).head(10)"
   ]
  },
  {
   "cell_type": "markdown",
   "id": "4fb8a4c2",
   "metadata": {},
   "source": [
    "Joshua Kimmich dominates the passing stats, he is the one with the most completed passes and the most progressive passes"
   ]
  },
  {
   "cell_type": "markdown",
   "id": "7f762e32",
   "metadata": {},
   "source": [
    "## Sucessful actions"
   ]
  },
  {
   "cell_type": "markdown",
   "id": "1682d939",
   "metadata": {},
   "source": [
    "Players with the most successful actions"
   ]
  },
  {
   "cell_type": "code",
   "execution_count": null,
   "id": "5bba6771",
   "metadata": {},
   "outputs": [],
   "source": [
    "succ_df = player_df.groupby('Player').agg({'Pos': 'first' , 'Team': 'first','Age':'first' , 'Succ': 'sum' , 'Min': 'sum'}).reset_index()\n",
    "succ_df.sort_values(by = 'Succ' , ascending = False).head(10)"
   ]
  },
  {
   "cell_type": "markdown",
   "id": "40f1acaa",
   "metadata": {},
   "source": [
    "## Predicting players performance\n",
    "We will develop a machine learning model to predict the number of goals a player will score in a given match."
   ]
  },
  {
   "cell_type": "markdown",
   "id": "b1eef0bf",
   "metadata": {},
   "source": [
    "### Dropping irrelevant columns\n",
    "\n",
    "game_id, player's name, nationality, and shirt number are irrelevnat for the goals he scores. We will also drop the completed pass percentage since it has null values \n"
   ]
  },
  {
   "cell_type": "code",
   "execution_count": null,
   "id": "7b3407b1",
   "metadata": {},
   "outputs": [],
   "source": [
    "player_df_pred = player_df.drop(columns = ['#' , 'game_id' , 'Player' , 'Nation' , \"Cmp%_x\"] , axis = 1)\n",
    "player_df_pred.head()"
   ]
  },
  {
   "cell_type": "markdown",
   "id": "ab655c78",
   "metadata": {},
   "source": [
    "### Correlation"
   ]
  },
  {
   "cell_type": "markdown",
   "id": "1b58e684",
   "metadata": {},
   "source": [
    "Which values are highly correlated with the target?"
   ]
  },
  {
   "cell_type": "code",
   "execution_count": null,
   "id": "e4989ef1",
   "metadata": {},
   "outputs": [],
   "source": [
    "plt.figure(figsize = (8 , 6))\n",
    "sns.heatmap(player_df_pred.corr(numeric_only = True))\n",
    "plt.title(\"Pairwise Correlations\")\n",
    "plt.show()"
   ]
  },
  {
   "cell_type": "markdown",
   "id": "d7f0e960",
   "metadata": {},
   "source": [
    "`xG`, `npxG`, and `SOT` are the features with the highest correlation with the target `Gls` "
   ]
  },
  {
   "cell_type": "markdown",
   "id": "f6b08e1f",
   "metadata": {},
   "source": [
    "### Mutual Information\n",
    "\n",
    "Mutual information measures the degree of dependency between two random variables, quantifying the amount of information gained about one variable by observing the other"
   ]
  },
  {
   "cell_type": "code",
   "execution_count": null,
   "id": "c8665176",
   "metadata": {},
   "outputs": [],
   "source": [
    "from sklearn.feature_selection import mutual_info_regression\n",
    "features = player_df_pred.drop(['Gls'], axis=1).select_dtypes(['int' , 'float']) \n",
    "target = player_df_pred['Gls']\n",
    "mi_scores = mutual_info_regression(features, target, random_state=42)\n",
    "mi_df = pd.DataFrame({'Feature': features.columns, 'MI_Score': mi_scores})\n",
    "mi_df = mi_df.sort_values(by='MI_Score', ascending=False)\n",
    "mi_df"
   ]
  },
  {
   "cell_type": "code",
   "execution_count": null,
   "id": "b94e39f0",
   "metadata": {},
   "outputs": [],
   "source": [
    "plt.figure(figsize=(10, 6))\n",
    "plt.barh(mi_df['Feature'], mi_df['MI_Score'])\n",
    "plt.xlabel('Mutual Information Score')\n",
    "plt.title('Mutual Information Scores for Features')\n",
    "plt.show()"
   ]
  },
  {
   "cell_type": "markdown",
   "id": "e23ced86",
   "metadata": {},
   "source": [
    "We will drop features with zero mutual information because they're uninformative "
   ]
  },
  {
   "cell_type": "code",
   "execution_count": null,
   "id": "bfe7c586",
   "metadata": {},
   "outputs": [],
   "source": [
    "player_df_pred = player_df_pred.drop(features.loc[: , mi_scores == 0].columns , axis = 1)\n",
    "player_df_pred.head()"
   ]
  },
  {
   "cell_type": "markdown",
   "id": "91310339",
   "metadata": {},
   "source": [
    "### Encoding Categorical Features"
   ]
  },
  {
   "cell_type": "code",
   "execution_count": null,
   "id": "44ee6ca2",
   "metadata": {},
   "outputs": [],
   "source": [
    "player_df_pred = pd.get_dummies(player_df_pred, columns=player_df_pred.select_dtypes('object').columns).astype(float)\n",
    "player_df_pred.head()"
   ]
  },
  {
   "cell_type": "markdown",
   "id": "940e3c9f",
   "metadata": {},
   "source": [
    "### Train Test Split\n",
    "\n",
    "We will split the data into train, validation, and test sets based on dates in order to simulate real-world scenarios, as it helps assess a model's performance on unseen future data, preventing potential information leakage and providing a more reliable evaluation of its generalization ability over time.\n",
    "\n",
    "training data will be 2021-2022 season data along with the first quarter of 2022-2023 season, validation data will be from second quartar to third quarter of 2022-2023 season, test data will be last quarter of 2022-2023 season along with data available for 2023-2024 season"
   ]
  },
  {
   "cell_type": "code",
   "execution_count": null,
   "id": "f8fa3657",
   "metadata": {},
   "outputs": [],
   "source": [
    "train_len = len(player_df_pred[player_df_pred['season_2022-2023'] == 1]) // 4\n",
    "\n",
    "train = pd.concat([player_df_pred[player_df_pred['season_2021-2022'] == 1],\n",
    "                   player_df_pred[player_df_pred['season_2022-2023'] == 1][:train_len]])\n",
    "\n",
    "validation = player_df_pred[player_df_pred['season_2022-2023'] == 1][train_len: 3 * train_len]\n",
    "\n",
    "test = pd.concat([player_df_pred[player_df_pred['season_2022-2023'] == 1][3 * train_len:]\n",
    "                  , player_df_pred[player_df_pred['season_2023-2024'] == 1]])"
   ]
  },
  {
   "cell_type": "code",
   "execution_count": null,
   "id": "d655c809",
   "metadata": {},
   "outputs": [],
   "source": [
    "train.shape , validation.shape , test.shape"
   ]
  },
  {
   "cell_type": "code",
   "execution_count": null,
   "id": "43b1b58d",
   "metadata": {},
   "outputs": [],
   "source": [
    "X_train , y_train = train.drop('Gls' , axis = 1) , train['Gls']\n",
    "X_val , y_val = validation.drop('Gls' , axis = 1) , validation['Gls']\n",
    "X_test , y_test = test.drop('Gls' , axis = 1) , test['Gls']"
   ]
  },
  {
   "cell_type": "code",
   "execution_count": null,
   "id": "92bef6f5",
   "metadata": {},
   "outputs": [],
   "source": [
    "print(\"Size of the training data\" , X_train.shape[0] , \" rows\")\n",
    "print(\"Size of the validation data\" , X_val.shape[0] , \" rows\")\n",
    "print(\"Size of the test data\" , X_test.shape[0] , \" rows\")"
   ]
  },
  {
   "cell_type": "markdown",
   "id": "92b57609",
   "metadata": {},
   "source": [
    "### Feature Scaling"
   ]
  },
  {
   "cell_type": "markdown",
   "id": "735c8d80",
   "metadata": {},
   "source": [
    "Using `RobustScaler` to scale the data because it scales features using robust statistical measures (median and interquartile range) to reduce the impact of extreme values and improve the robustness of machine learning models."
   ]
  },
  {
   "cell_type": "code",
   "execution_count": null,
   "id": "64296f9f",
   "metadata": {},
   "outputs": [],
   "source": [
    "from sklearn.preprocessing import RobustScaler\n",
    "scaler = RobustScaler()\n",
    "scaler.fit(X_train)\n",
    "X_train_scaled = scaler.transform(X_train)\n",
    "X_val_scaled = scaler.transform(X_val)\n",
    "X_test_scaled = scaler.transform(X_test)"
   ]
  },
  {
   "cell_type": "markdown",
   "id": "c9257b0e",
   "metadata": {},
   "source": [
    "## Training a linear regression model"
   ]
  },
  {
   "cell_type": "code",
   "execution_count": null,
   "id": "9f31f6c4",
   "metadata": {},
   "outputs": [],
   "source": [
    "from sklearn.linear_model import LinearRegression\n",
    "from sklearn.metrics import mean_squared_error "
   ]
  },
  {
   "cell_type": "code",
   "execution_count": null,
   "id": "3ee0a3a9",
   "metadata": {},
   "outputs": [],
   "source": [
    "linear_regression_model = LinearRegression()\n",
    "linear_regression_model.fit(X_train_scaled , y_train)"
   ]
  },
  {
   "cell_type": "code",
   "execution_count": null,
   "id": "60cc1df9",
   "metadata": {},
   "outputs": [],
   "source": [
    "y_train_pred = linear_regression_model.predict(X_train_scaled)\n",
    "print(\"Training root mean squared error\" , np.sqrt(mean_squared_error(y_train , y_train_pred)))"
   ]
  },
  {
   "cell_type": "markdown",
   "id": "2b2c0ab6",
   "metadata": {},
   "source": [
    "### Evaluation on the validation set"
   ]
  },
  {
   "cell_type": "code",
   "execution_count": null,
   "id": "9978f68b",
   "metadata": {},
   "outputs": [],
   "source": [
    "y_val_pred = linear_regression_model.predict(X_val_scaled)\n",
    "print(\"Validation root mean squared error\" , np.sqrt(mean_squared_error(y_val , y_val_pred)))"
   ]
  },
  {
   "cell_type": "markdown",
   "id": "046bd314",
   "metadata": {},
   "source": [
    "The `RMSE` is quite reasonable and close to the training `RMSE`"
   ]
  },
  {
   "cell_type": "markdown",
   "id": "cc071fe8",
   "metadata": {},
   "source": [
    "### Evaluation on the test set"
   ]
  },
  {
   "cell_type": "code",
   "execution_count": null,
   "id": "507b9a32",
   "metadata": {},
   "outputs": [],
   "source": [
    "y_test_pred = linear_regression_model.predict(X_test_scaled)\n",
    "print(\"test root mean squared error\" , np.sqrt(mean_squared_error(y_test , y_test_pred)))"
   ]
  },
  {
   "cell_type": "markdown",
   "id": "f81a6fa8",
   "metadata": {},
   "source": [
    "The model performs so poorly on the test set, maybe it's too simple to learn the patterns in the data. Let's another model"
   ]
  },
  {
   "cell_type": "markdown",
   "id": "523a3ac2",
   "metadata": {},
   "source": [
    "## Training a K-nearest neighbors model"
   ]
  },
  {
   "cell_type": "code",
   "execution_count": null,
   "id": "ae07eb48",
   "metadata": {},
   "outputs": [],
   "source": [
    "from sklearn.neighbors import KNeighborsRegressor"
   ]
  },
  {
   "cell_type": "code",
   "execution_count": null,
   "id": "15ea14d0",
   "metadata": {},
   "outputs": [],
   "source": [
    "k_scores = []\n",
    "for k in range(1 , 15):\n",
    "    knn_model = KNeighborsRegressor(n_neighbors = k)\n",
    "    knn_model.fit(X_train_scaled , y_train)\n",
    "    y_train_pred = knn_model.predict(X_train_scaled)\n",
    "    y_val_pred = knn_model.predict(X_val_scaled)\n",
    "    k_scores.append((knn_model , np.sqrt(mean_squared_error(y_val , y_val_pred))))\n",
    "    print(\"K = \" , k, \" Training root mean squared error\" , np.sqrt(mean_squared_error(y_train , y_train_pred)) , \n",
    "          \"Validation root mean squared error\" , np.sqrt(mean_squared_error(y_val , y_val_pred)))"
   ]
  },
  {
   "cell_type": "code",
   "execution_count": null,
   "id": "cbc92288",
   "metadata": {},
   "outputs": [],
   "source": [
    "plt.plot(range(1 , 15) , [tup[1] for tup in k_scores])\n",
    "plt.xlabel(\"number of neighbors\")\n",
    "plt.ylabel(\"RMSE\")\n",
    "plt.title(\"Number of neighbors vs RMSE\")\n",
    "plt.show()"
   ]
  },
  {
   "cell_type": "markdown",
   "id": "71bf77e5",
   "metadata": {},
   "source": [
    "the validation `RMSE` doesn't decrease much starting from k = 6 and it starts to be more stable as k increases. the lowest validation `RMSE` is at k = 11. We will choose this a the k value"
   ]
  },
  {
   "cell_type": "code",
   "execution_count": null,
   "id": "8b4df250",
   "metadata": {},
   "outputs": [],
   "source": [
    "knn_model = k_scores[10][0]\n",
    "knn_model"
   ]
  },
  {
   "cell_type": "markdown",
   "id": "3667d44c",
   "metadata": {},
   "source": [
    "### Evaluating on test set"
   ]
  },
  {
   "cell_type": "code",
   "execution_count": null,
   "id": "b707d85e",
   "metadata": {},
   "outputs": [],
   "source": [
    "y_test_pred = knn_model.predict(X_test_scaled)\n",
    "print(\"Test root mean squared error\" , np.sqrt(mean_squared_error(y_test , y_test_pred)))"
   ]
  },
  {
   "cell_type": "markdown",
   "id": "dbbcd4b0",
   "metadata": {},
   "source": [
    "The `RMSE` is close to the train and validation set and it's much better than the linear regression model. This is our best model so far but let's try more models to see if we can do better"
   ]
  },
  {
   "cell_type": "markdown",
   "id": "fcb43c0c",
   "metadata": {},
   "source": [
    "## Training a Random Forest model"
   ]
  },
  {
   "cell_type": "code",
   "execution_count": null,
   "id": "21a9ced5",
   "metadata": {},
   "outputs": [],
   "source": [
    "rf_model = RandomForestRegressor(n_estimators=100, random_state=42)\n",
    "\n",
    "# Train the model on the training data\n",
    "rf_model.fit(X_train_scaled, y_train)"
   ]
  },
  {
   "cell_type": "code",
   "execution_count": null,
   "id": "b830819c",
   "metadata": {},
   "outputs": [],
   "source": [
    "y_train_pred = rf_model.predict(X_train_scaled)\n",
    "print(\"Train root mean squared error\" , np.sqrt(mean_squared_error(y_train , y_train_pred)))"
   ]
  },
  {
   "cell_type": "markdown",
   "id": "bd8b50dd",
   "metadata": {},
   "source": [
    "### Evaluating on validation set"
   ]
  },
  {
   "cell_type": "code",
   "execution_count": null,
   "id": "0c26c5d0",
   "metadata": {},
   "outputs": [],
   "source": [
    "y_val_pred = rf_model.predict(X_val_scaled)\n",
    "print(\"Validation root mean squared error\" , np.sqrt(mean_squared_error(y_val , y_val_pred)))"
   ]
  },
  {
   "cell_type": "markdown",
   "id": "237fa902",
   "metadata": {},
   "source": [
    "The  validation `RMSE` is a bit lower than the KNN model, let's check the test `RMSE`"
   ]
  },
  {
   "cell_type": "markdown",
   "id": "2db1cb65",
   "metadata": {},
   "source": [
    "### Evaluating on test set"
   ]
  },
  {
   "cell_type": "code",
   "execution_count": null,
   "id": "2942c4ee",
   "metadata": {},
   "outputs": [],
   "source": [
    "y_test_pred = rf_model.predict(X_test_scaled)\n",
    "print(\"Test root mean squared error\" , np.sqrt(mean_squared_error(y_test , y_test_pred)))"
   ]
  },
  {
   "cell_type": "markdown",
   "id": "13903dc6",
   "metadata": {},
   "source": [
    "## Training xgboost model"
   ]
  },
  {
   "cell_type": "code",
   "execution_count": null,
   "id": "b790a4b6",
   "metadata": {},
   "outputs": [],
   "source": [
    "from xgboost import XGBRegressor\n",
    "xgb_model = XGBRegressor(n_estimators = 100 , learning_rate = 0.1 , random_state = 42)\n",
    "\n",
    "xgb_model.fit(X_train_scaled , y_train)"
   ]
  },
  {
   "cell_type": "code",
   "execution_count": null,
   "id": "2a1ba1b6",
   "metadata": {},
   "outputs": [],
   "source": [
    "y_train_pred = xgb_model.predict(X_train_scaled)\n",
    "print(\"Train root mean squared error\" , np.sqrt(mean_squared_error(y_train , y_train_pred)))"
   ]
  },
  {
   "cell_type": "markdown",
   "id": "aa7deecd",
   "metadata": {},
   "source": [
    "### Evaluation on the validation set"
   ]
  },
  {
   "cell_type": "code",
   "execution_count": null,
   "id": "5a3492e4",
   "metadata": {},
   "outputs": [],
   "source": [
    "y_val_pred = xgb_model.predict(X_val_scaled)\n",
    "print(\"Validation root mean squared error\" , np.sqrt(mean_squared_error(y_val , y_val_pred)))"
   ]
  },
  {
   "cell_type": "markdown",
   "id": "0ef1fdc8",
   "metadata": {},
   "source": [
    "### Evaluation on the test set"
   ]
  },
  {
   "cell_type": "code",
   "execution_count": null,
   "id": "06468b9a",
   "metadata": {},
   "outputs": [],
   "source": [
    "y_test_pred = xgb_model.predict(X_test_scaled)\n",
    "print(\"Test root mean squared error\" , np.sqrt(mean_squared_error(y_test , y_test_pred)))"
   ]
  },
  {
   "cell_type": "markdown",
   "id": "bb2e063c",
   "metadata": {},
   "source": [
    "The xgboost model is our best fitted model since it's the one with lowest test `RMSE`."
   ]
  }
 ],
 "metadata": {
  "kernelspec": {
   "display_name": "Python 3 (ipykernel)",
   "language": "python",
   "name": "python3"
  },
  "language_info": {
   "codemirror_mode": {
    "name": "ipython",
    "version": 3
   },
   "file_extension": ".py",
   "mimetype": "text/x-python",
   "name": "python",
   "nbconvert_exporter": "python",
   "pygments_lexer": "ipython3",
   "version": "3.9.5"
  }
 },
 "nbformat": 4,
 "nbformat_minor": 5
}
