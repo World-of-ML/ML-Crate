{
  "nbformat": 4,
  "nbformat_minor": 0,
  "metadata": {
    "colab": {
      "provenance": []
    },
    "kernelspec": {
      "name": "python3",
      "display_name": "Python 3"
    },
    "language_info": {
      "name": "python"
    }
  },
  "cells": [
    {
      "cell_type": "code",
      "execution_count": 1,
      "metadata": {
        "id": "aaRC8Fs12wHb"
      },
      "outputs": [],
      "source": [
        "import pandas as pd\n",
        "import os\n",
        "import numpy as np\n",
        "import matplotlib.pyplot as plt\n",
        "import pickle\n",
        "\n",
        "import tensorflow as tf\n",
        "from tensorflow.keras.preprocessing.sequence import pad_sequences\n",
        "from tensorflow.keras.layers import Embedding, LSTM, Dense, Bidirectional\n",
        "from tensorflow.keras.preprocessing.text import Tokenizer\n",
        "from tensorflow.keras.utils import to_categorical\n",
        "from tensorflow.keras.models import Sequential\n",
        "from tensorflow.keras.optimizers import Adam\n",
        "from tensorflow.keras.callbacks import ModelCheckpoint\n",
        "from keras.utils.vis_utils import plot_model"
      ]
    },
    {
      "cell_type": "code",
      "source": [
        "from google.colab import files\n",
        "uploaded = files.upload()"
      ],
      "metadata": {
        "colab": {
          "base_uri": "https://localhost:8080/",
          "height": 73
        },
        "id": "Dc8JRc3a3Jwa",
        "outputId": "44d16ffb-b048-490b-8a51-c01ae6a2cf7b"
      },
      "execution_count": 2,
      "outputs": [
        {
          "output_type": "display_data",
          "data": {
            "text/plain": [
              "<IPython.core.display.HTML object>"
            ],
            "text/html": [
              "\n",
              "     <input type=\"file\" id=\"files-13035736-ad21-498b-9eba-71fbdb475f67\" name=\"files[]\" multiple disabled\n",
              "        style=\"border:none\" />\n",
              "     <output id=\"result-13035736-ad21-498b-9eba-71fbdb475f67\">\n",
              "      Upload widget is only available when the cell has been executed in the\n",
              "      current browser session. Please rerun this cell to enable.\n",
              "      </output>\n",
              "      <script>// Copyright 2017 Google LLC\n",
              "//\n",
              "// Licensed under the Apache License, Version 2.0 (the \"License\");\n",
              "// you may not use this file except in compliance with the License.\n",
              "// You may obtain a copy of the License at\n",
              "//\n",
              "//      http://www.apache.org/licenses/LICENSE-2.0\n",
              "//\n",
              "// Unless required by applicable law or agreed to in writing, software\n",
              "// distributed under the License is distributed on an \"AS IS\" BASIS,\n",
              "// WITHOUT WARRANTIES OR CONDITIONS OF ANY KIND, either express or implied.\n",
              "// See the License for the specific language governing permissions and\n",
              "// limitations under the License.\n",
              "\n",
              "/**\n",
              " * @fileoverview Helpers for google.colab Python module.\n",
              " */\n",
              "(function(scope) {\n",
              "function span(text, styleAttributes = {}) {\n",
              "  const element = document.createElement('span');\n",
              "  element.textContent = text;\n",
              "  for (const key of Object.keys(styleAttributes)) {\n",
              "    element.style[key] = styleAttributes[key];\n",
              "  }\n",
              "  return element;\n",
              "}\n",
              "\n",
              "// Max number of bytes which will be uploaded at a time.\n",
              "const MAX_PAYLOAD_SIZE = 100 * 1024;\n",
              "\n",
              "function _uploadFiles(inputId, outputId) {\n",
              "  const steps = uploadFilesStep(inputId, outputId);\n",
              "  const outputElement = document.getElementById(outputId);\n",
              "  // Cache steps on the outputElement to make it available for the next call\n",
              "  // to uploadFilesContinue from Python.\n",
              "  outputElement.steps = steps;\n",
              "\n",
              "  return _uploadFilesContinue(outputId);\n",
              "}\n",
              "\n",
              "// This is roughly an async generator (not supported in the browser yet),\n",
              "// where there are multiple asynchronous steps and the Python side is going\n",
              "// to poll for completion of each step.\n",
              "// This uses a Promise to block the python side on completion of each step,\n",
              "// then passes the result of the previous step as the input to the next step.\n",
              "function _uploadFilesContinue(outputId) {\n",
              "  const outputElement = document.getElementById(outputId);\n",
              "  const steps = outputElement.steps;\n",
              "\n",
              "  const next = steps.next(outputElement.lastPromiseValue);\n",
              "  return Promise.resolve(next.value.promise).then((value) => {\n",
              "    // Cache the last promise value to make it available to the next\n",
              "    // step of the generator.\n",
              "    outputElement.lastPromiseValue = value;\n",
              "    return next.value.response;\n",
              "  });\n",
              "}\n",
              "\n",
              "/**\n",
              " * Generator function which is called between each async step of the upload\n",
              " * process.\n",
              " * @param {string} inputId Element ID of the input file picker element.\n",
              " * @param {string} outputId Element ID of the output display.\n",
              " * @return {!Iterable<!Object>} Iterable of next steps.\n",
              " */\n",
              "function* uploadFilesStep(inputId, outputId) {\n",
              "  const inputElement = document.getElementById(inputId);\n",
              "  inputElement.disabled = false;\n",
              "\n",
              "  const outputElement = document.getElementById(outputId);\n",
              "  outputElement.innerHTML = '';\n",
              "\n",
              "  const pickedPromise = new Promise((resolve) => {\n",
              "    inputElement.addEventListener('change', (e) => {\n",
              "      resolve(e.target.files);\n",
              "    });\n",
              "  });\n",
              "\n",
              "  const cancel = document.createElement('button');\n",
              "  inputElement.parentElement.appendChild(cancel);\n",
              "  cancel.textContent = 'Cancel upload';\n",
              "  const cancelPromise = new Promise((resolve) => {\n",
              "    cancel.onclick = () => {\n",
              "      resolve(null);\n",
              "    };\n",
              "  });\n",
              "\n",
              "  // Wait for the user to pick the files.\n",
              "  const files = yield {\n",
              "    promise: Promise.race([pickedPromise, cancelPromise]),\n",
              "    response: {\n",
              "      action: 'starting',\n",
              "    }\n",
              "  };\n",
              "\n",
              "  cancel.remove();\n",
              "\n",
              "  // Disable the input element since further picks are not allowed.\n",
              "  inputElement.disabled = true;\n",
              "\n",
              "  if (!files) {\n",
              "    return {\n",
              "      response: {\n",
              "        action: 'complete',\n",
              "      }\n",
              "    };\n",
              "  }\n",
              "\n",
              "  for (const file of files) {\n",
              "    const li = document.createElement('li');\n",
              "    li.append(span(file.name, {fontWeight: 'bold'}));\n",
              "    li.append(span(\n",
              "        `(${file.type || 'n/a'}) - ${file.size} bytes, ` +\n",
              "        `last modified: ${\n",
              "            file.lastModifiedDate ? file.lastModifiedDate.toLocaleDateString() :\n",
              "                                    'n/a'} - `));\n",
              "    const percent = span('0% done');\n",
              "    li.appendChild(percent);\n",
              "\n",
              "    outputElement.appendChild(li);\n",
              "\n",
              "    const fileDataPromise = new Promise((resolve) => {\n",
              "      const reader = new FileReader();\n",
              "      reader.onload = (e) => {\n",
              "        resolve(e.target.result);\n",
              "      };\n",
              "      reader.readAsArrayBuffer(file);\n",
              "    });\n",
              "    // Wait for the data to be ready.\n",
              "    let fileData = yield {\n",
              "      promise: fileDataPromise,\n",
              "      response: {\n",
              "        action: 'continue',\n",
              "      }\n",
              "    };\n",
              "\n",
              "    // Use a chunked sending to avoid message size limits. See b/62115660.\n",
              "    let position = 0;\n",
              "    do {\n",
              "      const length = Math.min(fileData.byteLength - position, MAX_PAYLOAD_SIZE);\n",
              "      const chunk = new Uint8Array(fileData, position, length);\n",
              "      position += length;\n",
              "\n",
              "      const base64 = btoa(String.fromCharCode.apply(null, chunk));\n",
              "      yield {\n",
              "        response: {\n",
              "          action: 'append',\n",
              "          file: file.name,\n",
              "          data: base64,\n",
              "        },\n",
              "      };\n",
              "\n",
              "      let percentDone = fileData.byteLength === 0 ?\n",
              "          100 :\n",
              "          Math.round((position / fileData.byteLength) * 100);\n",
              "      percent.textContent = `${percentDone}% done`;\n",
              "\n",
              "    } while (position < fileData.byteLength);\n",
              "  }\n",
              "\n",
              "  // All done.\n",
              "  yield {\n",
              "    response: {\n",
              "      action: 'complete',\n",
              "    }\n",
              "  };\n",
              "}\n",
              "\n",
              "scope.google = scope.google || {};\n",
              "scope.google.colab = scope.google.colab || {};\n",
              "scope.google.colab._files = {\n",
              "  _uploadFiles,\n",
              "  _uploadFilesContinue,\n",
              "};\n",
              "})(self);\n",
              "</script> "
            ]
          },
          "metadata": {}
        },
        {
          "output_type": "stream",
          "name": "stdout",
          "text": [
            "Saving sherlockholmes.txt to sherlockholmes.txt\n"
          ]
        }
      ]
    },
    {
      "cell_type": "markdown",
      "source": [
        "**1. Building the Dataset from .txt**"
      ],
      "metadata": {
        "id": "jjGy45HbCrV2"
      }
    },
    {
      "cell_type": "code",
      "source": [
        "file = open(\"sherlockholmes.txt\", \"r\", encoding = \"utf8\")\n",
        "old_lines = []\n",
        "for i in file:\n",
        "    old_lines.append(i)\n",
        "\n",
        "lines = []\n",
        "z = len(old_lines)\n",
        "for i in range(0,len(old_lines)):\n",
        "  if i>57 and i<z-373:\n",
        "    lines.append(old_lines[i])\n",
        "\n",
        "data = \"\"\n",
        "for i in lines:\n",
        "  data = ' '. join(lines) \n",
        "\n",
        "data = data.replace('\\n', '').replace('\\r', '').replace('\\ufeff', '').replace('“','').replace('”','').replace('I.','').replace('_','')\n",
        "\n",
        "data = data.split()\n",
        "data = ' '.join(data)\n",
        "print(\"Total Characters in Dataset = \" + str(len(data)))\n",
        "print(data[0:500])"
      ],
      "metadata": {
        "colab": {
          "base_uri": "https://localhost:8080/"
        },
        "id": "Sb1rC0ge3fUD",
        "outputId": "450c1944-6392-4710-dba4-9b04978457b6"
      },
      "execution_count": 3,
      "outputs": [
        {
          "output_type": "stream",
          "name": "stdout",
          "text": [
            "Total Characters in Dataset = 553406\n",
            "A SCANDAL IN BOHEMIA To Sherlock Holmes she is always the woman. I have seldom heard him mention her under any other name. In his eyes she eclipses and predominates the whole of her sex. It was not that he felt any emotion akin to love for Irene Adler. All emotions, and that one particularly, were abhorrent to his cold, precise but admirably balanced mind. He was, I take it, the most perfect reasoning and observing machine that the world has seen, but as a lover he would have placed himself in a\n"
          ]
        }
      ]
    },
    {
      "cell_type": "markdown",
      "source": [
        "**2. Vectorization Method - Bag of Words**"
      ],
      "metadata": {
        "id": "4H4C0xabCx_U"
      }
    },
    {
      "cell_type": "code",
      "source": [
        "tokenizer = Tokenizer()\n",
        "tokenizer.fit_on_texts([data])\n",
        "\n",
        "pickle.dump(tokenizer, open('token.pkl', 'wb'))\n",
        "\n",
        "sequence_data = tokenizer.texts_to_sequences([data])[0]\n",
        "\n",
        "vocab_size = len(tokenizer.word_index) + 1\n",
        "print(\"No. of Words in our Vocabulary = \" + str(vocab_size))\n",
        "\n",
        "sequences = []\n",
        "\n",
        "for i in range(3, len(sequence_data)):\n",
        "    words = sequence_data[i-3:i+1]\n",
        "    sequences.append(words)\n",
        "    \n",
        "print(\"No. of 3-word sequences are =\", len(sequences))\n",
        "sequences = np.array(sequences)"
      ],
      "metadata": {
        "colab": {
          "base_uri": "https://localhost:8080/"
        },
        "id": "SomF5F9f8ZYg",
        "outputId": "991c7bd8-3205-4eb2-9b1e-afa2bafc3ca6"
      },
      "execution_count": 4,
      "outputs": [
        {
          "output_type": "stream",
          "name": "stdout",
          "text": [
            "No. of Words in our Vocabulary = 8335\n",
            "No. of 3-word sequences are = 105559\n"
          ]
        }
      ]
    },
    {
      "cell_type": "code",
      "source": [
        "#building training sets\n",
        "X = []\n",
        "y = []\n",
        "\n",
        "for i in sequences:\n",
        "    X.append(i[0:3])\n",
        "    y.append(i[3])\n",
        "    \n",
        "X = np.array(X)\n",
        "y = np.array(y)\n",
        "\n",
        "y = to_categorical(y, num_classes=vocab_size)"
      ],
      "metadata": {
        "id": "pSVlsZtn8Zau"
      },
      "execution_count": 5,
      "outputs": []
    },
    {
      "cell_type": "markdown",
      "source": [
        "**3. Building and Training Model**"
      ],
      "metadata": {
        "id": "nRuGm_cAC_Y7"
      }
    },
    {
      "cell_type": "code",
      "source": [
        "model = Sequential()\n",
        "model.add(Embedding(vocab_size, 100, input_length=3))\n",
        "model.add(Bidirectional(LSTM(150)))\n",
        "model.add(Dense(vocab_size, activation='softmax'))\n",
        "adam = Adam(lr=0.001)\n",
        "model.summary()"
      ],
      "metadata": {
        "id": "dvWd8ZDt8Zcz",
        "colab": {
          "base_uri": "https://localhost:8080/"
        },
        "outputId": "a8b25d81-ded9-4416-ff7f-ac8c4396e9da"
      },
      "execution_count": 6,
      "outputs": [
        {
          "output_type": "stream",
          "name": "stdout",
          "text": [
            "Model: \"sequential\"\n",
            "_________________________________________________________________\n",
            " Layer (type)                Output Shape              Param #   \n",
            "=================================================================\n",
            " embedding (Embedding)       (None, 3, 100)            833500    \n",
            "                                                                 \n",
            " bidirectional (Bidirectiona  (None, 300)              301200    \n",
            " l)                                                              \n",
            "                                                                 \n",
            " dense (Dense)               (None, 8335)              2508835   \n",
            "                                                                 \n",
            "=================================================================\n",
            "Total params: 3,643,535\n",
            "Trainable params: 3,643,535\n",
            "Non-trainable params: 0\n",
            "_________________________________________________________________\n"
          ]
        },
        {
          "output_type": "stream",
          "name": "stderr",
          "text": [
            "/usr/local/lib/python3.7/dist-packages/keras/optimizers/optimizer_v2/adam.py:110: UserWarning: The `lr` argument is deprecated, use `learning_rate` instead.\n",
            "  super(Adam, self).__init__(name, **kwargs)\n"
          ]
        }
      ]
    },
    {
      "cell_type": "code",
      "source": [
        "plot_model(model, to_file='plot.png', show_layer_names=True)"
      ],
      "metadata": {
        "colab": {
          "base_uri": "https://localhost:8080/",
          "height": 369
        },
        "id": "1uZfyBik_hNM",
        "outputId": "73fb7874-33ca-42ab-c666-01e772e44da9"
      },
      "execution_count": 7,
      "outputs": [
        {
          "output_type": "execute_result",
          "data": {
            "image/png": "[encoded data removed]",
            "text/plain": [
              "<IPython.core.display.Image object>"
            ]
          },
          "metadata": {},
          "execution_count": 7
        }
      ]
    },
    {
      "cell_type": "code",
      "source": [
        "checkpoint = ModelCheckpoint(\"final_model1.h5\", monitor='loss', verbose=1, save_best_only=True)\n",
        "model.compile(loss='categorical_crossentropy', optimizer=adam, metrics=['accuracy'])\n",
        "history = model.fit(X, y, epochs=50, verbose=1, callbacks=[checkpoint])\n",
        "\n",
        "plt.subplot(1, 2, 1)\n",
        "plt.plot(history.history['accuracy'], label='accuracy')\n",
        "plt.xlabel('Epoch')\n",
        "plt.ylabel('Accuracy')\n",
        "plt.ylim([0.1, 1])\n",
        "plt.legend(loc='lower right')\n",
        "\n",
        "plt.subplot(1, 2, 2)\n",
        "plt.plot(history.history['loss'], label='loss')\n",
        "plt.xlabel('Epoch')\n",
        "plt.ylabel('Loss')\n",
        "plt.ylim([0.1, 1])\n",
        "plt.legend(loc='lower right')\n",
        "plt.show()\n",
        "plt.savefig('drive/MyDrive/model1.png')"
      ],
      "metadata": {
        "colab": {
          "base_uri": "https://localhost:8080/"
        },
        "id": "o3OaWTRa_ivE",
        "outputId": "aa6ee7de-134f-49c5-a8d8-498168887e75"
      },
      "execution_count": null,
      "outputs": [
        {
          "output_type": "stream",
          "name": "stdout",
          "text": [
            "Epoch 1/50\n",
            "3299/3299 [==============================] - ETA: 0s - loss: 6.2330 - accuracy: 0.0797\n",
            "Epoch 1: loss improved from inf to 6.23300, saving model to final_model1.h5\n",
            "3299/3299 [==============================] - 226s 67ms/step - loss: 6.2330 - accuracy: 0.0797\n",
            "Epoch 2/50\n",
            "3299/3299 [==============================] - ETA: 0s - loss: 5.4555 - accuracy: 0.1299\n",
            "Epoch 2: loss improved from 6.23300 to 5.45554, saving model to final_model1.h5\n",
            "3299/3299 [==============================] - 215s 65ms/step - loss: 5.4555 - accuracy: 0.1299\n",
            "Epoch 3/50\n",
            "3299/3299 [==============================] - ETA: 0s - loss: 5.0037 - accuracy: 0.1545\n",
            "Epoch 3: loss improved from 5.45554 to 5.00365, saving model to final_model1.h5\n",
            "3299/3299 [==============================] - 218s 66ms/step - loss: 5.0037 - accuracy: 0.1545\n",
            "Epoch 4/50\n",
            "3299/3299 [==============================] - ETA: 0s - loss: 4.5775 - accuracy: 0.1792\n",
            "Epoch 4: loss improved from 5.00365 to 4.57752, saving model to final_model1.h5\n",
            "3299/3299 [==============================] - 214s 65ms/step - loss: 4.5775 - accuracy: 0.1792\n",
            "Epoch 5/50\n",
            "3299/3299 [==============================] - ETA: 0s - loss: 4.1525 - accuracy: 0.2093\n",
            "Epoch 5: loss improved from 4.57752 to 4.15250, saving model to final_model1.h5\n",
            "3299/3299 [==============================] - 217s 66ms/step - loss: 4.1525 - accuracy: 0.2093\n",
            "Epoch 6/50\n",
            "3299/3299 [==============================] - ETA: 0s - loss: 3.7246 - accuracy: 0.2512\n",
            "Epoch 6: loss improved from 4.15250 to 3.72457, saving model to final_model1.h5\n",
            "3299/3299 [==============================] - 219s 66ms/step - loss: 3.7246 - accuracy: 0.2512\n",
            "Epoch 7/50\n",
            "3299/3299 [==============================] - ETA: 0s - loss: 3.3230 - accuracy: 0.3013\n",
            "Epoch 7: loss improved from 3.72457 to 3.32302, saving model to final_model1.h5\n",
            "3299/3299 [==============================] - 212s 64ms/step - loss: 3.3230 - accuracy: 0.3013\n",
            "Epoch 8/50\n",
            "3299/3299 [==============================] - ETA: 0s - loss: 2.9626 - accuracy: 0.3592\n",
            "Epoch 8: loss improved from 3.32302 to 2.96256, saving model to final_model1.h5\n",
            "3299/3299 [==============================] - 219s 66ms/step - loss: 2.9626 - accuracy: 0.3592\n",
            "Epoch 9/50\n",
            "3096/3299 [===========================>..] - ETA: 13s - loss: 2.6292 - accuracy: 0.4178"
          ]
        }
      ]
    },
    {
      "cell_type": "markdown",
      "source": [
        "**4. Predicting the word.**"
      ],
      "metadata": {
        "id": "Ykpl2xnIEIzR"
      }
    },
    {
      "cell_type": "code",
      "source": [
        "from tensorflow.keras.models import load_model\n",
        "import numpy as np\n",
        "import pickle\n",
        "\n",
        "# Load the model and tokenizer\n",
        "model = load_model('drive/MyDrive/Lab/SEM7/ROSPLab/next_words.h5')\n",
        "tokenizer = pickle.load(open('token.pkl', 'rb'))\n",
        "\n",
        "def Predict_Next_Words(model, tokenizer, text):\n",
        "\n",
        "  sequence = tokenizer.texts_to_sequences([text])\n",
        "  sequence = np.array(sequence)\n",
        "  preds = np.argmax(model.predict(sequence))\n",
        "  predicted_word = \"\"\n",
        "  \n",
        "  for key, value in tokenizer.word_index.items():\n",
        "      if value == preds:\n",
        "          predicted_word = key\n",
        "          break\n",
        "  \n",
        "  print(predicted_word)\n",
        "  return predicted_word\n",
        "\n",
        "text = input(\"Enter your line: \")\n",
        "  \n",
        "if text == \"0\":\n",
        "    print(\"Execution completed.....\")\n",
        "else:\n",
        "    text = text.split(\" \")\n",
        "    text = text[-3:]\n",
        "    print(text)\n",
        "        \n",
        "Predict_Next_Words(model, tokenizer, text)"
      ],
      "metadata": {
        "id": "Jq-LLRrSEKyl"
      },
      "execution_count": null,
      "outputs": []
    }
  ]
}