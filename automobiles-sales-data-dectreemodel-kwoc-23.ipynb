{
 "cells": [
  {
   "cell_type": "code",
   "execution_count": 1,
   "id": "d74252bd",
   "metadata": {
    "_cell_guid": "b1076dfc-b9ad-4769-8c92-a6c4dae69d19",
    "_uuid": "8f2839f25d086af736a60e9eeb907d3b93b6e0e5",
    "execution": {
     "iopub.execute_input": "2024-01-09T18:06:45.471264Z",
     "iopub.status.busy": "2024-01-09T18:06:45.469924Z",
     "iopub.status.idle": "2024-01-09T18:06:45.940076Z",
     "shell.execute_reply": "2024-01-09T18:06:45.938603Z"
    },
    "papermill": {
     "duration": 0.487438,
     "end_time": "2024-01-09T18:06:45.943269",
     "exception": false,
     "start_time": "2024-01-09T18:06:45.455831",
     "status": "completed"
    },
    "tags": []
   },
   "outputs": [
    {
     "name": "stdout",
     "output_type": "stream",
     "text": [
      "/kaggle/input/auto-sales-data/Auto Sales data.csv\n"
     ]
    }
   ],
   "source": [
    "# This Python 3 environment comes with many helpful analytics libraries installed\n",
    "# It is defined by the kaggle/python Docker image: https://github.com/kaggle/docker-python\n",
    "# For example, here's several helpful packages to load\n",
    "\n",
    "import numpy as np # linear algebra\n",
    "import pandas as pd # data processing, CSV file I/O (e.g. pd.read_csv)\n",
    "\n",
    "# Input data files are available in the read-only \"../input/\" directory\n",
    "# For example, running this (by clicking run or pressing Shift+Enter) will list all files under the input directory\n",
    "\n",
    "import os\n",
    "for dirname, _, filenames in os.walk('/kaggle/input'):\n",
    "    for filename in filenames:\n",
    "        print(os.path.join(dirname, filename))\n",
    "\n",
    "# You can write up to 20GB to the current directory (/kaggle/working/) that gets preserved as output when you create a version using \"Save & Run All\" \n",
    "# You can also write temporary files to /kaggle/temp/, but they won't be saved outside of the current session"
   ]
  },
  {
   "cell_type": "code",
   "execution_count": 2,
   "id": "881f9eb5",
   "metadata": {
    "execution": {
     "iopub.execute_input": "2024-01-09T18:06:45.968911Z",
     "iopub.status.busy": "2024-01-09T18:06:45.968382Z",
     "iopub.status.idle": "2024-01-09T18:06:47.709351Z",
     "shell.execute_reply": "2024-01-09T18:06:47.708370Z"
    },
    "papermill": {
     "duration": 1.7571,
     "end_time": "2024-01-09T18:06:47.712182",
     "exception": false,
     "start_time": "2024-01-09T18:06:45.955082",
     "status": "completed"
    },
    "tags": []
   },
   "outputs": [],
   "source": [
    "# Importing the necessary libraries\n",
    "import pandas as pd\n",
    "from sklearn.preprocessing import LabelEncoder\n",
    "from sklearn.model_selection import train_test_split\n",
    "from sklearn.tree import DecisionTreeRegressor\n",
    "from sklearn.metrics import mean_absolute_error, mean_squared_error, r2_score"
   ]
  },
  {
   "cell_type": "code",
   "execution_count": 3,
   "id": "56731f5d",
   "metadata": {
    "execution": {
     "iopub.execute_input": "2024-01-09T18:06:47.736201Z",
     "iopub.status.busy": "2024-01-09T18:06:47.735749Z",
     "iopub.status.idle": "2024-01-09T18:06:47.747080Z",
     "shell.execute_reply": "2024-01-09T18:06:47.745613Z"
    },
    "papermill": {
     "duration": 0.026281,
     "end_time": "2024-01-09T18:06:47.749705",
     "exception": false,
     "start_time": "2024-01-09T18:06:47.723424",
     "status": "completed"
    },
    "tags": []
   },
   "outputs": [
    {
     "data": {
      "text/html": [
       "<style>#sk-container-id-1 {color: black;background-color: white;}#sk-container-id-1 pre{padding: 0;}#sk-container-id-1 div.sk-toggleable {background-color: white;}#sk-container-id-1 label.sk-toggleable__label {cursor: pointer;display: block;width: 100%;margin-bottom: 0;padding: 0.3em;box-sizing: border-box;text-align: center;}#sk-container-id-1 label.sk-toggleable__label-arrow:before {content: \"▸\";float: left;margin-right: 0.25em;color: #696969;}#sk-container-id-1 label.sk-toggleable__label-arrow:hover:before {color: black;}#sk-container-id-1 div.sk-estimator:hover label.sk-toggleable__label-arrow:before {color: black;}#sk-container-id-1 div.sk-toggleable__content {max-height: 0;max-width: 0;overflow: hidden;text-align: left;background-color: #f0f8ff;}#sk-container-id-1 div.sk-toggleable__content pre {margin: 0.2em;color: black;border-radius: 0.25em;background-color: #f0f8ff;}#sk-container-id-1 input.sk-toggleable__control:checked~div.sk-toggleable__content {max-height: 200px;max-width: 100%;overflow: auto;}#sk-container-id-1 input.sk-toggleable__control:checked~label.sk-toggleable__label-arrow:before {content: \"▾\";}#sk-container-id-1 div.sk-estimator input.sk-toggleable__control:checked~label.sk-toggleable__label {background-color: #d4ebff;}#sk-container-id-1 div.sk-label input.sk-toggleable__control:checked~label.sk-toggleable__label {background-color: #d4ebff;}#sk-container-id-1 input.sk-hidden--visually {border: 0;clip: rect(1px 1px 1px 1px);clip: rect(1px, 1px, 1px, 1px);height: 1px;margin: -1px;overflow: hidden;padding: 0;position: absolute;width: 1px;}#sk-container-id-1 div.sk-estimator {font-family: monospace;background-color: #f0f8ff;border: 1px dotted black;border-radius: 0.25em;box-sizing: border-box;margin-bottom: 0.5em;}#sk-container-id-1 div.sk-estimator:hover {background-color: #d4ebff;}#sk-container-id-1 div.sk-parallel-item::after {content: \"\";width: 100%;border-bottom: 1px solid gray;flex-grow: 1;}#sk-container-id-1 div.sk-label:hover label.sk-toggleable__label {background-color: #d4ebff;}#sk-container-id-1 div.sk-serial::before {content: \"\";position: absolute;border-left: 1px solid gray;box-sizing: border-box;top: 0;bottom: 0;left: 50%;z-index: 0;}#sk-container-id-1 div.sk-serial {display: flex;flex-direction: column;align-items: center;background-color: white;padding-right: 0.2em;padding-left: 0.2em;position: relative;}#sk-container-id-1 div.sk-item {position: relative;z-index: 1;}#sk-container-id-1 div.sk-parallel {display: flex;align-items: stretch;justify-content: center;background-color: white;position: relative;}#sk-container-id-1 div.sk-item::before, #sk-container-id-1 div.sk-parallel-item::before {content: \"\";position: absolute;border-left: 1px solid gray;box-sizing: border-box;top: 0;bottom: 0;left: 50%;z-index: -1;}#sk-container-id-1 div.sk-parallel-item {display: flex;flex-direction: column;z-index: 1;position: relative;background-color: white;}#sk-container-id-1 div.sk-parallel-item:first-child::after {align-self: flex-end;width: 50%;}#sk-container-id-1 div.sk-parallel-item:last-child::after {align-self: flex-start;width: 50%;}#sk-container-id-1 div.sk-parallel-item:only-child::after {width: 0;}#sk-container-id-1 div.sk-dashed-wrapped {border: 1px dashed gray;margin: 0 0.4em 0.5em 0.4em;box-sizing: border-box;padding-bottom: 0.4em;background-color: white;}#sk-container-id-1 div.sk-label label {font-family: monospace;font-weight: bold;display: inline-block;line-height: 1.2em;}#sk-container-id-1 div.sk-label-container {text-align: center;}#sk-container-id-1 div.sk-container {/* jupyter's `normalize.less` sets `[hidden] { display: none; }` but bootstrap.min.css set `[hidden] { display: none !important; }` so we also need the `!important` here to be able to override the default hidden behavior on the sphinx rendered scikit-learn.org. See: https://github.com/scikit-learn/scikit-learn/issues/21755 */display: inline-block !important;position: relative;}#sk-container-id-1 div.sk-text-repr-fallback {display: none;}</style><div id=\"sk-container-id-1\" class=\"sk-top-container\"><div class=\"sk-text-repr-fallback\"><pre>DecisionTreeRegressor(random_state=42)</pre><b>In a Jupyter environment, please rerun this cell to show the HTML representation or trust the notebook. <br />On GitHub, the HTML representation is unable to render, please try loading this page with nbviewer.org.</b></div><div class=\"sk-container\" hidden><div class=\"sk-item\"><div class=\"sk-estimator sk-toggleable\"><input class=\"sk-toggleable__control sk-hidden--visually\" id=\"sk-estimator-id-1\" type=\"checkbox\" checked><label for=\"sk-estimator-id-1\" class=\"sk-toggleable__label sk-toggleable__label-arrow\">DecisionTreeRegressor</label><div class=\"sk-toggleable__content\"><pre>DecisionTreeRegressor(random_state=42)</pre></div></div></div></div></div>"
      ],
      "text/plain": [
       "DecisionTreeRegressor(random_state=42)"
      ]
     },
     "execution_count": 3,
     "metadata": {},
     "output_type": "execute_result"
    }
   ],
   "source": [
    "# Creating a Decision Tree Regressor\n",
    "dt_model = DecisionTreeRegressor(random_state=42)\n",
    "dt_model"
   ]
  },
  {
   "cell_type": "code",
   "execution_count": 4,
   "id": "42e9dab0",
   "metadata": {
    "execution": {
     "iopub.execute_input": "2024-01-09T18:06:47.776006Z",
     "iopub.status.busy": "2024-01-09T18:06:47.774467Z",
     "iopub.status.idle": "2024-01-09T18:06:47.853618Z",
     "shell.execute_reply": "2024-01-09T18:06:47.852061Z"
    },
    "papermill": {
     "duration": 0.095603,
     "end_time": "2024-01-09T18:06:47.856771",
     "exception": false,
     "start_time": "2024-01-09T18:06:47.761168",
     "status": "completed"
    },
    "tags": []
   },
   "outputs": [
    {
     "data": {
      "text/html": [
       "<div>\n",
       "<style scoped>\n",
       "    .dataframe tbody tr th:only-of-type {\n",
       "        vertical-align: middle;\n",
       "    }\n",
       "\n",
       "    .dataframe tbody tr th {\n",
       "        vertical-align: top;\n",
       "    }\n",
       "\n",
       "    .dataframe thead th {\n",
       "        text-align: right;\n",
       "    }\n",
       "</style>\n",
       "<table border=\"1\" class=\"dataframe\">\n",
       "  <thead>\n",
       "    <tr style=\"text-align: right;\">\n",
       "      <th></th>\n",
       "      <th>ORDERNUMBER</th>\n",
       "      <th>QUANTITYORDERED</th>\n",
       "      <th>PRICEEACH</th>\n",
       "      <th>ORDERLINENUMBER</th>\n",
       "      <th>SALES</th>\n",
       "      <th>ORDERDATE</th>\n",
       "      <th>DAYS_SINCE_LASTORDER</th>\n",
       "      <th>STATUS</th>\n",
       "      <th>PRODUCTLINE</th>\n",
       "      <th>MSRP</th>\n",
       "      <th>PRODUCTCODE</th>\n",
       "      <th>CUSTOMERNAME</th>\n",
       "      <th>PHONE</th>\n",
       "      <th>ADDRESSLINE1</th>\n",
       "      <th>CITY</th>\n",
       "      <th>POSTALCODE</th>\n",
       "      <th>COUNTRY</th>\n",
       "      <th>CONTACTLASTNAME</th>\n",
       "      <th>CONTACTFIRSTNAME</th>\n",
       "      <th>DEALSIZE</th>\n",
       "    </tr>\n",
       "  </thead>\n",
       "  <tbody>\n",
       "    <tr>\n",
       "      <th>0</th>\n",
       "      <td>10107</td>\n",
       "      <td>30</td>\n",
       "      <td>95.70</td>\n",
       "      <td>2</td>\n",
       "      <td>2871.00</td>\n",
       "      <td>24/02/2018</td>\n",
       "      <td>828</td>\n",
       "      <td>Shipped</td>\n",
       "      <td>Motorcycles</td>\n",
       "      <td>95</td>\n",
       "      <td>S10_1678</td>\n",
       "      <td>Land of Toys Inc.</td>\n",
       "      <td>2125557818</td>\n",
       "      <td>897 Long Airport Avenue</td>\n",
       "      <td>NYC</td>\n",
       "      <td>10022</td>\n",
       "      <td>USA</td>\n",
       "      <td>Yu</td>\n",
       "      <td>Kwai</td>\n",
       "      <td>Small</td>\n",
       "    </tr>\n",
       "    <tr>\n",
       "      <th>1</th>\n",
       "      <td>10121</td>\n",
       "      <td>34</td>\n",
       "      <td>81.35</td>\n",
       "      <td>5</td>\n",
       "      <td>2765.90</td>\n",
       "      <td>07/05/2018</td>\n",
       "      <td>757</td>\n",
       "      <td>Shipped</td>\n",
       "      <td>Motorcycles</td>\n",
       "      <td>95</td>\n",
       "      <td>S10_1678</td>\n",
       "      <td>Reims Collectables</td>\n",
       "      <td>26.47.1555</td>\n",
       "      <td>59 rue de l'Abbaye</td>\n",
       "      <td>Reims</td>\n",
       "      <td>51100</td>\n",
       "      <td>France</td>\n",
       "      <td>Henriot</td>\n",
       "      <td>Paul</td>\n",
       "      <td>Small</td>\n",
       "    </tr>\n",
       "    <tr>\n",
       "      <th>2</th>\n",
       "      <td>10134</td>\n",
       "      <td>41</td>\n",
       "      <td>94.74</td>\n",
       "      <td>2</td>\n",
       "      <td>3884.34</td>\n",
       "      <td>01/07/2018</td>\n",
       "      <td>703</td>\n",
       "      <td>Shipped</td>\n",
       "      <td>Motorcycles</td>\n",
       "      <td>95</td>\n",
       "      <td>S10_1678</td>\n",
       "      <td>Lyon Souveniers</td>\n",
       "      <td>+33 1 46 62 7555</td>\n",
       "      <td>27 rue du Colonel Pierre Avia</td>\n",
       "      <td>Paris</td>\n",
       "      <td>75508</td>\n",
       "      <td>France</td>\n",
       "      <td>Da Cunha</td>\n",
       "      <td>Daniel</td>\n",
       "      <td>Medium</td>\n",
       "    </tr>\n",
       "    <tr>\n",
       "      <th>3</th>\n",
       "      <td>10145</td>\n",
       "      <td>45</td>\n",
       "      <td>83.26</td>\n",
       "      <td>6</td>\n",
       "      <td>3746.70</td>\n",
       "      <td>25/08/2018</td>\n",
       "      <td>649</td>\n",
       "      <td>Shipped</td>\n",
       "      <td>Motorcycles</td>\n",
       "      <td>95</td>\n",
       "      <td>S10_1678</td>\n",
       "      <td>Toys4GrownUps.com</td>\n",
       "      <td>6265557265</td>\n",
       "      <td>78934 Hillside Dr.</td>\n",
       "      <td>Pasadena</td>\n",
       "      <td>90003</td>\n",
       "      <td>USA</td>\n",
       "      <td>Young</td>\n",
       "      <td>Julie</td>\n",
       "      <td>Medium</td>\n",
       "    </tr>\n",
       "    <tr>\n",
       "      <th>4</th>\n",
       "      <td>10168</td>\n",
       "      <td>36</td>\n",
       "      <td>96.66</td>\n",
       "      <td>1</td>\n",
       "      <td>3479.76</td>\n",
       "      <td>28/10/2018</td>\n",
       "      <td>586</td>\n",
       "      <td>Shipped</td>\n",
       "      <td>Motorcycles</td>\n",
       "      <td>95</td>\n",
       "      <td>S10_1678</td>\n",
       "      <td>Technics Stores Inc.</td>\n",
       "      <td>6505556809</td>\n",
       "      <td>9408 Furth Circle</td>\n",
       "      <td>Burlingame</td>\n",
       "      <td>94217</td>\n",
       "      <td>USA</td>\n",
       "      <td>Hirano</td>\n",
       "      <td>Juri</td>\n",
       "      <td>Medium</td>\n",
       "    </tr>\n",
       "  </tbody>\n",
       "</table>\n",
       "</div>"
      ],
      "text/plain": [
       "   ORDERNUMBER  QUANTITYORDERED  PRICEEACH  ORDERLINENUMBER    SALES  \\\n",
       "0        10107               30      95.70                2  2871.00   \n",
       "1        10121               34      81.35                5  2765.90   \n",
       "2        10134               41      94.74                2  3884.34   \n",
       "3        10145               45      83.26                6  3746.70   \n",
       "4        10168               36      96.66                1  3479.76   \n",
       "\n",
       "    ORDERDATE  DAYS_SINCE_LASTORDER   STATUS  PRODUCTLINE  MSRP PRODUCTCODE  \\\n",
       "0  24/02/2018                   828  Shipped  Motorcycles    95    S10_1678   \n",
       "1  07/05/2018                   757  Shipped  Motorcycles    95    S10_1678   \n",
       "2  01/07/2018                   703  Shipped  Motorcycles    95    S10_1678   \n",
       "3  25/08/2018                   649  Shipped  Motorcycles    95    S10_1678   \n",
       "4  28/10/2018                   586  Shipped  Motorcycles    95    S10_1678   \n",
       "\n",
       "           CUSTOMERNAME             PHONE                   ADDRESSLINE1  \\\n",
       "0     Land of Toys Inc.        2125557818        897 Long Airport Avenue   \n",
       "1    Reims Collectables        26.47.1555             59 rue de l'Abbaye   \n",
       "2       Lyon Souveniers  +33 1 46 62 7555  27 rue du Colonel Pierre Avia   \n",
       "3     Toys4GrownUps.com        6265557265             78934 Hillside Dr.   \n",
       "4  Technics Stores Inc.        6505556809              9408 Furth Circle   \n",
       "\n",
       "         CITY POSTALCODE COUNTRY CONTACTLASTNAME CONTACTFIRSTNAME DEALSIZE  \n",
       "0         NYC      10022     USA              Yu             Kwai    Small  \n",
       "1       Reims      51100  France         Henriot             Paul    Small  \n",
       "2       Paris      75508  France        Da Cunha           Daniel   Medium  \n",
       "3    Pasadena      90003     USA           Young            Julie   Medium  \n",
       "4  Burlingame      94217     USA          Hirano             Juri   Medium  "
      ]
     },
     "execution_count": 4,
     "metadata": {},
     "output_type": "execute_result"
    }
   ],
   "source": [
    "df = pd.read_csv('/kaggle/input/auto-sales-data/Auto Sales data.csv')\n",
    "df.head()"
   ]
  },
  {
   "cell_type": "code",
   "execution_count": 5,
   "id": "72e9b44b",
   "metadata": {
    "execution": {
     "iopub.execute_input": "2024-01-09T18:06:47.883047Z",
     "iopub.status.busy": "2024-01-09T18:06:47.881806Z",
     "iopub.status.idle": "2024-01-09T18:06:47.911157Z",
     "shell.execute_reply": "2024-01-09T18:06:47.909779Z"
    },
    "papermill": {
     "duration": 0.045093,
     "end_time": "2024-01-09T18:06:47.913734",
     "exception": false,
     "start_time": "2024-01-09T18:06:47.868641",
     "status": "completed"
    },
    "tags": []
   },
   "outputs": [
    {
     "data": {
      "text/html": [
       "<div>\n",
       "<style scoped>\n",
       "    .dataframe tbody tr th:only-of-type {\n",
       "        vertical-align: middle;\n",
       "    }\n",
       "\n",
       "    .dataframe tbody tr th {\n",
       "        vertical-align: top;\n",
       "    }\n",
       "\n",
       "    .dataframe thead th {\n",
       "        text-align: right;\n",
       "    }\n",
       "</style>\n",
       "<table border=\"1\" class=\"dataframe\">\n",
       "  <thead>\n",
       "    <tr style=\"text-align: right;\">\n",
       "      <th></th>\n",
       "      <th>QUANTITYORDERED</th>\n",
       "      <th>PRICEEACH</th>\n",
       "      <th>ORDERLINENUMBER</th>\n",
       "      <th>SALES</th>\n",
       "      <th>DAYS_SINCE_LASTORDER</th>\n",
       "      <th>STATUS</th>\n",
       "      <th>PRODUCTLINE</th>\n",
       "      <th>MSRP</th>\n",
       "      <th>PRODUCTCODE</th>\n",
       "      <th>CUSTOMERNAME</th>\n",
       "      <th>CITY</th>\n",
       "      <th>COUNTRY</th>\n",
       "      <th>DEALSIZE</th>\n",
       "    </tr>\n",
       "  </thead>\n",
       "  <tbody>\n",
       "    <tr>\n",
       "      <th>0</th>\n",
       "      <td>30</td>\n",
       "      <td>95.70</td>\n",
       "      <td>2</td>\n",
       "      <td>2871.00</td>\n",
       "      <td>828</td>\n",
       "      <td>Shipped</td>\n",
       "      <td>Motorcycles</td>\n",
       "      <td>95</td>\n",
       "      <td>S10_1678</td>\n",
       "      <td>Land of Toys Inc.</td>\n",
       "      <td>NYC</td>\n",
       "      <td>USA</td>\n",
       "      <td>Small</td>\n",
       "    </tr>\n",
       "    <tr>\n",
       "      <th>1</th>\n",
       "      <td>34</td>\n",
       "      <td>81.35</td>\n",
       "      <td>5</td>\n",
       "      <td>2765.90</td>\n",
       "      <td>757</td>\n",
       "      <td>Shipped</td>\n",
       "      <td>Motorcycles</td>\n",
       "      <td>95</td>\n",
       "      <td>S10_1678</td>\n",
       "      <td>Reims Collectables</td>\n",
       "      <td>Reims</td>\n",
       "      <td>France</td>\n",
       "      <td>Small</td>\n",
       "    </tr>\n",
       "    <tr>\n",
       "      <th>2</th>\n",
       "      <td>41</td>\n",
       "      <td>94.74</td>\n",
       "      <td>2</td>\n",
       "      <td>3884.34</td>\n",
       "      <td>703</td>\n",
       "      <td>Shipped</td>\n",
       "      <td>Motorcycles</td>\n",
       "      <td>95</td>\n",
       "      <td>S10_1678</td>\n",
       "      <td>Lyon Souveniers</td>\n",
       "      <td>Paris</td>\n",
       "      <td>France</td>\n",
       "      <td>Medium</td>\n",
       "    </tr>\n",
       "    <tr>\n",
       "      <th>3</th>\n",
       "      <td>45</td>\n",
       "      <td>83.26</td>\n",
       "      <td>6</td>\n",
       "      <td>3746.70</td>\n",
       "      <td>649</td>\n",
       "      <td>Shipped</td>\n",
       "      <td>Motorcycles</td>\n",
       "      <td>95</td>\n",
       "      <td>S10_1678</td>\n",
       "      <td>Toys4GrownUps.com</td>\n",
       "      <td>Pasadena</td>\n",
       "      <td>USA</td>\n",
       "      <td>Medium</td>\n",
       "    </tr>\n",
       "    <tr>\n",
       "      <th>4</th>\n",
       "      <td>36</td>\n",
       "      <td>96.66</td>\n",
       "      <td>1</td>\n",
       "      <td>3479.76</td>\n",
       "      <td>586</td>\n",
       "      <td>Shipped</td>\n",
       "      <td>Motorcycles</td>\n",
       "      <td>95</td>\n",
       "      <td>S10_1678</td>\n",
       "      <td>Technics Stores Inc.</td>\n",
       "      <td>Burlingame</td>\n",
       "      <td>USA</td>\n",
       "      <td>Medium</td>\n",
       "    </tr>\n",
       "  </tbody>\n",
       "</table>\n",
       "</div>"
      ],
      "text/plain": [
       "   QUANTITYORDERED  PRICEEACH  ORDERLINENUMBER    SALES  DAYS_SINCE_LASTORDER  \\\n",
       "0               30      95.70                2  2871.00                   828   \n",
       "1               34      81.35                5  2765.90                   757   \n",
       "2               41      94.74                2  3884.34                   703   \n",
       "3               45      83.26                6  3746.70                   649   \n",
       "4               36      96.66                1  3479.76                   586   \n",
       "\n",
       "    STATUS  PRODUCTLINE  MSRP PRODUCTCODE          CUSTOMERNAME        CITY  \\\n",
       "0  Shipped  Motorcycles    95    S10_1678     Land of Toys Inc.         NYC   \n",
       "1  Shipped  Motorcycles    95    S10_1678    Reims Collectables       Reims   \n",
       "2  Shipped  Motorcycles    95    S10_1678       Lyon Souveniers       Paris   \n",
       "3  Shipped  Motorcycles    95    S10_1678     Toys4GrownUps.com    Pasadena   \n",
       "4  Shipped  Motorcycles    95    S10_1678  Technics Stores Inc.  Burlingame   \n",
       "\n",
       "  COUNTRY DEALSIZE  \n",
       "0     USA    Small  \n",
       "1  France    Small  \n",
       "2  France   Medium  \n",
       "3     USA   Medium  \n",
       "4     USA   Medium  "
      ]
     },
     "execution_count": 5,
     "metadata": {},
     "output_type": "execute_result"
    }
   ],
   "source": [
    "df = df.drop(['ORDERDATE','POSTALCODE','CONTACTLASTNAME', 'CONTACTFIRSTNAME','ORDERNUMBER','PHONE', 'ADDRESSLINE1','POSTALCODE'],axis=1)\n",
    "\n",
    "#df['ORDERDATE'] = pd.to_datetime(df['ORDERDATE'],yearfirst = True ) # changing the date time format to a suitable format\n",
    "\n",
    "df.head()"
   ]
  },
  {
   "cell_type": "code",
   "execution_count": 6,
   "id": "2fc1f0bd",
   "metadata": {
    "execution": {
     "iopub.execute_input": "2024-01-09T18:06:47.939763Z",
     "iopub.status.busy": "2024-01-09T18:06:47.939358Z",
     "iopub.status.idle": "2024-01-09T18:06:47.960042Z",
     "shell.execute_reply": "2024-01-09T18:06:47.959133Z"
    },
    "papermill": {
     "duration": 0.03665,
     "end_time": "2024-01-09T18:06:47.962558",
     "exception": false,
     "start_time": "2024-01-09T18:06:47.925908",
     "status": "completed"
    },
    "tags": []
   },
   "outputs": [
    {
     "data": {
      "text/plain": [
       "QUANTITYORDERED           58\n",
       "PRICEEACH               1843\n",
       "ORDERLINENUMBER           18\n",
       "SALES                   2690\n",
       "DAYS_SINCE_LASTORDER    1832\n",
       "STATUS                     6\n",
       "PRODUCTLINE                7\n",
       "MSRP                      80\n",
       "PRODUCTCODE              109\n",
       "CUSTOMERNAME              89\n",
       "CITY                      71\n",
       "COUNTRY                   19\n",
       "DEALSIZE                   3\n",
       "dtype: int64"
      ]
     },
     "execution_count": 6,
     "metadata": {},
     "output_type": "execute_result"
    }
   ],
   "source": [
    "df.nunique()"
   ]
  },
  {
   "cell_type": "code",
   "execution_count": 7,
   "id": "b2e5280f",
   "metadata": {
    "execution": {
     "iopub.execute_input": "2024-01-09T18:06:47.991492Z",
     "iopub.status.busy": "2024-01-09T18:06:47.989973Z",
     "iopub.status.idle": "2024-01-09T18:06:48.017059Z",
     "shell.execute_reply": "2024-01-09T18:06:48.016173Z"
    },
    "papermill": {
     "duration": 0.044233,
     "end_time": "2024-01-09T18:06:48.019794",
     "exception": false,
     "start_time": "2024-01-09T18:06:47.975561",
     "status": "completed"
    },
    "tags": []
   },
   "outputs": [
    {
     "name": "stdout",
     "output_type": "stream",
     "text": [
      "<class 'pandas.core.frame.DataFrame'>\n",
      "RangeIndex: 2747 entries, 0 to 2746\n",
      "Data columns (total 13 columns):\n",
      " #   Column                Non-Null Count  Dtype  \n",
      "---  ------                --------------  -----  \n",
      " 0   QUANTITYORDERED       2747 non-null   int64  \n",
      " 1   PRICEEACH             2747 non-null   float64\n",
      " 2   ORDERLINENUMBER       2747 non-null   int64  \n",
      " 3   SALES                 2747 non-null   float64\n",
      " 4   DAYS_SINCE_LASTORDER  2747 non-null   int64  \n",
      " 5   STATUS                2747 non-null   object \n",
      " 6   PRODUCTLINE           2747 non-null   object \n",
      " 7   MSRP                  2747 non-null   int64  \n",
      " 8   PRODUCTCODE           2747 non-null   object \n",
      " 9   CUSTOMERNAME          2747 non-null   object \n",
      " 10  CITY                  2747 non-null   object \n",
      " 11  COUNTRY               2747 non-null   object \n",
      " 12  DEALSIZE              2747 non-null   object \n",
      "dtypes: float64(2), int64(4), object(7)\n",
      "memory usage: 279.1+ KB\n"
     ]
    }
   ],
   "source": [
    "df.info()"
   ]
  },
  {
   "cell_type": "code",
   "execution_count": 8,
   "id": "5c237095",
   "metadata": {
    "execution": {
     "iopub.execute_input": "2024-01-09T18:06:48.047403Z",
     "iopub.status.busy": "2024-01-09T18:06:48.046979Z",
     "iopub.status.idle": "2024-01-09T18:06:48.077952Z",
     "shell.execute_reply": "2024-01-09T18:06:48.076804Z"
    },
    "papermill": {
     "duration": 0.04735,
     "end_time": "2024-01-09T18:06:48.080496",
     "exception": false,
     "start_time": "2024-01-09T18:06:48.033146",
     "status": "completed"
    },
    "tags": []
   },
   "outputs": [
    {
     "data": {
      "text/html": [
       "<div>\n",
       "<style scoped>\n",
       "    .dataframe tbody tr th:only-of-type {\n",
       "        vertical-align: middle;\n",
       "    }\n",
       "\n",
       "    .dataframe tbody tr th {\n",
       "        vertical-align: top;\n",
       "    }\n",
       "\n",
       "    .dataframe thead th {\n",
       "        text-align: right;\n",
       "    }\n",
       "</style>\n",
       "<table border=\"1\" class=\"dataframe\">\n",
       "  <thead>\n",
       "    <tr style=\"text-align: right;\">\n",
       "      <th></th>\n",
       "      <th>QUANTITYORDERED</th>\n",
       "      <th>PRICEEACH</th>\n",
       "      <th>ORDERLINENUMBER</th>\n",
       "      <th>SALES</th>\n",
       "      <th>DAYS_SINCE_LASTORDER</th>\n",
       "      <th>STATUS</th>\n",
       "      <th>PRODUCTLINE</th>\n",
       "      <th>MSRP</th>\n",
       "      <th>PRODUCTCODE</th>\n",
       "      <th>CUSTOMERNAME</th>\n",
       "      <th>CITY</th>\n",
       "      <th>COUNTRY</th>\n",
       "      <th>DEALSIZE</th>\n",
       "    </tr>\n",
       "  </thead>\n",
       "  <tbody>\n",
       "    <tr>\n",
       "      <th>0</th>\n",
       "      <td>30</td>\n",
       "      <td>95.70</td>\n",
       "      <td>2</td>\n",
       "      <td>2871.00</td>\n",
       "      <td>828</td>\n",
       "      <td>5</td>\n",
       "      <td>1</td>\n",
       "      <td>95</td>\n",
       "      <td>0</td>\n",
       "      <td>44</td>\n",
       "      <td>41</td>\n",
       "      <td>18</td>\n",
       "      <td>2</td>\n",
       "    </tr>\n",
       "    <tr>\n",
       "      <th>1</th>\n",
       "      <td>34</td>\n",
       "      <td>81.35</td>\n",
       "      <td>5</td>\n",
       "      <td>2765.90</td>\n",
       "      <td>757</td>\n",
       "      <td>5</td>\n",
       "      <td>1</td>\n",
       "      <td>95</td>\n",
       "      <td>0</td>\n",
       "      <td>63</td>\n",
       "      <td>55</td>\n",
       "      <td>6</td>\n",
       "      <td>2</td>\n",
       "    </tr>\n",
       "    <tr>\n",
       "      <th>2</th>\n",
       "      <td>41</td>\n",
       "      <td>94.74</td>\n",
       "      <td>2</td>\n",
       "      <td>3884.34</td>\n",
       "      <td>703</td>\n",
       "      <td>5</td>\n",
       "      <td>1</td>\n",
       "      <td>95</td>\n",
       "      <td>0</td>\n",
       "      <td>45</td>\n",
       "      <td>51</td>\n",
       "      <td>6</td>\n",
       "      <td>1</td>\n",
       "    </tr>\n",
       "    <tr>\n",
       "      <th>3</th>\n",
       "      <td>45</td>\n",
       "      <td>83.26</td>\n",
       "      <td>6</td>\n",
       "      <td>3746.70</td>\n",
       "      <td>649</td>\n",
       "      <td>5</td>\n",
       "      <td>1</td>\n",
       "      <td>95</td>\n",
       "      <td>0</td>\n",
       "      <td>82</td>\n",
       "      <td>52</td>\n",
       "      <td>18</td>\n",
       "      <td>1</td>\n",
       "    </tr>\n",
       "    <tr>\n",
       "      <th>4</th>\n",
       "      <td>36</td>\n",
       "      <td>96.66</td>\n",
       "      <td>1</td>\n",
       "      <td>3479.76</td>\n",
       "      <td>586</td>\n",
       "      <td>5</td>\n",
       "      <td>1</td>\n",
       "      <td>95</td>\n",
       "      <td>0</td>\n",
       "      <td>76</td>\n",
       "      <td>12</td>\n",
       "      <td>18</td>\n",
       "      <td>1</td>\n",
       "    </tr>\n",
       "  </tbody>\n",
       "</table>\n",
       "</div>"
      ],
      "text/plain": [
       "   QUANTITYORDERED  PRICEEACH  ORDERLINENUMBER    SALES  DAYS_SINCE_LASTORDER  \\\n",
       "0               30      95.70                2  2871.00                   828   \n",
       "1               34      81.35                5  2765.90                   757   \n",
       "2               41      94.74                2  3884.34                   703   \n",
       "3               45      83.26                6  3746.70                   649   \n",
       "4               36      96.66                1  3479.76                   586   \n",
       "\n",
       "   STATUS  PRODUCTLINE  MSRP  PRODUCTCODE  CUSTOMERNAME  CITY  COUNTRY  \\\n",
       "0       5            1    95            0            44    41       18   \n",
       "1       5            1    95            0            63    55        6   \n",
       "2       5            1    95            0            45    51        6   \n",
       "3       5            1    95            0            82    52       18   \n",
       "4       5            1    95            0            76    12       18   \n",
       "\n",
       "   DEALSIZE  \n",
       "0         2  \n",
       "1         2  \n",
       "2         1  \n",
       "3         1  \n",
       "4         1  "
      ]
     },
     "execution_count": 8,
     "metadata": {},
     "output_type": "execute_result"
    }
   ],
   "source": [
    "label_encoder = LabelEncoder()\n",
    "\n",
    "df['STATUS'] = label_encoder.fit_transform(df['STATUS'])\n",
    "df['PRODUCTLINE'] = label_encoder.fit_transform(df['PRODUCTLINE'])\n",
    "df['PRODUCTCODE'] = label_encoder.fit_transform(df['PRODUCTCODE'])\n",
    "df['CUSTOMERNAME'] = label_encoder.fit_transform(df['CUSTOMERNAME'])\n",
    "df['CITY'] = label_encoder.fit_transform(df['CITY'])\n",
    "df['COUNTRY'] = label_encoder.fit_transform(df['COUNTRY'])\n",
    "df['DEALSIZE'] = label_encoder.fit_transform(df['DEALSIZE'])\n",
    "\n",
    "df.head()"
   ]
  },
  {
   "cell_type": "code",
   "execution_count": 9,
   "id": "04937d08",
   "metadata": {
    "execution": {
     "iopub.execute_input": "2024-01-09T18:06:48.108500Z",
     "iopub.status.busy": "2024-01-09T18:06:48.108085Z",
     "iopub.status.idle": "2024-01-09T18:06:48.114952Z",
     "shell.execute_reply": "2024-01-09T18:06:48.113912Z"
    },
    "papermill": {
     "duration": 0.023434,
     "end_time": "2024-01-09T18:06:48.117324",
     "exception": false,
     "start_time": "2024-01-09T18:06:48.093890",
     "status": "completed"
    },
    "tags": []
   },
   "outputs": [],
   "source": [
    "# 'SALES' is the target variable\n",
    "X = df.drop('SALES', axis=1)  # Features\n",
    "y = df['SALES']  # Target variable"
   ]
  },
  {
   "cell_type": "code",
   "execution_count": 10,
   "id": "5021c619",
   "metadata": {
    "execution": {
     "iopub.execute_input": "2024-01-09T18:06:48.145697Z",
     "iopub.status.busy": "2024-01-09T18:06:48.145304Z",
     "iopub.status.idle": "2024-01-09T18:06:48.154806Z",
     "shell.execute_reply": "2024-01-09T18:06:48.153548Z"
    },
    "papermill": {
     "duration": 0.027418,
     "end_time": "2024-01-09T18:06:48.157706",
     "exception": false,
     "start_time": "2024-01-09T18:06:48.130288",
     "status": "completed"
    },
    "tags": []
   },
   "outputs": [],
   "source": [
    "# Splitting the data into training and testing sets\n",
    "X_train, X_test, y_train, y_test = train_test_split(X, y, test_size=0.2, random_state=42)"
   ]
  },
  {
   "cell_type": "code",
   "execution_count": 11,
   "id": "f61791df",
   "metadata": {
    "execution": {
     "iopub.execute_input": "2024-01-09T18:06:48.185274Z",
     "iopub.status.busy": "2024-01-09T18:06:48.184826Z",
     "iopub.status.idle": "2024-01-09T18:06:48.216933Z",
     "shell.execute_reply": "2024-01-09T18:06:48.215562Z"
    },
    "papermill": {
     "duration": 0.048883,
     "end_time": "2024-01-09T18:06:48.219728",
     "exception": false,
     "start_time": "2024-01-09T18:06:48.170845",
     "status": "completed"
    },
    "tags": []
   },
   "outputs": [
    {
     "data": {
      "text/html": [
       "<style>#sk-container-id-2 {color: black;background-color: white;}#sk-container-id-2 pre{padding: 0;}#sk-container-id-2 div.sk-toggleable {background-color: white;}#sk-container-id-2 label.sk-toggleable__label {cursor: pointer;display: block;width: 100%;margin-bottom: 0;padding: 0.3em;box-sizing: border-box;text-align: center;}#sk-container-id-2 label.sk-toggleable__label-arrow:before {content: \"▸\";float: left;margin-right: 0.25em;color: #696969;}#sk-container-id-2 label.sk-toggleable__label-arrow:hover:before {color: black;}#sk-container-id-2 div.sk-estimator:hover label.sk-toggleable__label-arrow:before {color: black;}#sk-container-id-2 div.sk-toggleable__content {max-height: 0;max-width: 0;overflow: hidden;text-align: left;background-color: #f0f8ff;}#sk-container-id-2 div.sk-toggleable__content pre {margin: 0.2em;color: black;border-radius: 0.25em;background-color: #f0f8ff;}#sk-container-id-2 input.sk-toggleable__control:checked~div.sk-toggleable__content {max-height: 200px;max-width: 100%;overflow: auto;}#sk-container-id-2 input.sk-toggleable__control:checked~label.sk-toggleable__label-arrow:before {content: \"▾\";}#sk-container-id-2 div.sk-estimator input.sk-toggleable__control:checked~label.sk-toggleable__label {background-color: #d4ebff;}#sk-container-id-2 div.sk-label input.sk-toggleable__control:checked~label.sk-toggleable__label {background-color: #d4ebff;}#sk-container-id-2 input.sk-hidden--visually {border: 0;clip: rect(1px 1px 1px 1px);clip: rect(1px, 1px, 1px, 1px);height: 1px;margin: -1px;overflow: hidden;padding: 0;position: absolute;width: 1px;}#sk-container-id-2 div.sk-estimator {font-family: monospace;background-color: #f0f8ff;border: 1px dotted black;border-radius: 0.25em;box-sizing: border-box;margin-bottom: 0.5em;}#sk-container-id-2 div.sk-estimator:hover {background-color: #d4ebff;}#sk-container-id-2 div.sk-parallel-item::after {content: \"\";width: 100%;border-bottom: 1px solid gray;flex-grow: 1;}#sk-container-id-2 div.sk-label:hover label.sk-toggleable__label {background-color: #d4ebff;}#sk-container-id-2 div.sk-serial::before {content: \"\";position: absolute;border-left: 1px solid gray;box-sizing: border-box;top: 0;bottom: 0;left: 50%;z-index: 0;}#sk-container-id-2 div.sk-serial {display: flex;flex-direction: column;align-items: center;background-color: white;padding-right: 0.2em;padding-left: 0.2em;position: relative;}#sk-container-id-2 div.sk-item {position: relative;z-index: 1;}#sk-container-id-2 div.sk-parallel {display: flex;align-items: stretch;justify-content: center;background-color: white;position: relative;}#sk-container-id-2 div.sk-item::before, #sk-container-id-2 div.sk-parallel-item::before {content: \"\";position: absolute;border-left: 1px solid gray;box-sizing: border-box;top: 0;bottom: 0;left: 50%;z-index: -1;}#sk-container-id-2 div.sk-parallel-item {display: flex;flex-direction: column;z-index: 1;position: relative;background-color: white;}#sk-container-id-2 div.sk-parallel-item:first-child::after {align-self: flex-end;width: 50%;}#sk-container-id-2 div.sk-parallel-item:last-child::after {align-self: flex-start;width: 50%;}#sk-container-id-2 div.sk-parallel-item:only-child::after {width: 0;}#sk-container-id-2 div.sk-dashed-wrapped {border: 1px dashed gray;margin: 0 0.4em 0.5em 0.4em;box-sizing: border-box;padding-bottom: 0.4em;background-color: white;}#sk-container-id-2 div.sk-label label {font-family: monospace;font-weight: bold;display: inline-block;line-height: 1.2em;}#sk-container-id-2 div.sk-label-container {text-align: center;}#sk-container-id-2 div.sk-container {/* jupyter's `normalize.less` sets `[hidden] { display: none; }` but bootstrap.min.css set `[hidden] { display: none !important; }` so we also need the `!important` here to be able to override the default hidden behavior on the sphinx rendered scikit-learn.org. See: https://github.com/scikit-learn/scikit-learn/issues/21755 */display: inline-block !important;position: relative;}#sk-container-id-2 div.sk-text-repr-fallback {display: none;}</style><div id=\"sk-container-id-2\" class=\"sk-top-container\"><div class=\"sk-text-repr-fallback\"><pre>DecisionTreeRegressor(random_state=42)</pre><b>In a Jupyter environment, please rerun this cell to show the HTML representation or trust the notebook. <br />On GitHub, the HTML representation is unable to render, please try loading this page with nbviewer.org.</b></div><div class=\"sk-container\" hidden><div class=\"sk-item\"><div class=\"sk-estimator sk-toggleable\"><input class=\"sk-toggleable__control sk-hidden--visually\" id=\"sk-estimator-id-2\" type=\"checkbox\" checked><label for=\"sk-estimator-id-2\" class=\"sk-toggleable__label sk-toggleable__label-arrow\">DecisionTreeRegressor</label><div class=\"sk-toggleable__content\"><pre>DecisionTreeRegressor(random_state=42)</pre></div></div></div></div></div>"
      ],
      "text/plain": [
       "DecisionTreeRegressor(random_state=42)"
      ]
     },
     "execution_count": 11,
     "metadata": {},
     "output_type": "execute_result"
    }
   ],
   "source": [
    "# Training the model\n",
    "dt_model.fit(X_train, y_train)# enable_categorical = True)"
   ]
  },
  {
   "cell_type": "code",
   "execution_count": 12,
   "id": "592eb80e",
   "metadata": {
    "execution": {
     "iopub.execute_input": "2024-01-09T18:06:48.248405Z",
     "iopub.status.busy": "2024-01-09T18:06:48.247963Z",
     "iopub.status.idle": "2024-01-09T18:06:48.266136Z",
     "shell.execute_reply": "2024-01-09T18:06:48.264572Z"
    },
    "papermill": {
     "duration": 0.036321,
     "end_time": "2024-01-09T18:06:48.269065",
     "exception": false,
     "start_time": "2024-01-09T18:06:48.232744",
     "status": "completed"
    },
    "tags": []
   },
   "outputs": [
    {
     "data": {
      "text/plain": [
       "array([2487.45, 1958.84, 2538.8 , 2586.88, 1764.75, 3988.6 , 2152.02,\n",
       "       7110.91, 3222.  , 6075.3 , 3091.19, 2204.6 , 1266.1 , 3385.9 ,\n",
       "       3131.2 , 5481.45, 6761.6 , 2980.6 , 6862.94, 2455.02, 6996.42,\n",
       "       2530.01, 2441.04, 1979.6 , 1513.54, 1246.44, 3155.49, 6930.74,\n",
       "       2790.45, 4816.08, 3184.8 , 5074.39, 5512.32, 3957.05, 4808.38,\n",
       "       3611.16, 5195.85, 4509.12, 2230.41, 1917.84, 1875.2 , 1277.64,\n",
       "       2455.02, 4459.62, 2862.72, 2299.  , 3881.25, 1987.02, 7023.9 ,\n",
       "       3179.52, 3329.09, 1843.52, 2144.6 , 1352.4 , 6311.2 , 2351.36,\n",
       "       6761.6 , 6295.95, 1605.  , 1707.14, 3666.96, 6539.04, 3559.4 ,\n",
       "       4103.46, 6231.91, 7483.98, 1527.8 , 2999.97, 3974.94, 2824.8 ,\n",
       "       1624.25, 6763.05, 2203.11, 1767.43, 6668.24, 6083.  , 3581.4 ,\n",
       "       4431.84, 1930.5 , 5700.09, 1696.82, 2113.37, 1246.44, 5096.91,\n",
       "       2814.28, 2754.7 , 3657.69, 2046.  , 3177.3 , 5723.78, 3431.25,\n",
       "       2294.18, 5760.93, 2038.87, 5884.65, 3239.62, 2349.9 , 1987.02,\n",
       "       5096.91, 4219.28, 7136.19, 4764.6 , 4479.63, 2639.58, 2402.75,\n",
       "       3660.93, 1747.9 , 3347.74, 2730.06, 8977.05, 2364.88, 2390.22,\n",
       "       6232.  , 6034.33, 4330.1 , 4764.6 , 3734.01, 3933.93, 1033.41,\n",
       "       1057.56,  865.49, 3421.04, 2872.25, 4695.6 , 3179.52, 1199.31,\n",
       "       1013.76, 3823.64, 1259.44, 2921.62, 2854.75, 1504.16, 3942.72,\n",
       "       4076.19, 3342.57, 1266.1 , 1796.34, 3003.  , 3773.38, 1459.6 ,\n",
       "       3467.2 , 3686.54, 3423.75, 2914.11, 5278.68, 3667.52, 3458.42,\n",
       "       6130.35, 2775.08, 5713.79, 3363.52, 1771.06, 1499.1 , 2201.62,\n",
       "       1649.18, 2730.  , 1558.99, 6287.66, 5035.11, 4307.52, 1986.8 ,\n",
       "       2482.11, 2848.23, 3302.4 , 5491.6 , 4556.99, 1559.04, 5372.57,\n",
       "       3535.35, 2980.6 , 3042.41, 4157.04, 3382.5 , 3155.04, 2453.55,\n",
       "       1559.04, 4884.88, 4812.55, 5713.92, 3255.12, 4076.19, 4746.28,\n",
       "       5399.55, 5981.42, 3095.4 , 4692.6 , 4235.  , 3182.97, 4998.  ,\n",
       "       2154.  , 5288.64, 2610.72, 3039.96, 4093.  , 1045.98, 2011.8 ,\n",
       "       4705.18,  891.03, 3934.44, 2919.58, 1404.  , 4764.48, 2654.4 ,\n",
       "       4840.87, 2013.5 , 2184.38, 5248.  , 2315.18, 1835.98, 1701.28,\n",
       "       2455.02, 3958.46, 6287.66, 7901.1 , 2351.36, 4228.2 , 1482.6 ,\n",
       "       5302.8 , 2011.8 , 1451.  , 2708.42, 3845.6 , 6930.74, 1637.2 ,\n",
       "       1045.98, 2082.49, 3970.56, 2439.99, 4808.38, 2848.23, 2586.88,\n",
       "       5372.57, 2100.56, 1549.8 , 3660.93, 7827.3 , 1944.54, 3628.94,\n",
       "       3385.9 , 1259.44, 7483.98, 1875.2 , 2775.08, 2760.94, 2850.82,\n",
       "       6089.6 , 5404.62, 3073.72, 5481.45, 2120.14, 2632.28, 3090.15,\n",
       "       2279.55, 4094.72, 5797.44, 1206.9 , 7498.9 , 2242.02, 3336.9 ,\n",
       "       3091.19, 6372.6 , 4223.13,  777.  , 6954.08, 2694.72, 1351.08,\n",
       "       5399.55, 5997.6 , 4394.84, 2633.78, 5684.65, 4302.08, 2344.98,\n",
       "       3820.44, 2116.5 , 4248.3 , 1682.37, 5997.6 , 1266.1 , 2999.97,\n",
       "       1713.8 , 1482.6 , 3159.96, 1185.3 , 1942.15, 1556.62, 2800.08,\n",
       "       8138.76, 4873.26, 1968.12, 4724.91, 1878.66, 6209.25, 1336.44,\n",
       "       5450.59, 5418.88, 2932.08, 1682.37, 4797.39, 4059.33, 2244.9 ,\n",
       "       3392.84, 3003.  , 4601.2 , 5747.85, 4181.44, 3807.12, 4228.2 ,\n",
       "       2999.97, 5288.64, 1514.52, 3231.36, 1451.  , 4814.4 , 4517.91,\n",
       "       3135.93,  717.4 , 5773.44, 1539.72, 5192.95, 2848.23, 1828.  ,\n",
       "        856.52, 5565.12, 2086.92, 3159.96, 5776.26, 3581.76, 3913.69,\n",
       "       3843.99, 4618.69, 2671.95, 2719.8 , 4119.4 , 1539.72, 4230.62,\n",
       "       1958.84, 1517.54, 1593.02, 2424.  , 3685.95, 1834.5 , 3385.9 ,\n",
       "       2603.04, 5669.64, 2800.08, 4536.  , 3861.2 , 4720.  , 7680.64,\n",
       "       4534.6 , 3823.64, 4808.38, 3864.5 , 2315.18, 2678.4 , 1228.2 ,\n",
       "       2389.68, 3918.95, 5597.76, 2280.96, 2480.38, 2760.94, 3374.71,\n",
       "       4361.4 , 2439.99, 5548.9 , 4236.14, 3440.  , 2455.02, 3496.32,\n",
       "       2005.74, 3442.04, 5026.4 , 6069.  , 5398.26, 3510.  , 3047.73,\n",
       "       6724.  , 1875.2 , 5984.14, 2602.25, 2921.7 , 1968.12, 3493.91,\n",
       "       1824.  , 3095.4 , 6482.85, 3881.28, 4524.1 , 3106.25, 3273.27,\n",
       "       3072.96, 2658.48, 3177.91, 3248.7 , 3070.52, 1883.93, 7396.8 ,\n",
       "       6372.6 , 4086.29, 2185.15, 1831.2 , 3843.99, 3807.12, 2626.8 ,\n",
       "       1951.92, 3423.75, 4111.8 , 2770.78, 3139.99, 2650.62, 2711.88,\n",
       "       3843.99, 1747.2 , 2908.35, 3845.6 , 2586.88, 2086.92, 1385.28,\n",
       "       2831.54, 1859.44, 1611.4 , 2447.76, 5481.45, 2969.46, 3476.8 ,\n",
       "       7599.9 , 5247.18, 1987.02, 3881.25, 2259.72, 2671.95, 6467.02,\n",
       "       1617.38, 2730.06, 3455.76, 1626.24, 5938.14, 3423.75, 4529.28,\n",
       "       3564.75, 3188.12, 9661.44, 5752.54,  990.78, 1981.65, 3334.04,\n",
       "       2800.08, 2891.01, 2747.8 , 4808.38, 2592.72, 2571.14, 4753.49,\n",
       "       6467.02, 3628.94, 5628.89, 1373.6 , 5192.95, 1771.06, 3952.83,\n",
       "       2935.15, 3644.12, 2915.66, 2257.58, 2504.4 , 3510.  , 1340.64,\n",
       "       2061.12, 5026.4 , 2203.75, 5981.42, 2455.02, 4477.32, 1351.08,\n",
       "       2192.68, 4455.  , 2711.88, 6168.  , 2061.12, 1661.88, 3023.1 ,\n",
       "       4477.32, 8014.82, 1711.22, 2118.54, 5545.76,  694.6 , 2847.  ,\n",
       "       4705.18, 5532.12, 5565.12, 3191.2 , 2351.36, 2862.72, 5004.8 ,\n",
       "       5565.12, 2730.06, 2925.76, 4896.7 , 1747.2 , 1771.06, 2747.53,\n",
       "       1185.3 , 1033.41, 4396.14, 4432.7 , 6153.73, 4307.52, 6563.06,\n",
       "       4572.25, 2754.7 , 3394.98, 1513.54, 9245.76, 9774.03, 7396.8 ,\n",
       "       4111.8 , 4307.52, 6176.42, 1921.41, 1093.99, 5938.14, 1474.66,\n",
       "       2183.25, 2711.88, 2316.  , 3731.04, 2246.4 , 4556.99, 2603.2 ,\n",
       "       3431.75, 5082.42, 4428.  , 2761.96, 3500.1 , 4417.38, 3883.74,\n",
       "       3095.4 , 3113.64, 7396.8 , 2281.91, 7498.9 ,  930.9 , 1921.41,\n",
       "       2213.38, 1330.35, 9240.44, 3347.74])"
      ]
     },
     "execution_count": 12,
     "metadata": {},
     "output_type": "execute_result"
    }
   ],
   "source": [
    "# Making predictions on the test set\n",
    "y_pred = dt_model.predict(X_test)\n",
    "y_pred"
   ]
  },
  {
   "cell_type": "code",
   "execution_count": 13,
   "id": "bb6bcccc",
   "metadata": {
    "execution": {
     "iopub.execute_input": "2024-01-09T18:06:48.297783Z",
     "iopub.status.busy": "2024-01-09T18:06:48.297346Z",
     "iopub.status.idle": "2024-01-09T18:06:48.307897Z",
     "shell.execute_reply": "2024-01-09T18:06:48.306391Z"
    },
    "papermill": {
     "duration": 0.028085,
     "end_time": "2024-01-09T18:06:48.310781",
     "exception": false,
     "start_time": "2024-01-09T18:06:48.282696",
     "status": "completed"
    },
    "tags": []
   },
   "outputs": [
    {
     "name": "stdout",
     "output_type": "stream",
     "text": [
      "Mean Absolute Error: 118.9059272727273\n",
      "Mean Squared Error: 42127.24253236363\n",
      "R-squared: 0.9861802715821307\n"
     ]
    }
   ],
   "source": [
    "# Evaluating the model\n",
    "mae = mean_absolute_error(y_test, y_pred)\n",
    "mse = mean_squared_error(y_test, y_pred)\n",
    "r2 = r2_score(y_test, y_pred)\n",
    "\n",
    "print(f'Mean Absolute Error: {mae}')\n",
    "print(f'Mean Squared Error: {mse}')\n",
    "print(f'R-squared: {r2}')"
   ]
  },
  {
   "cell_type": "markdown",
   "id": "0f037ff2",
   "metadata": {
    "papermill": {
     "duration": 0.015385,
     "end_time": "2024-01-09T18:06:48.339833",
     "exception": false,
     "start_time": "2024-01-09T18:06:48.324448",
     "status": "completed"
    },
    "tags": []
   },
   "source": [
    "**Hyperparameter Tuning**"
   ]
  },
  {
   "cell_type": "code",
   "execution_count": 14,
   "id": "8a514109",
   "metadata": {
    "execution": {
     "iopub.execute_input": "2024-01-09T18:06:48.369946Z",
     "iopub.status.busy": "2024-01-09T18:06:48.369498Z",
     "iopub.status.idle": "2024-01-09T18:06:48.375090Z",
     "shell.execute_reply": "2024-01-09T18:06:48.373479Z"
    },
    "papermill": {
     "duration": 0.023303,
     "end_time": "2024-01-09T18:06:48.377630",
     "exception": false,
     "start_time": "2024-01-09T18:06:48.354327",
     "status": "completed"
    },
    "tags": []
   },
   "outputs": [],
   "source": [
    "from sklearn.model_selection import GridSearchCV"
   ]
  },
  {
   "cell_type": "code",
   "execution_count": 15,
   "id": "49b79450",
   "metadata": {
    "execution": {
     "iopub.execute_input": "2024-01-09T18:06:48.407591Z",
     "iopub.status.busy": "2024-01-09T18:06:48.406605Z",
     "iopub.status.idle": "2024-01-09T18:06:48.412911Z",
     "shell.execute_reply": "2024-01-09T18:06:48.411565Z"
    },
    "papermill": {
     "duration": 0.024442,
     "end_time": "2024-01-09T18:06:48.415402",
     "exception": false,
     "start_time": "2024-01-09T18:06:48.390960",
     "status": "completed"
    },
    "tags": []
   },
   "outputs": [],
   "source": [
    "# Defining the hyperparameters and their possible values\n",
    "param_grid = {\n",
    "    'max_depth': [None, 10, 20, 30],\n",
    "    'min_samples_split': [2, 5, 10],\n",
    "    'min_samples_leaf': [1, 2, 4]\n",
    "}"
   ]
  },
  {
   "cell_type": "code",
   "execution_count": 16,
   "id": "7949ee03",
   "metadata": {
    "execution": {
     "iopub.execute_input": "2024-01-09T18:06:48.444134Z",
     "iopub.status.busy": "2024-01-09T18:06:48.443691Z",
     "iopub.status.idle": "2024-01-09T18:06:48.454244Z",
     "shell.execute_reply": "2024-01-09T18:06:48.453305Z"
    },
    "papermill": {
     "duration": 0.027523,
     "end_time": "2024-01-09T18:06:48.456434",
     "exception": false,
     "start_time": "2024-01-09T18:06:48.428911",
     "status": "completed"
    },
    "tags": []
   },
   "outputs": [
    {
     "data": {
      "text/html": [
       "<style>#sk-container-id-3 {color: black;background-color: white;}#sk-container-id-3 pre{padding: 0;}#sk-container-id-3 div.sk-toggleable {background-color: white;}#sk-container-id-3 label.sk-toggleable__label {cursor: pointer;display: block;width: 100%;margin-bottom: 0;padding: 0.3em;box-sizing: border-box;text-align: center;}#sk-container-id-3 label.sk-toggleable__label-arrow:before {content: \"▸\";float: left;margin-right: 0.25em;color: #696969;}#sk-container-id-3 label.sk-toggleable__label-arrow:hover:before {color: black;}#sk-container-id-3 div.sk-estimator:hover label.sk-toggleable__label-arrow:before {color: black;}#sk-container-id-3 div.sk-toggleable__content {max-height: 0;max-width: 0;overflow: hidden;text-align: left;background-color: #f0f8ff;}#sk-container-id-3 div.sk-toggleable__content pre {margin: 0.2em;color: black;border-radius: 0.25em;background-color: #f0f8ff;}#sk-container-id-3 input.sk-toggleable__control:checked~div.sk-toggleable__content {max-height: 200px;max-width: 100%;overflow: auto;}#sk-container-id-3 input.sk-toggleable__control:checked~label.sk-toggleable__label-arrow:before {content: \"▾\";}#sk-container-id-3 div.sk-estimator input.sk-toggleable__control:checked~label.sk-toggleable__label {background-color: #d4ebff;}#sk-container-id-3 div.sk-label input.sk-toggleable__control:checked~label.sk-toggleable__label {background-color: #d4ebff;}#sk-container-id-3 input.sk-hidden--visually {border: 0;clip: rect(1px 1px 1px 1px);clip: rect(1px, 1px, 1px, 1px);height: 1px;margin: -1px;overflow: hidden;padding: 0;position: absolute;width: 1px;}#sk-container-id-3 div.sk-estimator {font-family: monospace;background-color: #f0f8ff;border: 1px dotted black;border-radius: 0.25em;box-sizing: border-box;margin-bottom: 0.5em;}#sk-container-id-3 div.sk-estimator:hover {background-color: #d4ebff;}#sk-container-id-3 div.sk-parallel-item::after {content: \"\";width: 100%;border-bottom: 1px solid gray;flex-grow: 1;}#sk-container-id-3 div.sk-label:hover label.sk-toggleable__label {background-color: #d4ebff;}#sk-container-id-3 div.sk-serial::before {content: \"\";position: absolute;border-left: 1px solid gray;box-sizing: border-box;top: 0;bottom: 0;left: 50%;z-index: 0;}#sk-container-id-3 div.sk-serial {display: flex;flex-direction: column;align-items: center;background-color: white;padding-right: 0.2em;padding-left: 0.2em;position: relative;}#sk-container-id-3 div.sk-item {position: relative;z-index: 1;}#sk-container-id-3 div.sk-parallel {display: flex;align-items: stretch;justify-content: center;background-color: white;position: relative;}#sk-container-id-3 div.sk-item::before, #sk-container-id-3 div.sk-parallel-item::before {content: \"\";position: absolute;border-left: 1px solid gray;box-sizing: border-box;top: 0;bottom: 0;left: 50%;z-index: -1;}#sk-container-id-3 div.sk-parallel-item {display: flex;flex-direction: column;z-index: 1;position: relative;background-color: white;}#sk-container-id-3 div.sk-parallel-item:first-child::after {align-self: flex-end;width: 50%;}#sk-container-id-3 div.sk-parallel-item:last-child::after {align-self: flex-start;width: 50%;}#sk-container-id-3 div.sk-parallel-item:only-child::after {width: 0;}#sk-container-id-3 div.sk-dashed-wrapped {border: 1px dashed gray;margin: 0 0.4em 0.5em 0.4em;box-sizing: border-box;padding-bottom: 0.4em;background-color: white;}#sk-container-id-3 div.sk-label label {font-family: monospace;font-weight: bold;display: inline-block;line-height: 1.2em;}#sk-container-id-3 div.sk-label-container {text-align: center;}#sk-container-id-3 div.sk-container {/* jupyter's `normalize.less` sets `[hidden] { display: none; }` but bootstrap.min.css set `[hidden] { display: none !important; }` so we also need the `!important` here to be able to override the default hidden behavior on the sphinx rendered scikit-learn.org. See: https://github.com/scikit-learn/scikit-learn/issues/21755 */display: inline-block !important;position: relative;}#sk-container-id-3 div.sk-text-repr-fallback {display: none;}</style><div id=\"sk-container-id-3\" class=\"sk-top-container\"><div class=\"sk-text-repr-fallback\"><pre>GridSearchCV(cv=5, estimator=DecisionTreeRegressor(random_state=42),\n",
       "             param_grid={&#x27;max_depth&#x27;: [None, 10, 20, 30],\n",
       "                         &#x27;min_samples_leaf&#x27;: [1, 2, 4],\n",
       "                         &#x27;min_samples_split&#x27;: [2, 5, 10]},\n",
       "             scoring=&#x27;neg_mean_absolute_error&#x27;)</pre><b>In a Jupyter environment, please rerun this cell to show the HTML representation or trust the notebook. <br />On GitHub, the HTML representation is unable to render, please try loading this page with nbviewer.org.</b></div><div class=\"sk-container\" hidden><div class=\"sk-item sk-dashed-wrapped\"><div class=\"sk-label-container\"><div class=\"sk-label sk-toggleable\"><input class=\"sk-toggleable__control sk-hidden--visually\" id=\"sk-estimator-id-3\" type=\"checkbox\" ><label for=\"sk-estimator-id-3\" class=\"sk-toggleable__label sk-toggleable__label-arrow\">GridSearchCV</label><div class=\"sk-toggleable__content\"><pre>GridSearchCV(cv=5, estimator=DecisionTreeRegressor(random_state=42),\n",
       "             param_grid={&#x27;max_depth&#x27;: [None, 10, 20, 30],\n",
       "                         &#x27;min_samples_leaf&#x27;: [1, 2, 4],\n",
       "                         &#x27;min_samples_split&#x27;: [2, 5, 10]},\n",
       "             scoring=&#x27;neg_mean_absolute_error&#x27;)</pre></div></div></div><div class=\"sk-parallel\"><div class=\"sk-parallel-item\"><div class=\"sk-item\"><div class=\"sk-label-container\"><div class=\"sk-label sk-toggleable\"><input class=\"sk-toggleable__control sk-hidden--visually\" id=\"sk-estimator-id-4\" type=\"checkbox\" ><label for=\"sk-estimator-id-4\" class=\"sk-toggleable__label sk-toggleable__label-arrow\">estimator: DecisionTreeRegressor</label><div class=\"sk-toggleable__content\"><pre>DecisionTreeRegressor(random_state=42)</pre></div></div></div><div class=\"sk-serial\"><div class=\"sk-item\"><div class=\"sk-estimator sk-toggleable\"><input class=\"sk-toggleable__control sk-hidden--visually\" id=\"sk-estimator-id-5\" type=\"checkbox\" ><label for=\"sk-estimator-id-5\" class=\"sk-toggleable__label sk-toggleable__label-arrow\">DecisionTreeRegressor</label><div class=\"sk-toggleable__content\"><pre>DecisionTreeRegressor(random_state=42)</pre></div></div></div></div></div></div></div></div></div></div>"
      ],
      "text/plain": [
       "GridSearchCV(cv=5, estimator=DecisionTreeRegressor(random_state=42),\n",
       "             param_grid={'max_depth': [None, 10, 20, 30],\n",
       "                         'min_samples_leaf': [1, 2, 4],\n",
       "                         'min_samples_split': [2, 5, 10]},\n",
       "             scoring='neg_mean_absolute_error')"
      ]
     },
     "execution_count": 16,
     "metadata": {},
     "output_type": "execute_result"
    }
   ],
   "source": [
    "# Creating a GridSearchCV object\n",
    "grid_search = GridSearchCV(estimator=dt_model, param_grid=param_grid, scoring='neg_mean_absolute_error', cv=5)\n",
    "\n",
    "grid_search"
   ]
  },
  {
   "cell_type": "code",
   "execution_count": 17,
   "id": "3a543cfb",
   "metadata": {
    "execution": {
     "iopub.execute_input": "2024-01-09T18:06:48.486049Z",
     "iopub.status.busy": "2024-01-09T18:06:48.485649Z",
     "iopub.status.idle": "2024-01-09T18:06:51.629567Z",
     "shell.execute_reply": "2024-01-09T18:06:51.628228Z"
    },
    "papermill": {
     "duration": 3.162093,
     "end_time": "2024-01-09T18:06:51.632326",
     "exception": false,
     "start_time": "2024-01-09T18:06:48.470233",
     "status": "completed"
    },
    "tags": []
   },
   "outputs": [
    {
     "data": {
      "text/html": [
       "<style>#sk-container-id-4 {color: black;background-color: white;}#sk-container-id-4 pre{padding: 0;}#sk-container-id-4 div.sk-toggleable {background-color: white;}#sk-container-id-4 label.sk-toggleable__label {cursor: pointer;display: block;width: 100%;margin-bottom: 0;padding: 0.3em;box-sizing: border-box;text-align: center;}#sk-container-id-4 label.sk-toggleable__label-arrow:before {content: \"▸\";float: left;margin-right: 0.25em;color: #696969;}#sk-container-id-4 label.sk-toggleable__label-arrow:hover:before {color: black;}#sk-container-id-4 div.sk-estimator:hover label.sk-toggleable__label-arrow:before {color: black;}#sk-container-id-4 div.sk-toggleable__content {max-height: 0;max-width: 0;overflow: hidden;text-align: left;background-color: #f0f8ff;}#sk-container-id-4 div.sk-toggleable__content pre {margin: 0.2em;color: black;border-radius: 0.25em;background-color: #f0f8ff;}#sk-container-id-4 input.sk-toggleable__control:checked~div.sk-toggleable__content {max-height: 200px;max-width: 100%;overflow: auto;}#sk-container-id-4 input.sk-toggleable__control:checked~label.sk-toggleable__label-arrow:before {content: \"▾\";}#sk-container-id-4 div.sk-estimator input.sk-toggleable__control:checked~label.sk-toggleable__label {background-color: #d4ebff;}#sk-container-id-4 div.sk-label input.sk-toggleable__control:checked~label.sk-toggleable__label {background-color: #d4ebff;}#sk-container-id-4 input.sk-hidden--visually {border: 0;clip: rect(1px 1px 1px 1px);clip: rect(1px, 1px, 1px, 1px);height: 1px;margin: -1px;overflow: hidden;padding: 0;position: absolute;width: 1px;}#sk-container-id-4 div.sk-estimator {font-family: monospace;background-color: #f0f8ff;border: 1px dotted black;border-radius: 0.25em;box-sizing: border-box;margin-bottom: 0.5em;}#sk-container-id-4 div.sk-estimator:hover {background-color: #d4ebff;}#sk-container-id-4 div.sk-parallel-item::after {content: \"\";width: 100%;border-bottom: 1px solid gray;flex-grow: 1;}#sk-container-id-4 div.sk-label:hover label.sk-toggleable__label {background-color: #d4ebff;}#sk-container-id-4 div.sk-serial::before {content: \"\";position: absolute;border-left: 1px solid gray;box-sizing: border-box;top: 0;bottom: 0;left: 50%;z-index: 0;}#sk-container-id-4 div.sk-serial {display: flex;flex-direction: column;align-items: center;background-color: white;padding-right: 0.2em;padding-left: 0.2em;position: relative;}#sk-container-id-4 div.sk-item {position: relative;z-index: 1;}#sk-container-id-4 div.sk-parallel {display: flex;align-items: stretch;justify-content: center;background-color: white;position: relative;}#sk-container-id-4 div.sk-item::before, #sk-container-id-4 div.sk-parallel-item::before {content: \"\";position: absolute;border-left: 1px solid gray;box-sizing: border-box;top: 0;bottom: 0;left: 50%;z-index: -1;}#sk-container-id-4 div.sk-parallel-item {display: flex;flex-direction: column;z-index: 1;position: relative;background-color: white;}#sk-container-id-4 div.sk-parallel-item:first-child::after {align-self: flex-end;width: 50%;}#sk-container-id-4 div.sk-parallel-item:last-child::after {align-self: flex-start;width: 50%;}#sk-container-id-4 div.sk-parallel-item:only-child::after {width: 0;}#sk-container-id-4 div.sk-dashed-wrapped {border: 1px dashed gray;margin: 0 0.4em 0.5em 0.4em;box-sizing: border-box;padding-bottom: 0.4em;background-color: white;}#sk-container-id-4 div.sk-label label {font-family: monospace;font-weight: bold;display: inline-block;line-height: 1.2em;}#sk-container-id-4 div.sk-label-container {text-align: center;}#sk-container-id-4 div.sk-container {/* jupyter's `normalize.less` sets `[hidden] { display: none; }` but bootstrap.min.css set `[hidden] { display: none !important; }` so we also need the `!important` here to be able to override the default hidden behavior on the sphinx rendered scikit-learn.org. See: https://github.com/scikit-learn/scikit-learn/issues/21755 */display: inline-block !important;position: relative;}#sk-container-id-4 div.sk-text-repr-fallback {display: none;}</style><div id=\"sk-container-id-4\" class=\"sk-top-container\"><div class=\"sk-text-repr-fallback\"><pre>GridSearchCV(cv=5, estimator=DecisionTreeRegressor(random_state=42),\n",
       "             param_grid={&#x27;max_depth&#x27;: [None, 10, 20, 30],\n",
       "                         &#x27;min_samples_leaf&#x27;: [1, 2, 4],\n",
       "                         &#x27;min_samples_split&#x27;: [2, 5, 10]},\n",
       "             scoring=&#x27;neg_mean_absolute_error&#x27;)</pre><b>In a Jupyter environment, please rerun this cell to show the HTML representation or trust the notebook. <br />On GitHub, the HTML representation is unable to render, please try loading this page with nbviewer.org.</b></div><div class=\"sk-container\" hidden><div class=\"sk-item sk-dashed-wrapped\"><div class=\"sk-label-container\"><div class=\"sk-label sk-toggleable\"><input class=\"sk-toggleable__control sk-hidden--visually\" id=\"sk-estimator-id-6\" type=\"checkbox\" ><label for=\"sk-estimator-id-6\" class=\"sk-toggleable__label sk-toggleable__label-arrow\">GridSearchCV</label><div class=\"sk-toggleable__content\"><pre>GridSearchCV(cv=5, estimator=DecisionTreeRegressor(random_state=42),\n",
       "             param_grid={&#x27;max_depth&#x27;: [None, 10, 20, 30],\n",
       "                         &#x27;min_samples_leaf&#x27;: [1, 2, 4],\n",
       "                         &#x27;min_samples_split&#x27;: [2, 5, 10]},\n",
       "             scoring=&#x27;neg_mean_absolute_error&#x27;)</pre></div></div></div><div class=\"sk-parallel\"><div class=\"sk-parallel-item\"><div class=\"sk-item\"><div class=\"sk-label-container\"><div class=\"sk-label sk-toggleable\"><input class=\"sk-toggleable__control sk-hidden--visually\" id=\"sk-estimator-id-7\" type=\"checkbox\" ><label for=\"sk-estimator-id-7\" class=\"sk-toggleable__label sk-toggleable__label-arrow\">estimator: DecisionTreeRegressor</label><div class=\"sk-toggleable__content\"><pre>DecisionTreeRegressor(random_state=42)</pre></div></div></div><div class=\"sk-serial\"><div class=\"sk-item\"><div class=\"sk-estimator sk-toggleable\"><input class=\"sk-toggleable__control sk-hidden--visually\" id=\"sk-estimator-id-8\" type=\"checkbox\" ><label for=\"sk-estimator-id-8\" class=\"sk-toggleable__label sk-toggleable__label-arrow\">DecisionTreeRegressor</label><div class=\"sk-toggleable__content\"><pre>DecisionTreeRegressor(random_state=42)</pre></div></div></div></div></div></div></div></div></div></div>"
      ],
      "text/plain": [
       "GridSearchCV(cv=5, estimator=DecisionTreeRegressor(random_state=42),\n",
       "             param_grid={'max_depth': [None, 10, 20, 30],\n",
       "                         'min_samples_leaf': [1, 2, 4],\n",
       "                         'min_samples_split': [2, 5, 10]},\n",
       "             scoring='neg_mean_absolute_error')"
      ]
     },
     "execution_count": 17,
     "metadata": {},
     "output_type": "execute_result"
    }
   ],
   "source": [
    "# Performing the grid search on the training data\n",
    "grid_search.fit(X_train, y_train)"
   ]
  },
  {
   "cell_type": "code",
   "execution_count": 18,
   "id": "01278722",
   "metadata": {
    "execution": {
     "iopub.execute_input": "2024-01-09T18:06:51.662858Z",
     "iopub.status.busy": "2024-01-09T18:06:51.662469Z",
     "iopub.status.idle": "2024-01-09T18:06:51.671182Z",
     "shell.execute_reply": "2024-01-09T18:06:51.669768Z"
    },
    "papermill": {
     "duration": 0.029491,
     "end_time": "2024-01-09T18:06:51.676183",
     "exception": false,
     "start_time": "2024-01-09T18:06:51.646692",
     "status": "completed"
    },
    "tags": []
   },
   "outputs": [
    {
     "data": {
      "text/plain": [
       "{'max_depth': None, 'min_samples_leaf': 1, 'min_samples_split': 5}"
      ]
     },
     "execution_count": 18,
     "metadata": {},
     "output_type": "execute_result"
    }
   ],
   "source": [
    "# Getting the best hyperparameters from the grid search\n",
    "best_params = grid_search.best_params_\n",
    "\n",
    "best_params"
   ]
  },
  {
   "cell_type": "code",
   "execution_count": 19,
   "id": "2a6037e9",
   "metadata": {
    "execution": {
     "iopub.execute_input": "2024-01-09T18:06:51.719940Z",
     "iopub.status.busy": "2024-01-09T18:06:51.719519Z",
     "iopub.status.idle": "2024-01-09T18:06:51.727147Z",
     "shell.execute_reply": "2024-01-09T18:06:51.726181Z"
    },
    "papermill": {
     "duration": 0.033929,
     "end_time": "2024-01-09T18:06:51.730423",
     "exception": false,
     "start_time": "2024-01-09T18:06:51.696494",
     "status": "completed"
    },
    "tags": []
   },
   "outputs": [
    {
     "data": {
      "text/html": [
       "<style>#sk-container-id-5 {color: black;background-color: white;}#sk-container-id-5 pre{padding: 0;}#sk-container-id-5 div.sk-toggleable {background-color: white;}#sk-container-id-5 label.sk-toggleable__label {cursor: pointer;display: block;width: 100%;margin-bottom: 0;padding: 0.3em;box-sizing: border-box;text-align: center;}#sk-container-id-5 label.sk-toggleable__label-arrow:before {content: \"▸\";float: left;margin-right: 0.25em;color: #696969;}#sk-container-id-5 label.sk-toggleable__label-arrow:hover:before {color: black;}#sk-container-id-5 div.sk-estimator:hover label.sk-toggleable__label-arrow:before {color: black;}#sk-container-id-5 div.sk-toggleable__content {max-height: 0;max-width: 0;overflow: hidden;text-align: left;background-color: #f0f8ff;}#sk-container-id-5 div.sk-toggleable__content pre {margin: 0.2em;color: black;border-radius: 0.25em;background-color: #f0f8ff;}#sk-container-id-5 input.sk-toggleable__control:checked~div.sk-toggleable__content {max-height: 200px;max-width: 100%;overflow: auto;}#sk-container-id-5 input.sk-toggleable__control:checked~label.sk-toggleable__label-arrow:before {content: \"▾\";}#sk-container-id-5 div.sk-estimator input.sk-toggleable__control:checked~label.sk-toggleable__label {background-color: #d4ebff;}#sk-container-id-5 div.sk-label input.sk-toggleable__control:checked~label.sk-toggleable__label {background-color: #d4ebff;}#sk-container-id-5 input.sk-hidden--visually {border: 0;clip: rect(1px 1px 1px 1px);clip: rect(1px, 1px, 1px, 1px);height: 1px;margin: -1px;overflow: hidden;padding: 0;position: absolute;width: 1px;}#sk-container-id-5 div.sk-estimator {font-family: monospace;background-color: #f0f8ff;border: 1px dotted black;border-radius: 0.25em;box-sizing: border-box;margin-bottom: 0.5em;}#sk-container-id-5 div.sk-estimator:hover {background-color: #d4ebff;}#sk-container-id-5 div.sk-parallel-item::after {content: \"\";width: 100%;border-bottom: 1px solid gray;flex-grow: 1;}#sk-container-id-5 div.sk-label:hover label.sk-toggleable__label {background-color: #d4ebff;}#sk-container-id-5 div.sk-serial::before {content: \"\";position: absolute;border-left: 1px solid gray;box-sizing: border-box;top: 0;bottom: 0;left: 50%;z-index: 0;}#sk-container-id-5 div.sk-serial {display: flex;flex-direction: column;align-items: center;background-color: white;padding-right: 0.2em;padding-left: 0.2em;position: relative;}#sk-container-id-5 div.sk-item {position: relative;z-index: 1;}#sk-container-id-5 div.sk-parallel {display: flex;align-items: stretch;justify-content: center;background-color: white;position: relative;}#sk-container-id-5 div.sk-item::before, #sk-container-id-5 div.sk-parallel-item::before {content: \"\";position: absolute;border-left: 1px solid gray;box-sizing: border-box;top: 0;bottom: 0;left: 50%;z-index: -1;}#sk-container-id-5 div.sk-parallel-item {display: flex;flex-direction: column;z-index: 1;position: relative;background-color: white;}#sk-container-id-5 div.sk-parallel-item:first-child::after {align-self: flex-end;width: 50%;}#sk-container-id-5 div.sk-parallel-item:last-child::after {align-self: flex-start;width: 50%;}#sk-container-id-5 div.sk-parallel-item:only-child::after {width: 0;}#sk-container-id-5 div.sk-dashed-wrapped {border: 1px dashed gray;margin: 0 0.4em 0.5em 0.4em;box-sizing: border-box;padding-bottom: 0.4em;background-color: white;}#sk-container-id-5 div.sk-label label {font-family: monospace;font-weight: bold;display: inline-block;line-height: 1.2em;}#sk-container-id-5 div.sk-label-container {text-align: center;}#sk-container-id-5 div.sk-container {/* jupyter's `normalize.less` sets `[hidden] { display: none; }` but bootstrap.min.css set `[hidden] { display: none !important; }` so we also need the `!important` here to be able to override the default hidden behavior on the sphinx rendered scikit-learn.org. See: https://github.com/scikit-learn/scikit-learn/issues/21755 */display: inline-block !important;position: relative;}#sk-container-id-5 div.sk-text-repr-fallback {display: none;}</style><div id=\"sk-container-id-5\" class=\"sk-top-container\"><div class=\"sk-text-repr-fallback\"><pre>DecisionTreeRegressor(min_samples_split=5)</pre><b>In a Jupyter environment, please rerun this cell to show the HTML representation or trust the notebook. <br />On GitHub, the HTML representation is unable to render, please try loading this page with nbviewer.org.</b></div><div class=\"sk-container\" hidden><div class=\"sk-item\"><div class=\"sk-estimator sk-toggleable\"><input class=\"sk-toggleable__control sk-hidden--visually\" id=\"sk-estimator-id-9\" type=\"checkbox\" checked><label for=\"sk-estimator-id-9\" class=\"sk-toggleable__label sk-toggleable__label-arrow\">DecisionTreeRegressor</label><div class=\"sk-toggleable__content\"><pre>DecisionTreeRegressor(min_samples_split=5)</pre></div></div></div></div></div>"
      ],
      "text/plain": [
       "DecisionTreeRegressor(min_samples_split=5)"
      ]
     },
     "execution_count": 19,
     "metadata": {},
     "output_type": "execute_result"
    }
   ],
   "source": [
    "# Creating a Decision Tree model with the best hyperparameters\n",
    "best_dt_model = DecisionTreeRegressor(**best_params)\n",
    "\n",
    "best_dt_model"
   ]
  },
  {
   "cell_type": "code",
   "execution_count": 20,
   "id": "3322a9fa",
   "metadata": {
    "execution": {
     "iopub.execute_input": "2024-01-09T18:06:51.768064Z",
     "iopub.status.busy": "2024-01-09T18:06:51.767299Z",
     "iopub.status.idle": "2024-01-09T18:06:51.792750Z",
     "shell.execute_reply": "2024-01-09T18:06:51.791543Z"
    },
    "papermill": {
     "duration": 0.044518,
     "end_time": "2024-01-09T18:06:51.795489",
     "exception": false,
     "start_time": "2024-01-09T18:06:51.750971",
     "status": "completed"
    },
    "tags": []
   },
   "outputs": [
    {
     "data": {
      "text/html": [
       "<style>#sk-container-id-6 {color: black;background-color: white;}#sk-container-id-6 pre{padding: 0;}#sk-container-id-6 div.sk-toggleable {background-color: white;}#sk-container-id-6 label.sk-toggleable__label {cursor: pointer;display: block;width: 100%;margin-bottom: 0;padding: 0.3em;box-sizing: border-box;text-align: center;}#sk-container-id-6 label.sk-toggleable__label-arrow:before {content: \"▸\";float: left;margin-right: 0.25em;color: #696969;}#sk-container-id-6 label.sk-toggleable__label-arrow:hover:before {color: black;}#sk-container-id-6 div.sk-estimator:hover label.sk-toggleable__label-arrow:before {color: black;}#sk-container-id-6 div.sk-toggleable__content {max-height: 0;max-width: 0;overflow: hidden;text-align: left;background-color: #f0f8ff;}#sk-container-id-6 div.sk-toggleable__content pre {margin: 0.2em;color: black;border-radius: 0.25em;background-color: #f0f8ff;}#sk-container-id-6 input.sk-toggleable__control:checked~div.sk-toggleable__content {max-height: 200px;max-width: 100%;overflow: auto;}#sk-container-id-6 input.sk-toggleable__control:checked~label.sk-toggleable__label-arrow:before {content: \"▾\";}#sk-container-id-6 div.sk-estimator input.sk-toggleable__control:checked~label.sk-toggleable__label {background-color: #d4ebff;}#sk-container-id-6 div.sk-label input.sk-toggleable__control:checked~label.sk-toggleable__label {background-color: #d4ebff;}#sk-container-id-6 input.sk-hidden--visually {border: 0;clip: rect(1px 1px 1px 1px);clip: rect(1px, 1px, 1px, 1px);height: 1px;margin: -1px;overflow: hidden;padding: 0;position: absolute;width: 1px;}#sk-container-id-6 div.sk-estimator {font-family: monospace;background-color: #f0f8ff;border: 1px dotted black;border-radius: 0.25em;box-sizing: border-box;margin-bottom: 0.5em;}#sk-container-id-6 div.sk-estimator:hover {background-color: #d4ebff;}#sk-container-id-6 div.sk-parallel-item::after {content: \"\";width: 100%;border-bottom: 1px solid gray;flex-grow: 1;}#sk-container-id-6 div.sk-label:hover label.sk-toggleable__label {background-color: #d4ebff;}#sk-container-id-6 div.sk-serial::before {content: \"\";position: absolute;border-left: 1px solid gray;box-sizing: border-box;top: 0;bottom: 0;left: 50%;z-index: 0;}#sk-container-id-6 div.sk-serial {display: flex;flex-direction: column;align-items: center;background-color: white;padding-right: 0.2em;padding-left: 0.2em;position: relative;}#sk-container-id-6 div.sk-item {position: relative;z-index: 1;}#sk-container-id-6 div.sk-parallel {display: flex;align-items: stretch;justify-content: center;background-color: white;position: relative;}#sk-container-id-6 div.sk-item::before, #sk-container-id-6 div.sk-parallel-item::before {content: \"\";position: absolute;border-left: 1px solid gray;box-sizing: border-box;top: 0;bottom: 0;left: 50%;z-index: -1;}#sk-container-id-6 div.sk-parallel-item {display: flex;flex-direction: column;z-index: 1;position: relative;background-color: white;}#sk-container-id-6 div.sk-parallel-item:first-child::after {align-self: flex-end;width: 50%;}#sk-container-id-6 div.sk-parallel-item:last-child::after {align-self: flex-start;width: 50%;}#sk-container-id-6 div.sk-parallel-item:only-child::after {width: 0;}#sk-container-id-6 div.sk-dashed-wrapped {border: 1px dashed gray;margin: 0 0.4em 0.5em 0.4em;box-sizing: border-box;padding-bottom: 0.4em;background-color: white;}#sk-container-id-6 div.sk-label label {font-family: monospace;font-weight: bold;display: inline-block;line-height: 1.2em;}#sk-container-id-6 div.sk-label-container {text-align: center;}#sk-container-id-6 div.sk-container {/* jupyter's `normalize.less` sets `[hidden] { display: none; }` but bootstrap.min.css set `[hidden] { display: none !important; }` so we also need the `!important` here to be able to override the default hidden behavior on the sphinx rendered scikit-learn.org. See: https://github.com/scikit-learn/scikit-learn/issues/21755 */display: inline-block !important;position: relative;}#sk-container-id-6 div.sk-text-repr-fallback {display: none;}</style><div id=\"sk-container-id-6\" class=\"sk-top-container\"><div class=\"sk-text-repr-fallback\"><pre>DecisionTreeRegressor(min_samples_split=5)</pre><b>In a Jupyter environment, please rerun this cell to show the HTML representation or trust the notebook. <br />On GitHub, the HTML representation is unable to render, please try loading this page with nbviewer.org.</b></div><div class=\"sk-container\" hidden><div class=\"sk-item\"><div class=\"sk-estimator sk-toggleable\"><input class=\"sk-toggleable__control sk-hidden--visually\" id=\"sk-estimator-id-10\" type=\"checkbox\" checked><label for=\"sk-estimator-id-10\" class=\"sk-toggleable__label sk-toggleable__label-arrow\">DecisionTreeRegressor</label><div class=\"sk-toggleable__content\"><pre>DecisionTreeRegressor(min_samples_split=5)</pre></div></div></div></div></div>"
      ],
      "text/plain": [
       "DecisionTreeRegressor(min_samples_split=5)"
      ]
     },
     "execution_count": 20,
     "metadata": {},
     "output_type": "execute_result"
    }
   ],
   "source": [
    "# Training the model\n",
    "best_dt_model.fit(X_train, y_train)"
   ]
  },
  {
   "cell_type": "code",
   "execution_count": 21,
   "id": "592e33d3",
   "metadata": {
    "execution": {
     "iopub.execute_input": "2024-01-09T18:06:51.827088Z",
     "iopub.status.busy": "2024-01-09T18:06:51.826333Z",
     "iopub.status.idle": "2024-01-09T18:06:51.842069Z",
     "shell.execute_reply": "2024-01-09T18:06:51.840830Z"
    },
    "papermill": {
     "duration": 0.034736,
     "end_time": "2024-01-09T18:06:51.844890",
     "exception": false,
     "start_time": "2024-01-09T18:06:51.810154",
     "status": "completed"
    },
    "tags": []
   },
   "outputs": [
    {
     "data": {
      "text/plain": [
       "array([ 2487.45      ,  1976.6       ,  2547.49      ,  2568.10666667,\n",
       "        1733.49333333,  3975.46333333,  2179.2875    ,  7071.01333333,\n",
       "        3196.29      ,  6066.6225    ,  3030.25      ,  2212.53      ,\n",
       "        1313.19      ,  3386.365     ,  3131.795     ,  5404.34333333,\n",
       "        6865.8       ,  2932.05666667,  6884.5       ,  2403.19      ,\n",
       "        6954.0875    ,  2528.365     ,  2439.9225    ,  1972.97333333,\n",
       "        1527.15      ,  1251.19666667,  3146.8225    ,  6865.8       ,\n",
       "        2818.66      ,  4940.28      ,  3196.29      ,  5248.        ,\n",
       "        5478.515     ,  3925.41666667,  4734.5125    ,  3611.16      ,\n",
       "        5179.7525    ,  4509.12      ,  2212.53      ,  1917.89666667,\n",
       "        1889.91      ,  1251.19666667,  2403.19      ,  4489.87      ,\n",
       "        2812.64666667,  2325.8025    ,  3908.285     ,  2011.1175    ,\n",
       "        7071.01333333,  3179.52      ,  3293.3925    ,  1860.5325    ,\n",
       "        2143.3       ,  1400.425     ,  6294.1325    ,  2403.19      ,\n",
       "        6865.8       ,  6310.35      ,  1614.625     ,  1710.68333333,\n",
       "        3686.1       ,  6539.04      ,  3340.48      ,  4083.9275    ,\n",
       "        6249.8       ,  7527.59333333,  1539.7375    ,  2978.385     ,\n",
       "        3971.54      ,  2930.945     ,  1614.625     ,  6614.9775    ,\n",
       "        2212.53      ,  1778.415     ,  6674.51      ,  6482.85      ,\n",
       "        3630.91666667,  4446.33      ,  1900.91      ,  5909.4575    ,\n",
       "        1704.23      ,  2109.92333333,  1251.19666667,  5122.455     ,\n",
       "        2694.15      ,  2768.1675    ,  3597.885     ,  2080.9775    ,\n",
       "        3197.8       ,  5680.6875    ,  3429.6475    ,  2321.62      ,\n",
       "        5702.535     ,  2033.43666667,  5934.395     ,  3289.35666667,\n",
       "        2347.935     ,  2011.1175    ,  5122.455     ,  4208.695     ,\n",
       "        7150.10333333,  4734.5125    ,  4477.5275    ,  2643.94666667,\n",
       "        2429.12      ,  3597.885     ,  1762.75      ,  3343.1       ,\n",
       "        2712.735     ,  9065.6625    ,  2492.49      ,  2325.8025    ,\n",
       "        6333.53333333,  6034.33      ,  4354.495     ,  4734.5125    ,\n",
       "        3659.73666667,  3903.9       ,  1012.095     ,  1012.4       ,\n",
       "         848.89      ,  3369.18      ,  2867.91666667,  4744.88      ,\n",
       "        3179.52      ,  1179.62333333,  1027.2       ,  3832.65      ,\n",
       "        1259.44      ,  2831.91666667,  2913.17      ,  1658.1125    ,\n",
       "        3852.36      ,  4127.805     ,  3362.83666667,  1313.19      ,\n",
       "        1773.065     ,  3084.6525    ,  3735.325     ,  1462.65      ,\n",
       "        3456.6       ,  3606.25      ,  3423.75      ,  2906.64333333,\n",
       "        5338.47      ,  3642.08      ,  3467.05      ,  6294.1325    ,\n",
       "        2783.3825    ,  5680.6875    ,  3319.23      ,  1756.73      ,\n",
       "        1501.32333333,  2206.37333333,  1660.9225    ,  2731.4       ,\n",
       "        1558.99      ,  6142.265     ,  4963.8475    ,  4274.76      ,\n",
       "        2002.3       ,  2497.77      ,  2841.715     ,  3240.35333333,\n",
       "        5449.0875    ,  4441.3475    ,  1593.48      ,  5031.08666667,\n",
       "        3620.01      ,  2932.05666667,  3047.06      ,  4223.755     ,\n",
       "        3369.18      ,  3146.8225    ,  2441.015     ,  1593.48      ,\n",
       "        4867.06      ,  5057.9       ,  5742.48      ,  3190.        ,\n",
       "        4127.805     ,  4746.28      ,  5449.0875    ,  5889.12      ,\n",
       "        3082.9       ,  4993.9775    ,  4208.695     ,  3182.89333333,\n",
       "        5009.785     ,  2149.945     ,  5350.22      ,  2592.45      ,\n",
       "        3084.6525    ,  4208.695     ,  1027.2       ,  2011.1175    ,\n",
       "        4716.04666667,   883.47      ,  3925.41666667,  2874.38666667,\n",
       "        1492.6625    ,  4744.88      ,  2653.3625    ,  4870.0825    ,\n",
       "        2022.18      ,  2247.63      ,  5248.        ,  2327.88666667,\n",
       "        1814.79333333,  1721.44      ,  2403.19      ,  4161.38      ,\n",
       "        6142.265     ,  7901.1       ,  2403.19      ,  4292.76      ,\n",
       "         736.06      ,  5302.8       ,  2011.1175    ,  1462.65      ,\n",
       "        2768.59333333,  3858.75      ,  6865.8       ,  1626.9875    ,\n",
       "        1027.2       ,  2084.81      ,  3970.56      ,  2481.21      ,\n",
       "        4734.5125    ,  2841.715     ,  2568.10666667,  5031.08666667,\n",
       "        2206.37333333,  1527.15      ,  3597.885     ,  7925.295     ,\n",
       "        1939.7075    ,  3628.94      ,  3386.365     ,  1259.44      ,\n",
       "        7527.59333333,  1860.5325    ,  2783.3825    ,  2724.28666667,\n",
       "        2871.91      ,  5939.17      ,  5774.72      ,  3071.135     ,\n",
       "        5404.34333333,  2155.67      ,  2631.91      ,  3084.76666667,\n",
       "        2291.975     ,  4176.54      ,  5889.12      ,  1207.36      ,\n",
       "        7527.59333333,  2271.855     ,  3499.385     ,  3030.25      ,\n",
       "        6333.53333333,  4127.805     ,   784.75      ,  6954.0875    ,\n",
       "        2684.9625    ,  1351.08      ,  5449.0875    ,  5997.6       ,\n",
       "        4311.2       ,  2643.94666667,  5663.74      ,  4214.56      ,\n",
       "        2332.17      ,  3832.975     ,  2143.2       ,  4311.2       ,\n",
       "        1719.33333333,  5997.6       ,  1313.19      ,  2978.385     ,\n",
       "        1698.84      ,  1308.955     ,  3204.33      ,  1193.19666667,\n",
       "        1933.75      ,  1556.99      ,  2777.7       ,  7740.47666667,\n",
       "        4870.0825    ,  1968.12      ,  4724.91      ,  1880.9       ,\n",
       "        6230.71      ,  1262.64333333,  5461.2825    ,  5418.88      ,\n",
       "        2932.08      ,  1719.33333333,  4788.49      ,  4083.9275    ,\n",
       "        2244.9       ,  3465.91      ,  3026.65      ,  4533.82      ,\n",
       "        5716.05      ,  4214.56      ,  3794.56      ,  4292.76      ,\n",
       "        2978.385     ,  5350.22      ,  1500.59      ,  3210.48      ,\n",
       "        1462.65      ,  4824.88333333,  4435.21666667,  3148.335     ,\n",
       "         713.8275    ,  6099.84      ,  1537.335     ,  5200.06      ,\n",
       "        2841.715     ,  1814.79333333,   897.56666667,  5548.97      ,\n",
       "        2105.77      ,  3204.33      ,  5768.36      ,  3585.        ,\n",
       "        3893.32333333,  3846.41666667,  4575.64      ,  2687.6425    ,\n",
       "        2724.28666667,  4172.935     ,  1537.335     ,  4181.12333333,\n",
       "        1976.6       ,  1492.6625    ,  1567.03      ,  2436.25      ,\n",
       "        3711.3875    ,  1790.55      ,  3386.365     ,  2600.32666667,\n",
       "        5675.28      ,  2777.7       ,  4548.025     ,  3891.03      ,\n",
       "        4720.        ,  7577.57      ,  4526.12666667,  3832.65      ,\n",
       "        4734.5125    ,  3891.03      ,  2327.88666667,  2664.34666667,\n",
       "        1222.2       ,  2389.68      ,  3919.94333333,  5478.515     ,\n",
       "        2270.61333333,  2513.745     ,  2724.28666667,  3369.18      ,\n",
       "        4459.485     ,  2481.21      ,  5540.51      ,  4229.07      ,\n",
       "        3358.52333333,  2403.19      ,  3516.06      ,  2017.32666667,\n",
       "        3437.7       ,  5111.625     ,  6078.47      ,  5338.47      ,\n",
       "        3465.91      ,  3115.775     ,  6810.44      ,  1889.91      ,\n",
       "        5934.395     ,  2614.01333333,  2877.17      ,  1968.12      ,\n",
       "        3498.2775    ,  1851.73      ,  3082.9       ,  6482.85      ,\n",
       "        3903.9       ,  4508.995     ,  3069.52      ,  3170.03666667,\n",
       "        3084.76666667,  2643.94666667,  3182.89333333,  3204.33      ,\n",
       "        3026.65      ,  1917.89666667,  7232.73333333,  6333.53333333,\n",
       "        4095.47      ,  2187.74666667,  1826.685     ,  3846.41666667,\n",
       "        3794.56      ,  2600.32666667,  1917.89666667,  3423.75      ,\n",
       "        4127.805     ,  2771.19333333,  3139.99      ,  2653.3625    ,\n",
       "        2703.53333333,  3846.41666667,  1731.66666667,  2906.64333333,\n",
       "        3844.195     ,  2568.10666667,  2105.77      ,  1385.28      ,\n",
       "        2812.64666667,  1859.44      ,  1623.02      ,  2443.665     ,\n",
       "        5404.34333333,  2953.98      ,  3488.9725    ,  7527.59333333,\n",
       "        5111.625     ,  2011.1175    ,  3908.285     ,  2290.59      ,\n",
       "        2687.6425    ,  6445.865     ,  1548.955     ,  2712.735     ,\n",
       "        3462.305     ,  1632.73      ,  5939.17      ,  3423.75      ,\n",
       "        4575.64      ,  3571.77      ,  3194.18666667, 10623.34666667,\n",
       "        5768.36      ,  1012.095     ,  1951.785     ,  3322.70666667,\n",
       "        2777.7       ,  2930.1475    ,  2747.8       ,  4734.5125    ,\n",
       "        2589.34      ,  2600.32666667,  4714.105     ,  6445.865     ,\n",
       "        3628.94      ,  5626.84      ,  1378.5275    ,  5200.06      ,\n",
       "        1756.73      ,  3975.46333333,  2941.895     ,  3684.41      ,\n",
       "        2930.1475    ,  2237.90666667,  2504.4       ,  3465.91      ,\n",
       "        1363.685     ,  2091.04      ,  5111.625     ,  2243.81666667,\n",
       "        5889.12      ,  2403.19      ,  4508.995     ,  1351.08      ,\n",
       "        2201.88      ,  4441.3475    ,  2703.53333333,  5742.48      ,\n",
       "        2091.04      ,  1664.29      ,  3044.6925    ,  4508.995     ,\n",
       "        8179.765     ,  1710.68333333,  2206.37333333,  5545.76      ,\n",
       "         713.8275    ,  2842.23      ,  4716.04666667,  5540.51      ,\n",
       "        5548.97      ,  3152.8       ,  2403.19      ,  2857.28      ,\n",
       "        4963.8475    ,  5548.97      ,  2712.735     ,  2933.91333333,\n",
       "        4963.8475    ,  1731.66666667,  1756.73      ,  2771.19333333,\n",
       "        1193.19666667,  1012.095     ,  4446.33      ,  4382.845     ,\n",
       "        6310.35      ,  4274.76      ,  6445.865     ,  4452.3075    ,\n",
       "        2768.1675    ,  3404.62333333,  1527.15      ,  9155.325     ,\n",
       "        9676.17666667,  7232.73333333,  4127.805     ,  4274.76      ,\n",
       "        6176.42      ,  1873.82      ,  1087.04333333,  5939.17      ,\n",
       "        1480.63666667,  2179.2875    ,  2703.53333333,  2303.19      ,\n",
       "        3852.36      ,  2253.42      ,  4441.3475    ,  2564.03      ,\n",
       "        3455.755     ,  5009.785     ,  4452.3075    ,  2712.735     ,\n",
       "        3384.145     ,  4489.87      ,  3659.73666667,  3082.9       ,\n",
       "        3113.64      ,  7232.73333333,  2271.06      ,  7527.59333333,\n",
       "         976.125     ,  1921.41      ,  2093.76      ,  1325.575     ,\n",
       "        9065.6625    ,  3343.1       ])"
      ]
     },
     "execution_count": 21,
     "metadata": {},
     "output_type": "execute_result"
    }
   ],
   "source": [
    "# Make predictions on the test set\n",
    "y_pred = best_dt_model.predict(X_test)\n",
    "\n",
    "y_pred"
   ]
  },
  {
   "cell_type": "code",
   "execution_count": 22,
   "id": "c377cca1",
   "metadata": {
    "execution": {
     "iopub.execute_input": "2024-01-09T18:06:51.876842Z",
     "iopub.status.busy": "2024-01-09T18:06:51.876038Z",
     "iopub.status.idle": "2024-01-09T18:06:51.885941Z",
     "shell.execute_reply": "2024-01-09T18:06:51.884532Z"
    },
    "papermill": {
     "duration": 0.028702,
     "end_time": "2024-01-09T18:06:51.888439",
     "exception": false,
     "start_time": "2024-01-09T18:06:51.859737",
     "status": "completed"
    },
    "tags": []
   },
   "outputs": [
    {
     "name": "stdout",
     "output_type": "stream",
     "text": [
      "Best Hyperparameters: {'max_depth': None, 'min_samples_leaf': 1, 'min_samples_split': 5}\n",
      "Mean Absolute Error: 113.06367575757577\n",
      "Mean Squared Error: 33371.039809808084\n",
      "R-squared: 0.9890527202952066\n"
     ]
    }
   ],
   "source": [
    "# Evaluate the model\n",
    "mae = mean_absolute_error(y_test, y_pred)\n",
    "mse = mean_squared_error(y_test, y_pred)\n",
    "r2 = r2_score(y_test, y_pred)\n",
    "\n",
    "print(f'Best Hyperparameters: {best_params}')\n",
    "print(f'Mean Absolute Error: {mae}')\n",
    "print(f'Mean Squared Error: {mse}')\n",
    "print(f'R-squared: {r2}')"
   ]
  },
  {
   "cell_type": "markdown",
   "id": "02fb6953",
   "metadata": {
    "papermill": {
     "duration": 0.015301,
     "end_time": "2024-01-09T18:06:51.919090",
     "exception": false,
     "start_time": "2024-01-09T18:06:51.903789",
     "status": "completed"
    },
    "tags": []
   },
   "source": []
  },
  {
   "cell_type": "code",
   "execution_count": 23,
   "id": "9dede5af",
   "metadata": {
    "execution": {
     "iopub.execute_input": "2024-01-09T18:06:52.016185Z",
     "iopub.status.busy": "2024-01-09T18:06:52.015026Z",
     "iopub.status.idle": "2024-01-09T18:06:52.020401Z",
     "shell.execute_reply": "2024-01-09T18:06:52.019287Z"
    },
    "papermill": {
     "duration": 0.088267,
     "end_time": "2024-01-09T18:06:52.022687",
     "exception": false,
     "start_time": "2024-01-09T18:06:51.934420",
     "status": "completed"
    },
    "tags": []
   },
   "outputs": [],
   "source": [
    "from sklearn.model_selection import RandomizedSearchCV\n",
    "from scipy.stats import randint"
   ]
  },
  {
   "cell_type": "code",
   "execution_count": 24,
   "id": "752de691",
   "metadata": {
    "execution": {
     "iopub.execute_input": "2024-01-09T18:06:52.055819Z",
     "iopub.status.busy": "2024-01-09T18:06:52.055385Z",
     "iopub.status.idle": "2024-01-09T18:06:52.061315Z",
     "shell.execute_reply": "2024-01-09T18:06:52.060086Z"
    },
    "papermill": {
     "duration": 0.025601,
     "end_time": "2024-01-09T18:06:52.064079",
     "exception": false,
     "start_time": "2024-01-09T18:06:52.038478",
     "status": "completed"
    },
    "tags": []
   },
   "outputs": [],
   "source": [
    "# Defining hyperparameter grid for tuning\n",
    "param_dist = {\n",
    "    'max_depth': [None, 10, 20, 30],\n",
    "    'min_samples_split': [2, 5, 10],\n",
    "    'min_samples_leaf': [1, 2, 4]\n",
    "}\n"
   ]
  },
  {
   "cell_type": "code",
   "execution_count": 25,
   "id": "c3a67dc6",
   "metadata": {
    "execution": {
     "iopub.execute_input": "2024-01-09T18:06:52.097666Z",
     "iopub.status.busy": "2024-01-09T18:06:52.097268Z",
     "iopub.status.idle": "2024-01-09T18:06:52.110320Z",
     "shell.execute_reply": "2024-01-09T18:06:52.108912Z"
    },
    "papermill": {
     "duration": 0.032879,
     "end_time": "2024-01-09T18:06:52.113329",
     "exception": false,
     "start_time": "2024-01-09T18:06:52.080450",
     "status": "completed"
    },
    "tags": []
   },
   "outputs": [
    {
     "data": {
      "text/html": [
       "<style>#sk-container-id-7 {color: black;background-color: white;}#sk-container-id-7 pre{padding: 0;}#sk-container-id-7 div.sk-toggleable {background-color: white;}#sk-container-id-7 label.sk-toggleable__label {cursor: pointer;display: block;width: 100%;margin-bottom: 0;padding: 0.3em;box-sizing: border-box;text-align: center;}#sk-container-id-7 label.sk-toggleable__label-arrow:before {content: \"▸\";float: left;margin-right: 0.25em;color: #696969;}#sk-container-id-7 label.sk-toggleable__label-arrow:hover:before {color: black;}#sk-container-id-7 div.sk-estimator:hover label.sk-toggleable__label-arrow:before {color: black;}#sk-container-id-7 div.sk-toggleable__content {max-height: 0;max-width: 0;overflow: hidden;text-align: left;background-color: #f0f8ff;}#sk-container-id-7 div.sk-toggleable__content pre {margin: 0.2em;color: black;border-radius: 0.25em;background-color: #f0f8ff;}#sk-container-id-7 input.sk-toggleable__control:checked~div.sk-toggleable__content {max-height: 200px;max-width: 100%;overflow: auto;}#sk-container-id-7 input.sk-toggleable__control:checked~label.sk-toggleable__label-arrow:before {content: \"▾\";}#sk-container-id-7 div.sk-estimator input.sk-toggleable__control:checked~label.sk-toggleable__label {background-color: #d4ebff;}#sk-container-id-7 div.sk-label input.sk-toggleable__control:checked~label.sk-toggleable__label {background-color: #d4ebff;}#sk-container-id-7 input.sk-hidden--visually {border: 0;clip: rect(1px 1px 1px 1px);clip: rect(1px, 1px, 1px, 1px);height: 1px;margin: -1px;overflow: hidden;padding: 0;position: absolute;width: 1px;}#sk-container-id-7 div.sk-estimator {font-family: monospace;background-color: #f0f8ff;border: 1px dotted black;border-radius: 0.25em;box-sizing: border-box;margin-bottom: 0.5em;}#sk-container-id-7 div.sk-estimator:hover {background-color: #d4ebff;}#sk-container-id-7 div.sk-parallel-item::after {content: \"\";width: 100%;border-bottom: 1px solid gray;flex-grow: 1;}#sk-container-id-7 div.sk-label:hover label.sk-toggleable__label {background-color: #d4ebff;}#sk-container-id-7 div.sk-serial::before {content: \"\";position: absolute;border-left: 1px solid gray;box-sizing: border-box;top: 0;bottom: 0;left: 50%;z-index: 0;}#sk-container-id-7 div.sk-serial {display: flex;flex-direction: column;align-items: center;background-color: white;padding-right: 0.2em;padding-left: 0.2em;position: relative;}#sk-container-id-7 div.sk-item {position: relative;z-index: 1;}#sk-container-id-7 div.sk-parallel {display: flex;align-items: stretch;justify-content: center;background-color: white;position: relative;}#sk-container-id-7 div.sk-item::before, #sk-container-id-7 div.sk-parallel-item::before {content: \"\";position: absolute;border-left: 1px solid gray;box-sizing: border-box;top: 0;bottom: 0;left: 50%;z-index: -1;}#sk-container-id-7 div.sk-parallel-item {display: flex;flex-direction: column;z-index: 1;position: relative;background-color: white;}#sk-container-id-7 div.sk-parallel-item:first-child::after {align-self: flex-end;width: 50%;}#sk-container-id-7 div.sk-parallel-item:last-child::after {align-self: flex-start;width: 50%;}#sk-container-id-7 div.sk-parallel-item:only-child::after {width: 0;}#sk-container-id-7 div.sk-dashed-wrapped {border: 1px dashed gray;margin: 0 0.4em 0.5em 0.4em;box-sizing: border-box;padding-bottom: 0.4em;background-color: white;}#sk-container-id-7 div.sk-label label {font-family: monospace;font-weight: bold;display: inline-block;line-height: 1.2em;}#sk-container-id-7 div.sk-label-container {text-align: center;}#sk-container-id-7 div.sk-container {/* jupyter's `normalize.less` sets `[hidden] { display: none; }` but bootstrap.min.css set `[hidden] { display: none !important; }` so we also need the `!important` here to be able to override the default hidden behavior on the sphinx rendered scikit-learn.org. See: https://github.com/scikit-learn/scikit-learn/issues/21755 */display: inline-block !important;position: relative;}#sk-container-id-7 div.sk-text-repr-fallback {display: none;}</style><div id=\"sk-container-id-7\" class=\"sk-top-container\"><div class=\"sk-text-repr-fallback\"><pre>RandomizedSearchCV(cv=5, estimator=DecisionTreeRegressor(random_state=42),\n",
       "                   n_jobs=-1,\n",
       "                   param_distributions={&#x27;max_depth&#x27;: [None, 10, 20, 30],\n",
       "                                        &#x27;min_samples_leaf&#x27;: [1, 2, 4],\n",
       "                                        &#x27;min_samples_split&#x27;: [2, 5, 10]},\n",
       "                   scoring=&#x27;neg_mean_squared_error&#x27;)</pre><b>In a Jupyter environment, please rerun this cell to show the HTML representation or trust the notebook. <br />On GitHub, the HTML representation is unable to render, please try loading this page with nbviewer.org.</b></div><div class=\"sk-container\" hidden><div class=\"sk-item sk-dashed-wrapped\"><div class=\"sk-label-container\"><div class=\"sk-label sk-toggleable\"><input class=\"sk-toggleable__control sk-hidden--visually\" id=\"sk-estimator-id-11\" type=\"checkbox\" ><label for=\"sk-estimator-id-11\" class=\"sk-toggleable__label sk-toggleable__label-arrow\">RandomizedSearchCV</label><div class=\"sk-toggleable__content\"><pre>RandomizedSearchCV(cv=5, estimator=DecisionTreeRegressor(random_state=42),\n",
       "                   n_jobs=-1,\n",
       "                   param_distributions={&#x27;max_depth&#x27;: [None, 10, 20, 30],\n",
       "                                        &#x27;min_samples_leaf&#x27;: [1, 2, 4],\n",
       "                                        &#x27;min_samples_split&#x27;: [2, 5, 10]},\n",
       "                   scoring=&#x27;neg_mean_squared_error&#x27;)</pre></div></div></div><div class=\"sk-parallel\"><div class=\"sk-parallel-item\"><div class=\"sk-item\"><div class=\"sk-label-container\"><div class=\"sk-label sk-toggleable\"><input class=\"sk-toggleable__control sk-hidden--visually\" id=\"sk-estimator-id-12\" type=\"checkbox\" ><label for=\"sk-estimator-id-12\" class=\"sk-toggleable__label sk-toggleable__label-arrow\">estimator: DecisionTreeRegressor</label><div class=\"sk-toggleable__content\"><pre>DecisionTreeRegressor(random_state=42)</pre></div></div></div><div class=\"sk-serial\"><div class=\"sk-item\"><div class=\"sk-estimator sk-toggleable\"><input class=\"sk-toggleable__control sk-hidden--visually\" id=\"sk-estimator-id-13\" type=\"checkbox\" ><label for=\"sk-estimator-id-13\" class=\"sk-toggleable__label sk-toggleable__label-arrow\">DecisionTreeRegressor</label><div class=\"sk-toggleable__content\"><pre>DecisionTreeRegressor(random_state=42)</pre></div></div></div></div></div></div></div></div></div></div>"
      ],
      "text/plain": [
       "RandomizedSearchCV(cv=5, estimator=DecisionTreeRegressor(random_state=42),\n",
       "                   n_jobs=-1,\n",
       "                   param_distributions={'max_depth': [None, 10, 20, 30],\n",
       "                                        'min_samples_leaf': [1, 2, 4],\n",
       "                                        'min_samples_split': [2, 5, 10]},\n",
       "                   scoring='neg_mean_squared_error')"
      ]
     },
     "execution_count": 25,
     "metadata": {},
     "output_type": "execute_result"
    }
   ],
   "source": [
    "# Using Randomized Search to find the best hyperparameters\n",
    "random_search = RandomizedSearchCV(estimator=dt_model, param_distributions=param_dist, n_iter=10, cv=5, scoring='neg_mean_squared_error', n_jobs=-1)\n",
    "random_search"
   ]
  },
  {
   "cell_type": "code",
   "execution_count": 26,
   "id": "1e17ff88",
   "metadata": {
    "execution": {
     "iopub.execute_input": "2024-01-09T18:06:52.148877Z",
     "iopub.status.busy": "2024-01-09T18:06:52.148005Z",
     "iopub.status.idle": "2024-01-09T18:06:54.685194Z",
     "shell.execute_reply": "2024-01-09T18:06:54.683820Z"
    },
    "papermill": {
     "duration": 2.557385,
     "end_time": "2024-01-09T18:06:54.687755",
     "exception": false,
     "start_time": "2024-01-09T18:06:52.130370",
     "status": "completed"
    },
    "tags": []
   },
   "outputs": [
    {
     "data": {
      "text/html": [
       "<style>#sk-container-id-8 {color: black;background-color: white;}#sk-container-id-8 pre{padding: 0;}#sk-container-id-8 div.sk-toggleable {background-color: white;}#sk-container-id-8 label.sk-toggleable__label {cursor: pointer;display: block;width: 100%;margin-bottom: 0;padding: 0.3em;box-sizing: border-box;text-align: center;}#sk-container-id-8 label.sk-toggleable__label-arrow:before {content: \"▸\";float: left;margin-right: 0.25em;color: #696969;}#sk-container-id-8 label.sk-toggleable__label-arrow:hover:before {color: black;}#sk-container-id-8 div.sk-estimator:hover label.sk-toggleable__label-arrow:before {color: black;}#sk-container-id-8 div.sk-toggleable__content {max-height: 0;max-width: 0;overflow: hidden;text-align: left;background-color: #f0f8ff;}#sk-container-id-8 div.sk-toggleable__content pre {margin: 0.2em;color: black;border-radius: 0.25em;background-color: #f0f8ff;}#sk-container-id-8 input.sk-toggleable__control:checked~div.sk-toggleable__content {max-height: 200px;max-width: 100%;overflow: auto;}#sk-container-id-8 input.sk-toggleable__control:checked~label.sk-toggleable__label-arrow:before {content: \"▾\";}#sk-container-id-8 div.sk-estimator input.sk-toggleable__control:checked~label.sk-toggleable__label {background-color: #d4ebff;}#sk-container-id-8 div.sk-label input.sk-toggleable__control:checked~label.sk-toggleable__label {background-color: #d4ebff;}#sk-container-id-8 input.sk-hidden--visually {border: 0;clip: rect(1px 1px 1px 1px);clip: rect(1px, 1px, 1px, 1px);height: 1px;margin: -1px;overflow: hidden;padding: 0;position: absolute;width: 1px;}#sk-container-id-8 div.sk-estimator {font-family: monospace;background-color: #f0f8ff;border: 1px dotted black;border-radius: 0.25em;box-sizing: border-box;margin-bottom: 0.5em;}#sk-container-id-8 div.sk-estimator:hover {background-color: #d4ebff;}#sk-container-id-8 div.sk-parallel-item::after {content: \"\";width: 100%;border-bottom: 1px solid gray;flex-grow: 1;}#sk-container-id-8 div.sk-label:hover label.sk-toggleable__label {background-color: #d4ebff;}#sk-container-id-8 div.sk-serial::before {content: \"\";position: absolute;border-left: 1px solid gray;box-sizing: border-box;top: 0;bottom: 0;left: 50%;z-index: 0;}#sk-container-id-8 div.sk-serial {display: flex;flex-direction: column;align-items: center;background-color: white;padding-right: 0.2em;padding-left: 0.2em;position: relative;}#sk-container-id-8 div.sk-item {position: relative;z-index: 1;}#sk-container-id-8 div.sk-parallel {display: flex;align-items: stretch;justify-content: center;background-color: white;position: relative;}#sk-container-id-8 div.sk-item::before, #sk-container-id-8 div.sk-parallel-item::before {content: \"\";position: absolute;border-left: 1px solid gray;box-sizing: border-box;top: 0;bottom: 0;left: 50%;z-index: -1;}#sk-container-id-8 div.sk-parallel-item {display: flex;flex-direction: column;z-index: 1;position: relative;background-color: white;}#sk-container-id-8 div.sk-parallel-item:first-child::after {align-self: flex-end;width: 50%;}#sk-container-id-8 div.sk-parallel-item:last-child::after {align-self: flex-start;width: 50%;}#sk-container-id-8 div.sk-parallel-item:only-child::after {width: 0;}#sk-container-id-8 div.sk-dashed-wrapped {border: 1px dashed gray;margin: 0 0.4em 0.5em 0.4em;box-sizing: border-box;padding-bottom: 0.4em;background-color: white;}#sk-container-id-8 div.sk-label label {font-family: monospace;font-weight: bold;display: inline-block;line-height: 1.2em;}#sk-container-id-8 div.sk-label-container {text-align: center;}#sk-container-id-8 div.sk-container {/* jupyter's `normalize.less` sets `[hidden] { display: none; }` but bootstrap.min.css set `[hidden] { display: none !important; }` so we also need the `!important` here to be able to override the default hidden behavior on the sphinx rendered scikit-learn.org. See: https://github.com/scikit-learn/scikit-learn/issues/21755 */display: inline-block !important;position: relative;}#sk-container-id-8 div.sk-text-repr-fallback {display: none;}</style><div id=\"sk-container-id-8\" class=\"sk-top-container\"><div class=\"sk-text-repr-fallback\"><pre>RandomizedSearchCV(cv=5, estimator=DecisionTreeRegressor(random_state=42),\n",
       "                   n_jobs=-1,\n",
       "                   param_distributions={&#x27;max_depth&#x27;: [None, 10, 20, 30],\n",
       "                                        &#x27;min_samples_leaf&#x27;: [1, 2, 4],\n",
       "                                        &#x27;min_samples_split&#x27;: [2, 5, 10]},\n",
       "                   scoring=&#x27;neg_mean_squared_error&#x27;)</pre><b>In a Jupyter environment, please rerun this cell to show the HTML representation or trust the notebook. <br />On GitHub, the HTML representation is unable to render, please try loading this page with nbviewer.org.</b></div><div class=\"sk-container\" hidden><div class=\"sk-item sk-dashed-wrapped\"><div class=\"sk-label-container\"><div class=\"sk-label sk-toggleable\"><input class=\"sk-toggleable__control sk-hidden--visually\" id=\"sk-estimator-id-14\" type=\"checkbox\" ><label for=\"sk-estimator-id-14\" class=\"sk-toggleable__label sk-toggleable__label-arrow\">RandomizedSearchCV</label><div class=\"sk-toggleable__content\"><pre>RandomizedSearchCV(cv=5, estimator=DecisionTreeRegressor(random_state=42),\n",
       "                   n_jobs=-1,\n",
       "                   param_distributions={&#x27;max_depth&#x27;: [None, 10, 20, 30],\n",
       "                                        &#x27;min_samples_leaf&#x27;: [1, 2, 4],\n",
       "                                        &#x27;min_samples_split&#x27;: [2, 5, 10]},\n",
       "                   scoring=&#x27;neg_mean_squared_error&#x27;)</pre></div></div></div><div class=\"sk-parallel\"><div class=\"sk-parallel-item\"><div class=\"sk-item\"><div class=\"sk-label-container\"><div class=\"sk-label sk-toggleable\"><input class=\"sk-toggleable__control sk-hidden--visually\" id=\"sk-estimator-id-15\" type=\"checkbox\" ><label for=\"sk-estimator-id-15\" class=\"sk-toggleable__label sk-toggleable__label-arrow\">estimator: DecisionTreeRegressor</label><div class=\"sk-toggleable__content\"><pre>DecisionTreeRegressor(random_state=42)</pre></div></div></div><div class=\"sk-serial\"><div class=\"sk-item\"><div class=\"sk-estimator sk-toggleable\"><input class=\"sk-toggleable__control sk-hidden--visually\" id=\"sk-estimator-id-16\" type=\"checkbox\" ><label for=\"sk-estimator-id-16\" class=\"sk-toggleable__label sk-toggleable__label-arrow\">DecisionTreeRegressor</label><div class=\"sk-toggleable__content\"><pre>DecisionTreeRegressor(random_state=42)</pre></div></div></div></div></div></div></div></div></div></div>"
      ],
      "text/plain": [
       "RandomizedSearchCV(cv=5, estimator=DecisionTreeRegressor(random_state=42),\n",
       "                   n_jobs=-1,\n",
       "                   param_distributions={'max_depth': [None, 10, 20, 30],\n",
       "                                        'min_samples_leaf': [1, 2, 4],\n",
       "                                        'min_samples_split': [2, 5, 10]},\n",
       "                   scoring='neg_mean_squared_error')"
      ]
     },
     "execution_count": 26,
     "metadata": {},
     "output_type": "execute_result"
    }
   ],
   "source": [
    "# Fitting the grid search to the data\n",
    "random_search.fit(X_train, y_train)"
   ]
  },
  {
   "cell_type": "code",
   "execution_count": 27,
   "id": "c41a987f",
   "metadata": {
    "execution": {
     "iopub.execute_input": "2024-01-09T18:06:54.722891Z",
     "iopub.status.busy": "2024-01-09T18:06:54.722469Z",
     "iopub.status.idle": "2024-01-09T18:06:54.728689Z",
     "shell.execute_reply": "2024-01-09T18:06:54.727599Z"
    },
    "papermill": {
     "duration": 0.027664,
     "end_time": "2024-01-09T18:06:54.731819",
     "exception": false,
     "start_time": "2024-01-09T18:06:54.704155",
     "status": "completed"
    },
    "tags": []
   },
   "outputs": [
    {
     "name": "stdout",
     "output_type": "stream",
     "text": [
      "Best Hyperparameters: {'min_samples_split': 5, 'min_samples_leaf': 1, 'max_depth': None}\n"
     ]
    }
   ],
   "source": [
    "# Print the best hyperparameters\n",
    "print(\"Best Hyperparameters:\", random_search.best_params_)"
   ]
  },
  {
   "cell_type": "code",
   "execution_count": 28,
   "id": "bb2262e7",
   "metadata": {
    "execution": {
     "iopub.execute_input": "2024-01-09T18:06:54.765994Z",
     "iopub.status.busy": "2024-01-09T18:06:54.765262Z",
     "iopub.status.idle": "2024-01-09T18:06:54.772524Z",
     "shell.execute_reply": "2024-01-09T18:06:54.771496Z"
    },
    "papermill": {
     "duration": 0.026669,
     "end_time": "2024-01-09T18:06:54.774715",
     "exception": false,
     "start_time": "2024-01-09T18:06:54.748046",
     "status": "completed"
    },
    "tags": []
   },
   "outputs": [
    {
     "data": {
      "text/html": [
       "<style>#sk-container-id-9 {color: black;background-color: white;}#sk-container-id-9 pre{padding: 0;}#sk-container-id-9 div.sk-toggleable {background-color: white;}#sk-container-id-9 label.sk-toggleable__label {cursor: pointer;display: block;width: 100%;margin-bottom: 0;padding: 0.3em;box-sizing: border-box;text-align: center;}#sk-container-id-9 label.sk-toggleable__label-arrow:before {content: \"▸\";float: left;margin-right: 0.25em;color: #696969;}#sk-container-id-9 label.sk-toggleable__label-arrow:hover:before {color: black;}#sk-container-id-9 div.sk-estimator:hover label.sk-toggleable__label-arrow:before {color: black;}#sk-container-id-9 div.sk-toggleable__content {max-height: 0;max-width: 0;overflow: hidden;text-align: left;background-color: #f0f8ff;}#sk-container-id-9 div.sk-toggleable__content pre {margin: 0.2em;color: black;border-radius: 0.25em;background-color: #f0f8ff;}#sk-container-id-9 input.sk-toggleable__control:checked~div.sk-toggleable__content {max-height: 200px;max-width: 100%;overflow: auto;}#sk-container-id-9 input.sk-toggleable__control:checked~label.sk-toggleable__label-arrow:before {content: \"▾\";}#sk-container-id-9 div.sk-estimator input.sk-toggleable__control:checked~label.sk-toggleable__label {background-color: #d4ebff;}#sk-container-id-9 div.sk-label input.sk-toggleable__control:checked~label.sk-toggleable__label {background-color: #d4ebff;}#sk-container-id-9 input.sk-hidden--visually {border: 0;clip: rect(1px 1px 1px 1px);clip: rect(1px, 1px, 1px, 1px);height: 1px;margin: -1px;overflow: hidden;padding: 0;position: absolute;width: 1px;}#sk-container-id-9 div.sk-estimator {font-family: monospace;background-color: #f0f8ff;border: 1px dotted black;border-radius: 0.25em;box-sizing: border-box;margin-bottom: 0.5em;}#sk-container-id-9 div.sk-estimator:hover {background-color: #d4ebff;}#sk-container-id-9 div.sk-parallel-item::after {content: \"\";width: 100%;border-bottom: 1px solid gray;flex-grow: 1;}#sk-container-id-9 div.sk-label:hover label.sk-toggleable__label {background-color: #d4ebff;}#sk-container-id-9 div.sk-serial::before {content: \"\";position: absolute;border-left: 1px solid gray;box-sizing: border-box;top: 0;bottom: 0;left: 50%;z-index: 0;}#sk-container-id-9 div.sk-serial {display: flex;flex-direction: column;align-items: center;background-color: white;padding-right: 0.2em;padding-left: 0.2em;position: relative;}#sk-container-id-9 div.sk-item {position: relative;z-index: 1;}#sk-container-id-9 div.sk-parallel {display: flex;align-items: stretch;justify-content: center;background-color: white;position: relative;}#sk-container-id-9 div.sk-item::before, #sk-container-id-9 div.sk-parallel-item::before {content: \"\";position: absolute;border-left: 1px solid gray;box-sizing: border-box;top: 0;bottom: 0;left: 50%;z-index: -1;}#sk-container-id-9 div.sk-parallel-item {display: flex;flex-direction: column;z-index: 1;position: relative;background-color: white;}#sk-container-id-9 div.sk-parallel-item:first-child::after {align-self: flex-end;width: 50%;}#sk-container-id-9 div.sk-parallel-item:last-child::after {align-self: flex-start;width: 50%;}#sk-container-id-9 div.sk-parallel-item:only-child::after {width: 0;}#sk-container-id-9 div.sk-dashed-wrapped {border: 1px dashed gray;margin: 0 0.4em 0.5em 0.4em;box-sizing: border-box;padding-bottom: 0.4em;background-color: white;}#sk-container-id-9 div.sk-label label {font-family: monospace;font-weight: bold;display: inline-block;line-height: 1.2em;}#sk-container-id-9 div.sk-label-container {text-align: center;}#sk-container-id-9 div.sk-container {/* jupyter's `normalize.less` sets `[hidden] { display: none; }` but bootstrap.min.css set `[hidden] { display: none !important; }` so we also need the `!important` here to be able to override the default hidden behavior on the sphinx rendered scikit-learn.org. See: https://github.com/scikit-learn/scikit-learn/issues/21755 */display: inline-block !important;position: relative;}#sk-container-id-9 div.sk-text-repr-fallback {display: none;}</style><div id=\"sk-container-id-9\" class=\"sk-top-container\"><div class=\"sk-text-repr-fallback\"><pre>DecisionTreeRegressor(min_samples_split=5, random_state=42)</pre><b>In a Jupyter environment, please rerun this cell to show the HTML representation or trust the notebook. <br />On GitHub, the HTML representation is unable to render, please try loading this page with nbviewer.org.</b></div><div class=\"sk-container\" hidden><div class=\"sk-item\"><div class=\"sk-estimator sk-toggleable\"><input class=\"sk-toggleable__control sk-hidden--visually\" id=\"sk-estimator-id-17\" type=\"checkbox\" checked><label for=\"sk-estimator-id-17\" class=\"sk-toggleable__label sk-toggleable__label-arrow\">DecisionTreeRegressor</label><div class=\"sk-toggleable__content\"><pre>DecisionTreeRegressor(min_samples_split=5, random_state=42)</pre></div></div></div></div></div>"
      ],
      "text/plain": [
       "DecisionTreeRegressor(min_samples_split=5, random_state=42)"
      ]
     },
     "execution_count": 28,
     "metadata": {},
     "output_type": "execute_result"
    }
   ],
   "source": [
    "# Get the best model from the random search\n",
    "best_dt_model = random_search.best_estimator_\n",
    "best_dt_model"
   ]
  },
  {
   "cell_type": "code",
   "execution_count": 29,
   "id": "2f2ad4af",
   "metadata": {
    "execution": {
     "iopub.execute_input": "2024-01-09T18:06:54.809073Z",
     "iopub.status.busy": "2024-01-09T18:06:54.807942Z",
     "iopub.status.idle": "2024-01-09T18:06:54.833152Z",
     "shell.execute_reply": "2024-01-09T18:06:54.831983Z"
    },
    "papermill": {
     "duration": 0.045661,
     "end_time": "2024-01-09T18:06:54.836291",
     "exception": false,
     "start_time": "2024-01-09T18:06:54.790630",
     "status": "completed"
    },
    "tags": []
   },
   "outputs": [
    {
     "data": {
      "text/html": [
       "<style>#sk-container-id-10 {color: black;background-color: white;}#sk-container-id-10 pre{padding: 0;}#sk-container-id-10 div.sk-toggleable {background-color: white;}#sk-container-id-10 label.sk-toggleable__label {cursor: pointer;display: block;width: 100%;margin-bottom: 0;padding: 0.3em;box-sizing: border-box;text-align: center;}#sk-container-id-10 label.sk-toggleable__label-arrow:before {content: \"▸\";float: left;margin-right: 0.25em;color: #696969;}#sk-container-id-10 label.sk-toggleable__label-arrow:hover:before {color: black;}#sk-container-id-10 div.sk-estimator:hover label.sk-toggleable__label-arrow:before {color: black;}#sk-container-id-10 div.sk-toggleable__content {max-height: 0;max-width: 0;overflow: hidden;text-align: left;background-color: #f0f8ff;}#sk-container-id-10 div.sk-toggleable__content pre {margin: 0.2em;color: black;border-radius: 0.25em;background-color: #f0f8ff;}#sk-container-id-10 input.sk-toggleable__control:checked~div.sk-toggleable__content {max-height: 200px;max-width: 100%;overflow: auto;}#sk-container-id-10 input.sk-toggleable__control:checked~label.sk-toggleable__label-arrow:before {content: \"▾\";}#sk-container-id-10 div.sk-estimator input.sk-toggleable__control:checked~label.sk-toggleable__label {background-color: #d4ebff;}#sk-container-id-10 div.sk-label input.sk-toggleable__control:checked~label.sk-toggleable__label {background-color: #d4ebff;}#sk-container-id-10 input.sk-hidden--visually {border: 0;clip: rect(1px 1px 1px 1px);clip: rect(1px, 1px, 1px, 1px);height: 1px;margin: -1px;overflow: hidden;padding: 0;position: absolute;width: 1px;}#sk-container-id-10 div.sk-estimator {font-family: monospace;background-color: #f0f8ff;border: 1px dotted black;border-radius: 0.25em;box-sizing: border-box;margin-bottom: 0.5em;}#sk-container-id-10 div.sk-estimator:hover {background-color: #d4ebff;}#sk-container-id-10 div.sk-parallel-item::after {content: \"\";width: 100%;border-bottom: 1px solid gray;flex-grow: 1;}#sk-container-id-10 div.sk-label:hover label.sk-toggleable__label {background-color: #d4ebff;}#sk-container-id-10 div.sk-serial::before {content: \"\";position: absolute;border-left: 1px solid gray;box-sizing: border-box;top: 0;bottom: 0;left: 50%;z-index: 0;}#sk-container-id-10 div.sk-serial {display: flex;flex-direction: column;align-items: center;background-color: white;padding-right: 0.2em;padding-left: 0.2em;position: relative;}#sk-container-id-10 div.sk-item {position: relative;z-index: 1;}#sk-container-id-10 div.sk-parallel {display: flex;align-items: stretch;justify-content: center;background-color: white;position: relative;}#sk-container-id-10 div.sk-item::before, #sk-container-id-10 div.sk-parallel-item::before {content: \"\";position: absolute;border-left: 1px solid gray;box-sizing: border-box;top: 0;bottom: 0;left: 50%;z-index: -1;}#sk-container-id-10 div.sk-parallel-item {display: flex;flex-direction: column;z-index: 1;position: relative;background-color: white;}#sk-container-id-10 div.sk-parallel-item:first-child::after {align-self: flex-end;width: 50%;}#sk-container-id-10 div.sk-parallel-item:last-child::after {align-self: flex-start;width: 50%;}#sk-container-id-10 div.sk-parallel-item:only-child::after {width: 0;}#sk-container-id-10 div.sk-dashed-wrapped {border: 1px dashed gray;margin: 0 0.4em 0.5em 0.4em;box-sizing: border-box;padding-bottom: 0.4em;background-color: white;}#sk-container-id-10 div.sk-label label {font-family: monospace;font-weight: bold;display: inline-block;line-height: 1.2em;}#sk-container-id-10 div.sk-label-container {text-align: center;}#sk-container-id-10 div.sk-container {/* jupyter's `normalize.less` sets `[hidden] { display: none; }` but bootstrap.min.css set `[hidden] { display: none !important; }` so we also need the `!important` here to be able to override the default hidden behavior on the sphinx rendered scikit-learn.org. See: https://github.com/scikit-learn/scikit-learn/issues/21755 */display: inline-block !important;position: relative;}#sk-container-id-10 div.sk-text-repr-fallback {display: none;}</style><div id=\"sk-container-id-10\" class=\"sk-top-container\"><div class=\"sk-text-repr-fallback\"><pre>DecisionTreeRegressor(min_samples_split=5, random_state=42)</pre><b>In a Jupyter environment, please rerun this cell to show the HTML representation or trust the notebook. <br />On GitHub, the HTML representation is unable to render, please try loading this page with nbviewer.org.</b></div><div class=\"sk-container\" hidden><div class=\"sk-item\"><div class=\"sk-estimator sk-toggleable\"><input class=\"sk-toggleable__control sk-hidden--visually\" id=\"sk-estimator-id-18\" type=\"checkbox\" checked><label for=\"sk-estimator-id-18\" class=\"sk-toggleable__label sk-toggleable__label-arrow\">DecisionTreeRegressor</label><div class=\"sk-toggleable__content\"><pre>DecisionTreeRegressor(min_samples_split=5, random_state=42)</pre></div></div></div></div></div>"
      ],
      "text/plain": [
       "DecisionTreeRegressor(min_samples_split=5, random_state=42)"
      ]
     },
     "execution_count": 29,
     "metadata": {},
     "output_type": "execute_result"
    }
   ],
   "source": [
    "# Training the model\n",
    "best_dt_model.fit(X_train, y_train)"
   ]
  },
  {
   "cell_type": "code",
   "execution_count": 30,
   "id": "5f9390c7",
   "metadata": {
    "execution": {
     "iopub.execute_input": "2024-01-09T18:06:54.871410Z",
     "iopub.status.busy": "2024-01-09T18:06:54.870358Z",
     "iopub.status.idle": "2024-01-09T18:06:54.878666Z",
     "shell.execute_reply": "2024-01-09T18:06:54.877526Z"
    },
    "papermill": {
     "duration": 0.02819,
     "end_time": "2024-01-09T18:06:54.881129",
     "exception": false,
     "start_time": "2024-01-09T18:06:54.852939",
     "status": "completed"
    },
    "tags": []
   },
   "outputs": [],
   "source": [
    "# Make predictions on the test set\n",
    "y_pred = best_dt_model.predict(X_test)\n",
    "\n",
    "#y_pred"
   ]
  },
  {
   "cell_type": "code",
   "execution_count": 31,
   "id": "332174b1",
   "metadata": {
    "execution": {
     "iopub.execute_input": "2024-01-09T18:06:54.915404Z",
     "iopub.status.busy": "2024-01-09T18:06:54.914987Z",
     "iopub.status.idle": "2024-01-09T18:06:54.923505Z",
     "shell.execute_reply": "2024-01-09T18:06:54.922301Z"
    },
    "papermill": {
     "duration": 0.028142,
     "end_time": "2024-01-09T18:06:54.925680",
     "exception": false,
     "start_time": "2024-01-09T18:06:54.897538",
     "status": "completed"
    },
    "tags": []
   },
   "outputs": [
    {
     "name": "stdout",
     "output_type": "stream",
     "text": [
      "Best Hyperparameters: {'max_depth': None, 'min_samples_leaf': 1, 'min_samples_split': 5}\n",
      "Mean Absolute Error: 111.85344242424243\n",
      "Mean Squared Error: 32666.610215257577\n",
      "R-squared: 0.9892838065258974\n"
     ]
    }
   ],
   "source": [
    "# Evaluate the model\n",
    "mae = mean_absolute_error(y_test, y_pred)\n",
    "mse = mean_squared_error(y_test, y_pred)\n",
    "r2 = r2_score(y_test, y_pred)\n",
    "\n",
    "print(f'Best Hyperparameters: {best_params}')\n",
    "print(f'Mean Absolute Error: {mae}')\n",
    "print(f'Mean Squared Error: {mse}')\n",
    "print(f'R-squared: {r2}')"
   ]
  },
  {
   "cell_type": "markdown",
   "id": "3a990bc7",
   "metadata": {
    "papermill": {
     "duration": 0.015966,
     "end_time": "2024-01-09T18:06:54.957966",
     "exception": false,
     "start_time": "2024-01-09T18:06:54.942000",
     "status": "completed"
    },
    "tags": []
   },
   "source": [
    "**Before Hyperparameter Tuning**\n",
    "\n",
    "Mean Absolute Error: 118.9059272727273\n",
    "\n",
    "Mean Squared Error: 42127.24253236363\n",
    "\n",
    "R-squared: 0.9861802715821307\n",
    "\n",
    "\n",
    "\n",
    "**After Hyperparameter Tuning using GridSearchCV**\n",
    "\n",
    "Mean Absolute Error: 115.85517575757576\n",
    "\n",
    "Mean Squared Error: 34328.15386646971\n",
    "\n",
    "R-squared: 0.9887387416074769\n",
    "\n",
    "\n",
    "\n",
    "**After Hyperparameter Tuning using RandomizedSearchCV**\n",
    "\n",
    "Mean Absolute Error: 120.25975282940558\n",
    "\n",
    "Mean Squared Error: 37127.57185141332\n",
    "\n",
    "R-squared: 0.9878204000794193\n",
    "\n",
    "\n",
    "GridSearchCV yields better results."
   ]
  }
 ],
 "metadata": {
  "kaggle": {
   "accelerator": "none",
   "dataSources": [
    {
     "datasetId": 4021193,
     "sourceId": 6995678,
     "sourceType": "datasetVersion"
    }
   ],
   "dockerImageVersionId": 30626,
   "isGpuEnabled": false,
   "isInternetEnabled": true,
   "language": "python",
   "sourceType": "notebook"
  },
  "kernelspec": {
   "display_name": "Python 3",
   "language": "python",
   "name": "python3"
  },
  "language_info": {
   "codemirror_mode": {
    "name": "ipython",
    "version": 3
   },
   "file_extension": ".py",
   "mimetype": "text/x-python",
   "name": "python",
   "nbconvert_exporter": "python",
   "pygments_lexer": "ipython3",
   "version": "3.10.12"
  },
  "papermill": {
   "default_parameters": {},
   "duration": 15.825379,
   "end_time": "2024-01-09T18:06:57.596970",
   "environment_variables": {},
   "exception": null,
   "input_path": "__notebook__.ipynb",
   "output_path": "__notebook__.ipynb",
   "parameters": {},
   "start_time": "2024-01-09T18:06:41.771591",
   "version": "2.4.0"
  }
 },
 "nbformat": 4,
 "nbformat_minor": 5
}
